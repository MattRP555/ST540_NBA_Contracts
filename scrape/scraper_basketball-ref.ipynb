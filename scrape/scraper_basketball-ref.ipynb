{
 "cells": [
  {
   "cell_type": "markdown",
   "id": "26843386",
   "metadata": {},
   "source": [
    "# Mining NBA Contracts\n",
    "Source: [Basketball-Reference](https://www.basketball-reference.com/players/j/jamesle01.html)"
   ]
  },
  {
   "cell_type": "code",
   "execution_count": 1,
   "id": "4b448f1e",
   "metadata": {},
   "outputs": [],
   "source": [
    "import json\n",
    "import requests\n",
    "from bs4 import BeautifulSoup\n",
    "from urllib.request import urlopen\n",
    "import pprint\n",
    "import re \n",
    "import pandas as pd\n",
    "import numpy as np\n",
    "import time\n",
    "\n",
    "# fix ssl certificate (needed for MacOS sometimes)\n",
    "import ssl\n",
    "ssl._create_default_https_context = ssl._create_unverified_context"
   ]
  },
  {
   "cell_type": "markdown",
   "id": "6e8c019d",
   "metadata": {},
   "source": [
    "### Get links to all active player pages"
   ]
  },
  {
   "cell_type": "code",
   "execution_count": 2,
   "id": "da293ce2",
   "metadata": {},
   "outputs": [],
   "source": [
    "# get html, convert to bs4 object\n",
    "url = 'https://www.basketball-reference.com/contracts/players.html'\n",
    "page = urlopen(url)\n",
    "html = page.read().decode(\"utf-8\")\n",
    "soup = BeautifulSoup(html, 'html.parser')"
   ]
  },
  {
   "cell_type": "code",
   "execution_count": 14,
   "id": "98bd7270",
   "metadata": {},
   "outputs": [],
   "source": [
    "players_links = {}\n",
    "\n",
    "# get table containing player names\n",
    "table = soup.find(\"table\", {\"id\": \"player-contracts\"})\n",
    "for row in soup.find_all('td', {\"data-stat\": \"player\"}):\n",
    "    players_links[row.text] = row.find('a').get('href')"
   ]
  },
  {
   "cell_type": "code",
   "execution_count": 237,
   "id": "bf467362",
   "metadata": {
    "scrolled": true
   },
   "outputs": [],
   "source": [
    "# pprint.pprint(players_links)"
   ]
  },
  {
   "cell_type": "markdown",
   "id": "58ac5189",
   "metadata": {},
   "source": [
    "### Get stats for each player"
   ]
  },
  {
   "cell_type": "code",
   "execution_count": 174,
   "id": "bd35580e",
   "metadata": {},
   "outputs": [],
   "source": [
    "def download_html(link):\n",
    "    url = f'https://www.basketball-reference.com{link}'\n",
    "    page = urlopen(url)\n",
    "    html = page.read().decode(\"utf-8\")\n",
    "    soup = BeautifulSoup(html, 'html.parser')\n",
    "    return soup\n",
    "\n",
    "def get_bio(soup, name):\n",
    "    bio = {}\n",
    "    info = soup.find('div', {\"id\": \"info\"})\n",
    "    \n",
    "    bio['name'] = name\n",
    "    bio['height'] = info.find('span', {\"itemprop\": \"height\"}).text\n",
    "    bio['weight'] = info.find('span', {\"itemprop\": \"weight\"}).text\n",
    "    bio['birthDate'] = info.find('span', {\"itemprop\": \"birthDate\"}).get('data-birth')\n",
    "    \n",
    "    # get draft info\n",
    "    bio['draftRound'] = -1\n",
    "    bio['draftOverall'] = -1\n",
    "    bio['draftYear'] = -1\n",
    "    bio['undrafted'] = False\n",
    "    draft_text = ''\n",
    "    for p in info.find_all('p'):\n",
    "        if 'NBA Draft' in p.text:\n",
    "            draft_text = p.text\n",
    "    if draft_text == '':\n",
    "        bio['undrafted'] = True\n",
    "    else:\n",
    "        draft_data = draft_text.split(',')[1:]\n",
    "        bio['draftRound'] = draft_data[0].split()[0]\n",
    "        bio['draftOverall'] = draft_data[1].split()[0]\n",
    "        bio['draftYear'] = draft_data[2].split()[0]\n",
    "    \n",
    "    return bio\n",
    "\n",
    "# def get_awards(soup):\n",
    "#     awards_list = soup.find('div', {\"id\": \"info\"}).find('ul', {'id': 'bling'}).find_all('li')\n",
    "#     return [award.text for award in awards_list]\n",
    "\n",
    "def get_stats_headers(soup):\n",
    "    return ['Name'] + [header.text for header in soup.find('table', {\"id\": \"per_game\"}).find('thead').find_all('th')]\n",
    "\n",
    "def get_stats(soup, name):\n",
    "    table_data = []\n",
    "    for row in soup.find('table', {\"id\": \"per_game\"}).find('tbody').find_all('tr'):\n",
    "        row_data = [name] + [element.text for element in row.find_all(['th','td'])]\n",
    "        table_data.append(row_data)\n",
    "    return table_data\n",
    "\n",
    "def get_adv_stats_headers(soup):\n",
    "    headers = ['Name'] + [header.text for header in soup.find('table', {\"id\": \"advanced\"}).find('thead').find_all('th')]\n",
    "    headers = [h for h in headers if h != '\\xa0']\n",
    "    return headers \n",
    "\n",
    "def get_adv_stats(soup, name):\n",
    "    table_data = []\n",
    "    for row in soup.find('table', {\"id\": \"advanced\"}).find('tbody').find_all('tr'):\n",
    "        row_data = [name] + [element.text for element in row.find_all(['th','td'])]\n",
    "        row_data = [row for row in row_data if row != '']\n",
    "        table_data.append(row_data)\n",
    "    return table_data"
   ]
  },
  {
   "cell_type": "code",
   "execution_count": 284,
   "id": "ed3d42ad",
   "metadata": {},
   "outputs": [],
   "source": [
    "# pl = {'John Wall': '/players/w/walljo01.html'}"
   ]
  },
  {
   "cell_type": "code",
   "execution_count": 303,
   "id": "d92bf001",
   "metadata": {},
   "outputs": [
    {
     "name": "stdout",
     "output_type": "stream",
     "text": [
      "1th player paged scraped\n",
      "1th player paged scraped\n",
      "1th player paged scraped\n",
      "1th player paged scraped\n",
      "1th player paged scraped\n",
      "1th player paged scraped\n",
      "1th player paged scraped\n",
      "1th player paged scraped\n",
      "failed at Jason Preston\n",
      "1th player paged scraped\n",
      "1th player paged scraped\n",
      "failed at Luca Vildoza\n"
     ]
    }
   ],
   "source": [
    "players_bios = []\n",
    "players_stats_headers = []\n",
    "players_adv_stats_headers = []\n",
    "players_stats = []\n",
    "players_adv_stats = []\n",
    "\n",
    "for player, link in players_links.items():    \n",
    "    try:\n",
    "        soup = download_html(link)\n",
    "        players_bios.append(get_bio(soup, player))\n",
    "        players_stats.extend(get_stats(soup, player))\n",
    "        players_adv_stats.extend(get_adv_stats(soup, player))\n",
    "\n",
    "        # get headers for tables if we don't have them yet\n",
    "        if len(players_stats_headers) == 0:\n",
    "            players_stats_headers = get_stats_headers(soup)\n",
    "            players_adv_stats_headers = get_adv_stats_headers(soup)\n",
    "\n",
    "        if len(players_bios) % 50 == 0:\n",
    "            print(str(len(player_bios)) + 'th player paged scraped')\n",
    "    except:\n",
    "        print('failed at ' + player)"
   ]
  },
  {
   "cell_type": "code",
   "execution_count": 313,
   "id": "df699e26",
   "metadata": {},
   "outputs": [
    {
     "data": {
      "text/plain": [
       "515"
      ]
     },
     "execution_count": 313,
     "metadata": {},
     "output_type": "execute_result"
    }
   ],
   "source": [
    "len(players_bios)"
   ]
  },
  {
   "cell_type": "markdown",
   "id": "2bd6719f",
   "metadata": {},
   "source": [
    "### Create df and calculate lags"
   ]
  },
  {
   "cell_type": "code",
   "execution_count": 306,
   "id": "ef815f33",
   "metadata": {},
   "outputs": [],
   "source": [
    "df_basic = pd.DataFrame(players_stats, columns=players_stats_headers)\n",
    "df_adv = pd.DataFrame(players_adv_stats, columns=players_adv_stats_headers)\n",
    "df_adv.drop(['MP'], axis=1, inplace=True)\n",
    "\n",
    "df_stats = df_basic.merge(df_adv, on=['Name', 'Season', 'Age', 'Tm', 'Pos', 'G', 'Lg'])\n",
    "df_stats.dropna(inplace=True)\n",
    "df_stats.drop_duplicates(['Name', 'Season', 'Lg'], keep='first', inplace=True)"
   ]
  },
  {
   "cell_type": "code",
   "execution_count": 307,
   "id": "bce7b1a3",
   "metadata": {},
   "outputs": [],
   "source": [
    "# convert cols to numeric where possible\n",
    "cols = df_stats.columns.drop(['Name', 'Season', 'Tm', 'Pos', 'Lg'])\n",
    "df_stats[cols] = df_stats[cols].apply(pd.to_numeric, errors='coerce')"
   ]
  },
  {
   "cell_type": "code",
   "execution_count": 308,
   "id": "ad122bb7",
   "metadata": {},
   "outputs": [],
   "source": [
    "# save stats to csv\n",
    "df_stats.to_csv('../data/playerStats.csv',index=False)"
   ]
  },
  {
   "cell_type": "code",
   "execution_count": 309,
   "id": "b08c5b22",
   "metadata": {},
   "outputs": [
    {
     "name": "stdout",
     "output_type": "stream",
     "text": [
      "<class 'pandas.core.frame.DataFrame'>\n",
      "Int64Index: 2905 entries, 0 to 3548\n",
      "Columns: 141 entries, Name to VORP_prev2\n",
      "dtypes: float64(133), int64(3), object(5)\n",
      "memory usage: 3.1+ MB\n"
     ]
    }
   ],
   "source": [
    "# calculate lagged effects\n",
    "df_complete = pd.concat([df_stats, \n",
    "                         df_stats.groupby('Name').shift().add_suffix('_prev1'), \n",
    "                         df_stats.groupby('Name').shift(2).add_suffix('_prev2')], axis=1).fillna(0)\n",
    "\n",
    "\n",
    "df_complete.drop(['Season_prev1', 'Age_prev1', 'Tm_prev1', 'Lg_prev1', 'Pos_prev1',\n",
    "                  'Season_prev2', 'Age_prev2', 'Tm_prev2', 'Lg_prev2', 'Pos_prev2'],\n",
    "                axis=1, inplace=True)\n",
    "\n",
    "\n",
    "df_complete.info()"
   ]
  },
  {
   "cell_type": "code",
   "execution_count": 310,
   "id": "b30ff9b8",
   "metadata": {},
   "outputs": [],
   "source": [
    "# df_complete.info(verbose=True)"
   ]
  },
  {
   "cell_type": "code",
   "execution_count": 311,
   "id": "289e5bda",
   "metadata": {},
   "outputs": [
    {
     "data": {
      "text/html": [
       "<div>\n",
       "<style scoped>\n",
       "    .dataframe tbody tr th:only-of-type {\n",
       "        vertical-align: middle;\n",
       "    }\n",
       "\n",
       "    .dataframe tbody tr th {\n",
       "        vertical-align: top;\n",
       "    }\n",
       "\n",
       "    .dataframe thead th {\n",
       "        text-align: right;\n",
       "    }\n",
       "</style>\n",
       "<table border=\"1\" class=\"dataframe\">\n",
       "  <thead>\n",
       "    <tr style=\"text-align: right;\">\n",
       "      <th></th>\n",
       "      <th>Name</th>\n",
       "      <th>Season</th>\n",
       "      <th>G</th>\n",
       "      <th>G_prev1</th>\n",
       "      <th>G_prev2</th>\n",
       "    </tr>\n",
       "  </thead>\n",
       "  <tbody>\n",
       "    <tr>\n",
       "      <th>0</th>\n",
       "      <td>Stephen Curry</td>\n",
       "      <td>2009-10</td>\n",
       "      <td>80</td>\n",
       "      <td>0.0</td>\n",
       "      <td>0.0</td>\n",
       "    </tr>\n",
       "    <tr>\n",
       "      <th>1</th>\n",
       "      <td>Stephen Curry</td>\n",
       "      <td>2010-11</td>\n",
       "      <td>74</td>\n",
       "      <td>80.0</td>\n",
       "      <td>0.0</td>\n",
       "    </tr>\n",
       "    <tr>\n",
       "      <th>2</th>\n",
       "      <td>Stephen Curry</td>\n",
       "      <td>2011-12</td>\n",
       "      <td>26</td>\n",
       "      <td>74.0</td>\n",
       "      <td>80.0</td>\n",
       "    </tr>\n",
       "    <tr>\n",
       "      <th>3</th>\n",
       "      <td>Stephen Curry</td>\n",
       "      <td>2012-13</td>\n",
       "      <td>78</td>\n",
       "      <td>26.0</td>\n",
       "      <td>74.0</td>\n",
       "    </tr>\n",
       "    <tr>\n",
       "      <th>4</th>\n",
       "      <td>Stephen Curry</td>\n",
       "      <td>2013-14</td>\n",
       "      <td>78</td>\n",
       "      <td>78.0</td>\n",
       "      <td>26.0</td>\n",
       "    </tr>\n",
       "    <tr>\n",
       "      <th>...</th>\n",
       "      <td>...</td>\n",
       "      <td>...</td>\n",
       "      <td>...</td>\n",
       "      <td>...</td>\n",
       "      <td>...</td>\n",
       "    </tr>\n",
       "    <tr>\n",
       "      <th>3542</th>\n",
       "      <td>Malcolm Hill</td>\n",
       "      <td>2021-22</td>\n",
       "      <td>19</td>\n",
       "      <td>0.0</td>\n",
       "      <td>0.0</td>\n",
       "    </tr>\n",
       "    <tr>\n",
       "      <th>3545</th>\n",
       "      <td>Skylar Mays</td>\n",
       "      <td>2020-21</td>\n",
       "      <td>33</td>\n",
       "      <td>0.0</td>\n",
       "      <td>0.0</td>\n",
       "    </tr>\n",
       "    <tr>\n",
       "      <th>3546</th>\n",
       "      <td>Skylar Mays</td>\n",
       "      <td>2021-22</td>\n",
       "      <td>28</td>\n",
       "      <td>33.0</td>\n",
       "      <td>0.0</td>\n",
       "    </tr>\n",
       "    <tr>\n",
       "      <th>3547</th>\n",
       "      <td>Terry Taylor</td>\n",
       "      <td>2021-22</td>\n",
       "      <td>33</td>\n",
       "      <td>0.0</td>\n",
       "      <td>0.0</td>\n",
       "    </tr>\n",
       "    <tr>\n",
       "      <th>3548</th>\n",
       "      <td>Duane Washington Jr.</td>\n",
       "      <td>2021-22</td>\n",
       "      <td>48</td>\n",
       "      <td>0.0</td>\n",
       "      <td>0.0</td>\n",
       "    </tr>\n",
       "  </tbody>\n",
       "</table>\n",
       "<p>2905 rows × 5 columns</p>\n",
       "</div>"
      ],
      "text/plain": [
       "                      Name   Season   G  G_prev1  G_prev2\n",
       "0            Stephen Curry  2009-10  80      0.0      0.0\n",
       "1            Stephen Curry  2010-11  74     80.0      0.0\n",
       "2            Stephen Curry  2011-12  26     74.0     80.0\n",
       "3            Stephen Curry  2012-13  78     26.0     74.0\n",
       "4            Stephen Curry  2013-14  78     78.0     26.0\n",
       "...                    ...      ...  ..      ...      ...\n",
       "3542          Malcolm Hill  2021-22  19      0.0      0.0\n",
       "3545           Skylar Mays  2020-21  33      0.0      0.0\n",
       "3546           Skylar Mays  2021-22  28     33.0      0.0\n",
       "3547          Terry Taylor  2021-22  33      0.0      0.0\n",
       "3548  Duane Washington Jr.  2021-22  48      0.0      0.0\n",
       "\n",
       "[2905 rows x 5 columns]"
      ]
     },
     "execution_count": 311,
     "metadata": {},
     "output_type": "execute_result"
    }
   ],
   "source": [
    "# with pd.option_context('display.max_rows', None, 'display.max_columns', None):  # more options can be specified also\n",
    "#     display(df_complete)\n",
    "df_complete[['Name', 'Season','G', 'G_prev1', 'G_prev2']]\n",
    "# df_complete"
   ]
  },
  {
   "cell_type": "code",
   "execution_count": 312,
   "id": "2fd33a81",
   "metadata": {},
   "outputs": [],
   "source": [
    "df_complete.to_csv('../data/playerStatsWithLags.csv',index=False)"
   ]
  },
  {
   "cell_type": "code",
   "execution_count": null,
   "id": "ebbbed8f",
   "metadata": {},
   "outputs": [],
   "source": []
  },
  {
   "cell_type": "code",
   "execution_count": null,
   "id": "6d621bd3",
   "metadata": {},
   "outputs": [],
   "source": []
  },
  {
   "cell_type": "code",
   "execution_count": null,
   "id": "f4874562",
   "metadata": {},
   "outputs": [],
   "source": []
  },
  {
   "cell_type": "code",
   "execution_count": null,
   "id": "c3c28298",
   "metadata": {},
   "outputs": [],
   "source": []
  },
  {
   "cell_type": "code",
   "execution_count": null,
   "id": "22561fb9",
   "metadata": {},
   "outputs": [],
   "source": []
  },
  {
   "cell_type": "code",
   "execution_count": null,
   "id": "180eea00",
   "metadata": {},
   "outputs": [],
   "source": []
  },
  {
   "cell_type": "code",
   "execution_count": null,
   "id": "625d97a5",
   "metadata": {},
   "outputs": [],
   "source": []
  },
  {
   "cell_type": "code",
   "execution_count": null,
   "id": "ecb48e8b",
   "metadata": {},
   "outputs": [],
   "source": []
  },
  {
   "cell_type": "code",
   "execution_count": null,
   "id": "2e44a155",
   "metadata": {},
   "outputs": [],
   "source": []
  },
  {
   "cell_type": "code",
   "execution_count": null,
   "id": "f7de87c4",
   "metadata": {},
   "outputs": [],
   "source": []
  },
  {
   "cell_type": "code",
   "execution_count": null,
   "id": "3eb0c154",
   "metadata": {},
   "outputs": [],
   "source": [
    "\n",
    "\n",
    "\n",
    "\n",
    "\n",
    "\n",
    "\n",
    "\n",
    "\n",
    "\n",
    "\n",
    "\n",
    "\n",
    "\n",
    "\n",
    "\n",
    "\n",
    "\n",
    "\n",
    "\n",
    "\n",
    "\n",
    "\n",
    "\n",
    "\n",
    "\n",
    "\n",
    "\n",
    "\n",
    "\n",
    "\n",
    "\n",
    "\n",
    "\n",
    "\n"
   ]
  }
 ],
 "metadata": {
  "kernelspec": {
   "display_name": "Python 3 (ipykernel)",
   "language": "python",
   "name": "python3"
  },
  "language_info": {
   "codemirror_mode": {
    "name": "ipython",
    "version": 3
   },
   "file_extension": ".py",
   "mimetype": "text/x-python",
   "name": "python",
   "nbconvert_exporter": "python",
   "pygments_lexer": "ipython3",
   "version": "3.8.1"
  }
 },
 "nbformat": 4,
 "nbformat_minor": 5
}
