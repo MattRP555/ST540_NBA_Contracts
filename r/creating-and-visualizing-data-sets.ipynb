{
 "cells": [
  {
   "cell_type": "code",
   "execution_count": 1,
   "id": "447137c9",
   "metadata": {
    "_cell_guid": "b1076dfc-b9ad-4769-8c92-a6c4dae69d19",
    "_uuid": "8f2839f25d086af736a60e9eeb907d3b93b6e0e5",
    "execution": {
     "iopub.execute_input": "2022-04-25T06:21:14.029843Z",
     "iopub.status.busy": "2022-04-25T06:21:14.027321Z",
     "iopub.status.idle": "2022-04-25T06:21:14.192193Z",
     "shell.execute_reply": "2022-04-25T06:21:14.190388Z"
    },
    "papermill": {
     "duration": 0.18943,
     "end_time": "2022-04-25T06:21:14.199685",
     "exception": false,
     "start_time": "2022-04-25T06:21:14.010255",
     "status": "completed"
    },
    "tags": []
   },
   "outputs": [],
   "source": [
    "# Input data files are available in the read-only \"../input/\" directory\n",
    "# For example, running this (by clicking run or pressing Shift+Enter) will list all files under the input directory\n",
    "# You can write up to 20GB to the current directory (/kaggle/working/) that gets preserved as output when you create a version using \"Save & Run All\" \n",
    "# You can also write temporary files to /kaggle/temp/, but they won't be saved outside of the current session"
   ]
  },
  {
   "cell_type": "code",
   "execution_count": 2,
   "id": "49205e8f",
   "metadata": {
    "execution": {
     "iopub.execute_input": "2022-04-25T06:21:14.261790Z",
     "iopub.status.busy": "2022-04-25T06:21:14.230122Z",
     "iopub.status.idle": "2022-04-25T06:21:15.624583Z",
     "shell.execute_reply": "2022-04-25T06:21:15.622409Z"
    },
    "papermill": {
     "duration": 1.412144,
     "end_time": "2022-04-25T06:21:15.626996",
     "exception": false,
     "start_time": "2022-04-25T06:21:14.214852",
     "status": "completed"
    },
    "tags": []
   },
   "outputs": [
    {
     "name": "stderr",
     "output_type": "stream",
     "text": [
      "── \u001b[1mAttaching packages\u001b[22m ─────────────────────────────────────── tidyverse 1.3.1 ──\n",
      "\n",
      "\u001b[32m✔\u001b[39m \u001b[34mggplot2\u001b[39m 3.3.5     \u001b[32m✔\u001b[39m \u001b[34mpurrr  \u001b[39m 0.3.4\n",
      "\u001b[32m✔\u001b[39m \u001b[34mtibble \u001b[39m 3.1.6     \u001b[32m✔\u001b[39m \u001b[34mdplyr  \u001b[39m 1.0.8\n",
      "\u001b[32m✔\u001b[39m \u001b[34mtidyr  \u001b[39m 1.2.0     \u001b[32m✔\u001b[39m \u001b[34mstringr\u001b[39m 1.4.0\n",
      "\u001b[32m✔\u001b[39m \u001b[34mreadr  \u001b[39m 2.1.2     \u001b[32m✔\u001b[39m \u001b[34mforcats\u001b[39m 0.5.1\n",
      "\n",
      "── \u001b[1mConflicts\u001b[22m ────────────────────────────────────────── tidyverse_conflicts() ──\n",
      "\u001b[31m✖\u001b[39m \u001b[34mdplyr\u001b[39m::\u001b[32mfilter()\u001b[39m masks \u001b[34mstats\u001b[39m::filter()\n",
      "\u001b[31m✖\u001b[39m \u001b[34mdplyr\u001b[39m::\u001b[32mlag()\u001b[39m    masks \u001b[34mstats\u001b[39m::lag()\n",
      "\n",
      "\n",
      "Attaching package: ‘foreach’\n",
      "\n",
      "\n",
      "The following objects are masked from ‘package:purrr’:\n",
      "\n",
      "    accumulate, when\n",
      "\n",
      "\n",
      "\n",
      "Attaching package: ‘data.table’\n",
      "\n",
      "\n",
      "The following objects are masked from ‘package:dplyr’:\n",
      "\n",
      "    between, first, last\n",
      "\n",
      "\n",
      "The following object is masked from ‘package:purrr’:\n",
      "\n",
      "    transpose\n",
      "\n",
      "\n",
      "\n",
      "Attaching package: ‘lubridate’\n",
      "\n",
      "\n",
      "The following objects are masked from ‘package:data.table’:\n",
      "\n",
      "    hour, isoweek, mday, minute, month, quarter, second, wday, week,\n",
      "    yday, year\n",
      "\n",
      "\n",
      "The following objects are masked from ‘package:base’:\n",
      "\n",
      "    date, intersect, setdiff, union\n",
      "\n",
      "\n"
     ]
    }
   ],
   "source": [
    "library(tidyverse)\n",
    "library(foreach)\n",
    "library(parallel)\n",
    "library(data.table)\n",
    "library(lubridate)"
   ]
  },
  {
   "cell_type": "markdown",
   "id": "fe277aec",
   "metadata": {
    "papermill": {
     "duration": 0.0142,
     "end_time": "2022-04-25T06:21:15.655762",
     "exception": false,
     "start_time": "2022-04-25T06:21:15.641562",
     "status": "completed"
    },
    "tags": []
   },
   "source": [
    "Input the full_nonrookie contract data"
   ]
  },
  {
   "cell_type": "code",
   "execution_count": 3,
   "id": "133def78",
   "metadata": {
    "execution": {
     "iopub.execute_input": "2022-04-25T06:21:15.688044Z",
     "iopub.status.busy": "2022-04-25T06:21:15.685911Z",
     "iopub.status.idle": "2022-04-25T06:21:15.795012Z",
     "shell.execute_reply": "2022-04-25T06:21:15.793208Z"
    },
    "papermill": {
     "duration": 0.128186,
     "end_time": "2022-04-25T06:21:15.797985",
     "exception": false,
     "start_time": "2022-04-25T06:21:15.669799",
     "status": "completed"
    },
    "tags": []
   },
   "outputs": [
    {
     "data": {
      "text/html": [
       "<table class=\"dataframe\">\n",
       "<caption>A data.table: 6 × 151</caption>\n",
       "<thead>\n",
       "\t<tr><th scope=col>fullName</th><th scope=col>term</th><th scope=col>signAge</th><th scope=col>contractLength</th><th scope=col>totalValue</th><th scope=col>aav</th><th scope=col>isEntryLevel</th><th scope=col>signSeason</th><th scope=col>Tm</th><th scope=col>G</th><th scope=col>⋯</th><th scope=col>DBPM_prev2</th><th scope=col>BPM_prev2</th><th scope=col>VORP_prev2</th><th scope=col>height</th><th scope=col>weight</th><th scope=col>birthDate</th><th scope=col>draftRound</th><th scope=col>draftOverall</th><th scope=col>draftYear</th><th scope=col>undrafted</th></tr>\n",
       "\t<tr><th scope=col>&lt;chr&gt;</th><th scope=col>&lt;chr&gt;</th><th scope=col>&lt;dbl&gt;</th><th scope=col>&lt;int&gt;</th><th scope=col>&lt;dbl&gt;</th><th scope=col>&lt;dbl&gt;</th><th scope=col>&lt;int&gt;</th><th scope=col>&lt;chr&gt;</th><th scope=col>&lt;chr&gt;</th><th scope=col>&lt;int&gt;</th><th scope=col>⋯</th><th scope=col>&lt;dbl&gt;</th><th scope=col>&lt;dbl&gt;</th><th scope=col>&lt;dbl&gt;</th><th scope=col>&lt;int&gt;</th><th scope=col>&lt;int&gt;</th><th scope=col>&lt;date&gt;</th><th scope=col>&lt;int&gt;</th><th scope=col>&lt;int&gt;</th><th scope=col>&lt;int&gt;</th><th scope=col>&lt;lgl&gt;</th></tr>\n",
       "</thead>\n",
       "<tbody>\n",
       "\t<tr><td>Carmelo Anthony</td><td>2014-2018</td><td>30</td><td>5</td><td>124064681</td><td>24812936</td><td>0</td><td>2013-14</td><td>NYK</td><td>77</td><td>⋯</td><td>-0.2</td><td> 3.6</td><td> 2.7</td><td>79</td><td>238</td><td>1984-05-29</td><td>1</td><td> 3</td><td>2003</td><td>FALSE</td></tr>\n",
       "\t<tr><td>Carmelo Anthony</td><td>2018-2018</td><td>34</td><td>1</td><td>  2393887</td><td> 2393887</td><td>0</td><td>2017-18</td><td>OKC</td><td>78</td><td>⋯</td><td>-0.5</td><td> 3.3</td><td> 3.4</td><td>79</td><td>238</td><td>1984-05-29</td><td>1</td><td> 3</td><td>2003</td><td>FALSE</td></tr>\n",
       "\t<tr><td>Carmelo Anthony</td><td>2020-2020</td><td>36</td><td>1</td><td>  2564753</td><td> 2564753</td><td>0</td><td>2019-20</td><td>POR</td><td>58</td><td>⋯</td><td>-1.3</td><td>-1.9</td><td> 0.0</td><td>79</td><td>238</td><td>1984-05-29</td><td>1</td><td> 3</td><td>2003</td><td>FALSE</td></tr>\n",
       "\t<tr><td>Carmelo Anthony</td><td>2021-2021</td><td>37</td><td>1</td><td>  2641691</td><td> 2641691</td><td>0</td><td>2020-21</td><td>POR</td><td>69</td><td>⋯</td><td>-1.4</td><td>-2.7</td><td>-0.1</td><td>79</td><td>238</td><td>1984-05-29</td><td>1</td><td> 3</td><td>2003</td><td>FALSE</td></tr>\n",
       "\t<tr><td>Chris Bosh     </td><td>2014-2018</td><td>29</td><td>5</td><td>118705300</td><td>23741060</td><td>0</td><td>2013-14</td><td>MIA</td><td>79</td><td>⋯</td><td>-0.2</td><td> 0.8</td><td> 1.4</td><td>83</td><td>235</td><td>1984-03-24</td><td>1</td><td> 4</td><td>2003</td><td>FALSE</td></tr>\n",
       "\t<tr><td>Paul George    </td><td>2014-2018</td><td>23</td><td>5</td><td> 91572660</td><td>18314532</td><td>0</td><td>2013-14</td><td>IND</td><td>80</td><td>⋯</td><td> 2.1</td><td> 3.4</td><td> 2.7</td><td>80</td><td>220</td><td>1990-05-02</td><td>1</td><td>10</td><td>2010</td><td>FALSE</td></tr>\n",
       "</tbody>\n",
       "</table>\n"
      ],
      "text/latex": [
       "A data.table: 6 × 151\n",
       "\\begin{tabular}{lllllllllllllllllllll}\n",
       " fullName & term & signAge & contractLength & totalValue & aav & isEntryLevel & signSeason & Tm & G & ⋯ & DBPM\\_prev2 & BPM\\_prev2 & VORP\\_prev2 & height & weight & birthDate & draftRound & draftOverall & draftYear & undrafted\\\\\n",
       " <chr> & <chr> & <dbl> & <int> & <dbl> & <dbl> & <int> & <chr> & <chr> & <int> & ⋯ & <dbl> & <dbl> & <dbl> & <int> & <int> & <date> & <int> & <int> & <int> & <lgl>\\\\\n",
       "\\hline\n",
       "\t Carmelo Anthony & 2014-2018 & 30 & 5 & 124064681 & 24812936 & 0 & 2013-14 & NYK & 77 & ⋯ & -0.2 &  3.6 &  2.7 & 79 & 238 & 1984-05-29 & 1 &  3 & 2003 & FALSE\\\\\n",
       "\t Carmelo Anthony & 2018-2018 & 34 & 1 &   2393887 &  2393887 & 0 & 2017-18 & OKC & 78 & ⋯ & -0.5 &  3.3 &  3.4 & 79 & 238 & 1984-05-29 & 1 &  3 & 2003 & FALSE\\\\\n",
       "\t Carmelo Anthony & 2020-2020 & 36 & 1 &   2564753 &  2564753 & 0 & 2019-20 & POR & 58 & ⋯ & -1.3 & -1.9 &  0.0 & 79 & 238 & 1984-05-29 & 1 &  3 & 2003 & FALSE\\\\\n",
       "\t Carmelo Anthony & 2021-2021 & 37 & 1 &   2641691 &  2641691 & 0 & 2020-21 & POR & 69 & ⋯ & -1.4 & -2.7 & -0.1 & 79 & 238 & 1984-05-29 & 1 &  3 & 2003 & FALSE\\\\\n",
       "\t Chris Bosh      & 2014-2018 & 29 & 5 & 118705300 & 23741060 & 0 & 2013-14 & MIA & 79 & ⋯ & -0.2 &  0.8 &  1.4 & 83 & 235 & 1984-03-24 & 1 &  4 & 2003 & FALSE\\\\\n",
       "\t Paul George     & 2014-2018 & 23 & 5 &  91572660 & 18314532 & 0 & 2013-14 & IND & 80 & ⋯ &  2.1 &  3.4 &  2.7 & 80 & 220 & 1990-05-02 & 1 & 10 & 2010 & FALSE\\\\\n",
       "\\end{tabular}\n"
      ],
      "text/markdown": [
       "\n",
       "A data.table: 6 × 151\n",
       "\n",
       "| fullName &lt;chr&gt; | term &lt;chr&gt; | signAge &lt;dbl&gt; | contractLength &lt;int&gt; | totalValue &lt;dbl&gt; | aav &lt;dbl&gt; | isEntryLevel &lt;int&gt; | signSeason &lt;chr&gt; | Tm &lt;chr&gt; | G &lt;int&gt; | ⋯ ⋯ | DBPM_prev2 &lt;dbl&gt; | BPM_prev2 &lt;dbl&gt; | VORP_prev2 &lt;dbl&gt; | height &lt;int&gt; | weight &lt;int&gt; | birthDate &lt;date&gt; | draftRound &lt;int&gt; | draftOverall &lt;int&gt; | draftYear &lt;int&gt; | undrafted &lt;lgl&gt; |\n",
       "|---|---|---|---|---|---|---|---|---|---|---|---|---|---|---|---|---|---|---|---|---|\n",
       "| Carmelo Anthony | 2014-2018 | 30 | 5 | 124064681 | 24812936 | 0 | 2013-14 | NYK | 77 | ⋯ | -0.2 |  3.6 |  2.7 | 79 | 238 | 1984-05-29 | 1 |  3 | 2003 | FALSE |\n",
       "| Carmelo Anthony | 2018-2018 | 34 | 1 |   2393887 |  2393887 | 0 | 2017-18 | OKC | 78 | ⋯ | -0.5 |  3.3 |  3.4 | 79 | 238 | 1984-05-29 | 1 |  3 | 2003 | FALSE |\n",
       "| Carmelo Anthony | 2020-2020 | 36 | 1 |   2564753 |  2564753 | 0 | 2019-20 | POR | 58 | ⋯ | -1.3 | -1.9 |  0.0 | 79 | 238 | 1984-05-29 | 1 |  3 | 2003 | FALSE |\n",
       "| Carmelo Anthony | 2021-2021 | 37 | 1 |   2641691 |  2641691 | 0 | 2020-21 | POR | 69 | ⋯ | -1.4 | -2.7 | -0.1 | 79 | 238 | 1984-05-29 | 1 |  3 | 2003 | FALSE |\n",
       "| Chris Bosh      | 2014-2018 | 29 | 5 | 118705300 | 23741060 | 0 | 2013-14 | MIA | 79 | ⋯ | -0.2 |  0.8 |  1.4 | 83 | 235 | 1984-03-24 | 1 |  4 | 2003 | FALSE |\n",
       "| Paul George     | 2014-2018 | 23 | 5 |  91572660 | 18314532 | 0 | 2013-14 | IND | 80 | ⋯ |  2.1 |  3.4 |  2.7 | 80 | 220 | 1990-05-02 | 1 | 10 | 2010 | FALSE |\n",
       "\n"
      ],
      "text/plain": [
       "  fullName        term      signAge contractLength totalValue aav     \n",
       "1 Carmelo Anthony 2014-2018 30      5              124064681  24812936\n",
       "2 Carmelo Anthony 2018-2018 34      1                2393887   2393887\n",
       "3 Carmelo Anthony 2020-2020 36      1                2564753   2564753\n",
       "4 Carmelo Anthony 2021-2021 37      1                2641691   2641691\n",
       "5 Chris Bosh      2014-2018 29      5              118705300  23741060\n",
       "6 Paul George     2014-2018 23      5               91572660  18314532\n",
       "  isEntryLevel signSeason Tm  G  ⋯ DBPM_prev2 BPM_prev2 VORP_prev2 height\n",
       "1 0            2013-14    NYK 77 ⋯ -0.2        3.6       2.7       79    \n",
       "2 0            2017-18    OKC 78 ⋯ -0.5        3.3       3.4       79    \n",
       "3 0            2019-20    POR 58 ⋯ -1.3       -1.9       0.0       79    \n",
       "4 0            2020-21    POR 69 ⋯ -1.4       -2.7      -0.1       79    \n",
       "5 0            2013-14    MIA 79 ⋯ -0.2        0.8       1.4       83    \n",
       "6 0            2013-14    IND 80 ⋯  2.1        3.4       2.7       80    \n",
       "  weight birthDate  draftRound draftOverall draftYear undrafted\n",
       "1 238    1984-05-29 1           3           2003      FALSE    \n",
       "2 238    1984-05-29 1           3           2003      FALSE    \n",
       "3 238    1984-05-29 1           3           2003      FALSE    \n",
       "4 238    1984-05-29 1           3           2003      FALSE    \n",
       "5 235    1984-03-24 1           4           2003      FALSE    \n",
       "6 220    1990-05-02 1          10           2010      FALSE    "
      ]
     },
     "metadata": {},
     "output_type": "display_data"
    }
   ],
   "source": [
    "contracts = fread('../input/st540-project/data/full_nonrookie.csv')\n",
    "head(contracts)"
   ]
  },
  {
   "cell_type": "code",
   "execution_count": 4,
   "id": "52962ef2",
   "metadata": {
    "execution": {
     "iopub.execute_input": "2022-04-25T06:21:15.830389Z",
     "iopub.status.busy": "2022-04-25T06:21:15.828762Z",
     "iopub.status.idle": "2022-04-25T06:21:15.921935Z",
     "shell.execute_reply": "2022-04-25T06:21:15.919487Z"
    },
    "papermill": {
     "duration": 0.112121,
     "end_time": "2022-04-25T06:21:15.924652",
     "exception": false,
     "start_time": "2022-04-25T06:21:15.812531",
     "status": "completed"
    },
    "tags": []
   },
   "outputs": [
    {
     "data": {
      "text/plain": [
       "   fullName             term              signAge      contractLength \n",
       " Length:1412        Length:1412        Min.   : 0.00   Min.   :1.000  \n",
       " Class :character   Class :character   1st Qu.:24.00   1st Qu.:1.000  \n",
       " Mode  :character   Mode  :character   Median :27.00   Median :1.000  \n",
       "                                       Mean   :27.51   Mean   :1.935  \n",
       "                                       3rd Qu.:30.00   3rd Qu.:3.000  \n",
       "                                       Max.   :42.00   Max.   :5.000  \n",
       "   totalValue             aav            isEntryLevel  signSeason       \n",
       " Min.   :     9127   Min.   :    9127   Min.   :0     Length:1412       \n",
       " 1st Qu.:  1551659   1st Qu.: 1445697   1st Qu.:0     Class :character  \n",
       " Median :  2899748   Median : 2320044   Median :0     Mode  :character  \n",
       " Mean   : 18494276   Mean   : 6044562   Mean   :0                       \n",
       " 3rd Qu.: 17783043   3rd Qu.: 7397006   3rd Qu.:0                       \n",
       " Max.   :228200420   Max.   :45640084   Max.   :0                       \n",
       "      Tm                  G               GS              MP       \n",
       " Length:1412        Min.   : 1.00   Min.   : 0.00   Min.   : 0.70  \n",
       " Class :character   1st Qu.:29.00   1st Qu.: 1.00   1st Qu.:12.80  \n",
       " Mode  :character   Median :57.00   Median : 8.00   Median :18.95  \n",
       "                    Mean   :49.87   Mean   :21.32   Mean   :19.32  \n",
       "                    3rd Qu.:71.00   3rd Qu.:37.00   3rd Qu.:26.32  \n",
       "                    Max.   :83.00   Max.   :82.00   Max.   :42.00  \n",
       "       FG              FGA              FG%               3P        \n",
       " Min.   : 0.000   Min.   : 0.300   Min.   :0.0000   Min.   :0.0000  \n",
       " 1st Qu.: 1.500   1st Qu.: 3.500   1st Qu.:0.4027   1st Qu.:0.1000  \n",
       " Median : 2.600   Median : 5.600   Median :0.4390   Median :0.6000  \n",
       " Mean   : 3.006   Mean   : 6.629   Mean   :0.4463   Mean   :0.7762  \n",
       " 3rd Qu.: 4.025   3rd Qu.: 9.000   3rd Qu.:0.4860   3rd Qu.:1.2000  \n",
       " Max.   :11.200   Max.   :24.500   Max.   :1.0000   Max.   :4.8000  \n",
       "      3PA              3P%               2P            2PA        \n",
       " Min.   : 0.000   Min.   :0.0000   Min.   :0.00   Min.   : 0.000  \n",
       " 1st Qu.: 0.600   1st Qu.:0.2328   1st Qu.:1.00   1st Qu.: 2.000  \n",
       " Median : 1.800   Median :0.3330   Median :1.80   Median : 3.500  \n",
       " Mean   : 2.197   Mean   :0.2852   Mean   :2.23   Mean   : 4.435  \n",
       " 3rd Qu.: 3.300   3rd Qu.:0.3782   3rd Qu.:3.00   3rd Qu.: 5.900  \n",
       " Max.   :13.200   Max.   :1.0000   Max.   :9.20   Max.   :18.500  \n",
       "      2P%              eFG%              FT             FTA        \n",
       " Min.   :0.0000   Min.   :0.0000   Min.   :0.000   Min.   : 0.000  \n",
       " 1st Qu.:0.4440   1st Qu.:0.4650   1st Qu.:0.500   1st Qu.: 0.700  \n",
       " Median :0.4910   Median :0.5070   Median :0.900   Median : 1.300  \n",
       " Mean   :0.4903   Mean   :0.5025   Mean   :1.294   Mean   : 1.706  \n",
       " 3rd Qu.:0.5430   3rd Qu.:0.5503   3rd Qu.:1.700   3rd Qu.: 2.200  \n",
       " Max.   :1.0000   Max.   :1.5000   Max.   :9.700   Max.   :11.000  \n",
       "      FT%              ORB              DRB              TRB        \n",
       " Min.   :0.0000   Min.   :0.0000   Min.   : 0.000   Min.   : 0.000  \n",
       " 1st Qu.:0.6607   1st Qu.:0.3000   1st Qu.: 1.400   1st Qu.: 1.800  \n",
       " Median :0.7570   Median :0.6000   Median : 2.300   Median : 2.900  \n",
       " Mean   :0.7126   Mean   :0.8071   Mean   : 2.664   Mean   : 3.467  \n",
       " 3rd Qu.:0.8270   3rd Qu.:1.1000   3rd Qu.: 3.500   3rd Qu.: 4.600  \n",
       " Max.   :1.0000   Max.   :4.9000   Max.   :10.900   Max.   :15.200  \n",
       "      AST              STL              BLK              TOV       \n",
       " Min.   : 0.000   Min.   :0.0000   Min.   :0.0000   Min.   :0.000  \n",
       " 1st Qu.: 0.700   1st Qu.:0.3000   1st Qu.:0.1000   1st Qu.:0.500  \n",
       " Median : 1.300   Median :0.6000   Median :0.3000   Median :0.900  \n",
       " Mean   : 1.786   Mean   :0.6101   Mean   :0.3804   Mean   :1.053  \n",
       " 3rd Qu.: 2.300   3rd Qu.:0.8000   3rd Qu.:0.5000   3rd Qu.:1.400  \n",
       " Max.   :11.700   Max.   :2.3000   Max.   :3.7000   Max.   :5.700  \n",
       "       PF             PTS              PER              TS%        \n",
       " Min.   :0.000   Min.   : 0.000   Min.   :-38.10   Min.   :0.0000  \n",
       " 1st Qu.:1.100   1st Qu.: 4.000   1st Qu.: 10.10   1st Qu.:0.5000  \n",
       " Median :1.700   Median : 6.800   Median : 12.90   Median :0.5410  \n",
       " Mean   :1.664   Mean   : 8.077   Mean   : 13.05   Mean   :0.5345  \n",
       " 3rd Qu.:2.200   3rd Qu.:10.825   3rd Qu.: 16.10   3rd Qu.:0.5800  \n",
       " Max.   :6.000   Max.   :36.100   Max.   : 54.60   Max.   :1.5000  \n",
       "      3PAr             FTr              ORB%              DRB%       \n",
       " Min.   :0.0000   Min.   :0.0000   Min.   :  0.000   Min.   :  0.00  \n",
       " 1st Qu.:0.1537   1st Qu.:0.1520   1st Qu.:  1.900   1st Qu.: 10.40  \n",
       " Median :0.3425   Median :0.2340   Median :  3.400   Median : 13.90  \n",
       " Mean   :0.3317   Mean   :0.2620   Mean   :  4.875   Mean   : 15.28  \n",
       " 3rd Qu.:0.4905   3rd Qu.:0.3312   3rd Qu.:  7.100   3rd Qu.: 19.10  \n",
       " Max.   :1.0000   Max.   :2.6670   Max.   :100.000   Max.   :100.00  \n",
       "      TRB%            AST%             STL%            BLK%       \n",
       " Min.   : 0.00   Min.   : 0.000   Min.   :0.000   Min.   : 0.000  \n",
       " 1st Qu.: 6.30   1st Qu.: 6.975   1st Qu.:1.100   1st Qu.: 0.500  \n",
       " Median : 8.85   Median :10.100   Median :1.400   Median : 1.200  \n",
       " Mean   :10.09   Mean   :12.872   Mean   :1.519   Mean   : 1.674  \n",
       " 3rd Qu.:12.90   3rd Qu.:16.825   3rd Qu.:1.900   3rd Qu.: 2.300  \n",
       " Max.   :57.90   Max.   :49.800   Max.   :8.800   Max.   :13.700  \n",
       "      TOV%            USG%            OWS              DWS        \n",
       " Min.   : 0.00   Min.   : 6.40   Min.   :-1.700   Min.   :-0.100  \n",
       " 1st Qu.: 9.60   1st Qu.:14.70   1st Qu.: 0.000   1st Qu.: 0.300  \n",
       " Median :12.20   Median :17.90   Median : 0.600   Median : 0.900  \n",
       " Mean   :12.68   Mean   :18.29   Mean   : 1.222   Mean   : 1.118  \n",
       " 3rd Qu.:15.20   3rd Qu.:21.10   3rd Qu.: 1.900   3rd Qu.: 1.600  \n",
       " Max.   :43.60   Max.   :43.90   Max.   :12.300   Max.   : 6.400  \n",
       "       WS            WS/48               OBPM             DBPM        \n",
       " Min.   :-0.90   Min.   :-0.94600   Min.   :-23.60   Min.   :-26.100  \n",
       " 1st Qu.: 0.30   1st Qu.: 0.04500   1st Qu.: -2.70   1st Qu.: -0.900  \n",
       " Median : 1.60   Median : 0.08300   Median : -1.10   Median : -0.100  \n",
       " Mean   : 2.34   Mean   : 0.07909   Mean   : -1.26   Mean   : -0.155  \n",
       " 3rd Qu.: 3.50   3rd Qu.: 0.12200   3rd Qu.:  0.30   3rd Qu.:  0.700  \n",
       " Max.   :15.90   Max.   : 0.57100   Max.   : 26.20   Max.   :  9.300  \n",
       "      BPM               VORP            G_prev1        GS_prev1    \n",
       " Min.   :-37.600   Min.   :-1.5000   Min.   : 0.0   Min.   : 0.00  \n",
       " 1st Qu.: -3.000   1st Qu.:-0.1000   1st Qu.:30.0   1st Qu.: 0.00  \n",
       " Median : -1.200   Median : 0.1000   Median :58.0   Median :11.00  \n",
       " Mean   : -1.416   Mean   : 0.5467   Mean   :49.4   Mean   :23.46  \n",
       " 3rd Qu.:  0.400   3rd Qu.: 0.8000   3rd Qu.:72.0   3rd Qu.:45.00  \n",
       " Max.   : 31.100   Max.   : 9.3000   Max.   :82.0   Max.   :82.00  \n",
       "    MP_prev1        FG_prev1        FGA_prev1       FG%_prev1     \n",
       " Min.   : 0.00   Min.   : 0.000   Min.   : 0.00   Min.   :0.0000  \n",
       " 1st Qu.:11.50   1st Qu.: 1.300   1st Qu.: 3.10   1st Qu.:0.3870  \n",
       " Median :19.40   Median : 2.600   Median : 5.85   Median :0.4320  \n",
       " Mean   :18.56   Mean   : 2.907   Mean   : 6.42   Mean   :0.3975  \n",
       " 3rd Qu.:27.00   3rd Qu.: 4.100   3rd Qu.: 9.30   3rd Qu.:0.4770  \n",
       " Max.   :38.70   Max.   :10.900   Max.   :24.00   Max.   :1.0000  \n",
       "    3P_prev1        3PA_prev1       3P%_prev1         2P_prev1    \n",
       " Min.   :0.0000   Min.   : 0.00   Min.   :0.0000   Min.   :0.000  \n",
       " 1st Qu.:0.0000   1st Qu.: 0.10   1st Qu.:0.0000   1st Qu.:0.900  \n",
       " Median :0.5000   Median : 1.60   Median :0.3160   Median :1.800  \n",
       " Mean   :0.7021   Mean   : 1.98   Mean   :0.2468   Mean   :2.208  \n",
       " 3rd Qu.:1.2000   3rd Qu.: 3.20   3rd Qu.:0.3670   3rd Qu.:3.100  \n",
       " Max.   :5.1000   Max.   :11.20   Max.   :1.0000   Max.   :9.500  \n",
       "   2PA_prev1       2P%_prev1        eFG%_prev1        FT_prev1    \n",
       " Min.   : 0.00   Min.   :0.0000   Min.   :0.0000   Min.   :0.000  \n",
       " 1st Qu.: 1.80   1st Qu.:0.4240   1st Qu.:0.4470   1st Qu.:0.400  \n",
       " Median : 3.60   Median :0.4770   Median :0.4950   Median :1.000  \n",
       " Mean   : 4.44   Mean   :0.4333   Mean   :0.4437   Mean   :1.284  \n",
       " 3rd Qu.: 6.30   3rd Qu.:0.5280   3rd Qu.:0.5350   3rd Qu.:1.700  \n",
       " Max.   :20.40   Max.   :1.0000   Max.   :1.0000   Max.   :8.800  \n",
       "   FTA_prev1        FT%_prev1        ORB_prev1       DRB_prev1     \n",
       " Min.   : 0.000   Min.   :0.0000   Min.   :0.000   Min.   : 0.000  \n",
       " 1st Qu.: 0.600   1st Qu.:0.6138   1st Qu.:0.300   1st Qu.: 1.200  \n",
       " Median : 1.300   Median :0.7400   Median :0.500   Median : 2.200  \n",
       " Mean   : 1.695   Mean   :0.6433   Mean   :0.796   Mean   : 2.527  \n",
       " 3rd Qu.: 2.300   3rd Qu.:0.8170   3rd Qu.:1.100   3rd Qu.: 3.500  \n",
       " Max.   :10.400   Max.   :1.0000   Max.   :5.300   Max.   :11.400  \n",
       "   TRB_prev1       AST_prev1        STL_prev1        BLK_prev1     \n",
       " Min.   : 0.00   Min.   : 0.000   Min.   :0.0000   Min.   :0.0000  \n",
       " 1st Qu.: 1.60   1st Qu.: 0.500   1st Qu.:0.3000   1st Qu.:0.1000  \n",
       " Median : 2.80   Median : 1.200   Median :0.5000   Median :0.3000  \n",
       " Mean   : 3.32   Mean   : 1.722   Mean   :0.5863   Mean   :0.3768  \n",
       " 3rd Qu.: 4.70   3rd Qu.: 2.300   3rd Qu.:0.8000   3rd Qu.:0.5000  \n",
       " Max.   :15.20   Max.   :11.700   Max.   :2.3000   Max.   :2.9000  \n",
       "   TOV_prev1        PF_prev1       PTS_prev1        PER_prev1     \n",
       " Min.   :0.000   Min.   :0.000   Min.   : 0.000   Min.   :-13.10  \n",
       " 1st Qu.:0.500   1st Qu.:1.000   1st Qu.: 3.400   1st Qu.:  9.30  \n",
       " Median :0.900   Median :1.700   Median : 6.900   Median : 12.40  \n",
       " Mean   :1.035   Mean   :1.594   Mean   : 7.797   Mean   : 12.17  \n",
       " 3rd Qu.:1.400   3rd Qu.:2.200   3rd Qu.:11.200   3rd Qu.: 15.80  \n",
       " Max.   :5.400   Max.   :3.900   Max.   :31.600   Max.   :129.10  \n",
       "   TS%_prev1        3PAr_prev1       FTr_prev1        ORB%_prev1     \n",
       " Min.   :0.0000   Min.   :0.0000   Min.   :0.0000   Min.   :  0.000  \n",
       " 1st Qu.:0.4800   1st Qu.:0.0110   1st Qu.:0.1358   1st Qu.:  1.600  \n",
       " Median :0.5300   Median :0.2850   Median :0.2190   Median :  2.900  \n",
       " Mean   :0.4727   Mean   :0.2699   Mean   :0.2330   Mean   :  4.538  \n",
       " 3rd Qu.:0.5693   3rd Qu.:0.4375   3rd Qu.:0.3170   3rd Qu.:  6.800  \n",
       " Max.   :1.0000   Max.   :1.0000   Max.   :1.5000   Max.   :100.000  \n",
       "   DRB%_prev1      TRB%_prev1       AST%_prev1      STL%_prev1   \n",
       " Min.   : 0.00   Min.   : 0.000   Min.   : 0.00   Min.   :0.000  \n",
       " 1st Qu.: 8.80   1st Qu.: 5.400   1st Qu.: 5.80   1st Qu.:0.900  \n",
       " Median :12.80   Median : 8.000   Median : 9.30   Median :1.400  \n",
       " Mean   :13.29   Mean   : 8.931   Mean   :11.65   Mean   :1.369  \n",
       " 3rd Qu.:18.02   3rd Qu.:12.425   3rd Qu.:15.80   3rd Qu.:1.800  \n",
       " Max.   :56.10   Max.   :62.800   Max.   :57.30   Max.   :7.900  \n",
       "   BLK%_prev1       TOV%_prev1      USG%_prev1     OWS_prev1     \n",
       " Min.   : 0.000   Min.   : 0.00   Min.   : 0.0   Min.   :-2.800  \n",
       " 1st Qu.: 0.400   1st Qu.: 8.70   1st Qu.:13.6   1st Qu.: 0.000  \n",
       " Median : 1.000   Median :11.70   Median :17.3   Median : 0.700  \n",
       " Mean   : 1.538   Mean   :11.34   Mean   :16.5   Mean   : 1.232  \n",
       " 3rd Qu.: 2.025   3rd Qu.:14.90   3rd Qu.:21.2   3rd Qu.: 2.000  \n",
       " Max.   :15.100   Max.   :75.00   Max.   :47.8   Max.   :14.600  \n",
       "   DWS_prev1        WS_prev1      WS/48_prev1         OBPM_prev1      \n",
       " Min.   :-0.20   Min.   :-1.70   Min.   :-0.41200   Min.   :-20.1000  \n",
       " 1st Qu.: 0.20   1st Qu.: 0.20   1st Qu.: 0.03100   1st Qu.: -2.2000  \n",
       " Median : 0.90   Median : 1.70   Median : 0.07900   Median : -0.6000  \n",
       " Mean   : 1.13   Mean   : 2.36   Mean   : 0.07932   Mean   : -0.7757  \n",
       " 3rd Qu.: 1.70   3rd Qu.: 3.60   3rd Qu.: 0.11800   3rd Qu.:  0.2000  \n",
       " Max.   : 6.30   Max.   :19.30   Max.   : 2.12300   Max.   : 42.1000  \n",
       "   DBPM_prev1         BPM_prev1          VORP_prev1         G_prev2     \n",
       " Min.   :-8.80000   Min.   :-23.1000   Min.   :-1.3000   Min.   : 0.00  \n",
       " 1st Qu.:-0.80000   1st Qu.: -2.4000   1st Qu.: 0.0000   1st Qu.:15.00  \n",
       " Median : 0.00000   Median : -0.6000   Median : 0.1000   Median :59.00  \n",
       " Mean   :-0.03286   Mean   : -0.8107   Mean   : 0.5528   Mean   :46.56  \n",
       " 3rd Qu.: 0.60000   3rd Qu.:  0.3000   3rd Qu.: 0.8000   3rd Qu.:73.00  \n",
       " Max.   : 9.30000   Max.   : 41.5000   Max.   : 9.9000   Max.   :83.00  \n",
       "    GS_prev2        MP_prev2        FG_prev2        FGA_prev2     \n",
       " Min.   : 0.00   Min.   : 0.00   Min.   : 0.000   Min.   : 0.000  \n",
       " 1st Qu.: 0.00   1st Qu.: 7.40   1st Qu.: 0.800   1st Qu.: 1.875  \n",
       " Median : 8.00   Median :18.90   Median : 2.500   Median : 5.500  \n",
       " Mean   :23.62   Mean   :17.52   Mean   : 2.793   Mean   : 6.172  \n",
       " 3rd Qu.:46.00   3rd Qu.:27.50   3rd Qu.: 4.300   3rd Qu.: 9.600  \n",
       " Max.   :82.00   Max.   :39.40   Max.   :10.500   Max.   :23.000  \n",
       "   FG%_prev2         3P_prev2        3PA_prev2       3P%_prev2     \n",
       " Min.   :0.0000   Min.   :0.0000   Min.   :0.000   Min.   :0.0000  \n",
       " 1st Qu.:0.3438   1st Qu.:0.0000   1st Qu.:0.000   1st Qu.:0.0000  \n",
       " Median :0.4240   Median :0.3000   Median :1.200   Median :0.2960  \n",
       " Mean   :0.3539   Mean   :0.6246   Mean   :1.765   Mean   :0.2221  \n",
       " 3rd Qu.:0.4703   3rd Qu.:1.1000   3rd Qu.:3.000   3rd Qu.:0.3620  \n",
       " Max.   :1.0000   Max.   :3.8000   Max.   :9.800   Max.   :1.0000  \n",
       "    2P_prev2       2PA_prev2        2P%_prev2        eFG%_prev2    \n",
       " Min.   :0.000   Min.   : 0.000   Min.   :0.0000   Min.   :0.0000  \n",
       " 1st Qu.:0.500   1st Qu.: 1.100   1st Qu.:0.3665   1st Qu.:0.3890  \n",
       " Median :1.800   Median : 3.650   Median :0.4620   Median :0.4820  \n",
       " Mean   :2.169   Mean   : 4.407   Mean   :0.3802   Mean   :0.3933  \n",
       " 3rd Qu.:3.300   3rd Qu.: 6.625   3rd Qu.:0.5092   3rd Qu.:0.5210  \n",
       " Max.   :9.700   Max.   :18.600   Max.   :1.0000   Max.   :1.5000  \n",
       "    FT_prev2       FTA_prev2        FT%_prev2        ORB_prev2     \n",
       " Min.   :0.000   Min.   : 0.000   Min.   :0.0000   Min.   :0.0000  \n",
       " 1st Qu.:0.200   1st Qu.: 0.300   1st Qu.:0.4935   1st Qu.:0.1000  \n",
       " Median :0.900   Median : 1.200   Median :0.7195   Median :0.5000  \n",
       " Mean   :1.262   Mean   : 1.665   Mean   :0.5726   Mean   :0.7666  \n",
       " 3rd Qu.:1.800   3rd Qu.: 2.500   3rd Qu.:0.8030   3rd Qu.:1.1000  \n",
       " Max.   :9.200   Max.   :10.900   Max.   :1.0000   Max.   :5.4000  \n",
       "   DRB_prev2        TRB_prev2        AST_prev2        STL_prev2     \n",
       " Min.   : 0.000   Min.   : 0.000   Min.   : 0.000   Min.   :0.0000  \n",
       " 1st Qu.: 0.800   1st Qu.: 1.000   1st Qu.: 0.200   1st Qu.:0.1000  \n",
       " Median : 2.100   Median : 2.700   Median : 1.100   Median :0.5000  \n",
       " Mean   : 2.349   Mean   : 3.112   Mean   : 1.619   Mean   :0.5556  \n",
       " 3rd Qu.: 3.400   3rd Qu.: 4.500   3rd Qu.: 2.100   3rd Qu.:0.8000  \n",
       " Max.   :10.400   Max.   :15.600   Max.   :11.700   Max.   :2.4000  \n",
       "   BLK_prev2        TOV_prev2        PF_prev2       PTS_prev2     \n",
       " Min.   :0.0000   Min.   :0.000   Min.   :0.000   Min.   : 0.000  \n",
       " 1st Qu.:0.0000   1st Qu.:0.300   1st Qu.:0.700   1st Qu.: 2.000  \n",
       " Median :0.2000   Median :0.900   Median :1.600   Median : 6.600  \n",
       " Mean   :0.3555   Mean   :1.002   Mean   :1.465   Mean   : 7.469  \n",
       " 3rd Qu.:0.5000   3rd Qu.:1.500   3rd Qu.:2.200   3rd Qu.:11.500  \n",
       " Max.   :2.8000   Max.   :5.700   Max.   :4.000   Max.   :32.000  \n",
       "   PER_prev2        TS%_prev2        3PAr_prev2       FTr_prev2      \n",
       " Min.   :-28.50   Min.   :0.0000   Min.   :0.0000   Min.   :0.00000  \n",
       " 1st Qu.:  7.10   1st Qu.:0.4310   1st Qu.:0.0000   1st Qu.:0.07775  \n",
       " Median : 12.10   Median :0.5200   Median :0.2055   Median :0.20200  \n",
       " Mean   : 11.17   Mean   :0.4196   Mean   :0.2258   Mean   :0.21153  \n",
       " 3rd Qu.: 15.70   3rd Qu.:0.5560   3rd Qu.:0.4062   3rd Qu.:0.30500  \n",
       " Max.   :133.80   Max.   :1.5000   Max.   :1.0000   Max.   :2.40000  \n",
       "   ORB%_prev2        DRB%_prev2       TRB%_prev2       AST%_prev2   \n",
       " Min.   :  0.000   Min.   :  0.00   Min.   : 0.000   Min.   : 0.00  \n",
       " 1st Qu.:  1.000   1st Qu.:  7.20   1st Qu.: 4.500   1st Qu.: 2.90  \n",
       " Median :  2.600   Median : 11.60   Median : 7.300   Median : 8.20  \n",
       " Mean   :  4.095   Mean   : 11.76   Mean   : 7.946   Mean   :10.45  \n",
       " 3rd Qu.:  6.100   3rd Qu.: 17.20   3rd Qu.:11.800   3rd Qu.:14.70  \n",
       " Max.   :100.000   Max.   :100.00   Max.   :62.800   Max.   :52.70  \n",
       "   STL%_prev2       BLK%_prev2       TOV%_prev2      USG%_prev2  \n",
       " Min.   : 0.000   Min.   : 0.000   Min.   : 0.00   Min.   : 0.0  \n",
       " 1st Qu.: 0.600   1st Qu.: 0.100   1st Qu.: 6.80   1st Qu.:11.8  \n",
       " Median : 1.300   Median : 0.800   Median :11.10   Median :17.0  \n",
       " Mean   : 1.227   Mean   : 1.329   Mean   :10.08   Mean   :15.1  \n",
       " 3rd Qu.: 1.800   3rd Qu.: 1.800   3rd Qu.:14.30   3rd Qu.:21.3  \n",
       " Max.   :12.500   Max.   :10.000   Max.   :29.20   Max.   :47.8  \n",
       "   OWS_prev2        DWS_prev2         WS_prev2       WS/48_prev2      \n",
       " Min.   :-2.500   Min.   :-0.200   Min.   :-1.500   Min.   :-0.89900  \n",
       " 1st Qu.: 0.000   1st Qu.: 0.075   1st Qu.: 0.000   1st Qu.: 0.00000  \n",
       " Median : 0.500   Median : 0.900   Median : 1.500   Median : 0.06950  \n",
       " Mean   : 1.259   Mean   : 1.121   Mean   : 2.378   Mean   : 0.07374  \n",
       " 3rd Qu.: 2.000   3rd Qu.: 1.700   3rd Qu.: 3.600   3rd Qu.: 0.11425  \n",
       " Max.   :14.800   Max.   : 6.600   Max.   :19.300   Max.   : 2.71200  \n",
       "   OBPM_prev2         DBPM_prev2          BPM_prev2          VORP_prev2     \n",
       " Min.   :-21.7000   Min.   :-11.40000   Min.   :-33.1000   Min.   :-1.5000  \n",
       " 1st Qu.: -1.7000   1st Qu.: -0.70000   1st Qu.: -1.9000   1st Qu.: 0.0000  \n",
       " Median : -0.1000   Median :  0.00000   Median :  0.0000   Median : 0.1000  \n",
       " Mean   : -0.3302   Mean   : -0.04646   Mean   : -0.3763   Mean   : 0.5906  \n",
       " 3rd Qu.:  0.3000   3rd Qu.:  0.40000   3rd Qu.:  0.3000   3rd Qu.: 0.8000  \n",
       " Max.   :199.4000   Max.   : 42.70000   Max.   :242.2000   Max.   : 9.9000  \n",
       "     height         weight        birthDate            draftRound   \n",
       " Min.   :69.0   Min.   :160.0   Min.   :1976-03-19   Min.   :0.000  \n",
       " 1st Qu.:76.0   1st Qu.:200.0   1st Qu.:1986-08-17   1st Qu.:0.000  \n",
       " Median :79.0   Median :220.0   Median :1990-07-01   Median :1.000  \n",
       " Mean   :78.5   Mean   :219.2   Mean   :1990-01-13   Mean   :0.961  \n",
       " 3rd Qu.:81.0   3rd Qu.:240.0   3rd Qu.:1993-07-03   3rd Qu.:1.000  \n",
       " Max.   :90.0   Max.   :311.0   Max.   :2000-11-25   Max.   :2.000  \n",
       "  draftOverall     draftYear    undrafted      \n",
       " Min.   : 0.00   Min.   :   0   Mode :logical  \n",
       " 1st Qu.: 0.00   1st Qu.:   0   FALSE:1044     \n",
       " Median :11.00   Median :2008   TRUE :368      \n",
       " Mean   :16.53   Mean   :1486                  \n",
       " 3rd Qu.:28.00   3rd Qu.:2013                  \n",
       " Max.   :60.00   Max.   :2020                  "
      ]
     },
     "metadata": {},
     "output_type": "display_data"
    }
   ],
   "source": [
    "summary(contracts)"
   ]
  },
  {
   "cell_type": "markdown",
   "id": "832b17d4",
   "metadata": {
    "papermill": {
     "duration": 0.014932,
     "end_time": "2022-04-25T06:21:15.954572",
     "exception": false,
     "start_time": "2022-04-25T06:21:15.939640",
     "status": "completed"
    },
    "tags": []
   },
   "source": [
    "Removing IsEntryLevel since it is not a column with more than 1 unique value. Birthdate will be transformed into a proper date object. Term will be split into a start year and end year (while keeping original column). A year signed using the last year of sign season will be used."
   ]
  },
  {
   "cell_type": "code",
   "execution_count": 5,
   "id": "3236e11a",
   "metadata": {
    "execution": {
     "iopub.execute_input": "2022-04-25T06:21:15.987947Z",
     "iopub.status.busy": "2022-04-25T06:21:15.986307Z",
     "iopub.status.idle": "2022-04-25T06:21:16.018696Z",
     "shell.execute_reply": "2022-04-25T06:21:16.016848Z"
    },
    "papermill": {
     "duration": 0.051405,
     "end_time": "2022-04-25T06:21:16.021093",
     "exception": false,
     "start_time": "2022-04-25T06:21:15.969688",
     "status": "completed"
    },
    "scrolled": true,
    "tags": []
   },
   "outputs": [],
   "source": [
    "contracts$isEntryLevel = NULL\n",
    "contracts[,birthDate:=ymd(birthDate)]"
   ]
  },
  {
   "cell_type": "code",
   "execution_count": 6,
   "id": "9c558f89",
   "metadata": {
    "execution": {
     "iopub.execute_input": "2022-04-25T06:21:16.054453Z",
     "iopub.status.busy": "2022-04-25T06:21:16.052924Z",
     "iopub.status.idle": "2022-04-25T06:21:16.094975Z",
     "shell.execute_reply": "2022-04-25T06:21:16.093269Z"
    },
    "papermill": {
     "duration": 0.061085,
     "end_time": "2022-04-25T06:21:16.097308",
     "exception": false,
     "start_time": "2022-04-25T06:21:16.036223",
     "status": "completed"
    },
    "tags": []
   },
   "outputs": [
    {
     "data": {
      "text/html": [
       "<table class=\"dataframe\">\n",
       "<caption>A data.table: 6 × 150</caption>\n",
       "<thead>\n",
       "\t<tr><th scope=col>fullName</th><th scope=col>term</th><th scope=col>signAge</th><th scope=col>contractLength</th><th scope=col>totalValue</th><th scope=col>aav</th><th scope=col>signSeason</th><th scope=col>Tm</th><th scope=col>G</th><th scope=col>GS</th><th scope=col>⋯</th><th scope=col>DBPM_prev2</th><th scope=col>BPM_prev2</th><th scope=col>VORP_prev2</th><th scope=col>height</th><th scope=col>weight</th><th scope=col>birthDate</th><th scope=col>draftRound</th><th scope=col>draftOverall</th><th scope=col>draftYear</th><th scope=col>undrafted</th></tr>\n",
       "\t<tr><th scope=col>&lt;chr&gt;</th><th scope=col>&lt;chr&gt;</th><th scope=col>&lt;dbl&gt;</th><th scope=col>&lt;int&gt;</th><th scope=col>&lt;dbl&gt;</th><th scope=col>&lt;dbl&gt;</th><th scope=col>&lt;chr&gt;</th><th scope=col>&lt;chr&gt;</th><th scope=col>&lt;int&gt;</th><th scope=col>&lt;int&gt;</th><th scope=col>⋯</th><th scope=col>&lt;dbl&gt;</th><th scope=col>&lt;dbl&gt;</th><th scope=col>&lt;dbl&gt;</th><th scope=col>&lt;int&gt;</th><th scope=col>&lt;int&gt;</th><th scope=col>&lt;date&gt;</th><th scope=col>&lt;int&gt;</th><th scope=col>&lt;int&gt;</th><th scope=col>&lt;int&gt;</th><th scope=col>&lt;lgl&gt;</th></tr>\n",
       "</thead>\n",
       "<tbody>\n",
       "\t<tr><td>Carmelo Anthony</td><td>2014-2018</td><td>30</td><td>5</td><td>124064681</td><td>24812936</td><td>2013-14</td><td>NYK</td><td>77</td><td>77</td><td>⋯</td><td>-0.2</td><td> 3.6</td><td> 2.7</td><td>79</td><td>238</td><td>1984-05-29</td><td>1</td><td> 3</td><td>2003</td><td>FALSE</td></tr>\n",
       "\t<tr><td>Carmelo Anthony</td><td>2018-2018</td><td>34</td><td>1</td><td>  2393887</td><td> 2393887</td><td>2017-18</td><td>OKC</td><td>78</td><td>78</td><td>⋯</td><td>-0.5</td><td> 3.3</td><td> 3.4</td><td>79</td><td>238</td><td>1984-05-29</td><td>1</td><td> 3</td><td>2003</td><td>FALSE</td></tr>\n",
       "\t<tr><td>Carmelo Anthony</td><td>2020-2020</td><td>36</td><td>1</td><td>  2564753</td><td> 2564753</td><td>2019-20</td><td>POR</td><td>58</td><td>58</td><td>⋯</td><td>-1.3</td><td>-1.9</td><td> 0.0</td><td>79</td><td>238</td><td>1984-05-29</td><td>1</td><td> 3</td><td>2003</td><td>FALSE</td></tr>\n",
       "\t<tr><td>Carmelo Anthony</td><td>2021-2021</td><td>37</td><td>1</td><td>  2641691</td><td> 2641691</td><td>2020-21</td><td>POR</td><td>69</td><td> 3</td><td>⋯</td><td>-1.4</td><td>-2.7</td><td>-0.1</td><td>79</td><td>238</td><td>1984-05-29</td><td>1</td><td> 3</td><td>2003</td><td>FALSE</td></tr>\n",
       "\t<tr><td>Chris Bosh     </td><td>2014-2018</td><td>29</td><td>5</td><td>118705300</td><td>23741060</td><td>2013-14</td><td>MIA</td><td>79</td><td>79</td><td>⋯</td><td>-0.2</td><td> 0.8</td><td> 1.4</td><td>83</td><td>235</td><td>1984-03-24</td><td>1</td><td> 4</td><td>2003</td><td>FALSE</td></tr>\n",
       "\t<tr><td>Paul George    </td><td>2014-2018</td><td>23</td><td>5</td><td> 91572660</td><td>18314532</td><td>2013-14</td><td>IND</td><td>80</td><td>80</td><td>⋯</td><td> 2.1</td><td> 3.4</td><td> 2.7</td><td>80</td><td>220</td><td>1990-05-02</td><td>1</td><td>10</td><td>2010</td><td>FALSE</td></tr>\n",
       "</tbody>\n",
       "</table>\n"
      ],
      "text/latex": [
       "A data.table: 6 × 150\n",
       "\\begin{tabular}{lllllllllllllllllllll}\n",
       " fullName & term & signAge & contractLength & totalValue & aav & signSeason & Tm & G & GS & ⋯ & DBPM\\_prev2 & BPM\\_prev2 & VORP\\_prev2 & height & weight & birthDate & draftRound & draftOverall & draftYear & undrafted\\\\\n",
       " <chr> & <chr> & <dbl> & <int> & <dbl> & <dbl> & <chr> & <chr> & <int> & <int> & ⋯ & <dbl> & <dbl> & <dbl> & <int> & <int> & <date> & <int> & <int> & <int> & <lgl>\\\\\n",
       "\\hline\n",
       "\t Carmelo Anthony & 2014-2018 & 30 & 5 & 124064681 & 24812936 & 2013-14 & NYK & 77 & 77 & ⋯ & -0.2 &  3.6 &  2.7 & 79 & 238 & 1984-05-29 & 1 &  3 & 2003 & FALSE\\\\\n",
       "\t Carmelo Anthony & 2018-2018 & 34 & 1 &   2393887 &  2393887 & 2017-18 & OKC & 78 & 78 & ⋯ & -0.5 &  3.3 &  3.4 & 79 & 238 & 1984-05-29 & 1 &  3 & 2003 & FALSE\\\\\n",
       "\t Carmelo Anthony & 2020-2020 & 36 & 1 &   2564753 &  2564753 & 2019-20 & POR & 58 & 58 & ⋯ & -1.3 & -1.9 &  0.0 & 79 & 238 & 1984-05-29 & 1 &  3 & 2003 & FALSE\\\\\n",
       "\t Carmelo Anthony & 2021-2021 & 37 & 1 &   2641691 &  2641691 & 2020-21 & POR & 69 &  3 & ⋯ & -1.4 & -2.7 & -0.1 & 79 & 238 & 1984-05-29 & 1 &  3 & 2003 & FALSE\\\\\n",
       "\t Chris Bosh      & 2014-2018 & 29 & 5 & 118705300 & 23741060 & 2013-14 & MIA & 79 & 79 & ⋯ & -0.2 &  0.8 &  1.4 & 83 & 235 & 1984-03-24 & 1 &  4 & 2003 & FALSE\\\\\n",
       "\t Paul George     & 2014-2018 & 23 & 5 &  91572660 & 18314532 & 2013-14 & IND & 80 & 80 & ⋯ &  2.1 &  3.4 &  2.7 & 80 & 220 & 1990-05-02 & 1 & 10 & 2010 & FALSE\\\\\n",
       "\\end{tabular}\n"
      ],
      "text/markdown": [
       "\n",
       "A data.table: 6 × 150\n",
       "\n",
       "| fullName &lt;chr&gt; | term &lt;chr&gt; | signAge &lt;dbl&gt; | contractLength &lt;int&gt; | totalValue &lt;dbl&gt; | aav &lt;dbl&gt; | signSeason &lt;chr&gt; | Tm &lt;chr&gt; | G &lt;int&gt; | GS &lt;int&gt; | ⋯ ⋯ | DBPM_prev2 &lt;dbl&gt; | BPM_prev2 &lt;dbl&gt; | VORP_prev2 &lt;dbl&gt; | height &lt;int&gt; | weight &lt;int&gt; | birthDate &lt;date&gt; | draftRound &lt;int&gt; | draftOverall &lt;int&gt; | draftYear &lt;int&gt; | undrafted &lt;lgl&gt; |\n",
       "|---|---|---|---|---|---|---|---|---|---|---|---|---|---|---|---|---|---|---|---|---|\n",
       "| Carmelo Anthony | 2014-2018 | 30 | 5 | 124064681 | 24812936 | 2013-14 | NYK | 77 | 77 | ⋯ | -0.2 |  3.6 |  2.7 | 79 | 238 | 1984-05-29 | 1 |  3 | 2003 | FALSE |\n",
       "| Carmelo Anthony | 2018-2018 | 34 | 1 |   2393887 |  2393887 | 2017-18 | OKC | 78 | 78 | ⋯ | -0.5 |  3.3 |  3.4 | 79 | 238 | 1984-05-29 | 1 |  3 | 2003 | FALSE |\n",
       "| Carmelo Anthony | 2020-2020 | 36 | 1 |   2564753 |  2564753 | 2019-20 | POR | 58 | 58 | ⋯ | -1.3 | -1.9 |  0.0 | 79 | 238 | 1984-05-29 | 1 |  3 | 2003 | FALSE |\n",
       "| Carmelo Anthony | 2021-2021 | 37 | 1 |   2641691 |  2641691 | 2020-21 | POR | 69 |  3 | ⋯ | -1.4 | -2.7 | -0.1 | 79 | 238 | 1984-05-29 | 1 |  3 | 2003 | FALSE |\n",
       "| Chris Bosh      | 2014-2018 | 29 | 5 | 118705300 | 23741060 | 2013-14 | MIA | 79 | 79 | ⋯ | -0.2 |  0.8 |  1.4 | 83 | 235 | 1984-03-24 | 1 |  4 | 2003 | FALSE |\n",
       "| Paul George     | 2014-2018 | 23 | 5 |  91572660 | 18314532 | 2013-14 | IND | 80 | 80 | ⋯ |  2.1 |  3.4 |  2.7 | 80 | 220 | 1990-05-02 | 1 | 10 | 2010 | FALSE |\n",
       "\n"
      ],
      "text/plain": [
       "  fullName        term      signAge contractLength totalValue aav     \n",
       "1 Carmelo Anthony 2014-2018 30      5              124064681  24812936\n",
       "2 Carmelo Anthony 2018-2018 34      1                2393887   2393887\n",
       "3 Carmelo Anthony 2020-2020 36      1                2564753   2564753\n",
       "4 Carmelo Anthony 2021-2021 37      1                2641691   2641691\n",
       "5 Chris Bosh      2014-2018 29      5              118705300  23741060\n",
       "6 Paul George     2014-2018 23      5               91572660  18314532\n",
       "  signSeason Tm  G  GS ⋯ DBPM_prev2 BPM_prev2 VORP_prev2 height weight\n",
       "1 2013-14    NYK 77 77 ⋯ -0.2        3.6       2.7       79     238   \n",
       "2 2017-18    OKC 78 78 ⋯ -0.5        3.3       3.4       79     238   \n",
       "3 2019-20    POR 58 58 ⋯ -1.3       -1.9       0.0       79     238   \n",
       "4 2020-21    POR 69  3 ⋯ -1.4       -2.7      -0.1       79     238   \n",
       "5 2013-14    MIA 79 79 ⋯ -0.2        0.8       1.4       83     235   \n",
       "6 2013-14    IND 80 80 ⋯  2.1        3.4       2.7       80     220   \n",
       "  birthDate  draftRound draftOverall draftYear undrafted\n",
       "1 1984-05-29 1           3           2003      FALSE    \n",
       "2 1984-05-29 1           3           2003      FALSE    \n",
       "3 1984-05-29 1           3           2003      FALSE    \n",
       "4 1984-05-29 1           3           2003      FALSE    \n",
       "5 1984-03-24 1           4           2003      FALSE    \n",
       "6 1990-05-02 1          10           2010      FALSE    "
      ]
     },
     "metadata": {},
     "output_type": "display_data"
    }
   ],
   "source": [
    "head(contracts)"
   ]
  },
  {
   "cell_type": "code",
   "execution_count": 7,
   "id": "aa98f41e",
   "metadata": {
    "execution": {
     "iopub.execute_input": "2022-04-25T06:21:16.131322Z",
     "iopub.status.busy": "2022-04-25T06:21:16.129767Z",
     "iopub.status.idle": "2022-04-25T06:21:16.189697Z",
     "shell.execute_reply": "2022-04-25T06:21:16.187592Z"
    },
    "papermill": {
     "duration": 0.079729,
     "end_time": "2022-04-25T06:21:16.192462",
     "exception": false,
     "start_time": "2022-04-25T06:21:16.112733",
     "status": "completed"
    },
    "tags": []
   },
   "outputs": [
    {
     "data": {
      "text/html": [
       "<table class=\"dataframe\">\n",
       "<caption>A data.table: 6 × 152</caption>\n",
       "<thead>\n",
       "\t<tr><th scope=col>fullName</th><th scope=col>term</th><th scope=col>signAge</th><th scope=col>contractLength</th><th scope=col>totalValue</th><th scope=col>aav</th><th scope=col>signSeason</th><th scope=col>Tm</th><th scope=col>G</th><th scope=col>GS</th><th scope=col>⋯</th><th scope=col>VORP_prev2</th><th scope=col>height</th><th scope=col>weight</th><th scope=col>birthDate</th><th scope=col>draftRound</th><th scope=col>draftOverall</th><th scope=col>draftYear</th><th scope=col>undrafted</th><th scope=col>termFirstYear</th><th scope=col>termSecondYear</th></tr>\n",
       "\t<tr><th scope=col>&lt;chr&gt;</th><th scope=col>&lt;chr&gt;</th><th scope=col>&lt;dbl&gt;</th><th scope=col>&lt;int&gt;</th><th scope=col>&lt;dbl&gt;</th><th scope=col>&lt;dbl&gt;</th><th scope=col>&lt;chr&gt;</th><th scope=col>&lt;chr&gt;</th><th scope=col>&lt;int&gt;</th><th scope=col>&lt;int&gt;</th><th scope=col>⋯</th><th scope=col>&lt;dbl&gt;</th><th scope=col>&lt;int&gt;</th><th scope=col>&lt;int&gt;</th><th scope=col>&lt;date&gt;</th><th scope=col>&lt;int&gt;</th><th scope=col>&lt;int&gt;</th><th scope=col>&lt;int&gt;</th><th scope=col>&lt;lgl&gt;</th><th scope=col>&lt;dbl&gt;</th><th scope=col>&lt;dbl&gt;</th></tr>\n",
       "</thead>\n",
       "<tbody>\n",
       "\t<tr><td>Carmelo Anthony</td><td>2014-2018</td><td>30</td><td>5</td><td>124064681</td><td>24812936</td><td>2013-14</td><td>NYK</td><td>77</td><td>77</td><td>⋯</td><td> 2.7</td><td>79</td><td>238</td><td>1984-05-29</td><td>1</td><td> 3</td><td>2003</td><td>FALSE</td><td>2014</td><td>2018</td></tr>\n",
       "\t<tr><td>Carmelo Anthony</td><td>2018-2018</td><td>34</td><td>1</td><td>  2393887</td><td> 2393887</td><td>2017-18</td><td>OKC</td><td>78</td><td>78</td><td>⋯</td><td> 3.4</td><td>79</td><td>238</td><td>1984-05-29</td><td>1</td><td> 3</td><td>2003</td><td>FALSE</td><td>2018</td><td>2018</td></tr>\n",
       "\t<tr><td>Carmelo Anthony</td><td>2020-2020</td><td>36</td><td>1</td><td>  2564753</td><td> 2564753</td><td>2019-20</td><td>POR</td><td>58</td><td>58</td><td>⋯</td><td> 0.0</td><td>79</td><td>238</td><td>1984-05-29</td><td>1</td><td> 3</td><td>2003</td><td>FALSE</td><td>2020</td><td>2020</td></tr>\n",
       "\t<tr><td>Carmelo Anthony</td><td>2021-2021</td><td>37</td><td>1</td><td>  2641691</td><td> 2641691</td><td>2020-21</td><td>POR</td><td>69</td><td> 3</td><td>⋯</td><td>-0.1</td><td>79</td><td>238</td><td>1984-05-29</td><td>1</td><td> 3</td><td>2003</td><td>FALSE</td><td>2021</td><td>2021</td></tr>\n",
       "\t<tr><td>Chris Bosh     </td><td>2014-2018</td><td>29</td><td>5</td><td>118705300</td><td>23741060</td><td>2013-14</td><td>MIA</td><td>79</td><td>79</td><td>⋯</td><td> 1.4</td><td>83</td><td>235</td><td>1984-03-24</td><td>1</td><td> 4</td><td>2003</td><td>FALSE</td><td>2014</td><td>2018</td></tr>\n",
       "\t<tr><td>Paul George    </td><td>2014-2018</td><td>23</td><td>5</td><td> 91572660</td><td>18314532</td><td>2013-14</td><td>IND</td><td>80</td><td>80</td><td>⋯</td><td> 2.7</td><td>80</td><td>220</td><td>1990-05-02</td><td>1</td><td>10</td><td>2010</td><td>FALSE</td><td>2014</td><td>2018</td></tr>\n",
       "</tbody>\n",
       "</table>\n"
      ],
      "text/latex": [
       "A data.table: 6 × 152\n",
       "\\begin{tabular}{lllllllllllllllllllll}\n",
       " fullName & term & signAge & contractLength & totalValue & aav & signSeason & Tm & G & GS & ⋯ & VORP\\_prev2 & height & weight & birthDate & draftRound & draftOverall & draftYear & undrafted & termFirstYear & termSecondYear\\\\\n",
       " <chr> & <chr> & <dbl> & <int> & <dbl> & <dbl> & <chr> & <chr> & <int> & <int> & ⋯ & <dbl> & <int> & <int> & <date> & <int> & <int> & <int> & <lgl> & <dbl> & <dbl>\\\\\n",
       "\\hline\n",
       "\t Carmelo Anthony & 2014-2018 & 30 & 5 & 124064681 & 24812936 & 2013-14 & NYK & 77 & 77 & ⋯ &  2.7 & 79 & 238 & 1984-05-29 & 1 &  3 & 2003 & FALSE & 2014 & 2018\\\\\n",
       "\t Carmelo Anthony & 2018-2018 & 34 & 1 &   2393887 &  2393887 & 2017-18 & OKC & 78 & 78 & ⋯ &  3.4 & 79 & 238 & 1984-05-29 & 1 &  3 & 2003 & FALSE & 2018 & 2018\\\\\n",
       "\t Carmelo Anthony & 2020-2020 & 36 & 1 &   2564753 &  2564753 & 2019-20 & POR & 58 & 58 & ⋯ &  0.0 & 79 & 238 & 1984-05-29 & 1 &  3 & 2003 & FALSE & 2020 & 2020\\\\\n",
       "\t Carmelo Anthony & 2021-2021 & 37 & 1 &   2641691 &  2641691 & 2020-21 & POR & 69 &  3 & ⋯ & -0.1 & 79 & 238 & 1984-05-29 & 1 &  3 & 2003 & FALSE & 2021 & 2021\\\\\n",
       "\t Chris Bosh      & 2014-2018 & 29 & 5 & 118705300 & 23741060 & 2013-14 & MIA & 79 & 79 & ⋯ &  1.4 & 83 & 235 & 1984-03-24 & 1 &  4 & 2003 & FALSE & 2014 & 2018\\\\\n",
       "\t Paul George     & 2014-2018 & 23 & 5 &  91572660 & 18314532 & 2013-14 & IND & 80 & 80 & ⋯ &  2.7 & 80 & 220 & 1990-05-02 & 1 & 10 & 2010 & FALSE & 2014 & 2018\\\\\n",
       "\\end{tabular}\n"
      ],
      "text/markdown": [
       "\n",
       "A data.table: 6 × 152\n",
       "\n",
       "| fullName &lt;chr&gt; | term &lt;chr&gt; | signAge &lt;dbl&gt; | contractLength &lt;int&gt; | totalValue &lt;dbl&gt; | aav &lt;dbl&gt; | signSeason &lt;chr&gt; | Tm &lt;chr&gt; | G &lt;int&gt; | GS &lt;int&gt; | ⋯ ⋯ | VORP_prev2 &lt;dbl&gt; | height &lt;int&gt; | weight &lt;int&gt; | birthDate &lt;date&gt; | draftRound &lt;int&gt; | draftOverall &lt;int&gt; | draftYear &lt;int&gt; | undrafted &lt;lgl&gt; | termFirstYear &lt;dbl&gt; | termSecondYear &lt;dbl&gt; |\n",
       "|---|---|---|---|---|---|---|---|---|---|---|---|---|---|---|---|---|---|---|---|---|\n",
       "| Carmelo Anthony | 2014-2018 | 30 | 5 | 124064681 | 24812936 | 2013-14 | NYK | 77 | 77 | ⋯ |  2.7 | 79 | 238 | 1984-05-29 | 1 |  3 | 2003 | FALSE | 2014 | 2018 |\n",
       "| Carmelo Anthony | 2018-2018 | 34 | 1 |   2393887 |  2393887 | 2017-18 | OKC | 78 | 78 | ⋯ |  3.4 | 79 | 238 | 1984-05-29 | 1 |  3 | 2003 | FALSE | 2018 | 2018 |\n",
       "| Carmelo Anthony | 2020-2020 | 36 | 1 |   2564753 |  2564753 | 2019-20 | POR | 58 | 58 | ⋯ |  0.0 | 79 | 238 | 1984-05-29 | 1 |  3 | 2003 | FALSE | 2020 | 2020 |\n",
       "| Carmelo Anthony | 2021-2021 | 37 | 1 |   2641691 |  2641691 | 2020-21 | POR | 69 |  3 | ⋯ | -0.1 | 79 | 238 | 1984-05-29 | 1 |  3 | 2003 | FALSE | 2021 | 2021 |\n",
       "| Chris Bosh      | 2014-2018 | 29 | 5 | 118705300 | 23741060 | 2013-14 | MIA | 79 | 79 | ⋯ |  1.4 | 83 | 235 | 1984-03-24 | 1 |  4 | 2003 | FALSE | 2014 | 2018 |\n",
       "| Paul George     | 2014-2018 | 23 | 5 |  91572660 | 18314532 | 2013-14 | IND | 80 | 80 | ⋯ |  2.7 | 80 | 220 | 1990-05-02 | 1 | 10 | 2010 | FALSE | 2014 | 2018 |\n",
       "\n"
      ],
      "text/plain": [
       "  fullName        term      signAge contractLength totalValue aav     \n",
       "1 Carmelo Anthony 2014-2018 30      5              124064681  24812936\n",
       "2 Carmelo Anthony 2018-2018 34      1                2393887   2393887\n",
       "3 Carmelo Anthony 2020-2020 36      1                2564753   2564753\n",
       "4 Carmelo Anthony 2021-2021 37      1                2641691   2641691\n",
       "5 Chris Bosh      2014-2018 29      5              118705300  23741060\n",
       "6 Paul George     2014-2018 23      5               91572660  18314532\n",
       "  signSeason Tm  G  GS ⋯ VORP_prev2 height weight birthDate  draftRound\n",
       "1 2013-14    NYK 77 77 ⋯  2.7       79     238    1984-05-29 1         \n",
       "2 2017-18    OKC 78 78 ⋯  3.4       79     238    1984-05-29 1         \n",
       "3 2019-20    POR 58 58 ⋯  0.0       79     238    1984-05-29 1         \n",
       "4 2020-21    POR 69  3 ⋯ -0.1       79     238    1984-05-29 1         \n",
       "5 2013-14    MIA 79 79 ⋯  1.4       83     235    1984-03-24 1         \n",
       "6 2013-14    IND 80 80 ⋯  2.7       80     220    1990-05-02 1         \n",
       "  draftOverall draftYear undrafted termFirstYear termSecondYear\n",
       "1  3           2003      FALSE     2014          2018          \n",
       "2  3           2003      FALSE     2018          2018          \n",
       "3  3           2003      FALSE     2020          2020          \n",
       "4  3           2003      FALSE     2021          2021          \n",
       "5  4           2003      FALSE     2014          2018          \n",
       "6 10           2010      FALSE     2014          2018          "
      ]
     },
     "metadata": {},
     "output_type": "display_data"
    }
   ],
   "source": [
    "contracts[,`:=`(termFirstYear = as.numeric(str_extract(term, '\\\\d{3,}(?=-)')),\n",
    "               termSecondYear = as.numeric(str_extract(term, '(?<=-)\\\\d{3,}')))]\n",
    "head(contracts)"
   ]
  },
  {
   "cell_type": "code",
   "execution_count": 8,
   "id": "10fa106f",
   "metadata": {
    "execution": {
     "iopub.execute_input": "2022-04-25T06:21:16.227093Z",
     "iopub.status.busy": "2022-04-25T06:21:16.225531Z",
     "iopub.status.idle": "2022-04-25T06:21:16.281709Z",
     "shell.execute_reply": "2022-04-25T06:21:16.279428Z"
    },
    "papermill": {
     "duration": 0.076374,
     "end_time": "2022-04-25T06:21:16.284506",
     "exception": false,
     "start_time": "2022-04-25T06:21:16.208132",
     "status": "completed"
    },
    "tags": []
   },
   "outputs": [
    {
     "data": {
      "text/html": [
       "<table class=\"dataframe\">\n",
       "<caption>A data.table: 6 × 153</caption>\n",
       "<thead>\n",
       "\t<tr><th scope=col>fullName</th><th scope=col>term</th><th scope=col>signAge</th><th scope=col>contractLength</th><th scope=col>totalValue</th><th scope=col>aav</th><th scope=col>signSeason</th><th scope=col>Tm</th><th scope=col>G</th><th scope=col>GS</th><th scope=col>⋯</th><th scope=col>height</th><th scope=col>weight</th><th scope=col>birthDate</th><th scope=col>draftRound</th><th scope=col>draftOverall</th><th scope=col>draftYear</th><th scope=col>undrafted</th><th scope=col>termFirstYear</th><th scope=col>termSecondYear</th><th scope=col>signYear</th></tr>\n",
       "\t<tr><th scope=col>&lt;chr&gt;</th><th scope=col>&lt;chr&gt;</th><th scope=col>&lt;dbl&gt;</th><th scope=col>&lt;int&gt;</th><th scope=col>&lt;dbl&gt;</th><th scope=col>&lt;dbl&gt;</th><th scope=col>&lt;chr&gt;</th><th scope=col>&lt;chr&gt;</th><th scope=col>&lt;int&gt;</th><th scope=col>&lt;int&gt;</th><th scope=col>⋯</th><th scope=col>&lt;int&gt;</th><th scope=col>&lt;int&gt;</th><th scope=col>&lt;date&gt;</th><th scope=col>&lt;int&gt;</th><th scope=col>&lt;int&gt;</th><th scope=col>&lt;int&gt;</th><th scope=col>&lt;lgl&gt;</th><th scope=col>&lt;dbl&gt;</th><th scope=col>&lt;dbl&gt;</th><th scope=col>&lt;dbl&gt;</th></tr>\n",
       "</thead>\n",
       "<tbody>\n",
       "\t<tr><td>Carmelo Anthony</td><td>2014-2018</td><td>30</td><td>5</td><td>124064681</td><td>24812936</td><td>2013-14</td><td>NYK</td><td>77</td><td>77</td><td>⋯</td><td>79</td><td>238</td><td>1984-05-29</td><td>1</td><td> 3</td><td>2003</td><td>FALSE</td><td>2014</td><td>2018</td><td>2014</td></tr>\n",
       "\t<tr><td>Carmelo Anthony</td><td>2018-2018</td><td>34</td><td>1</td><td>  2393887</td><td> 2393887</td><td>2017-18</td><td>OKC</td><td>78</td><td>78</td><td>⋯</td><td>79</td><td>238</td><td>1984-05-29</td><td>1</td><td> 3</td><td>2003</td><td>FALSE</td><td>2018</td><td>2018</td><td>2018</td></tr>\n",
       "\t<tr><td>Carmelo Anthony</td><td>2020-2020</td><td>36</td><td>1</td><td>  2564753</td><td> 2564753</td><td>2019-20</td><td>POR</td><td>58</td><td>58</td><td>⋯</td><td>79</td><td>238</td><td>1984-05-29</td><td>1</td><td> 3</td><td>2003</td><td>FALSE</td><td>2020</td><td>2020</td><td>2020</td></tr>\n",
       "\t<tr><td>Carmelo Anthony</td><td>2021-2021</td><td>37</td><td>1</td><td>  2641691</td><td> 2641691</td><td>2020-21</td><td>POR</td><td>69</td><td> 3</td><td>⋯</td><td>79</td><td>238</td><td>1984-05-29</td><td>1</td><td> 3</td><td>2003</td><td>FALSE</td><td>2021</td><td>2021</td><td>2021</td></tr>\n",
       "\t<tr><td>Chris Bosh     </td><td>2014-2018</td><td>29</td><td>5</td><td>118705300</td><td>23741060</td><td>2013-14</td><td>MIA</td><td>79</td><td>79</td><td>⋯</td><td>83</td><td>235</td><td>1984-03-24</td><td>1</td><td> 4</td><td>2003</td><td>FALSE</td><td>2014</td><td>2018</td><td>2014</td></tr>\n",
       "\t<tr><td>Paul George    </td><td>2014-2018</td><td>23</td><td>5</td><td> 91572660</td><td>18314532</td><td>2013-14</td><td>IND</td><td>80</td><td>80</td><td>⋯</td><td>80</td><td>220</td><td>1990-05-02</td><td>1</td><td>10</td><td>2010</td><td>FALSE</td><td>2014</td><td>2018</td><td>2014</td></tr>\n",
       "</tbody>\n",
       "</table>\n"
      ],
      "text/latex": [
       "A data.table: 6 × 153\n",
       "\\begin{tabular}{lllllllllllllllllllll}\n",
       " fullName & term & signAge & contractLength & totalValue & aav & signSeason & Tm & G & GS & ⋯ & height & weight & birthDate & draftRound & draftOverall & draftYear & undrafted & termFirstYear & termSecondYear & signYear\\\\\n",
       " <chr> & <chr> & <dbl> & <int> & <dbl> & <dbl> & <chr> & <chr> & <int> & <int> & ⋯ & <int> & <int> & <date> & <int> & <int> & <int> & <lgl> & <dbl> & <dbl> & <dbl>\\\\\n",
       "\\hline\n",
       "\t Carmelo Anthony & 2014-2018 & 30 & 5 & 124064681 & 24812936 & 2013-14 & NYK & 77 & 77 & ⋯ & 79 & 238 & 1984-05-29 & 1 &  3 & 2003 & FALSE & 2014 & 2018 & 2014\\\\\n",
       "\t Carmelo Anthony & 2018-2018 & 34 & 1 &   2393887 &  2393887 & 2017-18 & OKC & 78 & 78 & ⋯ & 79 & 238 & 1984-05-29 & 1 &  3 & 2003 & FALSE & 2018 & 2018 & 2018\\\\\n",
       "\t Carmelo Anthony & 2020-2020 & 36 & 1 &   2564753 &  2564753 & 2019-20 & POR & 58 & 58 & ⋯ & 79 & 238 & 1984-05-29 & 1 &  3 & 2003 & FALSE & 2020 & 2020 & 2020\\\\\n",
       "\t Carmelo Anthony & 2021-2021 & 37 & 1 &   2641691 &  2641691 & 2020-21 & POR & 69 &  3 & ⋯ & 79 & 238 & 1984-05-29 & 1 &  3 & 2003 & FALSE & 2021 & 2021 & 2021\\\\\n",
       "\t Chris Bosh      & 2014-2018 & 29 & 5 & 118705300 & 23741060 & 2013-14 & MIA & 79 & 79 & ⋯ & 83 & 235 & 1984-03-24 & 1 &  4 & 2003 & FALSE & 2014 & 2018 & 2014\\\\\n",
       "\t Paul George     & 2014-2018 & 23 & 5 &  91572660 & 18314532 & 2013-14 & IND & 80 & 80 & ⋯ & 80 & 220 & 1990-05-02 & 1 & 10 & 2010 & FALSE & 2014 & 2018 & 2014\\\\\n",
       "\\end{tabular}\n"
      ],
      "text/markdown": [
       "\n",
       "A data.table: 6 × 153\n",
       "\n",
       "| fullName &lt;chr&gt; | term &lt;chr&gt; | signAge &lt;dbl&gt; | contractLength &lt;int&gt; | totalValue &lt;dbl&gt; | aav &lt;dbl&gt; | signSeason &lt;chr&gt; | Tm &lt;chr&gt; | G &lt;int&gt; | GS &lt;int&gt; | ⋯ ⋯ | height &lt;int&gt; | weight &lt;int&gt; | birthDate &lt;date&gt; | draftRound &lt;int&gt; | draftOverall &lt;int&gt; | draftYear &lt;int&gt; | undrafted &lt;lgl&gt; | termFirstYear &lt;dbl&gt; | termSecondYear &lt;dbl&gt; | signYear &lt;dbl&gt; |\n",
       "|---|---|---|---|---|---|---|---|---|---|---|---|---|---|---|---|---|---|---|---|---|\n",
       "| Carmelo Anthony | 2014-2018 | 30 | 5 | 124064681 | 24812936 | 2013-14 | NYK | 77 | 77 | ⋯ | 79 | 238 | 1984-05-29 | 1 |  3 | 2003 | FALSE | 2014 | 2018 | 2014 |\n",
       "| Carmelo Anthony | 2018-2018 | 34 | 1 |   2393887 |  2393887 | 2017-18 | OKC | 78 | 78 | ⋯ | 79 | 238 | 1984-05-29 | 1 |  3 | 2003 | FALSE | 2018 | 2018 | 2018 |\n",
       "| Carmelo Anthony | 2020-2020 | 36 | 1 |   2564753 |  2564753 | 2019-20 | POR | 58 | 58 | ⋯ | 79 | 238 | 1984-05-29 | 1 |  3 | 2003 | FALSE | 2020 | 2020 | 2020 |\n",
       "| Carmelo Anthony | 2021-2021 | 37 | 1 |   2641691 |  2641691 | 2020-21 | POR | 69 |  3 | ⋯ | 79 | 238 | 1984-05-29 | 1 |  3 | 2003 | FALSE | 2021 | 2021 | 2021 |\n",
       "| Chris Bosh      | 2014-2018 | 29 | 5 | 118705300 | 23741060 | 2013-14 | MIA | 79 | 79 | ⋯ | 83 | 235 | 1984-03-24 | 1 |  4 | 2003 | FALSE | 2014 | 2018 | 2014 |\n",
       "| Paul George     | 2014-2018 | 23 | 5 |  91572660 | 18314532 | 2013-14 | IND | 80 | 80 | ⋯ | 80 | 220 | 1990-05-02 | 1 | 10 | 2010 | FALSE | 2014 | 2018 | 2014 |\n",
       "\n"
      ],
      "text/plain": [
       "  fullName        term      signAge contractLength totalValue aav     \n",
       "1 Carmelo Anthony 2014-2018 30      5              124064681  24812936\n",
       "2 Carmelo Anthony 2018-2018 34      1                2393887   2393887\n",
       "3 Carmelo Anthony 2020-2020 36      1                2564753   2564753\n",
       "4 Carmelo Anthony 2021-2021 37      1                2641691   2641691\n",
       "5 Chris Bosh      2014-2018 29      5              118705300  23741060\n",
       "6 Paul George     2014-2018 23      5               91572660  18314532\n",
       "  signSeason Tm  G  GS ⋯ height weight birthDate  draftRound draftOverall\n",
       "1 2013-14    NYK 77 77 ⋯ 79     238    1984-05-29 1           3          \n",
       "2 2017-18    OKC 78 78 ⋯ 79     238    1984-05-29 1           3          \n",
       "3 2019-20    POR 58 58 ⋯ 79     238    1984-05-29 1           3          \n",
       "4 2020-21    POR 69  3 ⋯ 79     238    1984-05-29 1           3          \n",
       "5 2013-14    MIA 79 79 ⋯ 83     235    1984-03-24 1           4          \n",
       "6 2013-14    IND 80 80 ⋯ 80     220    1990-05-02 1          10          \n",
       "  draftYear undrafted termFirstYear termSecondYear signYear\n",
       "1 2003      FALSE     2014          2018           2014    \n",
       "2 2003      FALSE     2018          2018           2018    \n",
       "3 2003      FALSE     2020          2020           2020    \n",
       "4 2003      FALSE     2021          2021           2021    \n",
       "5 2003      FALSE     2014          2018           2014    \n",
       "6 2010      FALSE     2014          2018           2014    "
      ]
     },
     "metadata": {},
     "output_type": "display_data"
    }
   ],
   "source": [
    "contracts[,signYear:=as.numeric(str_c('20',\n",
    "                                      str_extract(signSeason, '(?<=-)\\\\d{2,}'), sep=''))]\n",
    "head(contracts)"
   ]
  },
  {
   "cell_type": "markdown",
   "id": "12c500f8",
   "metadata": {
    "papermill": {
     "duration": 0.015896,
     "end_time": "2022-04-25T06:21:16.316263",
     "exception": false,
     "start_time": "2022-04-25T06:21:16.300367",
     "status": "completed"
    },
    "tags": []
   },
   "source": [
    "Sign age will be fixed such that it is the difference between the signYear and the birthdate in years (which means this is an approximate measure). Then fix draft states for all the undrafted players. Draft round is 3, draft overall is 61, and draft year is the entry year (year they signed their first NBA contract) for the undrafted players."
   ]
  },
  {
   "cell_type": "code",
   "execution_count": 9,
   "id": "96279036",
   "metadata": {
    "execution": {
     "iopub.execute_input": "2022-04-25T06:21:16.351454Z",
     "iopub.status.busy": "2022-04-25T06:21:16.349935Z",
     "iopub.status.idle": "2022-04-25T06:21:16.372395Z",
     "shell.execute_reply": "2022-04-25T06:21:16.370316Z"
    },
    "papermill": {
     "duration": 0.043082,
     "end_time": "2022-04-25T06:21:16.375171",
     "exception": false,
     "start_time": "2022-04-25T06:21:16.332089",
     "status": "completed"
    },
    "tags": []
   },
   "outputs": [
    {
     "data": {
      "text/plain": [
       "   Min. 1st Qu.  Median    Mean 3rd Qu.    Max. \n",
       "  20.00   24.00   27.00   27.54   30.00   42.00 "
      ]
     },
     "metadata": {},
     "output_type": "display_data"
    }
   ],
   "source": [
    "contracts[signAge<16,signAge:= (signYear - year(birthDate))]\n",
    "summary(contracts$signAge)"
   ]
  },
  {
   "cell_type": "code",
   "execution_count": 10,
   "id": "ed0fdeb0",
   "metadata": {
    "execution": {
     "iopub.execute_input": "2022-04-25T06:21:16.410352Z",
     "iopub.status.busy": "2022-04-25T06:21:16.408798Z",
     "iopub.status.idle": "2022-04-25T06:21:16.428761Z",
     "shell.execute_reply": "2022-04-25T06:21:16.426843Z"
    },
    "papermill": {
     "duration": 0.040466,
     "end_time": "2022-04-25T06:21:16.431663",
     "exception": false,
     "start_time": "2022-04-25T06:21:16.391197",
     "status": "completed"
    },
    "tags": []
   },
   "outputs": [],
   "source": [
    "contracts[undrafted==TRUE, `:=`(draftOverall = 61, draftRound=3, draftYear = signYear)]"
   ]
  },
  {
   "cell_type": "code",
   "execution_count": 11,
   "id": "727523bf",
   "metadata": {
    "execution": {
     "iopub.execute_input": "2022-04-25T06:21:16.467171Z",
     "iopub.status.busy": "2022-04-25T06:21:16.465451Z",
     "iopub.status.idle": "2022-04-25T06:21:16.484978Z",
     "shell.execute_reply": "2022-04-25T06:21:16.482995Z"
    },
    "papermill": {
     "duration": 0.039845,
     "end_time": "2022-04-25T06:21:16.487609",
     "exception": false,
     "start_time": "2022-04-25T06:21:16.447764",
     "status": "completed"
    },
    "tags": []
   },
   "outputs": [
    {
     "data": {
      "text/plain": [
       "  draftOverall     draftRound      draftYear   \n",
       " Min.   : 1.00   Min.   :1.000   Min.   :1995  \n",
       " 1st Qu.:11.75   1st Qu.:1.000   1st Qu.:2008  \n",
       " Median :29.00   Median :1.000   Median :2013  \n",
       " Mean   :32.42   Mean   :1.743   Mean   :2012  \n",
       " 3rd Qu.:61.00   3rd Qu.:3.000   3rd Qu.:2016  \n",
       " Max.   :61.00   Max.   :3.000   Max.   :2021  "
      ]
     },
     "metadata": {},
     "output_type": "display_data"
    }
   ],
   "source": [
    "summary(contracts[,c('draftOverall', 'draftRound', 'draftYear')])"
   ]
  },
  {
   "cell_type": "code",
   "execution_count": 12,
   "id": "fcb7cfac",
   "metadata": {
    "execution": {
     "iopub.execute_input": "2022-04-25T06:21:16.525663Z",
     "iopub.status.busy": "2022-04-25T06:21:16.523595Z",
     "iopub.status.idle": "2022-04-25T06:21:16.572249Z",
     "shell.execute_reply": "2022-04-25T06:21:16.569942Z"
    },
    "papermill": {
     "duration": 0.071128,
     "end_time": "2022-04-25T06:21:16.574968",
     "exception": false,
     "start_time": "2022-04-25T06:21:16.503840",
     "status": "completed"
    },
    "tags": []
   },
   "outputs": [
    {
     "data": {
      "text/html": [
       "<table class=\"dataframe\">\n",
       "<caption>A data.table: 6 × 153</caption>\n",
       "<thead>\n",
       "\t<tr><th scope=col>fullName</th><th scope=col>term</th><th scope=col>signAge</th><th scope=col>contractLength</th><th scope=col>totalValue</th><th scope=col>aav</th><th scope=col>signSeason</th><th scope=col>Tm</th><th scope=col>G</th><th scope=col>GS</th><th scope=col>⋯</th><th scope=col>height</th><th scope=col>weight</th><th scope=col>birthDate</th><th scope=col>draftRound</th><th scope=col>draftOverall</th><th scope=col>draftYear</th><th scope=col>undrafted</th><th scope=col>termFirstYear</th><th scope=col>termSecondYear</th><th scope=col>signYear</th></tr>\n",
       "\t<tr><th scope=col>&lt;chr&gt;</th><th scope=col>&lt;chr&gt;</th><th scope=col>&lt;dbl&gt;</th><th scope=col>&lt;int&gt;</th><th scope=col>&lt;dbl&gt;</th><th scope=col>&lt;dbl&gt;</th><th scope=col>&lt;chr&gt;</th><th scope=col>&lt;chr&gt;</th><th scope=col>&lt;int&gt;</th><th scope=col>&lt;int&gt;</th><th scope=col>⋯</th><th scope=col>&lt;int&gt;</th><th scope=col>&lt;int&gt;</th><th scope=col>&lt;date&gt;</th><th scope=col>&lt;int&gt;</th><th scope=col>&lt;int&gt;</th><th scope=col>&lt;int&gt;</th><th scope=col>&lt;lgl&gt;</th><th scope=col>&lt;dbl&gt;</th><th scope=col>&lt;dbl&gt;</th><th scope=col>&lt;dbl&gt;</th></tr>\n",
       "</thead>\n",
       "<tbody>\n",
       "\t<tr><td>Carmelo Anthony</td><td>2014-2018</td><td>30</td><td>5</td><td>124064681</td><td>24812936</td><td>2013-14</td><td>NYK</td><td>77</td><td>77</td><td>⋯</td><td>79</td><td>238</td><td>1984-05-29</td><td>1</td><td> 3</td><td>2003</td><td>FALSE</td><td>2014</td><td>2018</td><td>2014</td></tr>\n",
       "\t<tr><td>Carmelo Anthony</td><td>2018-2018</td><td>34</td><td>1</td><td>  2393887</td><td> 2393887</td><td>2017-18</td><td>OKC</td><td>78</td><td>78</td><td>⋯</td><td>79</td><td>238</td><td>1984-05-29</td><td>1</td><td> 3</td><td>2003</td><td>FALSE</td><td>2018</td><td>2018</td><td>2018</td></tr>\n",
       "\t<tr><td>Carmelo Anthony</td><td>2020-2020</td><td>36</td><td>1</td><td>  2564753</td><td> 2564753</td><td>2019-20</td><td>POR</td><td>58</td><td>58</td><td>⋯</td><td>79</td><td>238</td><td>1984-05-29</td><td>1</td><td> 3</td><td>2003</td><td>FALSE</td><td>2020</td><td>2020</td><td>2020</td></tr>\n",
       "\t<tr><td>Carmelo Anthony</td><td>2021-2021</td><td>37</td><td>1</td><td>  2641691</td><td> 2641691</td><td>2020-21</td><td>POR</td><td>69</td><td> 3</td><td>⋯</td><td>79</td><td>238</td><td>1984-05-29</td><td>1</td><td> 3</td><td>2003</td><td>FALSE</td><td>2021</td><td>2021</td><td>2021</td></tr>\n",
       "\t<tr><td>Chris Bosh     </td><td>2014-2018</td><td>29</td><td>5</td><td>118705300</td><td>23741060</td><td>2013-14</td><td>MIA</td><td>79</td><td>79</td><td>⋯</td><td>83</td><td>235</td><td>1984-03-24</td><td>1</td><td> 4</td><td>2003</td><td>FALSE</td><td>2014</td><td>2018</td><td>2014</td></tr>\n",
       "\t<tr><td>Paul George    </td><td>2014-2018</td><td>23</td><td>5</td><td> 91572660</td><td>18314532</td><td>2013-14</td><td>IND</td><td>80</td><td>80</td><td>⋯</td><td>80</td><td>220</td><td>1990-05-02</td><td>1</td><td>10</td><td>2010</td><td>FALSE</td><td>2014</td><td>2018</td><td>2014</td></tr>\n",
       "</tbody>\n",
       "</table>\n"
      ],
      "text/latex": [
       "A data.table: 6 × 153\n",
       "\\begin{tabular}{lllllllllllllllllllll}\n",
       " fullName & term & signAge & contractLength & totalValue & aav & signSeason & Tm & G & GS & ⋯ & height & weight & birthDate & draftRound & draftOverall & draftYear & undrafted & termFirstYear & termSecondYear & signYear\\\\\n",
       " <chr> & <chr> & <dbl> & <int> & <dbl> & <dbl> & <chr> & <chr> & <int> & <int> & ⋯ & <int> & <int> & <date> & <int> & <int> & <int> & <lgl> & <dbl> & <dbl> & <dbl>\\\\\n",
       "\\hline\n",
       "\t Carmelo Anthony & 2014-2018 & 30 & 5 & 124064681 & 24812936 & 2013-14 & NYK & 77 & 77 & ⋯ & 79 & 238 & 1984-05-29 & 1 &  3 & 2003 & FALSE & 2014 & 2018 & 2014\\\\\n",
       "\t Carmelo Anthony & 2018-2018 & 34 & 1 &   2393887 &  2393887 & 2017-18 & OKC & 78 & 78 & ⋯ & 79 & 238 & 1984-05-29 & 1 &  3 & 2003 & FALSE & 2018 & 2018 & 2018\\\\\n",
       "\t Carmelo Anthony & 2020-2020 & 36 & 1 &   2564753 &  2564753 & 2019-20 & POR & 58 & 58 & ⋯ & 79 & 238 & 1984-05-29 & 1 &  3 & 2003 & FALSE & 2020 & 2020 & 2020\\\\\n",
       "\t Carmelo Anthony & 2021-2021 & 37 & 1 &   2641691 &  2641691 & 2020-21 & POR & 69 &  3 & ⋯ & 79 & 238 & 1984-05-29 & 1 &  3 & 2003 & FALSE & 2021 & 2021 & 2021\\\\\n",
       "\t Chris Bosh      & 2014-2018 & 29 & 5 & 118705300 & 23741060 & 2013-14 & MIA & 79 & 79 & ⋯ & 83 & 235 & 1984-03-24 & 1 &  4 & 2003 & FALSE & 2014 & 2018 & 2014\\\\\n",
       "\t Paul George     & 2014-2018 & 23 & 5 &  91572660 & 18314532 & 2013-14 & IND & 80 & 80 & ⋯ & 80 & 220 & 1990-05-02 & 1 & 10 & 2010 & FALSE & 2014 & 2018 & 2014\\\\\n",
       "\\end{tabular}\n"
      ],
      "text/markdown": [
       "\n",
       "A data.table: 6 × 153\n",
       "\n",
       "| fullName &lt;chr&gt; | term &lt;chr&gt; | signAge &lt;dbl&gt; | contractLength &lt;int&gt; | totalValue &lt;dbl&gt; | aav &lt;dbl&gt; | signSeason &lt;chr&gt; | Tm &lt;chr&gt; | G &lt;int&gt; | GS &lt;int&gt; | ⋯ ⋯ | height &lt;int&gt; | weight &lt;int&gt; | birthDate &lt;date&gt; | draftRound &lt;int&gt; | draftOverall &lt;int&gt; | draftYear &lt;int&gt; | undrafted &lt;lgl&gt; | termFirstYear &lt;dbl&gt; | termSecondYear &lt;dbl&gt; | signYear &lt;dbl&gt; |\n",
       "|---|---|---|---|---|---|---|---|---|---|---|---|---|---|---|---|---|---|---|---|---|\n",
       "| Carmelo Anthony | 2014-2018 | 30 | 5 | 124064681 | 24812936 | 2013-14 | NYK | 77 | 77 | ⋯ | 79 | 238 | 1984-05-29 | 1 |  3 | 2003 | FALSE | 2014 | 2018 | 2014 |\n",
       "| Carmelo Anthony | 2018-2018 | 34 | 1 |   2393887 |  2393887 | 2017-18 | OKC | 78 | 78 | ⋯ | 79 | 238 | 1984-05-29 | 1 |  3 | 2003 | FALSE | 2018 | 2018 | 2018 |\n",
       "| Carmelo Anthony | 2020-2020 | 36 | 1 |   2564753 |  2564753 | 2019-20 | POR | 58 | 58 | ⋯ | 79 | 238 | 1984-05-29 | 1 |  3 | 2003 | FALSE | 2020 | 2020 | 2020 |\n",
       "| Carmelo Anthony | 2021-2021 | 37 | 1 |   2641691 |  2641691 | 2020-21 | POR | 69 |  3 | ⋯ | 79 | 238 | 1984-05-29 | 1 |  3 | 2003 | FALSE | 2021 | 2021 | 2021 |\n",
       "| Chris Bosh      | 2014-2018 | 29 | 5 | 118705300 | 23741060 | 2013-14 | MIA | 79 | 79 | ⋯ | 83 | 235 | 1984-03-24 | 1 |  4 | 2003 | FALSE | 2014 | 2018 | 2014 |\n",
       "| Paul George     | 2014-2018 | 23 | 5 |  91572660 | 18314532 | 2013-14 | IND | 80 | 80 | ⋯ | 80 | 220 | 1990-05-02 | 1 | 10 | 2010 | FALSE | 2014 | 2018 | 2014 |\n",
       "\n"
      ],
      "text/plain": [
       "  fullName        term      signAge contractLength totalValue aav     \n",
       "1 Carmelo Anthony 2014-2018 30      5              124064681  24812936\n",
       "2 Carmelo Anthony 2018-2018 34      1                2393887   2393887\n",
       "3 Carmelo Anthony 2020-2020 36      1                2564753   2564753\n",
       "4 Carmelo Anthony 2021-2021 37      1                2641691   2641691\n",
       "5 Chris Bosh      2014-2018 29      5              118705300  23741060\n",
       "6 Paul George     2014-2018 23      5               91572660  18314532\n",
       "  signSeason Tm  G  GS ⋯ height weight birthDate  draftRound draftOverall\n",
       "1 2013-14    NYK 77 77 ⋯ 79     238    1984-05-29 1           3          \n",
       "2 2017-18    OKC 78 78 ⋯ 79     238    1984-05-29 1           3          \n",
       "3 2019-20    POR 58 58 ⋯ 79     238    1984-05-29 1           3          \n",
       "4 2020-21    POR 69  3 ⋯ 79     238    1984-05-29 1           3          \n",
       "5 2013-14    MIA 79 79 ⋯ 83     235    1984-03-24 1           4          \n",
       "6 2013-14    IND 80 80 ⋯ 80     220    1990-05-02 1          10          \n",
       "  draftYear undrafted termFirstYear termSecondYear signYear\n",
       "1 2003      FALSE     2014          2018           2014    \n",
       "2 2003      FALSE     2018          2018           2018    \n",
       "3 2003      FALSE     2020          2020           2020    \n",
       "4 2003      FALSE     2021          2021           2021    \n",
       "5 2003      FALSE     2014          2018           2014    \n",
       "6 2010      FALSE     2014          2018           2014    "
      ]
     },
     "metadata": {},
     "output_type": "display_data"
    }
   ],
   "source": [
    "# need to fix draft year since an undrafted player can sign multiple contracts \n",
    "# thus we want the first sign year and not a constant changing one. \n",
    "head(contracts[draftYear<2014,])"
   ]
  },
  {
   "cell_type": "markdown",
   "id": "dcf56db2",
   "metadata": {
    "papermill": {
     "duration": 0.016278,
     "end_time": "2022-04-25T06:21:16.607768",
     "exception": false,
     "start_time": "2022-04-25T06:21:16.591490",
     "status": "completed"
    },
    "tags": []
   },
   "source": [
    "Using the player stats datatable to find out when the undrafted players first entered into the nba league. This will then be inserted into draftYear (essentially making it so that draftYear is equivalent to entry year)"
   ]
  },
  {
   "cell_type": "code",
   "execution_count": 13,
   "id": "1ee13efb",
   "metadata": {
    "execution": {
     "iopub.execute_input": "2022-04-25T06:21:16.644096Z",
     "iopub.status.busy": "2022-04-25T06:21:16.642400Z",
     "iopub.status.idle": "2022-04-25T06:21:16.747038Z",
     "shell.execute_reply": "2022-04-25T06:21:16.745141Z"
    },
    "papermill": {
     "duration": 0.12526,
     "end_time": "2022-04-25T06:21:16.749566",
     "exception": false,
     "start_time": "2022-04-25T06:21:16.624306",
     "status": "completed"
    },
    "tags": []
   },
   "outputs": [
    {
     "data": {
      "text/html": [
       "<table class=\"dataframe\">\n",
       "<caption>A data.table: 6 × 51</caption>\n",
       "<thead>\n",
       "\t<tr><th scope=col>Name</th><th scope=col>Season</th><th scope=col>Age</th><th scope=col>Tm</th><th scope=col>Lg</th><th scope=col>Pos</th><th scope=col>G</th><th scope=col>GS</th><th scope=col>MP</th><th scope=col>FG</th><th scope=col>⋯</th><th scope=col>TOV%</th><th scope=col>USG%</th><th scope=col>OWS</th><th scope=col>DWS</th><th scope=col>WS</th><th scope=col>WS/48</th><th scope=col>OBPM</th><th scope=col>DBPM</th><th scope=col>BPM</th><th scope=col>VORP</th></tr>\n",
       "\t<tr><th scope=col>&lt;chr&gt;</th><th scope=col>&lt;chr&gt;</th><th scope=col>&lt;int&gt;</th><th scope=col>&lt;chr&gt;</th><th scope=col>&lt;chr&gt;</th><th scope=col>&lt;chr&gt;</th><th scope=col>&lt;int&gt;</th><th scope=col>&lt;int&gt;</th><th scope=col>&lt;dbl&gt;</th><th scope=col>&lt;dbl&gt;</th><th scope=col>⋯</th><th scope=col>&lt;dbl&gt;</th><th scope=col>&lt;dbl&gt;</th><th scope=col>&lt;dbl&gt;</th><th scope=col>&lt;dbl&gt;</th><th scope=col>&lt;dbl&gt;</th><th scope=col>&lt;dbl&gt;</th><th scope=col>&lt;dbl&gt;</th><th scope=col>&lt;dbl&gt;</th><th scope=col>&lt;dbl&gt;</th><th scope=col>&lt;dbl&gt;</th></tr>\n",
       "</thead>\n",
       "<tbody>\n",
       "\t<tr><td>Jeff Adrien  </td><td>2010-11</td><td>24</td><td>GSW</td><td>NBA</td><td>PF</td><td>23</td><td> 0</td><td> 8.5</td><td>1.0</td><td>⋯</td><td>12.6</td><td>16.1</td><td>0.1</td><td>0.1</td><td>0.2</td><td>0.051</td><td>-3.3</td><td>-2.0</td><td>-5.3</td><td>-0.2</td></tr>\n",
       "\t<tr><td>Jeff Adrien  </td><td>2011-12</td><td>25</td><td>HOU</td><td>NBA</td><td>PF</td><td> 8</td><td> 0</td><td> 7.9</td><td>0.9</td><td>⋯</td><td> 8.6</td><td>16.8</td><td>0.1</td><td>0.1</td><td>0.1</td><td>0.106</td><td>-4.0</td><td>-0.2</td><td>-4.3</td><td> 0.0</td></tr>\n",
       "\t<tr><td>Jeff Adrien  </td><td>2012-13</td><td>26</td><td>CHA</td><td>NBA</td><td>PF</td><td>52</td><td> 5</td><td>13.7</td><td>1.4</td><td>⋯</td><td>13.1</td><td>15.6</td><td>0.5</td><td>0.4</td><td>1.0</td><td>0.064</td><td>-2.1</td><td>-0.9</td><td>-3.0</td><td>-0.2</td></tr>\n",
       "\t<tr><td>Jeff Adrien  </td><td>2013-14</td><td>27</td><td>TOT</td><td>NBA</td><td>PF</td><td>53</td><td>12</td><td>18.1</td><td>2.7</td><td>⋯</td><td>10.6</td><td>17.3</td><td>1.6</td><td>1.1</td><td>2.7</td><td>0.134</td><td> 0.0</td><td>-0.9</td><td>-0.9</td><td> 0.3</td></tr>\n",
       "\t<tr><td>Jeff Adrien  </td><td>2014-15</td><td>28</td><td>MIN</td><td>NBA</td><td>PF</td><td>17</td><td> 0</td><td>12.6</td><td>1.1</td><td>⋯</td><td>12.9</td><td>14.3</td><td>0.2</td><td>0.2</td><td>0.4</td><td>0.087</td><td>-1.9</td><td>-0.6</td><td>-2.4</td><td> 0.0</td></tr>\n",
       "\t<tr><td>Arron Afflalo</td><td>2007-08</td><td>22</td><td>DET</td><td>NBA</td><td>SG</td><td>75</td><td> 9</td><td>12.9</td><td>1.3</td><td>⋯</td><td>10.9</td><td>15.2</td><td>0.5</td><td>1.4</td><td>1.9</td><td>0.092</td><td>-2.6</td><td> 1.0</td><td>-1.5</td><td> 0.1</td></tr>\n",
       "</tbody>\n",
       "</table>\n"
      ],
      "text/latex": [
       "A data.table: 6 × 51\n",
       "\\begin{tabular}{lllllllllllllllllllll}\n",
       " Name & Season & Age & Tm & Lg & Pos & G & GS & MP & FG & ⋯ & TOV\\% & USG\\% & OWS & DWS & WS & WS/48 & OBPM & DBPM & BPM & VORP\\\\\n",
       " <chr> & <chr> & <int> & <chr> & <chr> & <chr> & <int> & <int> & <dbl> & <dbl> & ⋯ & <dbl> & <dbl> & <dbl> & <dbl> & <dbl> & <dbl> & <dbl> & <dbl> & <dbl> & <dbl>\\\\\n",
       "\\hline\n",
       "\t Jeff Adrien   & 2010-11 & 24 & GSW & NBA & PF & 23 &  0 &  8.5 & 1.0 & ⋯ & 12.6 & 16.1 & 0.1 & 0.1 & 0.2 & 0.051 & -3.3 & -2.0 & -5.3 & -0.2\\\\\n",
       "\t Jeff Adrien   & 2011-12 & 25 & HOU & NBA & PF &  8 &  0 &  7.9 & 0.9 & ⋯ &  8.6 & 16.8 & 0.1 & 0.1 & 0.1 & 0.106 & -4.0 & -0.2 & -4.3 &  0.0\\\\\n",
       "\t Jeff Adrien   & 2012-13 & 26 & CHA & NBA & PF & 52 &  5 & 13.7 & 1.4 & ⋯ & 13.1 & 15.6 & 0.5 & 0.4 & 1.0 & 0.064 & -2.1 & -0.9 & -3.0 & -0.2\\\\\n",
       "\t Jeff Adrien   & 2013-14 & 27 & TOT & NBA & PF & 53 & 12 & 18.1 & 2.7 & ⋯ & 10.6 & 17.3 & 1.6 & 1.1 & 2.7 & 0.134 &  0.0 & -0.9 & -0.9 &  0.3\\\\\n",
       "\t Jeff Adrien   & 2014-15 & 28 & MIN & NBA & PF & 17 &  0 & 12.6 & 1.1 & ⋯ & 12.9 & 14.3 & 0.2 & 0.2 & 0.4 & 0.087 & -1.9 & -0.6 & -2.4 &  0.0\\\\\n",
       "\t Arron Afflalo & 2007-08 & 22 & DET & NBA & SG & 75 &  9 & 12.9 & 1.3 & ⋯ & 10.9 & 15.2 & 0.5 & 1.4 & 1.9 & 0.092 & -2.6 &  1.0 & -1.5 &  0.1\\\\\n",
       "\\end{tabular}\n"
      ],
      "text/markdown": [
       "\n",
       "A data.table: 6 × 51\n",
       "\n",
       "| Name &lt;chr&gt; | Season &lt;chr&gt; | Age &lt;int&gt; | Tm &lt;chr&gt; | Lg &lt;chr&gt; | Pos &lt;chr&gt; | G &lt;int&gt; | GS &lt;int&gt; | MP &lt;dbl&gt; | FG &lt;dbl&gt; | ⋯ ⋯ | TOV% &lt;dbl&gt; | USG% &lt;dbl&gt; | OWS &lt;dbl&gt; | DWS &lt;dbl&gt; | WS &lt;dbl&gt; | WS/48 &lt;dbl&gt; | OBPM &lt;dbl&gt; | DBPM &lt;dbl&gt; | BPM &lt;dbl&gt; | VORP &lt;dbl&gt; |\n",
       "|---|---|---|---|---|---|---|---|---|---|---|---|---|---|---|---|---|---|---|---|---|\n",
       "| Jeff Adrien   | 2010-11 | 24 | GSW | NBA | PF | 23 |  0 |  8.5 | 1.0 | ⋯ | 12.6 | 16.1 | 0.1 | 0.1 | 0.2 | 0.051 | -3.3 | -2.0 | -5.3 | -0.2 |\n",
       "| Jeff Adrien   | 2011-12 | 25 | HOU | NBA | PF |  8 |  0 |  7.9 | 0.9 | ⋯ |  8.6 | 16.8 | 0.1 | 0.1 | 0.1 | 0.106 | -4.0 | -0.2 | -4.3 |  0.0 |\n",
       "| Jeff Adrien   | 2012-13 | 26 | CHA | NBA | PF | 52 |  5 | 13.7 | 1.4 | ⋯ | 13.1 | 15.6 | 0.5 | 0.4 | 1.0 | 0.064 | -2.1 | -0.9 | -3.0 | -0.2 |\n",
       "| Jeff Adrien   | 2013-14 | 27 | TOT | NBA | PF | 53 | 12 | 18.1 | 2.7 | ⋯ | 10.6 | 17.3 | 1.6 | 1.1 | 2.7 | 0.134 |  0.0 | -0.9 | -0.9 |  0.3 |\n",
       "| Jeff Adrien   | 2014-15 | 28 | MIN | NBA | PF | 17 |  0 | 12.6 | 1.1 | ⋯ | 12.9 | 14.3 | 0.2 | 0.2 | 0.4 | 0.087 | -1.9 | -0.6 | -2.4 |  0.0 |\n",
       "| Arron Afflalo | 2007-08 | 22 | DET | NBA | SG | 75 |  9 | 12.9 | 1.3 | ⋯ | 10.9 | 15.2 | 0.5 | 1.4 | 1.9 | 0.092 | -2.6 |  1.0 | -1.5 |  0.1 |\n",
       "\n"
      ],
      "text/plain": [
       "  Name          Season  Age Tm  Lg  Pos G  GS MP   FG  ⋯ TOV% USG% OWS DWS WS \n",
       "1 Jeff Adrien   2010-11 24  GSW NBA PF  23  0  8.5 1.0 ⋯ 12.6 16.1 0.1 0.1 0.2\n",
       "2 Jeff Adrien   2011-12 25  HOU NBA PF   8  0  7.9 0.9 ⋯  8.6 16.8 0.1 0.1 0.1\n",
       "3 Jeff Adrien   2012-13 26  CHA NBA PF  52  5 13.7 1.4 ⋯ 13.1 15.6 0.5 0.4 1.0\n",
       "4 Jeff Adrien   2013-14 27  TOT NBA PF  53 12 18.1 2.7 ⋯ 10.6 17.3 1.6 1.1 2.7\n",
       "5 Jeff Adrien   2014-15 28  MIN NBA PF  17  0 12.6 1.1 ⋯ 12.9 14.3 0.2 0.2 0.4\n",
       "6 Arron Afflalo 2007-08 22  DET NBA SG  75  9 12.9 1.3 ⋯ 10.9 15.2 0.5 1.4 1.9\n",
       "  WS/48 OBPM DBPM BPM  VORP\n",
       "1 0.051 -3.3 -2.0 -5.3 -0.2\n",
       "2 0.106 -4.0 -0.2 -4.3  0.0\n",
       "3 0.064 -2.1 -0.9 -3.0 -0.2\n",
       "4 0.134  0.0 -0.9 -0.9  0.3\n",
       "5 0.087 -1.9 -0.6 -2.4  0.0\n",
       "6 0.092 -2.6  1.0 -1.5  0.1"
      ]
     },
     "metadata": {},
     "output_type": "display_data"
    }
   ],
   "source": [
    "undrafted = contracts[undrafted==TRUE, c('fullName', 'height', 'weight', 'birthDate')]\n",
    "player_stats = fread('../input/st540-project/data/playerStats.csv')\n",
    "head(player_stats)"
   ]
  },
  {
   "cell_type": "code",
   "execution_count": 14,
   "id": "27ed6498",
   "metadata": {
    "execution": {
     "iopub.execute_input": "2022-04-25T06:21:16.787019Z",
     "iopub.status.busy": "2022-04-25T06:21:16.785297Z",
     "iopub.status.idle": "2022-04-25T06:21:16.803744Z",
     "shell.execute_reply": "2022-04-25T06:21:16.801968Z"
    },
    "papermill": {
     "duration": 0.039522,
     "end_time": "2022-04-25T06:21:16.806030",
     "exception": false,
     "start_time": "2022-04-25T06:21:16.766508",
     "status": "completed"
    },
    "tags": []
   },
   "outputs": [
    {
     "data": {
      "text/html": [
       "<style>\n",
       ".list-inline {list-style: none; margin:0; padding: 0}\n",
       ".list-inline>li {display: inline-block}\n",
       ".list-inline>li:not(:last-child)::after {content: \"\\00b7\"; padding: 0 .5ex}\n",
       "</style>\n",
       "<ol class=list-inline><li>'Name'</li><li>'Season'</li><li>'Age'</li><li>'Tm'</li><li>'Lg'</li><li>'Pos'</li><li>'G'</li><li>'GS'</li><li>'MP'</li><li>'FG'</li><li>'FGA'</li><li>'FG%'</li><li>'3P'</li><li>'3PA'</li><li>'3P%'</li><li>'2P'</li><li>'2PA'</li><li>'2P%'</li><li>'eFG%'</li><li>'FT'</li><li>'FTA'</li><li>'FT%'</li><li>'ORB'</li><li>'DRB'</li><li>'TRB'</li><li>'AST'</li><li>'STL'</li><li>'BLK'</li><li>'TOV'</li><li>'PF'</li><li>'PTS'</li><li>'PER'</li><li>'TS%'</li><li>'3PAr'</li><li>'FTr'</li><li>'ORB%'</li><li>'DRB%'</li><li>'TRB%'</li><li>'AST%'</li><li>'STL%'</li><li>'BLK%'</li><li>'TOV%'</li><li>'USG%'</li><li>'OWS'</li><li>'DWS'</li><li>'WS'</li><li>'WS/48'</li><li>'OBPM'</li><li>'DBPM'</li><li>'BPM'</li><li>'VORP'</li></ol>\n"
      ],
      "text/latex": [
       "\\begin{enumerate*}\n",
       "\\item 'Name'\n",
       "\\item 'Season'\n",
       "\\item 'Age'\n",
       "\\item 'Tm'\n",
       "\\item 'Lg'\n",
       "\\item 'Pos'\n",
       "\\item 'G'\n",
       "\\item 'GS'\n",
       "\\item 'MP'\n",
       "\\item 'FG'\n",
       "\\item 'FGA'\n",
       "\\item 'FG\\%'\n",
       "\\item '3P'\n",
       "\\item '3PA'\n",
       "\\item '3P\\%'\n",
       "\\item '2P'\n",
       "\\item '2PA'\n",
       "\\item '2P\\%'\n",
       "\\item 'eFG\\%'\n",
       "\\item 'FT'\n",
       "\\item 'FTA'\n",
       "\\item 'FT\\%'\n",
       "\\item 'ORB'\n",
       "\\item 'DRB'\n",
       "\\item 'TRB'\n",
       "\\item 'AST'\n",
       "\\item 'STL'\n",
       "\\item 'BLK'\n",
       "\\item 'TOV'\n",
       "\\item 'PF'\n",
       "\\item 'PTS'\n",
       "\\item 'PER'\n",
       "\\item 'TS\\%'\n",
       "\\item '3PAr'\n",
       "\\item 'FTr'\n",
       "\\item 'ORB\\%'\n",
       "\\item 'DRB\\%'\n",
       "\\item 'TRB\\%'\n",
       "\\item 'AST\\%'\n",
       "\\item 'STL\\%'\n",
       "\\item 'BLK\\%'\n",
       "\\item 'TOV\\%'\n",
       "\\item 'USG\\%'\n",
       "\\item 'OWS'\n",
       "\\item 'DWS'\n",
       "\\item 'WS'\n",
       "\\item 'WS/48'\n",
       "\\item 'OBPM'\n",
       "\\item 'DBPM'\n",
       "\\item 'BPM'\n",
       "\\item 'VORP'\n",
       "\\end{enumerate*}\n"
      ],
      "text/markdown": [
       "1. 'Name'\n",
       "2. 'Season'\n",
       "3. 'Age'\n",
       "4. 'Tm'\n",
       "5. 'Lg'\n",
       "6. 'Pos'\n",
       "7. 'G'\n",
       "8. 'GS'\n",
       "9. 'MP'\n",
       "10. 'FG'\n",
       "11. 'FGA'\n",
       "12. 'FG%'\n",
       "13. '3P'\n",
       "14. '3PA'\n",
       "15. '3P%'\n",
       "16. '2P'\n",
       "17. '2PA'\n",
       "18. '2P%'\n",
       "19. 'eFG%'\n",
       "20. 'FT'\n",
       "21. 'FTA'\n",
       "22. 'FT%'\n",
       "23. 'ORB'\n",
       "24. 'DRB'\n",
       "25. 'TRB'\n",
       "26. 'AST'\n",
       "27. 'STL'\n",
       "28. 'BLK'\n",
       "29. 'TOV'\n",
       "30. 'PF'\n",
       "31. 'PTS'\n",
       "32. 'PER'\n",
       "33. 'TS%'\n",
       "34. '3PAr'\n",
       "35. 'FTr'\n",
       "36. 'ORB%'\n",
       "37. 'DRB%'\n",
       "38. 'TRB%'\n",
       "39. 'AST%'\n",
       "40. 'STL%'\n",
       "41. 'BLK%'\n",
       "42. 'TOV%'\n",
       "43. 'USG%'\n",
       "44. 'OWS'\n",
       "45. 'DWS'\n",
       "46. 'WS'\n",
       "47. 'WS/48'\n",
       "48. 'OBPM'\n",
       "49. 'DBPM'\n",
       "50. 'BPM'\n",
       "51. 'VORP'\n",
       "\n",
       "\n"
      ],
      "text/plain": [
       " [1] \"Name\"   \"Season\" \"Age\"    \"Tm\"     \"Lg\"     \"Pos\"    \"G\"      \"GS\"    \n",
       " [9] \"MP\"     \"FG\"     \"FGA\"    \"FG%\"    \"3P\"     \"3PA\"    \"3P%\"    \"2P\"    \n",
       "[17] \"2PA\"    \"2P%\"    \"eFG%\"   \"FT\"     \"FTA\"    \"FT%\"    \"ORB\"    \"DRB\"   \n",
       "[25] \"TRB\"    \"AST\"    \"STL\"    \"BLK\"    \"TOV\"    \"PF\"     \"PTS\"    \"PER\"   \n",
       "[33] \"TS%\"    \"3PAr\"   \"FTr\"    \"ORB%\"   \"DRB%\"   \"TRB%\"   \"AST%\"   \"STL%\"  \n",
       "[41] \"BLK%\"   \"TOV%\"   \"USG%\"   \"OWS\"    \"DWS\"    \"WS\"     \"WS/48\"  \"OBPM\"  \n",
       "[49] \"DBPM\"   \"BPM\"    \"VORP\"  "
      ]
     },
     "metadata": {},
     "output_type": "display_data"
    }
   ],
   "source": [
    "colnames(player_stats)"
   ]
  },
  {
   "cell_type": "code",
   "execution_count": 15,
   "id": "5b45b5b1",
   "metadata": {
    "execution": {
     "iopub.execute_input": "2022-04-25T06:21:16.844094Z",
     "iopub.status.busy": "2022-04-25T06:21:16.842417Z",
     "iopub.status.idle": "2022-04-25T06:21:16.879029Z",
     "shell.execute_reply": "2022-04-25T06:21:16.877263Z"
    },
    "papermill": {
     "duration": 0.05771,
     "end_time": "2022-04-25T06:21:16.881107",
     "exception": false,
     "start_time": "2022-04-25T06:21:16.823397",
     "status": "completed"
    },
    "tags": []
   },
   "outputs": [
    {
     "data": {
      "text/html": [
       "<table class=\"dataframe\">\n",
       "<caption>A data.table: 6 × 5</caption>\n",
       "<thead>\n",
       "\t<tr><th scope=col>fullName</th><th scope=col>height</th><th scope=col>weight</th><th scope=col>birthDate</th><th scope=col>Season</th></tr>\n",
       "\t<tr><th scope=col>&lt;chr&gt;</th><th scope=col>&lt;int&gt;</th><th scope=col>&lt;int&gt;</th><th scope=col>&lt;date&gt;</th><th scope=col>&lt;chr&gt;</th></tr>\n",
       "</thead>\n",
       "<tbody>\n",
       "\t<tr><td>Aaron Harrison</td><td>78</td><td>210</td><td>1994-10-28</td><td>2015-16</td></tr>\n",
       "\t<tr><td>Aaron Harrison</td><td>78</td><td>210</td><td>1994-10-28</td><td>2016-17</td></tr>\n",
       "\t<tr><td>Aaron Harrison</td><td>78</td><td>210</td><td>1994-10-28</td><td>2017-18</td></tr>\n",
       "\t<tr><td>Adonis Thomas </td><td>79</td><td>200</td><td>1993-03-25</td><td>2013-14</td></tr>\n",
       "\t<tr><td>Alan Anderson </td><td>78</td><td>220</td><td>1982-10-16</td><td>2005-06</td></tr>\n",
       "\t<tr><td>Alan Anderson </td><td>78</td><td>220</td><td>1982-10-16</td><td>2006-07</td></tr>\n",
       "</tbody>\n",
       "</table>\n"
      ],
      "text/latex": [
       "A data.table: 6 × 5\n",
       "\\begin{tabular}{lllll}\n",
       " fullName & height & weight & birthDate & Season\\\\\n",
       " <chr> & <int> & <int> & <date> & <chr>\\\\\n",
       "\\hline\n",
       "\t Aaron Harrison & 78 & 210 & 1994-10-28 & 2015-16\\\\\n",
       "\t Aaron Harrison & 78 & 210 & 1994-10-28 & 2016-17\\\\\n",
       "\t Aaron Harrison & 78 & 210 & 1994-10-28 & 2017-18\\\\\n",
       "\t Adonis Thomas  & 79 & 200 & 1993-03-25 & 2013-14\\\\\n",
       "\t Alan Anderson  & 78 & 220 & 1982-10-16 & 2005-06\\\\\n",
       "\t Alan Anderson  & 78 & 220 & 1982-10-16 & 2006-07\\\\\n",
       "\\end{tabular}\n"
      ],
      "text/markdown": [
       "\n",
       "A data.table: 6 × 5\n",
       "\n",
       "| fullName &lt;chr&gt; | height &lt;int&gt; | weight &lt;int&gt; | birthDate &lt;date&gt; | Season &lt;chr&gt; |\n",
       "|---|---|---|---|---|\n",
       "| Aaron Harrison | 78 | 210 | 1994-10-28 | 2015-16 |\n",
       "| Aaron Harrison | 78 | 210 | 1994-10-28 | 2016-17 |\n",
       "| Aaron Harrison | 78 | 210 | 1994-10-28 | 2017-18 |\n",
       "| Adonis Thomas  | 79 | 200 | 1993-03-25 | 2013-14 |\n",
       "| Alan Anderson  | 78 | 220 | 1982-10-16 | 2005-06 |\n",
       "| Alan Anderson  | 78 | 220 | 1982-10-16 | 2006-07 |\n",
       "\n"
      ],
      "text/plain": [
       "  fullName       height weight birthDate  Season \n",
       "1 Aaron Harrison 78     210    1994-10-28 2015-16\n",
       "2 Aaron Harrison 78     210    1994-10-28 2016-17\n",
       "3 Aaron Harrison 78     210    1994-10-28 2017-18\n",
       "4 Adonis Thomas  79     200    1993-03-25 2013-14\n",
       "5 Alan Anderson  78     220    1982-10-16 2005-06\n",
       "6 Alan Anderson  78     220    1982-10-16 2006-07"
      ]
     },
     "metadata": {},
     "output_type": "display_data"
    }
   ],
   "source": [
    "undrafted = merge.data.table(x=undrafted, y=player_stats[,c('Name', 'Season')],\n",
    "                             by.x = 'fullName',\n",
    "                             by.y='Name', all.x=TRUE)\n",
    "head(undrafted)"
   ]
  },
  {
   "cell_type": "code",
   "execution_count": 16,
   "id": "34c1c0e2",
   "metadata": {
    "execution": {
     "iopub.execute_input": "2022-04-25T06:21:16.919290Z",
     "iopub.status.busy": "2022-04-25T06:21:16.917641Z",
     "iopub.status.idle": "2022-04-25T06:21:16.948410Z",
     "shell.execute_reply": "2022-04-25T06:21:16.946623Z"
    },
    "papermill": {
     "duration": 0.052109,
     "end_time": "2022-04-25T06:21:16.950652",
     "exception": false,
     "start_time": "2022-04-25T06:21:16.898543",
     "status": "completed"
    },
    "tags": []
   },
   "outputs": [
    {
     "data": {
      "text/html": [
       "<table class=\"dataframe\">\n",
       "<caption>A data.table: 15 × 3</caption>\n",
       "<thead>\n",
       "\t<tr><th scope=col>fullName</th><th scope=col>EntryYear</th><th scope=col>Season</th></tr>\n",
       "\t<tr><th scope=col>&lt;chr&gt;</th><th scope=col>&lt;dbl&gt;</th><th scope=col>&lt;chr&gt;</th></tr>\n",
       "</thead>\n",
       "<tbody>\n",
       "\t<tr><td>Aaron Harrison</td><td>2015</td><td>2015-16</td></tr>\n",
       "\t<tr><td>Aaron Harrison</td><td>2016</td><td>2016-17</td></tr>\n",
       "\t<tr><td>Aaron Harrison</td><td>2017</td><td>2017-18</td></tr>\n",
       "\t<tr><td>Adonis Thomas </td><td>2013</td><td>2013-14</td></tr>\n",
       "\t<tr><td>Alan Anderson </td><td>2005</td><td>2005-06</td></tr>\n",
       "\t<tr><td>Alan Anderson </td><td>2006</td><td>2006-07</td></tr>\n",
       "\t<tr><td>Alan Anderson </td><td>2011</td><td>2011-12</td></tr>\n",
       "\t<tr><td>Alan Anderson </td><td>2012</td><td>2012-13</td></tr>\n",
       "\t<tr><td>Alan Anderson </td><td>2013</td><td>2013-14</td></tr>\n",
       "\t<tr><td>Alan Anderson </td><td>2014</td><td>2014-15</td></tr>\n",
       "\t<tr><td>Alan Anderson </td><td>2015</td><td>2015-16</td></tr>\n",
       "\t<tr><td>Alan Anderson </td><td>2016</td><td>2016-17</td></tr>\n",
       "\t<tr><td>Alan Anderson </td><td>2005</td><td>2005-06</td></tr>\n",
       "\t<tr><td>Alan Anderson </td><td>2006</td><td>2006-07</td></tr>\n",
       "\t<tr><td>Alan Anderson </td><td>2011</td><td>2011-12</td></tr>\n",
       "</tbody>\n",
       "</table>\n"
      ],
      "text/latex": [
       "A data.table: 15 × 3\n",
       "\\begin{tabular}{lll}\n",
       " fullName & EntryYear & Season\\\\\n",
       " <chr> & <dbl> & <chr>\\\\\n",
       "\\hline\n",
       "\t Aaron Harrison & 2015 & 2015-16\\\\\n",
       "\t Aaron Harrison & 2016 & 2016-17\\\\\n",
       "\t Aaron Harrison & 2017 & 2017-18\\\\\n",
       "\t Adonis Thomas  & 2013 & 2013-14\\\\\n",
       "\t Alan Anderson  & 2005 & 2005-06\\\\\n",
       "\t Alan Anderson  & 2006 & 2006-07\\\\\n",
       "\t Alan Anderson  & 2011 & 2011-12\\\\\n",
       "\t Alan Anderson  & 2012 & 2012-13\\\\\n",
       "\t Alan Anderson  & 2013 & 2013-14\\\\\n",
       "\t Alan Anderson  & 2014 & 2014-15\\\\\n",
       "\t Alan Anderson  & 2015 & 2015-16\\\\\n",
       "\t Alan Anderson  & 2016 & 2016-17\\\\\n",
       "\t Alan Anderson  & 2005 & 2005-06\\\\\n",
       "\t Alan Anderson  & 2006 & 2006-07\\\\\n",
       "\t Alan Anderson  & 2011 & 2011-12\\\\\n",
       "\\end{tabular}\n"
      ],
      "text/markdown": [
       "\n",
       "A data.table: 15 × 3\n",
       "\n",
       "| fullName &lt;chr&gt; | EntryYear &lt;dbl&gt; | Season &lt;chr&gt; |\n",
       "|---|---|---|\n",
       "| Aaron Harrison | 2015 | 2015-16 |\n",
       "| Aaron Harrison | 2016 | 2016-17 |\n",
       "| Aaron Harrison | 2017 | 2017-18 |\n",
       "| Adonis Thomas  | 2013 | 2013-14 |\n",
       "| Alan Anderson  | 2005 | 2005-06 |\n",
       "| Alan Anderson  | 2006 | 2006-07 |\n",
       "| Alan Anderson  | 2011 | 2011-12 |\n",
       "| Alan Anderson  | 2012 | 2012-13 |\n",
       "| Alan Anderson  | 2013 | 2013-14 |\n",
       "| Alan Anderson  | 2014 | 2014-15 |\n",
       "| Alan Anderson  | 2015 | 2015-16 |\n",
       "| Alan Anderson  | 2016 | 2016-17 |\n",
       "| Alan Anderson  | 2005 | 2005-06 |\n",
       "| Alan Anderson  | 2006 | 2006-07 |\n",
       "| Alan Anderson  | 2011 | 2011-12 |\n",
       "\n"
      ],
      "text/plain": [
       "   fullName       EntryYear Season \n",
       "1  Aaron Harrison 2015      2015-16\n",
       "2  Aaron Harrison 2016      2016-17\n",
       "3  Aaron Harrison 2017      2017-18\n",
       "4  Adonis Thomas  2013      2013-14\n",
       "5  Alan Anderson  2005      2005-06\n",
       "6  Alan Anderson  2006      2006-07\n",
       "7  Alan Anderson  2011      2011-12\n",
       "8  Alan Anderson  2012      2012-13\n",
       "9  Alan Anderson  2013      2013-14\n",
       "10 Alan Anderson  2014      2014-15\n",
       "11 Alan Anderson  2015      2015-16\n",
       "12 Alan Anderson  2016      2016-17\n",
       "13 Alan Anderson  2005      2005-06\n",
       "14 Alan Anderson  2006      2006-07\n",
       "15 Alan Anderson  2011      2011-12"
      ]
     },
     "metadata": {},
     "output_type": "display_data"
    }
   ],
   "source": [
    "undrafted[,EntryYear:=as.numeric(str_extract(Season, '\\\\d{3,}(?=-)'))]\n",
    "head(undrafted[, c('fullName', 'EntryYear', 'Season')], 15)"
   ]
  },
  {
   "cell_type": "code",
   "execution_count": 17,
   "id": "af57746f",
   "metadata": {
    "execution": {
     "iopub.execute_input": "2022-04-25T06:21:16.989740Z",
     "iopub.status.busy": "2022-04-25T06:21:16.988065Z",
     "iopub.status.idle": "2022-04-25T06:21:17.017068Z",
     "shell.execute_reply": "2022-04-25T06:21:17.015211Z"
    },
    "papermill": {
     "duration": 0.051024,
     "end_time": "2022-04-25T06:21:17.019443",
     "exception": false,
     "start_time": "2022-04-25T06:21:16.968419",
     "status": "completed"
    },
    "tags": []
   },
   "outputs": [
    {
     "data": {
      "text/html": [
       "<table class=\"dataframe\">\n",
       "<caption>A data.table: 6 × 5</caption>\n",
       "<thead>\n",
       "\t<tr><th scope=col>fullName</th><th scope=col>height</th><th scope=col>weight</th><th scope=col>birthDate</th><th scope=col>EntryYear</th></tr>\n",
       "\t<tr><th scope=col>&lt;chr&gt;</th><th scope=col>&lt;int&gt;</th><th scope=col>&lt;int&gt;</th><th scope=col>&lt;date&gt;</th><th scope=col>&lt;dbl&gt;</th></tr>\n",
       "</thead>\n",
       "<tbody>\n",
       "\t<tr><td>Aaron Harrison</td><td>78</td><td>210</td><td>1994-10-28</td><td>2015</td></tr>\n",
       "\t<tr><td>Adonis Thomas </td><td>79</td><td>200</td><td>1993-03-25</td><td>2013</td></tr>\n",
       "\t<tr><td>Alan Anderson </td><td>78</td><td>220</td><td>1982-10-16</td><td>2005</td></tr>\n",
       "\t<tr><td>Alan Williams </td><td>80</td><td>265</td><td>1993-01-28</td><td>2015</td></tr>\n",
       "\t<tr><td>Alex Caruso   </td><td>76</td><td>186</td><td>1994-02-28</td><td>2017</td></tr>\n",
       "\t<tr><td>Alex Poythress</td><td>81</td><td>235</td><td>1993-09-06</td><td>2016</td></tr>\n",
       "</tbody>\n",
       "</table>\n"
      ],
      "text/latex": [
       "A data.table: 6 × 5\n",
       "\\begin{tabular}{lllll}\n",
       " fullName & height & weight & birthDate & EntryYear\\\\\n",
       " <chr> & <int> & <int> & <date> & <dbl>\\\\\n",
       "\\hline\n",
       "\t Aaron Harrison & 78 & 210 & 1994-10-28 & 2015\\\\\n",
       "\t Adonis Thomas  & 79 & 200 & 1993-03-25 & 2013\\\\\n",
       "\t Alan Anderson  & 78 & 220 & 1982-10-16 & 2005\\\\\n",
       "\t Alan Williams  & 80 & 265 & 1993-01-28 & 2015\\\\\n",
       "\t Alex Caruso    & 76 & 186 & 1994-02-28 & 2017\\\\\n",
       "\t Alex Poythress & 81 & 235 & 1993-09-06 & 2016\\\\\n",
       "\\end{tabular}\n"
      ],
      "text/markdown": [
       "\n",
       "A data.table: 6 × 5\n",
       "\n",
       "| fullName &lt;chr&gt; | height &lt;int&gt; | weight &lt;int&gt; | birthDate &lt;date&gt; | EntryYear &lt;dbl&gt; |\n",
       "|---|---|---|---|---|\n",
       "| Aaron Harrison | 78 | 210 | 1994-10-28 | 2015 |\n",
       "| Adonis Thomas  | 79 | 200 | 1993-03-25 | 2013 |\n",
       "| Alan Anderson  | 78 | 220 | 1982-10-16 | 2005 |\n",
       "| Alan Williams  | 80 | 265 | 1993-01-28 | 2015 |\n",
       "| Alex Caruso    | 76 | 186 | 1994-02-28 | 2017 |\n",
       "| Alex Poythress | 81 | 235 | 1993-09-06 | 2016 |\n",
       "\n"
      ],
      "text/plain": [
       "  fullName       height weight birthDate  EntryYear\n",
       "1 Aaron Harrison 78     210    1994-10-28 2015     \n",
       "2 Adonis Thomas  79     200    1993-03-25 2013     \n",
       "3 Alan Anderson  78     220    1982-10-16 2005     \n",
       "4 Alan Williams  80     265    1993-01-28 2015     \n",
       "5 Alex Caruso    76     186    1994-02-28 2017     \n",
       "6 Alex Poythress 81     235    1993-09-06 2016     "
      ]
     },
     "metadata": {},
     "output_type": "display_data"
    }
   ],
   "source": [
    "# find the minimum entry year and this is the year they entered the league\n",
    "undrafted = undrafted[,.(EntryYear = min(EntryYear)),\n",
    "                      by=.(fullName, height, weight, birthDate)]\n",
    "head(undrafted)"
   ]
  },
  {
   "cell_type": "markdown",
   "id": "fe73fff9",
   "metadata": {
    "papermill": {
     "duration": 0.018417,
     "end_time": "2022-04-25T06:21:17.055816",
     "exception": false,
     "start_time": "2022-04-25T06:21:17.037399",
     "status": "completed"
    },
    "tags": []
   },
   "source": [
    "join the undrafted players back to the contracts dataset. Then for those who were undrafted assign draftyear to entryyear"
   ]
  },
  {
   "cell_type": "code",
   "execution_count": 18,
   "id": "955ec2c2",
   "metadata": {
    "execution": {
     "iopub.execute_input": "2022-04-25T06:21:17.095573Z",
     "iopub.status.busy": "2022-04-25T06:21:17.093889Z",
     "iopub.status.idle": "2022-04-25T06:21:17.131260Z",
     "shell.execute_reply": "2022-04-25T06:21:17.129374Z"
    },
    "papermill": {
     "duration": 0.05973,
     "end_time": "2022-04-25T06:21:17.133621",
     "exception": false,
     "start_time": "2022-04-25T06:21:17.073891",
     "status": "completed"
    },
    "tags": []
   },
   "outputs": [
    {
     "data": {
      "text/plain": [
       "   Min. 1st Qu.  Median    Mean 3rd Qu.    Max. \n",
       "   1995    2008    2012    2011    2015    2020 "
      ]
     },
     "metadata": {},
     "output_type": "display_data"
    }
   ],
   "source": [
    "contracts = merge.data.table(x=contracts, y=undrafted, \n",
    "                            all.x=TRUE, by=c('fullName', 'height', 'weight', 'birthDate'))\n",
    "contracts[undrafted==TRUE, draftYear:=EntryYear]\n",
    "contracts$EntryYear = NULL\n",
    "summary(contracts$draftYear)"
   ]
  },
  {
   "cell_type": "markdown",
   "id": "a125ebe0",
   "metadata": {
    "papermill": {
     "duration": 0.018863,
     "end_time": "2022-04-25T06:21:17.171474",
     "exception": false,
     "start_time": "2022-04-25T06:21:17.152611",
     "status": "completed"
    },
    "tags": []
   },
   "source": [
    "Create a flag indicating if a player has signed multiple contracts within the same signSeason or season. The flag will indicate if it was an earlier contract. Meaning that if the flag is 0 then the contract is the latest contract signed during that signed season and 1 indicates that it is an older contract for that sign season"
   ]
  },
  {
   "cell_type": "code",
   "execution_count": 19,
   "id": "9e860917",
   "metadata": {
    "execution": {
     "iopub.execute_input": "2022-04-25T06:21:17.211515Z",
     "iopub.status.busy": "2022-04-25T06:21:17.209927Z",
     "iopub.status.idle": "2022-04-25T06:21:17.263593Z",
     "shell.execute_reply": "2022-04-25T06:21:17.261737Z"
    },
    "papermill": {
     "duration": 0.076681,
     "end_time": "2022-04-25T06:21:17.266548",
     "exception": false,
     "start_time": "2022-04-25T06:21:17.189867",
     "status": "completed"
    },
    "tags": []
   },
   "outputs": [
    {
     "data": {
      "text/html": [
       "<table class=\"dataframe\">\n",
       "<caption>A data.table: 6 × 153</caption>\n",
       "<thead>\n",
       "\t<tr><th scope=col>fullName</th><th scope=col>height</th><th scope=col>weight</th><th scope=col>birthDate</th><th scope=col>term</th><th scope=col>signAge</th><th scope=col>contractLength</th><th scope=col>totalValue</th><th scope=col>aav</th><th scope=col>signSeason</th><th scope=col>⋯</th><th scope=col>DBPM_prev2</th><th scope=col>BPM_prev2</th><th scope=col>VORP_prev2</th><th scope=col>draftRound</th><th scope=col>draftOverall</th><th scope=col>draftYear</th><th scope=col>undrafted</th><th scope=col>termFirstYear</th><th scope=col>termSecondYear</th><th scope=col>signYear</th></tr>\n",
       "\t<tr><th scope=col>&lt;chr&gt;</th><th scope=col>&lt;int&gt;</th><th scope=col>&lt;int&gt;</th><th scope=col>&lt;date&gt;</th><th scope=col>&lt;chr&gt;</th><th scope=col>&lt;dbl&gt;</th><th scope=col>&lt;int&gt;</th><th scope=col>&lt;dbl&gt;</th><th scope=col>&lt;dbl&gt;</th><th scope=col>&lt;chr&gt;</th><th scope=col>⋯</th><th scope=col>&lt;dbl&gt;</th><th scope=col>&lt;dbl&gt;</th><th scope=col>&lt;dbl&gt;</th><th scope=col>&lt;int&gt;</th><th scope=col>&lt;int&gt;</th><th scope=col>&lt;int&gt;</th><th scope=col>&lt;lgl&gt;</th><th scope=col>&lt;dbl&gt;</th><th scope=col>&lt;dbl&gt;</th><th scope=col>&lt;dbl&gt;</th></tr>\n",
       "</thead>\n",
       "<tbody>\n",
       "\t<tr><td>A.J. Price  </td><td>74</td><td>181</td><td>1986-10-07</td><td>2014-2014</td><td>28</td><td>1</td><td>1007087</td><td>1007087</td><td>2013-14</td><td>⋯</td><td>-0.5</td><td>-1.0</td><td> 0.1</td><td>2</td><td>52</td><td>2009</td><td>FALSE</td><td>2014</td><td>2014</td><td>2014</td></tr>\n",
       "\t<tr><td>A.J. Price  </td><td>74</td><td>181</td><td>1986-10-07</td><td>2014-2014</td><td>27</td><td>1</td><td>1063384</td><td>1063384</td><td>2013-14</td><td>⋯</td><td>-0.5</td><td>-1.0</td><td> 0.1</td><td>2</td><td>52</td><td>2009</td><td>FALSE</td><td>2014</td><td>2014</td><td>2014</td></tr>\n",
       "\t<tr><td>Aaron Brooks</td><td>72</td><td>161</td><td>1985-01-14</td><td>2017-2017</td><td>32</td><td>1</td><td>2116955</td><td>2116955</td><td>2016-17</td><td>⋯</td><td>-1.1</td><td>-0.8</td><td> 0.5</td><td>1</td><td>26</td><td>2007</td><td>FALSE</td><td>2017</td><td>2017</td><td>2017</td></tr>\n",
       "\t<tr><td>Aaron Brooks</td><td>72</td><td>161</td><td>1985-01-14</td><td>2016-2016</td><td>31</td><td>1</td><td>2700000</td><td>2700000</td><td>2015-16</td><td>⋯</td><td>-0.8</td><td>-1.0</td><td> 0.4</td><td>1</td><td>26</td><td>2007</td><td>FALSE</td><td>2016</td><td>2016</td><td>2016</td></tr>\n",
       "\t<tr><td>Aaron Brooks</td><td>72</td><td>161</td><td>1985-01-14</td><td>2015-2015</td><td>30</td><td>1</td><td>2250000</td><td>2250000</td><td>2014-15</td><td>⋯</td><td>-1.4</td><td>-2.2</td><td> 0.0</td><td>1</td><td>26</td><td>2007</td><td>FALSE</td><td>2015</td><td>2015</td><td>2015</td></tr>\n",
       "\t<tr><td>Aaron Brooks</td><td>72</td><td>161</td><td>1985-01-14</td><td>2014-2014</td><td>29</td><td>1</td><td>1145685</td><td>1145685</td><td>2013-14</td><td>⋯</td><td>-2.7</td><td>-3.0</td><td>-0.3</td><td>1</td><td>26</td><td>2007</td><td>FALSE</td><td>2014</td><td>2014</td><td>2014</td></tr>\n",
       "</tbody>\n",
       "</table>\n"
      ],
      "text/latex": [
       "A data.table: 6 × 153\n",
       "\\begin{tabular}{lllllllllllllllllllll}\n",
       " fullName & height & weight & birthDate & term & signAge & contractLength & totalValue & aav & signSeason & ⋯ & DBPM\\_prev2 & BPM\\_prev2 & VORP\\_prev2 & draftRound & draftOverall & draftYear & undrafted & termFirstYear & termSecondYear & signYear\\\\\n",
       " <chr> & <int> & <int> & <date> & <chr> & <dbl> & <int> & <dbl> & <dbl> & <chr> & ⋯ & <dbl> & <dbl> & <dbl> & <int> & <int> & <int> & <lgl> & <dbl> & <dbl> & <dbl>\\\\\n",
       "\\hline\n",
       "\t A.J. Price   & 74 & 181 & 1986-10-07 & 2014-2014 & 28 & 1 & 1007087 & 1007087 & 2013-14 & ⋯ & -0.5 & -1.0 &  0.1 & 2 & 52 & 2009 & FALSE & 2014 & 2014 & 2014\\\\\n",
       "\t A.J. Price   & 74 & 181 & 1986-10-07 & 2014-2014 & 27 & 1 & 1063384 & 1063384 & 2013-14 & ⋯ & -0.5 & -1.0 &  0.1 & 2 & 52 & 2009 & FALSE & 2014 & 2014 & 2014\\\\\n",
       "\t Aaron Brooks & 72 & 161 & 1985-01-14 & 2017-2017 & 32 & 1 & 2116955 & 2116955 & 2016-17 & ⋯ & -1.1 & -0.8 &  0.5 & 1 & 26 & 2007 & FALSE & 2017 & 2017 & 2017\\\\\n",
       "\t Aaron Brooks & 72 & 161 & 1985-01-14 & 2016-2016 & 31 & 1 & 2700000 & 2700000 & 2015-16 & ⋯ & -0.8 & -1.0 &  0.4 & 1 & 26 & 2007 & FALSE & 2016 & 2016 & 2016\\\\\n",
       "\t Aaron Brooks & 72 & 161 & 1985-01-14 & 2015-2015 & 30 & 1 & 2250000 & 2250000 & 2014-15 & ⋯ & -1.4 & -2.2 &  0.0 & 1 & 26 & 2007 & FALSE & 2015 & 2015 & 2015\\\\\n",
       "\t Aaron Brooks & 72 & 161 & 1985-01-14 & 2014-2014 & 29 & 1 & 1145685 & 1145685 & 2013-14 & ⋯ & -2.7 & -3.0 & -0.3 & 1 & 26 & 2007 & FALSE & 2014 & 2014 & 2014\\\\\n",
       "\\end{tabular}\n"
      ],
      "text/markdown": [
       "\n",
       "A data.table: 6 × 153\n",
       "\n",
       "| fullName &lt;chr&gt; | height &lt;int&gt; | weight &lt;int&gt; | birthDate &lt;date&gt; | term &lt;chr&gt; | signAge &lt;dbl&gt; | contractLength &lt;int&gt; | totalValue &lt;dbl&gt; | aav &lt;dbl&gt; | signSeason &lt;chr&gt; | ⋯ ⋯ | DBPM_prev2 &lt;dbl&gt; | BPM_prev2 &lt;dbl&gt; | VORP_prev2 &lt;dbl&gt; | draftRound &lt;int&gt; | draftOverall &lt;int&gt; | draftYear &lt;int&gt; | undrafted &lt;lgl&gt; | termFirstYear &lt;dbl&gt; | termSecondYear &lt;dbl&gt; | signYear &lt;dbl&gt; |\n",
       "|---|---|---|---|---|---|---|---|---|---|---|---|---|---|---|---|---|---|---|---|---|\n",
       "| A.J. Price   | 74 | 181 | 1986-10-07 | 2014-2014 | 28 | 1 | 1007087 | 1007087 | 2013-14 | ⋯ | -0.5 | -1.0 |  0.1 | 2 | 52 | 2009 | FALSE | 2014 | 2014 | 2014 |\n",
       "| A.J. Price   | 74 | 181 | 1986-10-07 | 2014-2014 | 27 | 1 | 1063384 | 1063384 | 2013-14 | ⋯ | -0.5 | -1.0 |  0.1 | 2 | 52 | 2009 | FALSE | 2014 | 2014 | 2014 |\n",
       "| Aaron Brooks | 72 | 161 | 1985-01-14 | 2017-2017 | 32 | 1 | 2116955 | 2116955 | 2016-17 | ⋯ | -1.1 | -0.8 |  0.5 | 1 | 26 | 2007 | FALSE | 2017 | 2017 | 2017 |\n",
       "| Aaron Brooks | 72 | 161 | 1985-01-14 | 2016-2016 | 31 | 1 | 2700000 | 2700000 | 2015-16 | ⋯ | -0.8 | -1.0 |  0.4 | 1 | 26 | 2007 | FALSE | 2016 | 2016 | 2016 |\n",
       "| Aaron Brooks | 72 | 161 | 1985-01-14 | 2015-2015 | 30 | 1 | 2250000 | 2250000 | 2014-15 | ⋯ | -1.4 | -2.2 |  0.0 | 1 | 26 | 2007 | FALSE | 2015 | 2015 | 2015 |\n",
       "| Aaron Brooks | 72 | 161 | 1985-01-14 | 2014-2014 | 29 | 1 | 1145685 | 1145685 | 2013-14 | ⋯ | -2.7 | -3.0 | -0.3 | 1 | 26 | 2007 | FALSE | 2014 | 2014 | 2014 |\n",
       "\n"
      ],
      "text/plain": [
       "  fullName     height weight birthDate  term      signAge contractLength\n",
       "1 A.J. Price   74     181    1986-10-07 2014-2014 28      1             \n",
       "2 A.J. Price   74     181    1986-10-07 2014-2014 27      1             \n",
       "3 Aaron Brooks 72     161    1985-01-14 2017-2017 32      1             \n",
       "4 Aaron Brooks 72     161    1985-01-14 2016-2016 31      1             \n",
       "5 Aaron Brooks 72     161    1985-01-14 2015-2015 30      1             \n",
       "6 Aaron Brooks 72     161    1985-01-14 2014-2014 29      1             \n",
       "  totalValue aav     signSeason ⋯ DBPM_prev2 BPM_prev2 VORP_prev2 draftRound\n",
       "1 1007087    1007087 2013-14    ⋯ -0.5       -1.0       0.1       2         \n",
       "2 1063384    1063384 2013-14    ⋯ -0.5       -1.0       0.1       2         \n",
       "3 2116955    2116955 2016-17    ⋯ -1.1       -0.8       0.5       1         \n",
       "4 2700000    2700000 2015-16    ⋯ -0.8       -1.0       0.4       1         \n",
       "5 2250000    2250000 2014-15    ⋯ -1.4       -2.2       0.0       1         \n",
       "6 1145685    1145685 2013-14    ⋯ -2.7       -3.0      -0.3       1         \n",
       "  draftOverall draftYear undrafted termFirstYear termSecondYear signYear\n",
       "1 52           2009      FALSE     2014          2014           2014    \n",
       "2 52           2009      FALSE     2014          2014           2014    \n",
       "3 26           2007      FALSE     2017          2017           2017    \n",
       "4 26           2007      FALSE     2016          2016           2016    \n",
       "5 26           2007      FALSE     2015          2015           2015    \n",
       "6 26           2007      FALSE     2014          2014           2014    "
      ]
     },
     "metadata": {},
     "output_type": "display_data"
    }
   ],
   "source": [
    "temp = contracts[order(fullName, birthDate, height, weight, -signSeason, -signAge, -contractLength, -aav)]\n",
    "head(temp)"
   ]
  },
  {
   "cell_type": "code",
   "execution_count": 20,
   "id": "b8df0913",
   "metadata": {
    "execution": {
     "iopub.execute_input": "2022-04-25T06:21:17.307250Z",
     "iopub.status.busy": "2022-04-25T06:21:17.305635Z",
     "iopub.status.idle": "2022-04-25T06:21:17.358681Z",
     "shell.execute_reply": "2022-04-25T06:21:17.356192Z"
    },
    "papermill": {
     "duration": 0.076016,
     "end_time": "2022-04-25T06:21:17.361154",
     "exception": false,
     "start_time": "2022-04-25T06:21:17.285138",
     "status": "completed"
    },
    "tags": []
   },
   "outputs": [
    {
     "data": {
      "text/html": [
       "<table class=\"dataframe\">\n",
       "<caption>A data.table: 6 × 154</caption>\n",
       "<thead>\n",
       "\t<tr><th scope=col>fullName</th><th scope=col>height</th><th scope=col>weight</th><th scope=col>birthDate</th><th scope=col>term</th><th scope=col>signAge</th><th scope=col>contractLength</th><th scope=col>totalValue</th><th scope=col>aav</th><th scope=col>signSeason</th><th scope=col>⋯</th><th scope=col>BPM_prev2</th><th scope=col>VORP_prev2</th><th scope=col>draftRound</th><th scope=col>draftOverall</th><th scope=col>draftYear</th><th scope=col>undrafted</th><th scope=col>termFirstYear</th><th scope=col>termSecondYear</th><th scope=col>signYear</th><th scope=col>latestContract</th></tr>\n",
       "\t<tr><th scope=col>&lt;chr&gt;</th><th scope=col>&lt;int&gt;</th><th scope=col>&lt;int&gt;</th><th scope=col>&lt;date&gt;</th><th scope=col>&lt;chr&gt;</th><th scope=col>&lt;dbl&gt;</th><th scope=col>&lt;int&gt;</th><th scope=col>&lt;dbl&gt;</th><th scope=col>&lt;dbl&gt;</th><th scope=col>&lt;chr&gt;</th><th scope=col>⋯</th><th scope=col>&lt;dbl&gt;</th><th scope=col>&lt;dbl&gt;</th><th scope=col>&lt;int&gt;</th><th scope=col>&lt;int&gt;</th><th scope=col>&lt;int&gt;</th><th scope=col>&lt;lgl&gt;</th><th scope=col>&lt;dbl&gt;</th><th scope=col>&lt;dbl&gt;</th><th scope=col>&lt;dbl&gt;</th><th scope=col>&lt;dbl&gt;</th></tr>\n",
       "</thead>\n",
       "<tbody>\n",
       "\t<tr><td>A.J. Price  </td><td>74</td><td>181</td><td>1986-10-07</td><td>2014-2014</td><td>28</td><td>1</td><td>1007087</td><td>1007087</td><td>2013-14</td><td>⋯</td><td>-1.0</td><td> 0.1</td><td>2</td><td>52</td><td>2009</td><td>FALSE</td><td>2014</td><td>2014</td><td>2014</td><td>0</td></tr>\n",
       "\t<tr><td>A.J. Price  </td><td>74</td><td>181</td><td>1986-10-07</td><td>2014-2014</td><td>27</td><td>1</td><td>1063384</td><td>1063384</td><td>2013-14</td><td>⋯</td><td>-1.0</td><td> 0.1</td><td>2</td><td>52</td><td>2009</td><td>FALSE</td><td>2014</td><td>2014</td><td>2014</td><td>1</td></tr>\n",
       "\t<tr><td>Aaron Brooks</td><td>72</td><td>161</td><td>1985-01-14</td><td>2017-2017</td><td>32</td><td>1</td><td>2116955</td><td>2116955</td><td>2016-17</td><td>⋯</td><td>-0.8</td><td> 0.5</td><td>1</td><td>26</td><td>2007</td><td>FALSE</td><td>2017</td><td>2017</td><td>2017</td><td>0</td></tr>\n",
       "\t<tr><td>Aaron Brooks</td><td>72</td><td>161</td><td>1985-01-14</td><td>2016-2016</td><td>31</td><td>1</td><td>2700000</td><td>2700000</td><td>2015-16</td><td>⋯</td><td>-1.0</td><td> 0.4</td><td>1</td><td>26</td><td>2007</td><td>FALSE</td><td>2016</td><td>2016</td><td>2016</td><td>0</td></tr>\n",
       "\t<tr><td>Aaron Brooks</td><td>72</td><td>161</td><td>1985-01-14</td><td>2015-2015</td><td>30</td><td>1</td><td>2250000</td><td>2250000</td><td>2014-15</td><td>⋯</td><td>-2.2</td><td> 0.0</td><td>1</td><td>26</td><td>2007</td><td>FALSE</td><td>2015</td><td>2015</td><td>2015</td><td>0</td></tr>\n",
       "\t<tr><td>Aaron Brooks</td><td>72</td><td>161</td><td>1985-01-14</td><td>2014-2014</td><td>29</td><td>1</td><td>1145685</td><td>1145685</td><td>2013-14</td><td>⋯</td><td>-3.0</td><td>-0.3</td><td>1</td><td>26</td><td>2007</td><td>FALSE</td><td>2014</td><td>2014</td><td>2014</td><td>0</td></tr>\n",
       "</tbody>\n",
       "</table>\n"
      ],
      "text/latex": [
       "A data.table: 6 × 154\n",
       "\\begin{tabular}{lllllllllllllllllllll}\n",
       " fullName & height & weight & birthDate & term & signAge & contractLength & totalValue & aav & signSeason & ⋯ & BPM\\_prev2 & VORP\\_prev2 & draftRound & draftOverall & draftYear & undrafted & termFirstYear & termSecondYear & signYear & latestContract\\\\\n",
       " <chr> & <int> & <int> & <date> & <chr> & <dbl> & <int> & <dbl> & <dbl> & <chr> & ⋯ & <dbl> & <dbl> & <int> & <int> & <int> & <lgl> & <dbl> & <dbl> & <dbl> & <dbl>\\\\\n",
       "\\hline\n",
       "\t A.J. Price   & 74 & 181 & 1986-10-07 & 2014-2014 & 28 & 1 & 1007087 & 1007087 & 2013-14 & ⋯ & -1.0 &  0.1 & 2 & 52 & 2009 & FALSE & 2014 & 2014 & 2014 & 0\\\\\n",
       "\t A.J. Price   & 74 & 181 & 1986-10-07 & 2014-2014 & 27 & 1 & 1063384 & 1063384 & 2013-14 & ⋯ & -1.0 &  0.1 & 2 & 52 & 2009 & FALSE & 2014 & 2014 & 2014 & 1\\\\\n",
       "\t Aaron Brooks & 72 & 161 & 1985-01-14 & 2017-2017 & 32 & 1 & 2116955 & 2116955 & 2016-17 & ⋯ & -0.8 &  0.5 & 1 & 26 & 2007 & FALSE & 2017 & 2017 & 2017 & 0\\\\\n",
       "\t Aaron Brooks & 72 & 161 & 1985-01-14 & 2016-2016 & 31 & 1 & 2700000 & 2700000 & 2015-16 & ⋯ & -1.0 &  0.4 & 1 & 26 & 2007 & FALSE & 2016 & 2016 & 2016 & 0\\\\\n",
       "\t Aaron Brooks & 72 & 161 & 1985-01-14 & 2015-2015 & 30 & 1 & 2250000 & 2250000 & 2014-15 & ⋯ & -2.2 &  0.0 & 1 & 26 & 2007 & FALSE & 2015 & 2015 & 2015 & 0\\\\\n",
       "\t Aaron Brooks & 72 & 161 & 1985-01-14 & 2014-2014 & 29 & 1 & 1145685 & 1145685 & 2013-14 & ⋯ & -3.0 & -0.3 & 1 & 26 & 2007 & FALSE & 2014 & 2014 & 2014 & 0\\\\\n",
       "\\end{tabular}\n"
      ],
      "text/markdown": [
       "\n",
       "A data.table: 6 × 154\n",
       "\n",
       "| fullName &lt;chr&gt; | height &lt;int&gt; | weight &lt;int&gt; | birthDate &lt;date&gt; | term &lt;chr&gt; | signAge &lt;dbl&gt; | contractLength &lt;int&gt; | totalValue &lt;dbl&gt; | aav &lt;dbl&gt; | signSeason &lt;chr&gt; | ⋯ ⋯ | BPM_prev2 &lt;dbl&gt; | VORP_prev2 &lt;dbl&gt; | draftRound &lt;int&gt; | draftOverall &lt;int&gt; | draftYear &lt;int&gt; | undrafted &lt;lgl&gt; | termFirstYear &lt;dbl&gt; | termSecondYear &lt;dbl&gt; | signYear &lt;dbl&gt; | latestContract &lt;dbl&gt; |\n",
       "|---|---|---|---|---|---|---|---|---|---|---|---|---|---|---|---|---|---|---|---|---|\n",
       "| A.J. Price   | 74 | 181 | 1986-10-07 | 2014-2014 | 28 | 1 | 1007087 | 1007087 | 2013-14 | ⋯ | -1.0 |  0.1 | 2 | 52 | 2009 | FALSE | 2014 | 2014 | 2014 | 0 |\n",
       "| A.J. Price   | 74 | 181 | 1986-10-07 | 2014-2014 | 27 | 1 | 1063384 | 1063384 | 2013-14 | ⋯ | -1.0 |  0.1 | 2 | 52 | 2009 | FALSE | 2014 | 2014 | 2014 | 1 |\n",
       "| Aaron Brooks | 72 | 161 | 1985-01-14 | 2017-2017 | 32 | 1 | 2116955 | 2116955 | 2016-17 | ⋯ | -0.8 |  0.5 | 1 | 26 | 2007 | FALSE | 2017 | 2017 | 2017 | 0 |\n",
       "| Aaron Brooks | 72 | 161 | 1985-01-14 | 2016-2016 | 31 | 1 | 2700000 | 2700000 | 2015-16 | ⋯ | -1.0 |  0.4 | 1 | 26 | 2007 | FALSE | 2016 | 2016 | 2016 | 0 |\n",
       "| Aaron Brooks | 72 | 161 | 1985-01-14 | 2015-2015 | 30 | 1 | 2250000 | 2250000 | 2014-15 | ⋯ | -2.2 |  0.0 | 1 | 26 | 2007 | FALSE | 2015 | 2015 | 2015 | 0 |\n",
       "| Aaron Brooks | 72 | 161 | 1985-01-14 | 2014-2014 | 29 | 1 | 1145685 | 1145685 | 2013-14 | ⋯ | -3.0 | -0.3 | 1 | 26 | 2007 | FALSE | 2014 | 2014 | 2014 | 0 |\n",
       "\n"
      ],
      "text/plain": [
       "  fullName     height weight birthDate  term      signAge contractLength\n",
       "1 A.J. Price   74     181    1986-10-07 2014-2014 28      1             \n",
       "2 A.J. Price   74     181    1986-10-07 2014-2014 27      1             \n",
       "3 Aaron Brooks 72     161    1985-01-14 2017-2017 32      1             \n",
       "4 Aaron Brooks 72     161    1985-01-14 2016-2016 31      1             \n",
       "5 Aaron Brooks 72     161    1985-01-14 2015-2015 30      1             \n",
       "6 Aaron Brooks 72     161    1985-01-14 2014-2014 29      1             \n",
       "  totalValue aav     signSeason ⋯ BPM_prev2 VORP_prev2 draftRound draftOverall\n",
       "1 1007087    1007087 2013-14    ⋯ -1.0       0.1       2          52          \n",
       "2 1063384    1063384 2013-14    ⋯ -1.0       0.1       2          52          \n",
       "3 2116955    2116955 2016-17    ⋯ -0.8       0.5       1          26          \n",
       "4 2700000    2700000 2015-16    ⋯ -1.0       0.4       1          26          \n",
       "5 2250000    2250000 2014-15    ⋯ -2.2       0.0       1          26          \n",
       "6 1145685    1145685 2013-14    ⋯ -3.0      -0.3       1          26          \n",
       "  draftYear undrafted termFirstYear termSecondYear signYear latestContract\n",
       "1 2009      FALSE     2014          2014           2014     0             \n",
       "2 2009      FALSE     2014          2014           2014     1             \n",
       "3 2007      FALSE     2017          2017           2017     0             \n",
       "4 2007      FALSE     2016          2016           2016     0             \n",
       "5 2007      FALSE     2015          2015           2015     0             \n",
       "6 2007      FALSE     2014          2014           2014     0             "
      ]
     },
     "metadata": {},
     "output_type": "display_data"
    }
   ],
   "source": [
    "temp[,latestContract:=ifelse(lag(signSeason)!=signSeason, 0,\n",
    "                            ifelse((lag(fullName)==lag(fullName))&(lag(birthDate)==birthDate),1,0))]\n",
    "temp[is.na(latestContract), latestContract:=0]\n",
    "head(temp)"
   ]
  },
  {
   "cell_type": "code",
   "execution_count": 21,
   "id": "c39d6667",
   "metadata": {
    "execution": {
     "iopub.execute_input": "2022-04-25T06:21:17.402320Z",
     "iopub.status.busy": "2022-04-25T06:21:17.400776Z",
     "iopub.status.idle": "2022-04-25T06:21:17.421039Z",
     "shell.execute_reply": "2022-04-25T06:21:17.419279Z"
    },
    "papermill": {
     "duration": 0.043279,
     "end_time": "2022-04-25T06:21:17.423429",
     "exception": false,
     "start_time": "2022-04-25T06:21:17.380150",
     "status": "completed"
    },
    "tags": []
   },
   "outputs": [],
   "source": [
    "contracts = temp"
   ]
  },
  {
   "cell_type": "markdown",
   "id": "9516ac95",
   "metadata": {
    "papermill": {
     "duration": 0.018863,
     "end_time": "2022-04-25T06:21:17.461117",
     "exception": false,
     "start_time": "2022-04-25T06:21:17.442254",
     "status": "completed"
    },
    "tags": []
   },
   "source": [
    "now that duplicate contracts have been identified, some columns like birthdate will be deleted, the aav and total value columns will be divided by 1,000,000 and 10,000,000, respectively, weighted average of the three years will be calculated for many of the statistics, and range of the three years for each statistic will be calculated. Finally, some calculations such as total games played, total games started, total minutes played and so on will be calculated as well "
   ]
  },
  {
   "cell_type": "code",
   "execution_count": 22,
   "id": "40da56d7",
   "metadata": {
    "execution": {
     "iopub.execute_input": "2022-04-25T06:21:17.502120Z",
     "iopub.status.busy": "2022-04-25T06:21:17.500580Z",
     "iopub.status.idle": "2022-04-25T06:21:17.521608Z",
     "shell.execute_reply": "2022-04-25T06:21:17.519165Z"
    },
    "papermill": {
     "duration": 0.044404,
     "end_time": "2022-04-25T06:21:17.524438",
     "exception": false,
     "start_time": "2022-04-25T06:21:17.480034",
     "status": "completed"
    },
    "tags": []
   },
   "outputs": [
    {
     "data": {
      "text/html": [
       "<style>\n",
       ".list-inline {list-style: none; margin:0; padding: 0}\n",
       ".list-inline>li {display: inline-block}\n",
       ".list-inline>li:not(:last-child)::after {content: \"\\00b7\"; padding: 0 .5ex}\n",
       "</style>\n",
       "<ol class=list-inline><li>'fullName'</li><li>'height'</li><li>'weight'</li><li>'birthDate'</li><li>'term'</li><li>'signAge'</li><li>'contractLength'</li><li>'totalValue'</li><li>'aav'</li><li>'signSeason'</li><li>'Tm'</li><li>'G'</li><li>'GS'</li><li>'MP'</li><li>'FG'</li><li>'FGA'</li><li>'FG%'</li><li>'3P'</li><li>'3PA'</li><li>'3P%'</li><li>'2P'</li><li>'2PA'</li><li>'2P%'</li><li>'eFG%'</li><li>'FT'</li><li>'FTA'</li><li>'FT%'</li><li>'ORB'</li><li>'DRB'</li><li>'TRB'</li><li>'AST'</li><li>'STL'</li><li>'BLK'</li><li>'TOV'</li><li>'PF'</li><li>'PTS'</li><li>'PER'</li><li>'TS%'</li><li>'3PAr'</li><li>'FTr'</li><li>'ORB%'</li><li>'DRB%'</li><li>'TRB%'</li><li>'AST%'</li><li>'STL%'</li><li>'BLK%'</li><li>'TOV%'</li><li>'USG%'</li><li>'OWS'</li><li>'DWS'</li><li>'WS'</li><li>'WS/48'</li><li>'OBPM'</li><li>'DBPM'</li><li>'BPM'</li><li>'VORP'</li><li>'G_prev1'</li><li>'GS_prev1'</li><li>'MP_prev1'</li><li>'FG_prev1'</li><li>'FGA_prev1'</li><li>'FG%_prev1'</li><li>'3P_prev1'</li><li>'3PA_prev1'</li><li>'3P%_prev1'</li><li>'2P_prev1'</li><li>'2PA_prev1'</li><li>'2P%_prev1'</li><li>'eFG%_prev1'</li><li>'FT_prev1'</li><li>'FTA_prev1'</li><li>'FT%_prev1'</li><li>'ORB_prev1'</li><li>'DRB_prev1'</li><li>'TRB_prev1'</li><li>'AST_prev1'</li><li>'STL_prev1'</li><li>'BLK_prev1'</li><li>'TOV_prev1'</li><li>'PF_prev1'</li><li>'PTS_prev1'</li><li>'PER_prev1'</li><li>'TS%_prev1'</li><li>'3PAr_prev1'</li><li>'FTr_prev1'</li><li>'ORB%_prev1'</li><li>'DRB%_prev1'</li><li>'TRB%_prev1'</li><li>'AST%_prev1'</li><li>'STL%_prev1'</li><li>'BLK%_prev1'</li><li>'TOV%_prev1'</li><li>'USG%_prev1'</li><li>'OWS_prev1'</li><li>'DWS_prev1'</li><li>'WS_prev1'</li><li>'WS/48_prev1'</li><li>'OBPM_prev1'</li><li>'DBPM_prev1'</li><li>'BPM_prev1'</li><li>'VORP_prev1'</li><li>'G_prev2'</li><li>'GS_prev2'</li><li>'MP_prev2'</li><li>'FG_prev2'</li><li>'FGA_prev2'</li><li>'FG%_prev2'</li><li>'3P_prev2'</li><li>'3PA_prev2'</li><li>'3P%_prev2'</li><li>'2P_prev2'</li><li>'2PA_prev2'</li><li>'2P%_prev2'</li><li>'eFG%_prev2'</li><li>'FT_prev2'</li><li>'FTA_prev2'</li><li>'FT%_prev2'</li><li>'ORB_prev2'</li><li>'DRB_prev2'</li><li>'TRB_prev2'</li><li>'AST_prev2'</li><li>'STL_prev2'</li><li>'BLK_prev2'</li><li>'TOV_prev2'</li><li>'PF_prev2'</li><li>'PTS_prev2'</li><li>'PER_prev2'</li><li>'TS%_prev2'</li><li>'3PAr_prev2'</li><li>'FTr_prev2'</li><li>'ORB%_prev2'</li><li>'DRB%_prev2'</li><li>'TRB%_prev2'</li><li>'AST%_prev2'</li><li>'STL%_prev2'</li><li>'BLK%_prev2'</li><li>'TOV%_prev2'</li><li>'USG%_prev2'</li><li>'OWS_prev2'</li><li>'DWS_prev2'</li><li>'WS_prev2'</li><li>'WS/48_prev2'</li><li>'OBPM_prev2'</li><li>'DBPM_prev2'</li><li>'BPM_prev2'</li><li>'VORP_prev2'</li><li>'draftRound'</li><li>'draftOverall'</li><li>'draftYear'</li><li>'undrafted'</li><li>'termFirstYear'</li><li>'termSecondYear'</li><li>'signYear'</li><li>'latestContract'</li></ol>\n"
      ],
      "text/latex": [
       "\\begin{enumerate*}\n",
       "\\item 'fullName'\n",
       "\\item 'height'\n",
       "\\item 'weight'\n",
       "\\item 'birthDate'\n",
       "\\item 'term'\n",
       "\\item 'signAge'\n",
       "\\item 'contractLength'\n",
       "\\item 'totalValue'\n",
       "\\item 'aav'\n",
       "\\item 'signSeason'\n",
       "\\item 'Tm'\n",
       "\\item 'G'\n",
       "\\item 'GS'\n",
       "\\item 'MP'\n",
       "\\item 'FG'\n",
       "\\item 'FGA'\n",
       "\\item 'FG\\%'\n",
       "\\item '3P'\n",
       "\\item '3PA'\n",
       "\\item '3P\\%'\n",
       "\\item '2P'\n",
       "\\item '2PA'\n",
       "\\item '2P\\%'\n",
       "\\item 'eFG\\%'\n",
       "\\item 'FT'\n",
       "\\item 'FTA'\n",
       "\\item 'FT\\%'\n",
       "\\item 'ORB'\n",
       "\\item 'DRB'\n",
       "\\item 'TRB'\n",
       "\\item 'AST'\n",
       "\\item 'STL'\n",
       "\\item 'BLK'\n",
       "\\item 'TOV'\n",
       "\\item 'PF'\n",
       "\\item 'PTS'\n",
       "\\item 'PER'\n",
       "\\item 'TS\\%'\n",
       "\\item '3PAr'\n",
       "\\item 'FTr'\n",
       "\\item 'ORB\\%'\n",
       "\\item 'DRB\\%'\n",
       "\\item 'TRB\\%'\n",
       "\\item 'AST\\%'\n",
       "\\item 'STL\\%'\n",
       "\\item 'BLK\\%'\n",
       "\\item 'TOV\\%'\n",
       "\\item 'USG\\%'\n",
       "\\item 'OWS'\n",
       "\\item 'DWS'\n",
       "\\item 'WS'\n",
       "\\item 'WS/48'\n",
       "\\item 'OBPM'\n",
       "\\item 'DBPM'\n",
       "\\item 'BPM'\n",
       "\\item 'VORP'\n",
       "\\item 'G\\_prev1'\n",
       "\\item 'GS\\_prev1'\n",
       "\\item 'MP\\_prev1'\n",
       "\\item 'FG\\_prev1'\n",
       "\\item 'FGA\\_prev1'\n",
       "\\item 'FG\\%\\_prev1'\n",
       "\\item '3P\\_prev1'\n",
       "\\item '3PA\\_prev1'\n",
       "\\item '3P\\%\\_prev1'\n",
       "\\item '2P\\_prev1'\n",
       "\\item '2PA\\_prev1'\n",
       "\\item '2P\\%\\_prev1'\n",
       "\\item 'eFG\\%\\_prev1'\n",
       "\\item 'FT\\_prev1'\n",
       "\\item 'FTA\\_prev1'\n",
       "\\item 'FT\\%\\_prev1'\n",
       "\\item 'ORB\\_prev1'\n",
       "\\item 'DRB\\_prev1'\n",
       "\\item 'TRB\\_prev1'\n",
       "\\item 'AST\\_prev1'\n",
       "\\item 'STL\\_prev1'\n",
       "\\item 'BLK\\_prev1'\n",
       "\\item 'TOV\\_prev1'\n",
       "\\item 'PF\\_prev1'\n",
       "\\item 'PTS\\_prev1'\n",
       "\\item 'PER\\_prev1'\n",
       "\\item 'TS\\%\\_prev1'\n",
       "\\item '3PAr\\_prev1'\n",
       "\\item 'FTr\\_prev1'\n",
       "\\item 'ORB\\%\\_prev1'\n",
       "\\item 'DRB\\%\\_prev1'\n",
       "\\item 'TRB\\%\\_prev1'\n",
       "\\item 'AST\\%\\_prev1'\n",
       "\\item 'STL\\%\\_prev1'\n",
       "\\item 'BLK\\%\\_prev1'\n",
       "\\item 'TOV\\%\\_prev1'\n",
       "\\item 'USG\\%\\_prev1'\n",
       "\\item 'OWS\\_prev1'\n",
       "\\item 'DWS\\_prev1'\n",
       "\\item 'WS\\_prev1'\n",
       "\\item 'WS/48\\_prev1'\n",
       "\\item 'OBPM\\_prev1'\n",
       "\\item 'DBPM\\_prev1'\n",
       "\\item 'BPM\\_prev1'\n",
       "\\item 'VORP\\_prev1'\n",
       "\\item 'G\\_prev2'\n",
       "\\item 'GS\\_prev2'\n",
       "\\item 'MP\\_prev2'\n",
       "\\item 'FG\\_prev2'\n",
       "\\item 'FGA\\_prev2'\n",
       "\\item 'FG\\%\\_prev2'\n",
       "\\item '3P\\_prev2'\n",
       "\\item '3PA\\_prev2'\n",
       "\\item '3P\\%\\_prev2'\n",
       "\\item '2P\\_prev2'\n",
       "\\item '2PA\\_prev2'\n",
       "\\item '2P\\%\\_prev2'\n",
       "\\item 'eFG\\%\\_prev2'\n",
       "\\item 'FT\\_prev2'\n",
       "\\item 'FTA\\_prev2'\n",
       "\\item 'FT\\%\\_prev2'\n",
       "\\item 'ORB\\_prev2'\n",
       "\\item 'DRB\\_prev2'\n",
       "\\item 'TRB\\_prev2'\n",
       "\\item 'AST\\_prev2'\n",
       "\\item 'STL\\_prev2'\n",
       "\\item 'BLK\\_prev2'\n",
       "\\item 'TOV\\_prev2'\n",
       "\\item 'PF\\_prev2'\n",
       "\\item 'PTS\\_prev2'\n",
       "\\item 'PER\\_prev2'\n",
       "\\item 'TS\\%\\_prev2'\n",
       "\\item '3PAr\\_prev2'\n",
       "\\item 'FTr\\_prev2'\n",
       "\\item 'ORB\\%\\_prev2'\n",
       "\\item 'DRB\\%\\_prev2'\n",
       "\\item 'TRB\\%\\_prev2'\n",
       "\\item 'AST\\%\\_prev2'\n",
       "\\item 'STL\\%\\_prev2'\n",
       "\\item 'BLK\\%\\_prev2'\n",
       "\\item 'TOV\\%\\_prev2'\n",
       "\\item 'USG\\%\\_prev2'\n",
       "\\item 'OWS\\_prev2'\n",
       "\\item 'DWS\\_prev2'\n",
       "\\item 'WS\\_prev2'\n",
       "\\item 'WS/48\\_prev2'\n",
       "\\item 'OBPM\\_prev2'\n",
       "\\item 'DBPM\\_prev2'\n",
       "\\item 'BPM\\_prev2'\n",
       "\\item 'VORP\\_prev2'\n",
       "\\item 'draftRound'\n",
       "\\item 'draftOverall'\n",
       "\\item 'draftYear'\n",
       "\\item 'undrafted'\n",
       "\\item 'termFirstYear'\n",
       "\\item 'termSecondYear'\n",
       "\\item 'signYear'\n",
       "\\item 'latestContract'\n",
       "\\end{enumerate*}\n"
      ],
      "text/markdown": [
       "1. 'fullName'\n",
       "2. 'height'\n",
       "3. 'weight'\n",
       "4. 'birthDate'\n",
       "5. 'term'\n",
       "6. 'signAge'\n",
       "7. 'contractLength'\n",
       "8. 'totalValue'\n",
       "9. 'aav'\n",
       "10. 'signSeason'\n",
       "11. 'Tm'\n",
       "12. 'G'\n",
       "13. 'GS'\n",
       "14. 'MP'\n",
       "15. 'FG'\n",
       "16. 'FGA'\n",
       "17. 'FG%'\n",
       "18. '3P'\n",
       "19. '3PA'\n",
       "20. '3P%'\n",
       "21. '2P'\n",
       "22. '2PA'\n",
       "23. '2P%'\n",
       "24. 'eFG%'\n",
       "25. 'FT'\n",
       "26. 'FTA'\n",
       "27. 'FT%'\n",
       "28. 'ORB'\n",
       "29. 'DRB'\n",
       "30. 'TRB'\n",
       "31. 'AST'\n",
       "32. 'STL'\n",
       "33. 'BLK'\n",
       "34. 'TOV'\n",
       "35. 'PF'\n",
       "36. 'PTS'\n",
       "37. 'PER'\n",
       "38. 'TS%'\n",
       "39. '3PAr'\n",
       "40. 'FTr'\n",
       "41. 'ORB%'\n",
       "42. 'DRB%'\n",
       "43. 'TRB%'\n",
       "44. 'AST%'\n",
       "45. 'STL%'\n",
       "46. 'BLK%'\n",
       "47. 'TOV%'\n",
       "48. 'USG%'\n",
       "49. 'OWS'\n",
       "50. 'DWS'\n",
       "51. 'WS'\n",
       "52. 'WS/48'\n",
       "53. 'OBPM'\n",
       "54. 'DBPM'\n",
       "55. 'BPM'\n",
       "56. 'VORP'\n",
       "57. 'G_prev1'\n",
       "58. 'GS_prev1'\n",
       "59. 'MP_prev1'\n",
       "60. 'FG_prev1'\n",
       "61. 'FGA_prev1'\n",
       "62. 'FG%_prev1'\n",
       "63. '3P_prev1'\n",
       "64. '3PA_prev1'\n",
       "65. '3P%_prev1'\n",
       "66. '2P_prev1'\n",
       "67. '2PA_prev1'\n",
       "68. '2P%_prev1'\n",
       "69. 'eFG%_prev1'\n",
       "70. 'FT_prev1'\n",
       "71. 'FTA_prev1'\n",
       "72. 'FT%_prev1'\n",
       "73. 'ORB_prev1'\n",
       "74. 'DRB_prev1'\n",
       "75. 'TRB_prev1'\n",
       "76. 'AST_prev1'\n",
       "77. 'STL_prev1'\n",
       "78. 'BLK_prev1'\n",
       "79. 'TOV_prev1'\n",
       "80. 'PF_prev1'\n",
       "81. 'PTS_prev1'\n",
       "82. 'PER_prev1'\n",
       "83. 'TS%_prev1'\n",
       "84. '3PAr_prev1'\n",
       "85. 'FTr_prev1'\n",
       "86. 'ORB%_prev1'\n",
       "87. 'DRB%_prev1'\n",
       "88. 'TRB%_prev1'\n",
       "89. 'AST%_prev1'\n",
       "90. 'STL%_prev1'\n",
       "91. 'BLK%_prev1'\n",
       "92. 'TOV%_prev1'\n",
       "93. 'USG%_prev1'\n",
       "94. 'OWS_prev1'\n",
       "95. 'DWS_prev1'\n",
       "96. 'WS_prev1'\n",
       "97. 'WS/48_prev1'\n",
       "98. 'OBPM_prev1'\n",
       "99. 'DBPM_prev1'\n",
       "100. 'BPM_prev1'\n",
       "101. 'VORP_prev1'\n",
       "102. 'G_prev2'\n",
       "103. 'GS_prev2'\n",
       "104. 'MP_prev2'\n",
       "105. 'FG_prev2'\n",
       "106. 'FGA_prev2'\n",
       "107. 'FG%_prev2'\n",
       "108. '3P_prev2'\n",
       "109. '3PA_prev2'\n",
       "110. '3P%_prev2'\n",
       "111. '2P_prev2'\n",
       "112. '2PA_prev2'\n",
       "113. '2P%_prev2'\n",
       "114. 'eFG%_prev2'\n",
       "115. 'FT_prev2'\n",
       "116. 'FTA_prev2'\n",
       "117. 'FT%_prev2'\n",
       "118. 'ORB_prev2'\n",
       "119. 'DRB_prev2'\n",
       "120. 'TRB_prev2'\n",
       "121. 'AST_prev2'\n",
       "122. 'STL_prev2'\n",
       "123. 'BLK_prev2'\n",
       "124. 'TOV_prev2'\n",
       "125. 'PF_prev2'\n",
       "126. 'PTS_prev2'\n",
       "127. 'PER_prev2'\n",
       "128. 'TS%_prev2'\n",
       "129. '3PAr_prev2'\n",
       "130. 'FTr_prev2'\n",
       "131. 'ORB%_prev2'\n",
       "132. 'DRB%_prev2'\n",
       "133. 'TRB%_prev2'\n",
       "134. 'AST%_prev2'\n",
       "135. 'STL%_prev2'\n",
       "136. 'BLK%_prev2'\n",
       "137. 'TOV%_prev2'\n",
       "138. 'USG%_prev2'\n",
       "139. 'OWS_prev2'\n",
       "140. 'DWS_prev2'\n",
       "141. 'WS_prev2'\n",
       "142. 'WS/48_prev2'\n",
       "143. 'OBPM_prev2'\n",
       "144. 'DBPM_prev2'\n",
       "145. 'BPM_prev2'\n",
       "146. 'VORP_prev2'\n",
       "147. 'draftRound'\n",
       "148. 'draftOverall'\n",
       "149. 'draftYear'\n",
       "150. 'undrafted'\n",
       "151. 'termFirstYear'\n",
       "152. 'termSecondYear'\n",
       "153. 'signYear'\n",
       "154. 'latestContract'\n",
       "\n",
       "\n"
      ],
      "text/plain": [
       "  [1] \"fullName\"       \"height\"         \"weight\"         \"birthDate\"     \n",
       "  [5] \"term\"           \"signAge\"        \"contractLength\" \"totalValue\"    \n",
       "  [9] \"aav\"            \"signSeason\"     \"Tm\"             \"G\"             \n",
       " [13] \"GS\"             \"MP\"             \"FG\"             \"FGA\"           \n",
       " [17] \"FG%\"            \"3P\"             \"3PA\"            \"3P%\"           \n",
       " [21] \"2P\"             \"2PA\"            \"2P%\"            \"eFG%\"          \n",
       " [25] \"FT\"             \"FTA\"            \"FT%\"            \"ORB\"           \n",
       " [29] \"DRB\"            \"TRB\"            \"AST\"            \"STL\"           \n",
       " [33] \"BLK\"            \"TOV\"            \"PF\"             \"PTS\"           \n",
       " [37] \"PER\"            \"TS%\"            \"3PAr\"           \"FTr\"           \n",
       " [41] \"ORB%\"           \"DRB%\"           \"TRB%\"           \"AST%\"          \n",
       " [45] \"STL%\"           \"BLK%\"           \"TOV%\"           \"USG%\"          \n",
       " [49] \"OWS\"            \"DWS\"            \"WS\"             \"WS/48\"         \n",
       " [53] \"OBPM\"           \"DBPM\"           \"BPM\"            \"VORP\"          \n",
       " [57] \"G_prev1\"        \"GS_prev1\"       \"MP_prev1\"       \"FG_prev1\"      \n",
       " [61] \"FGA_prev1\"      \"FG%_prev1\"      \"3P_prev1\"       \"3PA_prev1\"     \n",
       " [65] \"3P%_prev1\"      \"2P_prev1\"       \"2PA_prev1\"      \"2P%_prev1\"     \n",
       " [69] \"eFG%_prev1\"     \"FT_prev1\"       \"FTA_prev1\"      \"FT%_prev1\"     \n",
       " [73] \"ORB_prev1\"      \"DRB_prev1\"      \"TRB_prev1\"      \"AST_prev1\"     \n",
       " [77] \"STL_prev1\"      \"BLK_prev1\"      \"TOV_prev1\"      \"PF_prev1\"      \n",
       " [81] \"PTS_prev1\"      \"PER_prev1\"      \"TS%_prev1\"      \"3PAr_prev1\"    \n",
       " [85] \"FTr_prev1\"      \"ORB%_prev1\"     \"DRB%_prev1\"     \"TRB%_prev1\"    \n",
       " [89] \"AST%_prev1\"     \"STL%_prev1\"     \"BLK%_prev1\"     \"TOV%_prev1\"    \n",
       " [93] \"USG%_prev1\"     \"OWS_prev1\"      \"DWS_prev1\"      \"WS_prev1\"      \n",
       " [97] \"WS/48_prev1\"    \"OBPM_prev1\"     \"DBPM_prev1\"     \"BPM_prev1\"     \n",
       "[101] \"VORP_prev1\"     \"G_prev2\"        \"GS_prev2\"       \"MP_prev2\"      \n",
       "[105] \"FG_prev2\"       \"FGA_prev2\"      \"FG%_prev2\"      \"3P_prev2\"      \n",
       "[109] \"3PA_prev2\"      \"3P%_prev2\"      \"2P_prev2\"       \"2PA_prev2\"     \n",
       "[113] \"2P%_prev2\"      \"eFG%_prev2\"     \"FT_prev2\"       \"FTA_prev2\"     \n",
       "[117] \"FT%_prev2\"      \"ORB_prev2\"      \"DRB_prev2\"      \"TRB_prev2\"     \n",
       "[121] \"AST_prev2\"      \"STL_prev2\"      \"BLK_prev2\"      \"TOV_prev2\"     \n",
       "[125] \"PF_prev2\"       \"PTS_prev2\"      \"PER_prev2\"      \"TS%_prev2\"     \n",
       "[129] \"3PAr_prev2\"     \"FTr_prev2\"      \"ORB%_prev2\"     \"DRB%_prev2\"    \n",
       "[133] \"TRB%_prev2\"     \"AST%_prev2\"     \"STL%_prev2\"     \"BLK%_prev2\"    \n",
       "[137] \"TOV%_prev2\"     \"USG%_prev2\"     \"OWS_prev2\"      \"DWS_prev2\"     \n",
       "[141] \"WS_prev2\"       \"WS/48_prev2\"    \"OBPM_prev2\"     \"DBPM_prev2\"    \n",
       "[145] \"BPM_prev2\"      \"VORP_prev2\"     \"draftRound\"     \"draftOverall\"  \n",
       "[149] \"draftYear\"      \"undrafted\"      \"termFirstYear\"  \"termSecondYear\"\n",
       "[153] \"signYear\"       \"latestContract\""
      ]
     },
     "metadata": {},
     "output_type": "display_data"
    }
   ],
   "source": [
    "colnames(contracts)"
   ]
  },
  {
   "cell_type": "code",
   "execution_count": 23,
   "id": "63ccb520",
   "metadata": {
    "execution": {
     "iopub.execute_input": "2022-04-25T06:21:17.567233Z",
     "iopub.status.busy": "2022-04-25T06:21:17.565504Z",
     "iopub.status.idle": "2022-04-25T06:21:17.590309Z",
     "shell.execute_reply": "2022-04-25T06:21:17.588196Z"
    },
    "papermill": {
     "duration": 0.049827,
     "end_time": "2022-04-25T06:21:17.593493",
     "exception": false,
     "start_time": "2022-04-25T06:21:17.543666",
     "status": "completed"
    },
    "tags": []
   },
   "outputs": [],
   "source": [
    "# remove birthDate, contractLength (unnecessary since AAV accounts for it),\n",
    "# Tm (since sometimes there's TOT which doesn't indicate all the teams they played for),\n",
    "# and term since we already got that split\n",
    "contracts$birthDate=NULL\n",
    "contracts$contractLength=NULL\n",
    "contracts$Tm = NULL\n",
    "contracts$term = NULL"
   ]
  },
  {
   "cell_type": "code",
   "execution_count": 24,
   "id": "881b3291",
   "metadata": {
    "execution": {
     "iopub.execute_input": "2022-04-25T06:21:17.636285Z",
     "iopub.status.busy": "2022-04-25T06:21:17.634439Z",
     "iopub.status.idle": "2022-04-25T06:21:17.650883Z",
     "shell.execute_reply": "2022-04-25T06:21:17.648937Z"
    },
    "papermill": {
     "duration": 0.040979,
     "end_time": "2022-04-25T06:21:17.653838",
     "exception": false,
     "start_time": "2022-04-25T06:21:17.612859",
     "status": "completed"
    },
    "tags": []
   },
   "outputs": [],
   "source": [
    "contracts[,`:=`(aav = aav/1000000, totalValue = totalValue/10000000)]"
   ]
  },
  {
   "cell_type": "code",
   "execution_count": 25,
   "id": "12979fbf",
   "metadata": {
    "execution": {
     "iopub.execute_input": "2022-04-25T06:21:17.697711Z",
     "iopub.status.busy": "2022-04-25T06:21:17.695836Z",
     "iopub.status.idle": "2022-04-25T06:21:17.744822Z",
     "shell.execute_reply": "2022-04-25T06:21:17.742498Z"
    },
    "papermill": {
     "duration": 0.073821,
     "end_time": "2022-04-25T06:21:17.747543",
     "exception": false,
     "start_time": "2022-04-25T06:21:17.673722",
     "status": "completed"
    },
    "tags": []
   },
   "outputs": [
    {
     "data": {
      "text/html": [
       "<table class=\"dataframe\">\n",
       "<caption>A data.table: 6 × 153</caption>\n",
       "<thead>\n",
       "\t<tr><th scope=col>fullName</th><th scope=col>height</th><th scope=col>weight</th><th scope=col>signAge</th><th scope=col>totalValue</th><th scope=col>aav</th><th scope=col>signSeason</th><th scope=col>G</th><th scope=col>GS</th><th scope=col>MP</th><th scope=col>⋯</th><th scope=col>draftOverall</th><th scope=col>draftYear</th><th scope=col>undrafted</th><th scope=col>termFirstYear</th><th scope=col>termSecondYear</th><th scope=col>signYear</th><th scope=col>latestContract</th><th scope=col>totalGames</th><th scope=col>totalGamesStarted</th><th scope=col>totalMP</th></tr>\n",
       "\t<tr><th scope=col>&lt;chr&gt;</th><th scope=col>&lt;int&gt;</th><th scope=col>&lt;int&gt;</th><th scope=col>&lt;dbl&gt;</th><th scope=col>&lt;dbl&gt;</th><th scope=col>&lt;dbl&gt;</th><th scope=col>&lt;chr&gt;</th><th scope=col>&lt;int&gt;</th><th scope=col>&lt;int&gt;</th><th scope=col>&lt;dbl&gt;</th><th scope=col>⋯</th><th scope=col>&lt;int&gt;</th><th scope=col>&lt;int&gt;</th><th scope=col>&lt;lgl&gt;</th><th scope=col>&lt;dbl&gt;</th><th scope=col>&lt;dbl&gt;</th><th scope=col>&lt;dbl&gt;</th><th scope=col>&lt;dbl&gt;</th><th scope=col>&lt;dbl&gt;</th><th scope=col>&lt;dbl&gt;</th><th scope=col>&lt;dbl&gt;</th></tr>\n",
       "</thead>\n",
       "<tbody>\n",
       "\t<tr><td>A.J. Price  </td><td>74</td><td>181</td><td>28</td><td>0.1007087</td><td>1.007087</td><td>2013-14</td><td>28</td><td> 0</td><td> 3.5</td><td>⋯</td><td>52</td><td>2009</td><td>FALSE</td><td>2014</td><td>2014</td><td>2014</td><td>0</td><td>129</td><td>23</td><td>1942.4</td></tr>\n",
       "\t<tr><td>A.J. Price  </td><td>74</td><td>181</td><td>27</td><td>0.1063384</td><td>1.063384</td><td>2013-14</td><td>28</td><td> 0</td><td> 3.5</td><td>⋯</td><td>52</td><td>2009</td><td>FALSE</td><td>2014</td><td>2014</td><td>2014</td><td>1</td><td>129</td><td>23</td><td>1942.4</td></tr>\n",
       "\t<tr><td>Aaron Brooks</td><td>72</td><td>161</td><td>32</td><td>0.2116955</td><td>2.116955</td><td>2016-17</td><td>65</td><td> 0</td><td>13.8</td><td>⋯</td><td>26</td><td>2007</td><td>FALSE</td><td>2017</td><td>2017</td><td>2017</td><td>0</td><td>216</td><td>21</td><td>3893.9</td></tr>\n",
       "\t<tr><td>Aaron Brooks</td><td>72</td><td>161</td><td>31</td><td>0.2700000</td><td>2.700000</td><td>2015-16</td><td>69</td><td> 0</td><td>16.1</td><td>⋯</td><td>26</td><td>2007</td><td>FALSE</td><td>2016</td><td>2016</td><td>2016</td><td>0</td><td>223</td><td>33</td><td>4552.1</td></tr>\n",
       "\t<tr><td>Aaron Brooks</td><td>72</td><td>161</td><td>30</td><td>0.2250000</td><td>2.250000</td><td>2014-15</td><td>82</td><td>21</td><td>23.0</td><td>⋯</td><td>26</td><td>2007</td><td>FALSE</td><td>2015</td><td>2015</td><td>2015</td><td>0</td><td>207</td><td>53</td><td>4437.6</td></tr>\n",
       "\t<tr><td>Aaron Brooks</td><td>72</td><td>161</td><td>29</td><td>0.1145685</td><td>1.145685</td><td>2013-14</td><td>72</td><td>12</td><td>21.6</td><td>⋯</td><td>26</td><td>2007</td><td>FALSE</td><td>2014</td><td>2014</td><td>2014</td><td>0</td><td>184</td><td>44</td><td>3837.8</td></tr>\n",
       "</tbody>\n",
       "</table>\n"
      ],
      "text/latex": [
       "A data.table: 6 × 153\n",
       "\\begin{tabular}{lllllllllllllllllllll}\n",
       " fullName & height & weight & signAge & totalValue & aav & signSeason & G & GS & MP & ⋯ & draftOverall & draftYear & undrafted & termFirstYear & termSecondYear & signYear & latestContract & totalGames & totalGamesStarted & totalMP\\\\\n",
       " <chr> & <int> & <int> & <dbl> & <dbl> & <dbl> & <chr> & <int> & <int> & <dbl> & ⋯ & <int> & <int> & <lgl> & <dbl> & <dbl> & <dbl> & <dbl> & <dbl> & <dbl> & <dbl>\\\\\n",
       "\\hline\n",
       "\t A.J. Price   & 74 & 181 & 28 & 0.1007087 & 1.007087 & 2013-14 & 28 &  0 &  3.5 & ⋯ & 52 & 2009 & FALSE & 2014 & 2014 & 2014 & 0 & 129 & 23 & 1942.4\\\\\n",
       "\t A.J. Price   & 74 & 181 & 27 & 0.1063384 & 1.063384 & 2013-14 & 28 &  0 &  3.5 & ⋯ & 52 & 2009 & FALSE & 2014 & 2014 & 2014 & 1 & 129 & 23 & 1942.4\\\\\n",
       "\t Aaron Brooks & 72 & 161 & 32 & 0.2116955 & 2.116955 & 2016-17 & 65 &  0 & 13.8 & ⋯ & 26 & 2007 & FALSE & 2017 & 2017 & 2017 & 0 & 216 & 21 & 3893.9\\\\\n",
       "\t Aaron Brooks & 72 & 161 & 31 & 0.2700000 & 2.700000 & 2015-16 & 69 &  0 & 16.1 & ⋯ & 26 & 2007 & FALSE & 2016 & 2016 & 2016 & 0 & 223 & 33 & 4552.1\\\\\n",
       "\t Aaron Brooks & 72 & 161 & 30 & 0.2250000 & 2.250000 & 2014-15 & 82 & 21 & 23.0 & ⋯ & 26 & 2007 & FALSE & 2015 & 2015 & 2015 & 0 & 207 & 53 & 4437.6\\\\\n",
       "\t Aaron Brooks & 72 & 161 & 29 & 0.1145685 & 1.145685 & 2013-14 & 72 & 12 & 21.6 & ⋯ & 26 & 2007 & FALSE & 2014 & 2014 & 2014 & 0 & 184 & 44 & 3837.8\\\\\n",
       "\\end{tabular}\n"
      ],
      "text/markdown": [
       "\n",
       "A data.table: 6 × 153\n",
       "\n",
       "| fullName &lt;chr&gt; | height &lt;int&gt; | weight &lt;int&gt; | signAge &lt;dbl&gt; | totalValue &lt;dbl&gt; | aav &lt;dbl&gt; | signSeason &lt;chr&gt; | G &lt;int&gt; | GS &lt;int&gt; | MP &lt;dbl&gt; | ⋯ ⋯ | draftOverall &lt;int&gt; | draftYear &lt;int&gt; | undrafted &lt;lgl&gt; | termFirstYear &lt;dbl&gt; | termSecondYear &lt;dbl&gt; | signYear &lt;dbl&gt; | latestContract &lt;dbl&gt; | totalGames &lt;dbl&gt; | totalGamesStarted &lt;dbl&gt; | totalMP &lt;dbl&gt; |\n",
       "|---|---|---|---|---|---|---|---|---|---|---|---|---|---|---|---|---|---|---|---|---|\n",
       "| A.J. Price   | 74 | 181 | 28 | 0.1007087 | 1.007087 | 2013-14 | 28 |  0 |  3.5 | ⋯ | 52 | 2009 | FALSE | 2014 | 2014 | 2014 | 0 | 129 | 23 | 1942.4 |\n",
       "| A.J. Price   | 74 | 181 | 27 | 0.1063384 | 1.063384 | 2013-14 | 28 |  0 |  3.5 | ⋯ | 52 | 2009 | FALSE | 2014 | 2014 | 2014 | 1 | 129 | 23 | 1942.4 |\n",
       "| Aaron Brooks | 72 | 161 | 32 | 0.2116955 | 2.116955 | 2016-17 | 65 |  0 | 13.8 | ⋯ | 26 | 2007 | FALSE | 2017 | 2017 | 2017 | 0 | 216 | 21 | 3893.9 |\n",
       "| Aaron Brooks | 72 | 161 | 31 | 0.2700000 | 2.700000 | 2015-16 | 69 |  0 | 16.1 | ⋯ | 26 | 2007 | FALSE | 2016 | 2016 | 2016 | 0 | 223 | 33 | 4552.1 |\n",
       "| Aaron Brooks | 72 | 161 | 30 | 0.2250000 | 2.250000 | 2014-15 | 82 | 21 | 23.0 | ⋯ | 26 | 2007 | FALSE | 2015 | 2015 | 2015 | 0 | 207 | 53 | 4437.6 |\n",
       "| Aaron Brooks | 72 | 161 | 29 | 0.1145685 | 1.145685 | 2013-14 | 72 | 12 | 21.6 | ⋯ | 26 | 2007 | FALSE | 2014 | 2014 | 2014 | 0 | 184 | 44 | 3837.8 |\n",
       "\n"
      ],
      "text/plain": [
       "  fullName     height weight signAge totalValue aav      signSeason G  GS MP  \n",
       "1 A.J. Price   74     181    28      0.1007087  1.007087 2013-14    28  0  3.5\n",
       "2 A.J. Price   74     181    27      0.1063384  1.063384 2013-14    28  0  3.5\n",
       "3 Aaron Brooks 72     161    32      0.2116955  2.116955 2016-17    65  0 13.8\n",
       "4 Aaron Brooks 72     161    31      0.2700000  2.700000 2015-16    69  0 16.1\n",
       "5 Aaron Brooks 72     161    30      0.2250000  2.250000 2014-15    82 21 23.0\n",
       "6 Aaron Brooks 72     161    29      0.1145685  1.145685 2013-14    72 12 21.6\n",
       "  ⋯ draftOverall draftYear undrafted termFirstYear termSecondYear signYear\n",
       "1 ⋯ 52           2009      FALSE     2014          2014           2014    \n",
       "2 ⋯ 52           2009      FALSE     2014          2014           2014    \n",
       "3 ⋯ 26           2007      FALSE     2017          2017           2017    \n",
       "4 ⋯ 26           2007      FALSE     2016          2016           2016    \n",
       "5 ⋯ 26           2007      FALSE     2015          2015           2015    \n",
       "6 ⋯ 26           2007      FALSE     2014          2014           2014    \n",
       "  latestContract totalGames totalGamesStarted totalMP\n",
       "1 0              129        23                1942.4 \n",
       "2 1              129        23                1942.4 \n",
       "3 0              216        21                3893.9 \n",
       "4 0              223        33                4552.1 \n",
       "5 0              207        53                4437.6 \n",
       "6 0              184        44                3837.8 "
      ]
     },
     "metadata": {},
     "output_type": "display_data"
    }
   ],
   "source": [
    "contracts[,`:=`(totalGames=G+G_prev1+G_prev2,\n",
    "               totalGamesStarted=GS+GS_prev1+GS_prev2,\n",
    "               totalMP = G*MP+G_prev1*MP_prev1+G_prev2*MP_prev2)]\n",
    "head(contracts)"
   ]
  },
  {
   "cell_type": "code",
   "execution_count": 26,
   "id": "19c2041d",
   "metadata": {
    "execution": {
     "iopub.execute_input": "2022-04-25T06:21:17.791811Z",
     "iopub.status.busy": "2022-04-25T06:21:17.789936Z",
     "iopub.status.idle": "2022-04-25T06:21:17.824477Z",
     "shell.execute_reply": "2022-04-25T06:21:17.822050Z"
    },
    "papermill": {
     "duration": 0.05935,
     "end_time": "2022-04-25T06:21:17.827341",
     "exception": false,
     "start_time": "2022-04-25T06:21:17.767991",
     "status": "completed"
    },
    "tags": []
   },
   "outputs": [
    {
     "data": {
      "text/html": [
       "<style>\n",
       ".list-inline {list-style: none; margin:0; padding: 0}\n",
       ".list-inline>li {display: inline-block}\n",
       ".list-inline>li:not(:last-child)::after {content: \"\\00b7\"; padding: 0 .5ex}\n",
       "</style>\n",
       "<ol class=list-inline><li>'FG_prev1'</li><li>'FGA_prev1'</li><li>'FG%_prev1'</li><li>'3P_prev1'</li><li>'3PA_prev1'</li><li>'3P%_prev1'</li><li>'2P_prev1'</li><li>'2PA_prev1'</li><li>'2P%_prev1'</li><li>'eFG%_prev1'</li><li>'FT_prev1'</li><li>'FTA_prev1'</li><li>'FT%_prev1'</li><li>'ORB_prev1'</li><li>'DRB_prev1'</li><li>'TRB_prev1'</li><li>'AST_prev1'</li><li>'STL_prev1'</li><li>'BLK_prev1'</li><li>'TOV_prev1'</li><li>'PF_prev1'</li><li>'PTS_prev1'</li><li>'PER_prev1'</li><li>'TS%_prev1'</li><li>'3PAr_prev1'</li><li>'FTr_prev1'</li><li>'ORB%_prev1'</li><li>'DRB%_prev1'</li><li>'TRB%_prev1'</li><li>'AST%_prev1'</li><li>'STL%_prev1'</li><li>'BLK%_prev1'</li><li>'TOV%_prev1'</li><li>'USG%_prev1'</li><li>'OWS_prev1'</li><li>'DWS_prev1'</li><li>'WS_prev1'</li><li>'WS/48_prev1'</li><li>'OBPM_prev1'</li><li>'DBPM_prev1'</li><li>'BPM_prev1'</li><li>'VORP_prev1'</li><li>'MP_prev1'</li></ol>\n"
      ],
      "text/latex": [
       "\\begin{enumerate*}\n",
       "\\item 'FG\\_prev1'\n",
       "\\item 'FGA\\_prev1'\n",
       "\\item 'FG\\%\\_prev1'\n",
       "\\item '3P\\_prev1'\n",
       "\\item '3PA\\_prev1'\n",
       "\\item '3P\\%\\_prev1'\n",
       "\\item '2P\\_prev1'\n",
       "\\item '2PA\\_prev1'\n",
       "\\item '2P\\%\\_prev1'\n",
       "\\item 'eFG\\%\\_prev1'\n",
       "\\item 'FT\\_prev1'\n",
       "\\item 'FTA\\_prev1'\n",
       "\\item 'FT\\%\\_prev1'\n",
       "\\item 'ORB\\_prev1'\n",
       "\\item 'DRB\\_prev1'\n",
       "\\item 'TRB\\_prev1'\n",
       "\\item 'AST\\_prev1'\n",
       "\\item 'STL\\_prev1'\n",
       "\\item 'BLK\\_prev1'\n",
       "\\item 'TOV\\_prev1'\n",
       "\\item 'PF\\_prev1'\n",
       "\\item 'PTS\\_prev1'\n",
       "\\item 'PER\\_prev1'\n",
       "\\item 'TS\\%\\_prev1'\n",
       "\\item '3PAr\\_prev1'\n",
       "\\item 'FTr\\_prev1'\n",
       "\\item 'ORB\\%\\_prev1'\n",
       "\\item 'DRB\\%\\_prev1'\n",
       "\\item 'TRB\\%\\_prev1'\n",
       "\\item 'AST\\%\\_prev1'\n",
       "\\item 'STL\\%\\_prev1'\n",
       "\\item 'BLK\\%\\_prev1'\n",
       "\\item 'TOV\\%\\_prev1'\n",
       "\\item 'USG\\%\\_prev1'\n",
       "\\item 'OWS\\_prev1'\n",
       "\\item 'DWS\\_prev1'\n",
       "\\item 'WS\\_prev1'\n",
       "\\item 'WS/48\\_prev1'\n",
       "\\item 'OBPM\\_prev1'\n",
       "\\item 'DBPM\\_prev1'\n",
       "\\item 'BPM\\_prev1'\n",
       "\\item 'VORP\\_prev1'\n",
       "\\item 'MP\\_prev1'\n",
       "\\end{enumerate*}\n"
      ],
      "text/markdown": [
       "1. 'FG_prev1'\n",
       "2. 'FGA_prev1'\n",
       "3. 'FG%_prev1'\n",
       "4. '3P_prev1'\n",
       "5. '3PA_prev1'\n",
       "6. '3P%_prev1'\n",
       "7. '2P_prev1'\n",
       "8. '2PA_prev1'\n",
       "9. '2P%_prev1'\n",
       "10. 'eFG%_prev1'\n",
       "11. 'FT_prev1'\n",
       "12. 'FTA_prev1'\n",
       "13. 'FT%_prev1'\n",
       "14. 'ORB_prev1'\n",
       "15. 'DRB_prev1'\n",
       "16. 'TRB_prev1'\n",
       "17. 'AST_prev1'\n",
       "18. 'STL_prev1'\n",
       "19. 'BLK_prev1'\n",
       "20. 'TOV_prev1'\n",
       "21. 'PF_prev1'\n",
       "22. 'PTS_prev1'\n",
       "23. 'PER_prev1'\n",
       "24. 'TS%_prev1'\n",
       "25. '3PAr_prev1'\n",
       "26. 'FTr_prev1'\n",
       "27. 'ORB%_prev1'\n",
       "28. 'DRB%_prev1'\n",
       "29. 'TRB%_prev1'\n",
       "30. 'AST%_prev1'\n",
       "31. 'STL%_prev1'\n",
       "32. 'BLK%_prev1'\n",
       "33. 'TOV%_prev1'\n",
       "34. 'USG%_prev1'\n",
       "35. 'OWS_prev1'\n",
       "36. 'DWS_prev1'\n",
       "37. 'WS_prev1'\n",
       "38. 'WS/48_prev1'\n",
       "39. 'OBPM_prev1'\n",
       "40. 'DBPM_prev1'\n",
       "41. 'BPM_prev1'\n",
       "42. 'VORP_prev1'\n",
       "43. 'MP_prev1'\n",
       "\n",
       "\n"
      ],
      "text/plain": [
       " [1] \"FG_prev1\"    \"FGA_prev1\"   \"FG%_prev1\"   \"3P_prev1\"    \"3PA_prev1\"  \n",
       " [6] \"3P%_prev1\"   \"2P_prev1\"    \"2PA_prev1\"   \"2P%_prev1\"   \"eFG%_prev1\" \n",
       "[11] \"FT_prev1\"    \"FTA_prev1\"   \"FT%_prev1\"   \"ORB_prev1\"   \"DRB_prev1\"  \n",
       "[16] \"TRB_prev1\"   \"AST_prev1\"   \"STL_prev1\"   \"BLK_prev1\"   \"TOV_prev1\"  \n",
       "[21] \"PF_prev1\"    \"PTS_prev1\"   \"PER_prev1\"   \"TS%_prev1\"   \"3PAr_prev1\" \n",
       "[26] \"FTr_prev1\"   \"ORB%_prev1\"  \"DRB%_prev1\"  \"TRB%_prev1\"  \"AST%_prev1\" \n",
       "[31] \"STL%_prev1\"  \"BLK%_prev1\"  \"TOV%_prev1\"  \"USG%_prev1\"  \"OWS_prev1\"  \n",
       "[36] \"DWS_prev1\"   \"WS_prev1\"    \"WS/48_prev1\" \"OBPM_prev1\"  \"DBPM_prev1\" \n",
       "[41] \"BPM_prev1\"   \"VORP_prev1\"  \"MP_prev1\"   "
      ]
     },
     "metadata": {},
     "output_type": "display_data"
    }
   ],
   "source": [
    "\n",
    "# create three arrays containing stat columns for previous year, second previous year,\n",
    "# and the third previous year\n",
    "stats = c('FG','FGA','FG%','3P','3PA','3P%','2P','2PA','2P%','eFG%','FT','FTA','FT%',\n",
    "          'ORB','DRB','TRB','AST','STL','BLK','TOV','PF','PTS','PER','TS%','3PAr',\n",
    "          'FTr','ORB%','DRB%','TRB%','AST%','STL%','BLK%','TOV%','USG%','OWS','DWS',\n",
    "          'WS','WS/48','OBPM','DBPM','BPM','VORP', 'MP')\n",
    "prev_stats1 = c()\n",
    "prev_stats2 = c()\n",
    "for(i in stats){\n",
    "    prev_stats1 = c(prev_stats1, str_c(i, '_prev1',sep=''))\n",
    "    prev_stats2 = c(prev_stats2, str_c(i, '_prev2', sep=''))\n",
    "}\n",
    "prev_stats1"
   ]
  },
  {
   "cell_type": "code",
   "execution_count": 27,
   "id": "dadd9d26",
   "metadata": {
    "execution": {
     "iopub.execute_input": "2022-04-25T06:21:17.871844Z",
     "iopub.status.busy": "2022-04-25T06:21:17.869793Z",
     "iopub.status.idle": "2022-04-25T06:21:17.927780Z",
     "shell.execute_reply": "2022-04-25T06:21:17.925328Z"
    },
    "papermill": {
     "duration": 0.082661,
     "end_time": "2022-04-25T06:21:17.930635",
     "exception": false,
     "start_time": "2022-04-25T06:21:17.847974",
     "status": "completed"
    },
    "tags": []
   },
   "outputs": [
    {
     "data": {
      "text/html": [
       "<table class=\"dataframe\">\n",
       "<caption>A data.table: 6 × 154</caption>\n",
       "<thead>\n",
       "\t<tr><th scope=col>fullName</th><th scope=col>height</th><th scope=col>weight</th><th scope=col>signAge</th><th scope=col>totalValue</th><th scope=col>aav</th><th scope=col>signSeason</th><th scope=col>G</th><th scope=col>GS</th><th scope=col>MP</th><th scope=col>⋯</th><th scope=col>draftYear</th><th scope=col>undrafted</th><th scope=col>termFirstYear</th><th scope=col>termSecondYear</th><th scope=col>signYear</th><th scope=col>latestContract</th><th scope=col>totalGames</th><th scope=col>totalGamesStarted</th><th scope=col>totalMP</th><th scope=col>WAFG</th></tr>\n",
       "\t<tr><th scope=col>&lt;chr&gt;</th><th scope=col>&lt;int&gt;</th><th scope=col>&lt;int&gt;</th><th scope=col>&lt;dbl&gt;</th><th scope=col>&lt;dbl&gt;</th><th scope=col>&lt;dbl&gt;</th><th scope=col>&lt;chr&gt;</th><th scope=col>&lt;int&gt;</th><th scope=col>&lt;int&gt;</th><th scope=col>&lt;dbl&gt;</th><th scope=col>⋯</th><th scope=col>&lt;int&gt;</th><th scope=col>&lt;lgl&gt;</th><th scope=col>&lt;dbl&gt;</th><th scope=col>&lt;dbl&gt;</th><th scope=col>&lt;dbl&gt;</th><th scope=col>&lt;dbl&gt;</th><th scope=col>&lt;dbl&gt;</th><th scope=col>&lt;dbl&gt;</th><th scope=col>&lt;dbl&gt;</th><th scope=col>&lt;dbl&gt;</th></tr>\n",
       "</thead>\n",
       "<tbody>\n",
       "\t<tr><td>A.J. Price  </td><td>74</td><td>181</td><td>28</td><td>0.1007087</td><td>1.007087</td><td>2013-14</td><td>28</td><td> 0</td><td> 3.5</td><td>⋯</td><td>2009</td><td>FALSE</td><td>2014</td><td>2014</td><td>2014</td><td>0</td><td>129</td><td>23</td><td>1942.4</td><td>1.832558</td></tr>\n",
       "\t<tr><td>A.J. Price  </td><td>74</td><td>181</td><td>27</td><td>0.1063384</td><td>1.063384</td><td>2013-14</td><td>28</td><td> 0</td><td> 3.5</td><td>⋯</td><td>2009</td><td>FALSE</td><td>2014</td><td>2014</td><td>2014</td><td>1</td><td>129</td><td>23</td><td>1942.4</td><td>1.832558</td></tr>\n",
       "\t<tr><td>Aaron Brooks</td><td>72</td><td>161</td><td>32</td><td>0.2116955</td><td>2.116955</td><td>2016-17</td><td>65</td><td> 0</td><td>13.8</td><td>⋯</td><td>2007</td><td>FALSE</td><td>2017</td><td>2017</td><td>2017</td><td>0</td><td>216</td><td>21</td><td>3893.9</td><td>3.028704</td></tr>\n",
       "\t<tr><td>Aaron Brooks</td><td>72</td><td>161</td><td>31</td><td>0.2700000</td><td>2.700000</td><td>2015-16</td><td>69</td><td> 0</td><td>16.1</td><td>⋯</td><td>2007</td><td>FALSE</td><td>2016</td><td>2016</td><td>2016</td><td>0</td><td>223</td><td>33</td><td>4552.1</td><td>3.413004</td></tr>\n",
       "\t<tr><td>Aaron Brooks</td><td>72</td><td>161</td><td>30</td><td>0.2250000</td><td>2.250000</td><td>2014-15</td><td>82</td><td>21</td><td>23.0</td><td>⋯</td><td>2007</td><td>FALSE</td><td>2015</td><td>2015</td><td>2015</td><td>0</td><td>207</td><td>53</td><td>4437.6</td><td>3.468116</td></tr>\n",
       "\t<tr><td>Aaron Brooks</td><td>72</td><td>161</td><td>29</td><td>0.1145685</td><td>1.145685</td><td>2013-14</td><td>72</td><td>12</td><td>21.6</td><td>⋯</td><td>2007</td><td>FALSE</td><td>2014</td><td>2014</td><td>2014</td><td>0</td><td>184</td><td>44</td><td>3837.8</td><td>3.216304</td></tr>\n",
       "</tbody>\n",
       "</table>\n"
      ],
      "text/latex": [
       "A data.table: 6 × 154\n",
       "\\begin{tabular}{lllllllllllllllllllll}\n",
       " fullName & height & weight & signAge & totalValue & aav & signSeason & G & GS & MP & ⋯ & draftYear & undrafted & termFirstYear & termSecondYear & signYear & latestContract & totalGames & totalGamesStarted & totalMP & WAFG\\\\\n",
       " <chr> & <int> & <int> & <dbl> & <dbl> & <dbl> & <chr> & <int> & <int> & <dbl> & ⋯ & <int> & <lgl> & <dbl> & <dbl> & <dbl> & <dbl> & <dbl> & <dbl> & <dbl> & <dbl>\\\\\n",
       "\\hline\n",
       "\t A.J. Price   & 74 & 181 & 28 & 0.1007087 & 1.007087 & 2013-14 & 28 &  0 &  3.5 & ⋯ & 2009 & FALSE & 2014 & 2014 & 2014 & 0 & 129 & 23 & 1942.4 & 1.832558\\\\\n",
       "\t A.J. Price   & 74 & 181 & 27 & 0.1063384 & 1.063384 & 2013-14 & 28 &  0 &  3.5 & ⋯ & 2009 & FALSE & 2014 & 2014 & 2014 & 1 & 129 & 23 & 1942.4 & 1.832558\\\\\n",
       "\t Aaron Brooks & 72 & 161 & 32 & 0.2116955 & 2.116955 & 2016-17 & 65 &  0 & 13.8 & ⋯ & 2007 & FALSE & 2017 & 2017 & 2017 & 0 & 216 & 21 & 3893.9 & 3.028704\\\\\n",
       "\t Aaron Brooks & 72 & 161 & 31 & 0.2700000 & 2.700000 & 2015-16 & 69 &  0 & 16.1 & ⋯ & 2007 & FALSE & 2016 & 2016 & 2016 & 0 & 223 & 33 & 4552.1 & 3.413004\\\\\n",
       "\t Aaron Brooks & 72 & 161 & 30 & 0.2250000 & 2.250000 & 2014-15 & 82 & 21 & 23.0 & ⋯ & 2007 & FALSE & 2015 & 2015 & 2015 & 0 & 207 & 53 & 4437.6 & 3.468116\\\\\n",
       "\t Aaron Brooks & 72 & 161 & 29 & 0.1145685 & 1.145685 & 2013-14 & 72 & 12 & 21.6 & ⋯ & 2007 & FALSE & 2014 & 2014 & 2014 & 0 & 184 & 44 & 3837.8 & 3.216304\\\\\n",
       "\\end{tabular}\n"
      ],
      "text/markdown": [
       "\n",
       "A data.table: 6 × 154\n",
       "\n",
       "| fullName &lt;chr&gt; | height &lt;int&gt; | weight &lt;int&gt; | signAge &lt;dbl&gt; | totalValue &lt;dbl&gt; | aav &lt;dbl&gt; | signSeason &lt;chr&gt; | G &lt;int&gt; | GS &lt;int&gt; | MP &lt;dbl&gt; | ⋯ ⋯ | draftYear &lt;int&gt; | undrafted &lt;lgl&gt; | termFirstYear &lt;dbl&gt; | termSecondYear &lt;dbl&gt; | signYear &lt;dbl&gt; | latestContract &lt;dbl&gt; | totalGames &lt;dbl&gt; | totalGamesStarted &lt;dbl&gt; | totalMP &lt;dbl&gt; | WAFG &lt;dbl&gt; |\n",
       "|---|---|---|---|---|---|---|---|---|---|---|---|---|---|---|---|---|---|---|---|---|\n",
       "| A.J. Price   | 74 | 181 | 28 | 0.1007087 | 1.007087 | 2013-14 | 28 |  0 |  3.5 | ⋯ | 2009 | FALSE | 2014 | 2014 | 2014 | 0 | 129 | 23 | 1942.4 | 1.832558 |\n",
       "| A.J. Price   | 74 | 181 | 27 | 0.1063384 | 1.063384 | 2013-14 | 28 |  0 |  3.5 | ⋯ | 2009 | FALSE | 2014 | 2014 | 2014 | 1 | 129 | 23 | 1942.4 | 1.832558 |\n",
       "| Aaron Brooks | 72 | 161 | 32 | 0.2116955 | 2.116955 | 2016-17 | 65 |  0 | 13.8 | ⋯ | 2007 | FALSE | 2017 | 2017 | 2017 | 0 | 216 | 21 | 3893.9 | 3.028704 |\n",
       "| Aaron Brooks | 72 | 161 | 31 | 0.2700000 | 2.700000 | 2015-16 | 69 |  0 | 16.1 | ⋯ | 2007 | FALSE | 2016 | 2016 | 2016 | 0 | 223 | 33 | 4552.1 | 3.413004 |\n",
       "| Aaron Brooks | 72 | 161 | 30 | 0.2250000 | 2.250000 | 2014-15 | 82 | 21 | 23.0 | ⋯ | 2007 | FALSE | 2015 | 2015 | 2015 | 0 | 207 | 53 | 4437.6 | 3.468116 |\n",
       "| Aaron Brooks | 72 | 161 | 29 | 0.1145685 | 1.145685 | 2013-14 | 72 | 12 | 21.6 | ⋯ | 2007 | FALSE | 2014 | 2014 | 2014 | 0 | 184 | 44 | 3837.8 | 3.216304 |\n",
       "\n"
      ],
      "text/plain": [
       "  fullName     height weight signAge totalValue aav      signSeason G  GS MP  \n",
       "1 A.J. Price   74     181    28      0.1007087  1.007087 2013-14    28  0  3.5\n",
       "2 A.J. Price   74     181    27      0.1063384  1.063384 2013-14    28  0  3.5\n",
       "3 Aaron Brooks 72     161    32      0.2116955  2.116955 2016-17    65  0 13.8\n",
       "4 Aaron Brooks 72     161    31      0.2700000  2.700000 2015-16    69  0 16.1\n",
       "5 Aaron Brooks 72     161    30      0.2250000  2.250000 2014-15    82 21 23.0\n",
       "6 Aaron Brooks 72     161    29      0.1145685  1.145685 2013-14    72 12 21.6\n",
       "  ⋯ draftYear undrafted termFirstYear termSecondYear signYear latestContract\n",
       "1 ⋯ 2009      FALSE     2014          2014           2014     0             \n",
       "2 ⋯ 2009      FALSE     2014          2014           2014     1             \n",
       "3 ⋯ 2007      FALSE     2017          2017           2017     0             \n",
       "4 ⋯ 2007      FALSE     2016          2016           2016     0             \n",
       "5 ⋯ 2007      FALSE     2015          2015           2015     0             \n",
       "6 ⋯ 2007      FALSE     2014          2014           2014     0             \n",
       "  totalGames totalGamesStarted totalMP WAFG    \n",
       "1 129        23                1942.4  1.832558\n",
       "2 129        23                1942.4  1.832558\n",
       "3 216        21                3893.9  3.028704\n",
       "4 223        33                4552.1  3.413004\n",
       "5 207        53                4437.6  3.468116\n",
       "6 184        44                3837.8  3.216304"
      ]
     },
     "metadata": {},
     "output_type": "display_data"
    }
   ],
   "source": [
    "contracts[,'WAFG'] = (contracts[,'G']*contracts[,'FG']+contracts[,'G_prev1']*contracts[,'FG_prev1']+contracts[,'G_prev2']*contracts[,'FG_prev2'])/(contracts[,'G']+contracts[,'G_prev1']+contracts[,'G_prev2'])\n",
    "head(contracts)"
   ]
  },
  {
   "cell_type": "code",
   "execution_count": 28,
   "id": "a77f19db",
   "metadata": {
    "execution": {
     "iopub.execute_input": "2022-04-25T06:21:17.975602Z",
     "iopub.status.busy": "2022-04-25T06:21:17.973844Z",
     "iopub.status.idle": "2022-04-25T06:21:18.005148Z",
     "shell.execute_reply": "2022-04-25T06:21:18.002876Z"
    },
    "papermill": {
     "duration": 0.056919,
     "end_time": "2022-04-25T06:21:18.007998",
     "exception": false,
     "start_time": "2022-04-25T06:21:17.951079",
     "status": "completed"
    },
    "tags": []
   },
   "outputs": [
    {
     "data": {
      "text/html": [
       "<table class=\"dataframe\">\n",
       "<caption>A data.table: 1 × 7</caption>\n",
       "<thead>\n",
       "\t<tr><th scope=col>fullName</th><th scope=col>FG</th><th scope=col>G</th><th scope=col>FG_prev1</th><th scope=col>G_prev1</th><th scope=col>FG_prev2</th><th scope=col>G_prev2</th></tr>\n",
       "\t<tr><th scope=col>&lt;chr&gt;</th><th scope=col>&lt;dbl&gt;</th><th scope=col>&lt;int&gt;</th><th scope=col>&lt;dbl&gt;</th><th scope=col>&lt;dbl&gt;</th><th scope=col>&lt;dbl&gt;</th><th scope=col>&lt;dbl&gt;</th></tr>\n",
       "</thead>\n",
       "<tbody>\n",
       "\t<tr><td>A.J. Price</td><td>0.7</td><td>28</td><td>2.8</td><td>57</td><td>1.3</td><td>44</td></tr>\n",
       "</tbody>\n",
       "</table>\n"
      ],
      "text/latex": [
       "A data.table: 1 × 7\n",
       "\\begin{tabular}{lllllll}\n",
       " fullName & FG & G & FG\\_prev1 & G\\_prev1 & FG\\_prev2 & G\\_prev2\\\\\n",
       " <chr> & <dbl> & <int> & <dbl> & <dbl> & <dbl> & <dbl>\\\\\n",
       "\\hline\n",
       "\t A.J. Price & 0.7 & 28 & 2.8 & 57 & 1.3 & 44\\\\\n",
       "\\end{tabular}\n"
      ],
      "text/markdown": [
       "\n",
       "A data.table: 1 × 7\n",
       "\n",
       "| fullName &lt;chr&gt; | FG &lt;dbl&gt; | G &lt;int&gt; | FG_prev1 &lt;dbl&gt; | G_prev1 &lt;dbl&gt; | FG_prev2 &lt;dbl&gt; | G_prev2 &lt;dbl&gt; |\n",
       "|---|---|---|---|---|---|---|\n",
       "| A.J. Price | 0.7 | 28 | 2.8 | 57 | 1.3 | 44 |\n",
       "\n"
      ],
      "text/plain": [
       "  fullName   FG  G  FG_prev1 G_prev1 FG_prev2 G_prev2\n",
       "1 A.J. Price 0.7 28 2.8      57      1.3      44     "
      ]
     },
     "metadata": {},
     "output_type": "display_data"
    }
   ],
   "source": [
    "head(contracts[,c('fullName','FG', 'G', 'FG_prev1', 'G_prev1', 'FG_prev2', 'G_prev2')],1)"
   ]
  },
  {
   "cell_type": "code",
   "execution_count": 29,
   "id": "338748d8",
   "metadata": {
    "execution": {
     "iopub.execute_input": "2022-04-25T06:21:18.054212Z",
     "iopub.status.busy": "2022-04-25T06:21:18.052493Z",
     "iopub.status.idle": "2022-04-25T06:21:18.077282Z",
     "shell.execute_reply": "2022-04-25T06:21:18.075019Z"
    },
    "papermill": {
     "duration": 0.051722,
     "end_time": "2022-04-25T06:21:18.080253",
     "exception": false,
     "start_time": "2022-04-25T06:21:18.028531",
     "status": "completed"
    },
    "tags": []
   },
   "outputs": [
    {
     "data": {
      "text/html": [
       "<style>\n",
       ".list-inline {list-style: none; margin:0; padding: 0}\n",
       ".list-inline>li {display: inline-block}\n",
       ".list-inline>li:not(:last-child)::after {content: \"\\00b7\"; padding: 0 .5ex}\n",
       "</style>\n",
       "<ol class=list-inline><li>0.7</li><li>0.7</li><li>1.9</li><li>2.7</li><li>2.7</li><li>2.7</li></ol>\n"
      ],
      "text/latex": [
       "\\begin{enumerate*}\n",
       "\\item 0.7\n",
       "\\item 0.7\n",
       "\\item 1.9\n",
       "\\item 2.7\n",
       "\\item 2.7\n",
       "\\item 2.7\n",
       "\\end{enumerate*}\n"
      ],
      "text/markdown": [
       "1. 0.7\n",
       "2. 0.7\n",
       "3. 1.9\n",
       "4. 2.7\n",
       "5. 2.7\n",
       "6. 2.7\n",
       "\n",
       "\n"
      ],
      "text/plain": [
       "[1] 0.7 0.7 1.9 2.7 2.7 2.7"
      ]
     },
     "metadata": {},
     "output_type": "display_data"
    }
   ],
   "source": [
    "head(apply(contracts[,c('FG','FG_prev1','FG_prev2')], 1, FUN=min))"
   ]
  },
  {
   "cell_type": "code",
   "execution_count": 30,
   "id": "f7404db3",
   "metadata": {
    "execution": {
     "iopub.execute_input": "2022-04-25T06:21:18.126014Z",
     "iopub.status.busy": "2022-04-25T06:21:18.124196Z",
     "iopub.status.idle": "2022-04-25T06:21:18.848312Z",
     "shell.execute_reply": "2022-04-25T06:21:18.845921Z"
    },
    "papermill": {
     "duration": 0.750125,
     "end_time": "2022-04-25T06:21:18.851198",
     "exception": false,
     "start_time": "2022-04-25T06:21:18.101073",
     "status": "completed"
    },
    "tags": []
   },
   "outputs": [
    {
     "data": {
      "text/html": [
       "<table class=\"dataframe\">\n",
       "<caption>A data.table: 6 × 110</caption>\n",
       "<thead>\n",
       "\t<tr><th scope=col>fullName</th><th scope=col>height</th><th scope=col>weight</th><th scope=col>signAge</th><th scope=col>totalValue</th><th scope=col>aav</th><th scope=col>signSeason</th><th scope=col>G</th><th scope=col>GS</th><th scope=col>G_prev1</th><th scope=col>⋯</th><th scope=col>WAOBPM</th><th scope=col>rangeOBPM</th><th scope=col>WADBPM</th><th scope=col>rangeDBPM</th><th scope=col>WABPM</th><th scope=col>rangeBPM</th><th scope=col>WAVORP</th><th scope=col>rangeVORP</th><th scope=col>WAMP</th><th scope=col>rangeMP</th></tr>\n",
       "\t<tr><th scope=col>&lt;chr&gt;</th><th scope=col>&lt;int&gt;</th><th scope=col>&lt;int&gt;</th><th scope=col>&lt;dbl&gt;</th><th scope=col>&lt;dbl&gt;</th><th scope=col>&lt;dbl&gt;</th><th scope=col>&lt;chr&gt;</th><th scope=col>&lt;int&gt;</th><th scope=col>&lt;int&gt;</th><th scope=col>&lt;dbl&gt;</th><th scope=col>⋯</th><th scope=col>&lt;dbl&gt;</th><th scope=col>&lt;dbl&gt;</th><th scope=col>&lt;dbl&gt;</th><th scope=col>&lt;dbl&gt;</th><th scope=col>&lt;dbl&gt;</th><th scope=col>&lt;dbl&gt;</th><th scope=col>&lt;dbl&gt;</th><th scope=col>&lt;dbl&gt;</th><th scope=col>&lt;dbl&gt;</th><th scope=col>&lt;dbl&gt;</th></tr>\n",
       "</thead>\n",
       "<tbody>\n",
       "\t<tr><td>A.J. Price  </td><td>74</td><td>181</td><td>28</td><td>0.1007087</td><td>1.007087</td><td>2013-14</td><td>28</td><td> 0</td><td>57</td><td>⋯</td><td>-0.8139535</td><td>2.2</td><td>-0.8682171</td><td>2.0</td><td>-1.648062</td><td>4.2</td><td>0.233333333</td><td>0.6</td><td>15.05736</td><td>18.9</td></tr>\n",
       "\t<tr><td>A.J. Price  </td><td>74</td><td>181</td><td>27</td><td>0.1063384</td><td>1.063384</td><td>2013-14</td><td>28</td><td> 0</td><td>57</td><td>⋯</td><td>-0.8139535</td><td>2.2</td><td>-0.8682171</td><td>2.0</td><td>-1.648062</td><td>4.2</td><td>0.233333333</td><td>0.6</td><td>15.05736</td><td>18.9</td></tr>\n",
       "\t<tr><td>Aaron Brooks</td><td>72</td><td>161</td><td>32</td><td>0.2116955</td><td>2.116955</td><td>2016-17</td><td>65</td><td> 0</td><td>69</td><td>⋯</td><td>-1.0236111</td><td>2.7</td><td>-1.1939815</td><td>0.2</td><td>-2.247685</td><td>2.9</td><td>0.005555556</td><td>0.9</td><td>18.02731</td><td> 9.2</td></tr>\n",
       "\t<tr><td>Aaron Brooks</td><td>72</td><td>161</td><td>31</td><td>0.2700000</td><td>2.700000</td><td>2015-16</td><td>69</td><td> 0</td><td>82</td><td>⋯</td><td>-0.3565022</td><td>1.6</td><td>-1.0650224</td><td>0.5</td><td>-1.421525</td><td>1.8</td><td>0.251121076</td><td>0.7</td><td>20.41300</td><td> 6.9</td></tr>\n",
       "\t<tr><td>Aaron Brooks</td><td>72</td><td>161</td><td>30</td><td>0.2250000</td><td>2.250000</td><td>2014-15</td><td>82</td><td>21</td><td>72</td><td>⋯</td><td>-0.1555556</td><td>1.1</td><td>-1.0724638</td><td>0.6</td><td>-1.228019</td><td>1.4</td><td>0.337198068</td><td>0.5</td><td>21.43768</td><td> 4.2</td></tr>\n",
       "\t<tr><td>Aaron Brooks</td><td>72</td><td>161</td><td>29</td><td>0.1145685</td><td>1.145685</td><td>2013-14</td><td>72</td><td>12</td><td>53</td><td>⋯</td><td>-0.4048913</td><td>0.6</td><td>-1.5820652</td><td>1.9</td><td>-1.986957</td><td>2.0</td><td>0.060326087</td><td>0.7</td><td>20.85761</td><td> 3.0</td></tr>\n",
       "</tbody>\n",
       "</table>\n"
      ],
      "text/latex": [
       "A data.table: 6 × 110\n",
       "\\begin{tabular}{lllllllllllllllllllll}\n",
       " fullName & height & weight & signAge & totalValue & aav & signSeason & G & GS & G\\_prev1 & ⋯ & WAOBPM & rangeOBPM & WADBPM & rangeDBPM & WABPM & rangeBPM & WAVORP & rangeVORP & WAMP & rangeMP\\\\\n",
       " <chr> & <int> & <int> & <dbl> & <dbl> & <dbl> & <chr> & <int> & <int> & <dbl> & ⋯ & <dbl> & <dbl> & <dbl> & <dbl> & <dbl> & <dbl> & <dbl> & <dbl> & <dbl> & <dbl>\\\\\n",
       "\\hline\n",
       "\t A.J. Price   & 74 & 181 & 28 & 0.1007087 & 1.007087 & 2013-14 & 28 &  0 & 57 & ⋯ & -0.8139535 & 2.2 & -0.8682171 & 2.0 & -1.648062 & 4.2 & 0.233333333 & 0.6 & 15.05736 & 18.9\\\\\n",
       "\t A.J. Price   & 74 & 181 & 27 & 0.1063384 & 1.063384 & 2013-14 & 28 &  0 & 57 & ⋯ & -0.8139535 & 2.2 & -0.8682171 & 2.0 & -1.648062 & 4.2 & 0.233333333 & 0.6 & 15.05736 & 18.9\\\\\n",
       "\t Aaron Brooks & 72 & 161 & 32 & 0.2116955 & 2.116955 & 2016-17 & 65 &  0 & 69 & ⋯ & -1.0236111 & 2.7 & -1.1939815 & 0.2 & -2.247685 & 2.9 & 0.005555556 & 0.9 & 18.02731 &  9.2\\\\\n",
       "\t Aaron Brooks & 72 & 161 & 31 & 0.2700000 & 2.700000 & 2015-16 & 69 &  0 & 82 & ⋯ & -0.3565022 & 1.6 & -1.0650224 & 0.5 & -1.421525 & 1.8 & 0.251121076 & 0.7 & 20.41300 &  6.9\\\\\n",
       "\t Aaron Brooks & 72 & 161 & 30 & 0.2250000 & 2.250000 & 2014-15 & 82 & 21 & 72 & ⋯ & -0.1555556 & 1.1 & -1.0724638 & 0.6 & -1.228019 & 1.4 & 0.337198068 & 0.5 & 21.43768 &  4.2\\\\\n",
       "\t Aaron Brooks & 72 & 161 & 29 & 0.1145685 & 1.145685 & 2013-14 & 72 & 12 & 53 & ⋯ & -0.4048913 & 0.6 & -1.5820652 & 1.9 & -1.986957 & 2.0 & 0.060326087 & 0.7 & 20.85761 &  3.0\\\\\n",
       "\\end{tabular}\n"
      ],
      "text/markdown": [
       "\n",
       "A data.table: 6 × 110\n",
       "\n",
       "| fullName &lt;chr&gt; | height &lt;int&gt; | weight &lt;int&gt; | signAge &lt;dbl&gt; | totalValue &lt;dbl&gt; | aav &lt;dbl&gt; | signSeason &lt;chr&gt; | G &lt;int&gt; | GS &lt;int&gt; | G_prev1 &lt;dbl&gt; | ⋯ ⋯ | WAOBPM &lt;dbl&gt; | rangeOBPM &lt;dbl&gt; | WADBPM &lt;dbl&gt; | rangeDBPM &lt;dbl&gt; | WABPM &lt;dbl&gt; | rangeBPM &lt;dbl&gt; | WAVORP &lt;dbl&gt; | rangeVORP &lt;dbl&gt; | WAMP &lt;dbl&gt; | rangeMP &lt;dbl&gt; |\n",
       "|---|---|---|---|---|---|---|---|---|---|---|---|---|---|---|---|---|---|---|---|---|\n",
       "| A.J. Price   | 74 | 181 | 28 | 0.1007087 | 1.007087 | 2013-14 | 28 |  0 | 57 | ⋯ | -0.8139535 | 2.2 | -0.8682171 | 2.0 | -1.648062 | 4.2 | 0.233333333 | 0.6 | 15.05736 | 18.9 |\n",
       "| A.J. Price   | 74 | 181 | 27 | 0.1063384 | 1.063384 | 2013-14 | 28 |  0 | 57 | ⋯ | -0.8139535 | 2.2 | -0.8682171 | 2.0 | -1.648062 | 4.2 | 0.233333333 | 0.6 | 15.05736 | 18.9 |\n",
       "| Aaron Brooks | 72 | 161 | 32 | 0.2116955 | 2.116955 | 2016-17 | 65 |  0 | 69 | ⋯ | -1.0236111 | 2.7 | -1.1939815 | 0.2 | -2.247685 | 2.9 | 0.005555556 | 0.9 | 18.02731 |  9.2 |\n",
       "| Aaron Brooks | 72 | 161 | 31 | 0.2700000 | 2.700000 | 2015-16 | 69 |  0 | 82 | ⋯ | -0.3565022 | 1.6 | -1.0650224 | 0.5 | -1.421525 | 1.8 | 0.251121076 | 0.7 | 20.41300 |  6.9 |\n",
       "| Aaron Brooks | 72 | 161 | 30 | 0.2250000 | 2.250000 | 2014-15 | 82 | 21 | 72 | ⋯ | -0.1555556 | 1.1 | -1.0724638 | 0.6 | -1.228019 | 1.4 | 0.337198068 | 0.5 | 21.43768 |  4.2 |\n",
       "| Aaron Brooks | 72 | 161 | 29 | 0.1145685 | 1.145685 | 2013-14 | 72 | 12 | 53 | ⋯ | -0.4048913 | 0.6 | -1.5820652 | 1.9 | -1.986957 | 2.0 | 0.060326087 | 0.7 | 20.85761 |  3.0 |\n",
       "\n"
      ],
      "text/plain": [
       "  fullName     height weight signAge totalValue aav      signSeason G  GS\n",
       "1 A.J. Price   74     181    28      0.1007087  1.007087 2013-14    28  0\n",
       "2 A.J. Price   74     181    27      0.1063384  1.063384 2013-14    28  0\n",
       "3 Aaron Brooks 72     161    32      0.2116955  2.116955 2016-17    65  0\n",
       "4 Aaron Brooks 72     161    31      0.2700000  2.700000 2015-16    69  0\n",
       "5 Aaron Brooks 72     161    30      0.2250000  2.250000 2014-15    82 21\n",
       "6 Aaron Brooks 72     161    29      0.1145685  1.145685 2013-14    72 12\n",
       "  G_prev1 ⋯ WAOBPM     rangeOBPM WADBPM     rangeDBPM WABPM     rangeBPM\n",
       "1 57      ⋯ -0.8139535 2.2       -0.8682171 2.0       -1.648062 4.2     \n",
       "2 57      ⋯ -0.8139535 2.2       -0.8682171 2.0       -1.648062 4.2     \n",
       "3 69      ⋯ -1.0236111 2.7       -1.1939815 0.2       -2.247685 2.9     \n",
       "4 82      ⋯ -0.3565022 1.6       -1.0650224 0.5       -1.421525 1.8     \n",
       "5 72      ⋯ -0.1555556 1.1       -1.0724638 0.6       -1.228019 1.4     \n",
       "6 53      ⋯ -0.4048913 0.6       -1.5820652 1.9       -1.986957 2.0     \n",
       "  WAVORP      rangeVORP WAMP     rangeMP\n",
       "1 0.233333333 0.6       15.05736 18.9   \n",
       "2 0.233333333 0.6       15.05736 18.9   \n",
       "3 0.005555556 0.9       18.02731  9.2   \n",
       "4 0.251121076 0.7       20.41300  6.9   \n",
       "5 0.337198068 0.5       21.43768  4.2   \n",
       "6 0.060326087 0.7       20.85761  3.0   "
      ]
     },
     "metadata": {},
     "output_type": "display_data"
    }
   ],
   "source": [
    "# calculating the weighted averages which is each stat for each \n",
    "# year multiplied by number of games played and summed for all three years\n",
    "# and finally divided by total number of games played\n",
    "# WA means weighted average\n",
    "# the range is found by calculating the max and min rowise for each variable and the\n",
    "# subtracting min from max\n",
    "temp = contracts\n",
    "totalGames = temp[,'G']+temp[,'G_prev1']+temp[,'G_prev2']\n",
    "for(i in 1:length(stats)){\n",
    "    waColname = str_c('WA', stats[i], sep='')\n",
    "    rangeColname = str_c('range', stats[i], sep='')\n",
    "    currStat = stats[i]\n",
    "    prevStat1 = prev_stats1[i]\n",
    "    prevStat2 = prev_stats2[i]\n",
    "    totalStat = temp[,'G']*temp[,..currStat]+temp[,'G_prev1']*temp[,..prevStat1]+temp[,'G_prev2']*temp[,..prevStat2]\n",
    "    maxStat = apply(temp[,c(currStat, prevStat1, prevStat2), with=FALSE], 1, FUN=max)\n",
    "    minStat = apply(temp[,c(currStat, prevStat1, prevStat2),with=FALSE], 1, FUN=min)\n",
    "    temp[,waColname] = totalStat/totalGames\n",
    "    temp[,rangeColname] = maxStat-minStat\n",
    "    temp[,currStat]=NULL\n",
    "    temp[,prevStat1]=NULL\n",
    "    temp[,prevStat2]=NULL\n",
    "}\n",
    "head(temp)"
   ]
  },
  {
   "cell_type": "code",
   "execution_count": 31,
   "id": "e71ffeaf",
   "metadata": {
    "execution": {
     "iopub.execute_input": "2022-04-25T06:21:18.926413Z",
     "iopub.status.busy": "2022-04-25T06:21:18.924708Z",
     "iopub.status.idle": "2022-04-25T06:21:18.940428Z",
     "shell.execute_reply": "2022-04-25T06:21:18.938549Z"
    },
    "papermill": {
     "duration": 0.071216,
     "end_time": "2022-04-25T06:21:18.943363",
     "exception": false,
     "start_time": "2022-04-25T06:21:18.872147",
     "status": "completed"
    },
    "tags": []
   },
   "outputs": [],
   "source": [
    "# remove the previous versions for games played and games started\n",
    "temp[,`:=`(G=NULL, GS=NULL, G_prev1=NULL,\n",
    "           G_prev2=NULL, GS_prev1=NULL, GS_prev2=NULL)]"
   ]
  },
  {
   "cell_type": "code",
   "execution_count": 32,
   "id": "bbe13158",
   "metadata": {
    "execution": {
     "iopub.execute_input": "2022-04-25T06:21:18.989569Z",
     "iopub.status.busy": "2022-04-25T06:21:18.987382Z",
     "iopub.status.idle": "2022-04-25T06:21:19.009487Z",
     "shell.execute_reply": "2022-04-25T06:21:19.007050Z"
    },
    "papermill": {
     "duration": 0.047969,
     "end_time": "2022-04-25T06:21:19.012331",
     "exception": false,
     "start_time": "2022-04-25T06:21:18.964362",
     "status": "completed"
    },
    "tags": []
   },
   "outputs": [
    {
     "data": {
      "text/html": [
       "<style>\n",
       ".list-inline {list-style: none; margin:0; padding: 0}\n",
       ".list-inline>li {display: inline-block}\n",
       ".list-inline>li:not(:last-child)::after {content: \"\\00b7\"; padding: 0 .5ex}\n",
       "</style>\n",
       "<ol class=list-inline><li>'fullName'</li><li>'height'</li><li>'weight'</li><li>'signAge'</li><li>'totalValue'</li><li>'aav'</li><li>'signSeason'</li><li>'draftRound'</li><li>'draftOverall'</li><li>'draftYear'</li><li>'undrafted'</li><li>'termFirstYear'</li><li>'termSecondYear'</li><li>'signYear'</li><li>'latestContract'</li><li>'totalGames'</li><li>'totalGamesStarted'</li><li>'totalMP'</li><li>'WAFG'</li><li>'rangeFG'</li><li>'WAFGA'</li><li>'rangeFGA'</li><li>'WAFG%'</li><li>'rangeFG%'</li><li>'WA3P'</li><li>'range3P'</li><li>'WA3PA'</li><li>'range3PA'</li><li>'WA3P%'</li><li>'range3P%'</li><li>'WA2P'</li><li>'range2P'</li><li>'WA2PA'</li><li>'range2PA'</li><li>'WA2P%'</li><li>'range2P%'</li><li>'WAeFG%'</li><li>'rangeeFG%'</li><li>'WAFT'</li><li>'rangeFT'</li><li>'WAFTA'</li><li>'rangeFTA'</li><li>'WAFT%'</li><li>'rangeFT%'</li><li>'WAORB'</li><li>'rangeORB'</li><li>'WADRB'</li><li>'rangeDRB'</li><li>'WATRB'</li><li>'rangeTRB'</li><li>'WAAST'</li><li>'rangeAST'</li><li>'WASTL'</li><li>'rangeSTL'</li><li>'WABLK'</li><li>'rangeBLK'</li><li>'WATOV'</li><li>'rangeTOV'</li><li>'WAPF'</li><li>'rangePF'</li><li>'WAPTS'</li><li>'rangePTS'</li><li>'WAPER'</li><li>'rangePER'</li><li>'WATS%'</li><li>'rangeTS%'</li><li>'WA3PAr'</li><li>'range3PAr'</li><li>'WAFTr'</li><li>'rangeFTr'</li><li>'WAORB%'</li><li>'rangeORB%'</li><li>'WADRB%'</li><li>'rangeDRB%'</li><li>'WATRB%'</li><li>'rangeTRB%'</li><li>'WAAST%'</li><li>'rangeAST%'</li><li>'WASTL%'</li><li>'rangeSTL%'</li><li>'WABLK%'</li><li>'rangeBLK%'</li><li>'WATOV%'</li><li>'rangeTOV%'</li><li>'WAUSG%'</li><li>'rangeUSG%'</li><li>'WAOWS'</li><li>'rangeOWS'</li><li>'WADWS'</li><li>'rangeDWS'</li><li>'WAWS'</li><li>'rangeWS'</li><li>'WAWS/48'</li><li>'rangeWS/48'</li><li>'WAOBPM'</li><li>'rangeOBPM'</li><li>'WADBPM'</li><li>'rangeDBPM'</li><li>'WABPM'</li><li>'rangeBPM'</li><li>'WAVORP'</li><li>'rangeVORP'</li><li>'WAMP'</li><li>'rangeMP'</li></ol>\n"
      ],
      "text/latex": [
       "\\begin{enumerate*}\n",
       "\\item 'fullName'\n",
       "\\item 'height'\n",
       "\\item 'weight'\n",
       "\\item 'signAge'\n",
       "\\item 'totalValue'\n",
       "\\item 'aav'\n",
       "\\item 'signSeason'\n",
       "\\item 'draftRound'\n",
       "\\item 'draftOverall'\n",
       "\\item 'draftYear'\n",
       "\\item 'undrafted'\n",
       "\\item 'termFirstYear'\n",
       "\\item 'termSecondYear'\n",
       "\\item 'signYear'\n",
       "\\item 'latestContract'\n",
       "\\item 'totalGames'\n",
       "\\item 'totalGamesStarted'\n",
       "\\item 'totalMP'\n",
       "\\item 'WAFG'\n",
       "\\item 'rangeFG'\n",
       "\\item 'WAFGA'\n",
       "\\item 'rangeFGA'\n",
       "\\item 'WAFG\\%'\n",
       "\\item 'rangeFG\\%'\n",
       "\\item 'WA3P'\n",
       "\\item 'range3P'\n",
       "\\item 'WA3PA'\n",
       "\\item 'range3PA'\n",
       "\\item 'WA3P\\%'\n",
       "\\item 'range3P\\%'\n",
       "\\item 'WA2P'\n",
       "\\item 'range2P'\n",
       "\\item 'WA2PA'\n",
       "\\item 'range2PA'\n",
       "\\item 'WA2P\\%'\n",
       "\\item 'range2P\\%'\n",
       "\\item 'WAeFG\\%'\n",
       "\\item 'rangeeFG\\%'\n",
       "\\item 'WAFT'\n",
       "\\item 'rangeFT'\n",
       "\\item 'WAFTA'\n",
       "\\item 'rangeFTA'\n",
       "\\item 'WAFT\\%'\n",
       "\\item 'rangeFT\\%'\n",
       "\\item 'WAORB'\n",
       "\\item 'rangeORB'\n",
       "\\item 'WADRB'\n",
       "\\item 'rangeDRB'\n",
       "\\item 'WATRB'\n",
       "\\item 'rangeTRB'\n",
       "\\item 'WAAST'\n",
       "\\item 'rangeAST'\n",
       "\\item 'WASTL'\n",
       "\\item 'rangeSTL'\n",
       "\\item 'WABLK'\n",
       "\\item 'rangeBLK'\n",
       "\\item 'WATOV'\n",
       "\\item 'rangeTOV'\n",
       "\\item 'WAPF'\n",
       "\\item 'rangePF'\n",
       "\\item 'WAPTS'\n",
       "\\item 'rangePTS'\n",
       "\\item 'WAPER'\n",
       "\\item 'rangePER'\n",
       "\\item 'WATS\\%'\n",
       "\\item 'rangeTS\\%'\n",
       "\\item 'WA3PAr'\n",
       "\\item 'range3PAr'\n",
       "\\item 'WAFTr'\n",
       "\\item 'rangeFTr'\n",
       "\\item 'WAORB\\%'\n",
       "\\item 'rangeORB\\%'\n",
       "\\item 'WADRB\\%'\n",
       "\\item 'rangeDRB\\%'\n",
       "\\item 'WATRB\\%'\n",
       "\\item 'rangeTRB\\%'\n",
       "\\item 'WAAST\\%'\n",
       "\\item 'rangeAST\\%'\n",
       "\\item 'WASTL\\%'\n",
       "\\item 'rangeSTL\\%'\n",
       "\\item 'WABLK\\%'\n",
       "\\item 'rangeBLK\\%'\n",
       "\\item 'WATOV\\%'\n",
       "\\item 'rangeTOV\\%'\n",
       "\\item 'WAUSG\\%'\n",
       "\\item 'rangeUSG\\%'\n",
       "\\item 'WAOWS'\n",
       "\\item 'rangeOWS'\n",
       "\\item 'WADWS'\n",
       "\\item 'rangeDWS'\n",
       "\\item 'WAWS'\n",
       "\\item 'rangeWS'\n",
       "\\item 'WAWS/48'\n",
       "\\item 'rangeWS/48'\n",
       "\\item 'WAOBPM'\n",
       "\\item 'rangeOBPM'\n",
       "\\item 'WADBPM'\n",
       "\\item 'rangeDBPM'\n",
       "\\item 'WABPM'\n",
       "\\item 'rangeBPM'\n",
       "\\item 'WAVORP'\n",
       "\\item 'rangeVORP'\n",
       "\\item 'WAMP'\n",
       "\\item 'rangeMP'\n",
       "\\end{enumerate*}\n"
      ],
      "text/markdown": [
       "1. 'fullName'\n",
       "2. 'height'\n",
       "3. 'weight'\n",
       "4. 'signAge'\n",
       "5. 'totalValue'\n",
       "6. 'aav'\n",
       "7. 'signSeason'\n",
       "8. 'draftRound'\n",
       "9. 'draftOverall'\n",
       "10. 'draftYear'\n",
       "11. 'undrafted'\n",
       "12. 'termFirstYear'\n",
       "13. 'termSecondYear'\n",
       "14. 'signYear'\n",
       "15. 'latestContract'\n",
       "16. 'totalGames'\n",
       "17. 'totalGamesStarted'\n",
       "18. 'totalMP'\n",
       "19. 'WAFG'\n",
       "20. 'rangeFG'\n",
       "21. 'WAFGA'\n",
       "22. 'rangeFGA'\n",
       "23. 'WAFG%'\n",
       "24. 'rangeFG%'\n",
       "25. 'WA3P'\n",
       "26. 'range3P'\n",
       "27. 'WA3PA'\n",
       "28. 'range3PA'\n",
       "29. 'WA3P%'\n",
       "30. 'range3P%'\n",
       "31. 'WA2P'\n",
       "32. 'range2P'\n",
       "33. 'WA2PA'\n",
       "34. 'range2PA'\n",
       "35. 'WA2P%'\n",
       "36. 'range2P%'\n",
       "37. 'WAeFG%'\n",
       "38. 'rangeeFG%'\n",
       "39. 'WAFT'\n",
       "40. 'rangeFT'\n",
       "41. 'WAFTA'\n",
       "42. 'rangeFTA'\n",
       "43. 'WAFT%'\n",
       "44. 'rangeFT%'\n",
       "45. 'WAORB'\n",
       "46. 'rangeORB'\n",
       "47. 'WADRB'\n",
       "48. 'rangeDRB'\n",
       "49. 'WATRB'\n",
       "50. 'rangeTRB'\n",
       "51. 'WAAST'\n",
       "52. 'rangeAST'\n",
       "53. 'WASTL'\n",
       "54. 'rangeSTL'\n",
       "55. 'WABLK'\n",
       "56. 'rangeBLK'\n",
       "57. 'WATOV'\n",
       "58. 'rangeTOV'\n",
       "59. 'WAPF'\n",
       "60. 'rangePF'\n",
       "61. 'WAPTS'\n",
       "62. 'rangePTS'\n",
       "63. 'WAPER'\n",
       "64. 'rangePER'\n",
       "65. 'WATS%'\n",
       "66. 'rangeTS%'\n",
       "67. 'WA3PAr'\n",
       "68. 'range3PAr'\n",
       "69. 'WAFTr'\n",
       "70. 'rangeFTr'\n",
       "71. 'WAORB%'\n",
       "72. 'rangeORB%'\n",
       "73. 'WADRB%'\n",
       "74. 'rangeDRB%'\n",
       "75. 'WATRB%'\n",
       "76. 'rangeTRB%'\n",
       "77. 'WAAST%'\n",
       "78. 'rangeAST%'\n",
       "79. 'WASTL%'\n",
       "80. 'rangeSTL%'\n",
       "81. 'WABLK%'\n",
       "82. 'rangeBLK%'\n",
       "83. 'WATOV%'\n",
       "84. 'rangeTOV%'\n",
       "85. 'WAUSG%'\n",
       "86. 'rangeUSG%'\n",
       "87. 'WAOWS'\n",
       "88. 'rangeOWS'\n",
       "89. 'WADWS'\n",
       "90. 'rangeDWS'\n",
       "91. 'WAWS'\n",
       "92. 'rangeWS'\n",
       "93. 'WAWS/48'\n",
       "94. 'rangeWS/48'\n",
       "95. 'WAOBPM'\n",
       "96. 'rangeOBPM'\n",
       "97. 'WADBPM'\n",
       "98. 'rangeDBPM'\n",
       "99. 'WABPM'\n",
       "100. 'rangeBPM'\n",
       "101. 'WAVORP'\n",
       "102. 'rangeVORP'\n",
       "103. 'WAMP'\n",
       "104. 'rangeMP'\n",
       "\n",
       "\n"
      ],
      "text/plain": [
       "  [1] \"fullName\"          \"height\"            \"weight\"           \n",
       "  [4] \"signAge\"           \"totalValue\"        \"aav\"              \n",
       "  [7] \"signSeason\"        \"draftRound\"        \"draftOverall\"     \n",
       " [10] \"draftYear\"         \"undrafted\"         \"termFirstYear\"    \n",
       " [13] \"termSecondYear\"    \"signYear\"          \"latestContract\"   \n",
       " [16] \"totalGames\"        \"totalGamesStarted\" \"totalMP\"          \n",
       " [19] \"WAFG\"              \"rangeFG\"           \"WAFGA\"            \n",
       " [22] \"rangeFGA\"          \"WAFG%\"             \"rangeFG%\"         \n",
       " [25] \"WA3P\"              \"range3P\"           \"WA3PA\"            \n",
       " [28] \"range3PA\"          \"WA3P%\"             \"range3P%\"         \n",
       " [31] \"WA2P\"              \"range2P\"           \"WA2PA\"            \n",
       " [34] \"range2PA\"          \"WA2P%\"             \"range2P%\"         \n",
       " [37] \"WAeFG%\"            \"rangeeFG%\"         \"WAFT\"             \n",
       " [40] \"rangeFT\"           \"WAFTA\"             \"rangeFTA\"         \n",
       " [43] \"WAFT%\"             \"rangeFT%\"          \"WAORB\"            \n",
       " [46] \"rangeORB\"          \"WADRB\"             \"rangeDRB\"         \n",
       " [49] \"WATRB\"             \"rangeTRB\"          \"WAAST\"            \n",
       " [52] \"rangeAST\"          \"WASTL\"             \"rangeSTL\"         \n",
       " [55] \"WABLK\"             \"rangeBLK\"          \"WATOV\"            \n",
       " [58] \"rangeTOV\"          \"WAPF\"              \"rangePF\"          \n",
       " [61] \"WAPTS\"             \"rangePTS\"          \"WAPER\"            \n",
       " [64] \"rangePER\"          \"WATS%\"             \"rangeTS%\"         \n",
       " [67] \"WA3PAr\"            \"range3PAr\"         \"WAFTr\"            \n",
       " [70] \"rangeFTr\"          \"WAORB%\"            \"rangeORB%\"        \n",
       " [73] \"WADRB%\"            \"rangeDRB%\"         \"WATRB%\"           \n",
       " [76] \"rangeTRB%\"         \"WAAST%\"            \"rangeAST%\"        \n",
       " [79] \"WASTL%\"            \"rangeSTL%\"         \"WABLK%\"           \n",
       " [82] \"rangeBLK%\"         \"WATOV%\"            \"rangeTOV%\"        \n",
       " [85] \"WAUSG%\"            \"rangeUSG%\"         \"WAOWS\"            \n",
       " [88] \"rangeOWS\"          \"WADWS\"             \"rangeDWS\"         \n",
       " [91] \"WAWS\"              \"rangeWS\"           \"WAWS/48\"          \n",
       " [94] \"rangeWS/48\"        \"WAOBPM\"            \"rangeOBPM\"        \n",
       " [97] \"WADBPM\"            \"rangeDBPM\"         \"WABPM\"            \n",
       "[100] \"rangeBPM\"          \"WAVORP\"            \"rangeVORP\"        \n",
       "[103] \"WAMP\"              \"rangeMP\"          "
      ]
     },
     "metadata": {},
     "output_type": "display_data"
    }
   ],
   "source": [
    "colnames(temp)"
   ]
  },
  {
   "cell_type": "code",
   "execution_count": 33,
   "id": "8cfc840f",
   "metadata": {
    "execution": {
     "iopub.execute_input": "2022-04-25T06:21:19.060283Z",
     "iopub.status.busy": "2022-04-25T06:21:19.058369Z",
     "iopub.status.idle": "2022-04-25T06:21:19.103020Z",
     "shell.execute_reply": "2022-04-25T06:21:19.100538Z"
    },
    "papermill": {
     "duration": 0.07176,
     "end_time": "2022-04-25T06:21:19.106012",
     "exception": false,
     "start_time": "2022-04-25T06:21:19.034252",
     "status": "completed"
    },
    "tags": []
   },
   "outputs": [
    {
     "data": {
      "text/html": [
       "<table class=\"dataframe\">\n",
       "<caption>A data.table: 6 × 104</caption>\n",
       "<thead>\n",
       "\t<tr><th scope=col>fullName</th><th scope=col>height</th><th scope=col>weight</th><th scope=col>signAge</th><th scope=col>totalValue</th><th scope=col>aav</th><th scope=col>signSeason</th><th scope=col>draftRound</th><th scope=col>draftOverall</th><th scope=col>draftYear</th><th scope=col>⋯</th><th scope=col>WAOBPM</th><th scope=col>rangeOBPM</th><th scope=col>WADBPM</th><th scope=col>rangeDBPM</th><th scope=col>WABPM</th><th scope=col>rangeBPM</th><th scope=col>WAVORP</th><th scope=col>rangeVORP</th><th scope=col>WAMP</th><th scope=col>rangeMP</th></tr>\n",
       "\t<tr><th scope=col>&lt;chr&gt;</th><th scope=col>&lt;int&gt;</th><th scope=col>&lt;int&gt;</th><th scope=col>&lt;dbl&gt;</th><th scope=col>&lt;dbl&gt;</th><th scope=col>&lt;dbl&gt;</th><th scope=col>&lt;chr&gt;</th><th scope=col>&lt;int&gt;</th><th scope=col>&lt;int&gt;</th><th scope=col>&lt;int&gt;</th><th scope=col>⋯</th><th scope=col>&lt;dbl&gt;</th><th scope=col>&lt;dbl&gt;</th><th scope=col>&lt;dbl&gt;</th><th scope=col>&lt;dbl&gt;</th><th scope=col>&lt;dbl&gt;</th><th scope=col>&lt;dbl&gt;</th><th scope=col>&lt;dbl&gt;</th><th scope=col>&lt;dbl&gt;</th><th scope=col>&lt;dbl&gt;</th><th scope=col>&lt;dbl&gt;</th></tr>\n",
       "</thead>\n",
       "<tbody>\n",
       "\t<tr><td>A.J. Price  </td><td>74</td><td>181</td><td>28</td><td>0.1007087</td><td>1.007087</td><td>2013-14</td><td>2</td><td>52</td><td>2009</td><td>⋯</td><td>-0.8139535</td><td>2.2</td><td>-0.8682171</td><td>2.0</td><td>-1.648062</td><td>4.2</td><td>0.233333333</td><td>0.6</td><td>15.05736</td><td>18.9</td></tr>\n",
       "\t<tr><td>A.J. Price  </td><td>74</td><td>181</td><td>27</td><td>0.1063384</td><td>1.063384</td><td>2013-14</td><td>2</td><td>52</td><td>2009</td><td>⋯</td><td>-0.8139535</td><td>2.2</td><td>-0.8682171</td><td>2.0</td><td>-1.648062</td><td>4.2</td><td>0.233333333</td><td>0.6</td><td>15.05736</td><td>18.9</td></tr>\n",
       "\t<tr><td>Aaron Brooks</td><td>72</td><td>161</td><td>32</td><td>0.2116955</td><td>2.116955</td><td>2016-17</td><td>1</td><td>26</td><td>2007</td><td>⋯</td><td>-1.0236111</td><td>2.7</td><td>-1.1939815</td><td>0.2</td><td>-2.247685</td><td>2.9</td><td>0.005555556</td><td>0.9</td><td>18.02731</td><td> 9.2</td></tr>\n",
       "\t<tr><td>Aaron Brooks</td><td>72</td><td>161</td><td>31</td><td>0.2700000</td><td>2.700000</td><td>2015-16</td><td>1</td><td>26</td><td>2007</td><td>⋯</td><td>-0.3565022</td><td>1.6</td><td>-1.0650224</td><td>0.5</td><td>-1.421525</td><td>1.8</td><td>0.251121076</td><td>0.7</td><td>20.41300</td><td> 6.9</td></tr>\n",
       "\t<tr><td>Aaron Brooks</td><td>72</td><td>161</td><td>30</td><td>0.2250000</td><td>2.250000</td><td>2014-15</td><td>1</td><td>26</td><td>2007</td><td>⋯</td><td>-0.1555556</td><td>1.1</td><td>-1.0724638</td><td>0.6</td><td>-1.228019</td><td>1.4</td><td>0.337198068</td><td>0.5</td><td>21.43768</td><td> 4.2</td></tr>\n",
       "\t<tr><td>Aaron Brooks</td><td>72</td><td>161</td><td>29</td><td>0.1145685</td><td>1.145685</td><td>2013-14</td><td>1</td><td>26</td><td>2007</td><td>⋯</td><td>-0.4048913</td><td>0.6</td><td>-1.5820652</td><td>1.9</td><td>-1.986957</td><td>2.0</td><td>0.060326087</td><td>0.7</td><td>20.85761</td><td> 3.0</td></tr>\n",
       "</tbody>\n",
       "</table>\n"
      ],
      "text/latex": [
       "A data.table: 6 × 104\n",
       "\\begin{tabular}{lllllllllllllllllllll}\n",
       " fullName & height & weight & signAge & totalValue & aav & signSeason & draftRound & draftOverall & draftYear & ⋯ & WAOBPM & rangeOBPM & WADBPM & rangeDBPM & WABPM & rangeBPM & WAVORP & rangeVORP & WAMP & rangeMP\\\\\n",
       " <chr> & <int> & <int> & <dbl> & <dbl> & <dbl> & <chr> & <int> & <int> & <int> & ⋯ & <dbl> & <dbl> & <dbl> & <dbl> & <dbl> & <dbl> & <dbl> & <dbl> & <dbl> & <dbl>\\\\\n",
       "\\hline\n",
       "\t A.J. Price   & 74 & 181 & 28 & 0.1007087 & 1.007087 & 2013-14 & 2 & 52 & 2009 & ⋯ & -0.8139535 & 2.2 & -0.8682171 & 2.0 & -1.648062 & 4.2 & 0.233333333 & 0.6 & 15.05736 & 18.9\\\\\n",
       "\t A.J. Price   & 74 & 181 & 27 & 0.1063384 & 1.063384 & 2013-14 & 2 & 52 & 2009 & ⋯ & -0.8139535 & 2.2 & -0.8682171 & 2.0 & -1.648062 & 4.2 & 0.233333333 & 0.6 & 15.05736 & 18.9\\\\\n",
       "\t Aaron Brooks & 72 & 161 & 32 & 0.2116955 & 2.116955 & 2016-17 & 1 & 26 & 2007 & ⋯ & -1.0236111 & 2.7 & -1.1939815 & 0.2 & -2.247685 & 2.9 & 0.005555556 & 0.9 & 18.02731 &  9.2\\\\\n",
       "\t Aaron Brooks & 72 & 161 & 31 & 0.2700000 & 2.700000 & 2015-16 & 1 & 26 & 2007 & ⋯ & -0.3565022 & 1.6 & -1.0650224 & 0.5 & -1.421525 & 1.8 & 0.251121076 & 0.7 & 20.41300 &  6.9\\\\\n",
       "\t Aaron Brooks & 72 & 161 & 30 & 0.2250000 & 2.250000 & 2014-15 & 1 & 26 & 2007 & ⋯ & -0.1555556 & 1.1 & -1.0724638 & 0.6 & -1.228019 & 1.4 & 0.337198068 & 0.5 & 21.43768 &  4.2\\\\\n",
       "\t Aaron Brooks & 72 & 161 & 29 & 0.1145685 & 1.145685 & 2013-14 & 1 & 26 & 2007 & ⋯ & -0.4048913 & 0.6 & -1.5820652 & 1.9 & -1.986957 & 2.0 & 0.060326087 & 0.7 & 20.85761 &  3.0\\\\\n",
       "\\end{tabular}\n"
      ],
      "text/markdown": [
       "\n",
       "A data.table: 6 × 104\n",
       "\n",
       "| fullName &lt;chr&gt; | height &lt;int&gt; | weight &lt;int&gt; | signAge &lt;dbl&gt; | totalValue &lt;dbl&gt; | aav &lt;dbl&gt; | signSeason &lt;chr&gt; | draftRound &lt;int&gt; | draftOverall &lt;int&gt; | draftYear &lt;int&gt; | ⋯ ⋯ | WAOBPM &lt;dbl&gt; | rangeOBPM &lt;dbl&gt; | WADBPM &lt;dbl&gt; | rangeDBPM &lt;dbl&gt; | WABPM &lt;dbl&gt; | rangeBPM &lt;dbl&gt; | WAVORP &lt;dbl&gt; | rangeVORP &lt;dbl&gt; | WAMP &lt;dbl&gt; | rangeMP &lt;dbl&gt; |\n",
       "|---|---|---|---|---|---|---|---|---|---|---|---|---|---|---|---|---|---|---|---|---|\n",
       "| A.J. Price   | 74 | 181 | 28 | 0.1007087 | 1.007087 | 2013-14 | 2 | 52 | 2009 | ⋯ | -0.8139535 | 2.2 | -0.8682171 | 2.0 | -1.648062 | 4.2 | 0.233333333 | 0.6 | 15.05736 | 18.9 |\n",
       "| A.J. Price   | 74 | 181 | 27 | 0.1063384 | 1.063384 | 2013-14 | 2 | 52 | 2009 | ⋯ | -0.8139535 | 2.2 | -0.8682171 | 2.0 | -1.648062 | 4.2 | 0.233333333 | 0.6 | 15.05736 | 18.9 |\n",
       "| Aaron Brooks | 72 | 161 | 32 | 0.2116955 | 2.116955 | 2016-17 | 1 | 26 | 2007 | ⋯ | -1.0236111 | 2.7 | -1.1939815 | 0.2 | -2.247685 | 2.9 | 0.005555556 | 0.9 | 18.02731 |  9.2 |\n",
       "| Aaron Brooks | 72 | 161 | 31 | 0.2700000 | 2.700000 | 2015-16 | 1 | 26 | 2007 | ⋯ | -0.3565022 | 1.6 | -1.0650224 | 0.5 | -1.421525 | 1.8 | 0.251121076 | 0.7 | 20.41300 |  6.9 |\n",
       "| Aaron Brooks | 72 | 161 | 30 | 0.2250000 | 2.250000 | 2014-15 | 1 | 26 | 2007 | ⋯ | -0.1555556 | 1.1 | -1.0724638 | 0.6 | -1.228019 | 1.4 | 0.337198068 | 0.5 | 21.43768 |  4.2 |\n",
       "| Aaron Brooks | 72 | 161 | 29 | 0.1145685 | 1.145685 | 2013-14 | 1 | 26 | 2007 | ⋯ | -0.4048913 | 0.6 | -1.5820652 | 1.9 | -1.986957 | 2.0 | 0.060326087 | 0.7 | 20.85761 |  3.0 |\n",
       "\n"
      ],
      "text/plain": [
       "  fullName     height weight signAge totalValue aav      signSeason draftRound\n",
       "1 A.J. Price   74     181    28      0.1007087  1.007087 2013-14    2         \n",
       "2 A.J. Price   74     181    27      0.1063384  1.063384 2013-14    2         \n",
       "3 Aaron Brooks 72     161    32      0.2116955  2.116955 2016-17    1         \n",
       "4 Aaron Brooks 72     161    31      0.2700000  2.700000 2015-16    1         \n",
       "5 Aaron Brooks 72     161    30      0.2250000  2.250000 2014-15    1         \n",
       "6 Aaron Brooks 72     161    29      0.1145685  1.145685 2013-14    1         \n",
       "  draftOverall draftYear ⋯ WAOBPM     rangeOBPM WADBPM     rangeDBPM WABPM    \n",
       "1 52           2009      ⋯ -0.8139535 2.2       -0.8682171 2.0       -1.648062\n",
       "2 52           2009      ⋯ -0.8139535 2.2       -0.8682171 2.0       -1.648062\n",
       "3 26           2007      ⋯ -1.0236111 2.7       -1.1939815 0.2       -2.247685\n",
       "4 26           2007      ⋯ -0.3565022 1.6       -1.0650224 0.5       -1.421525\n",
       "5 26           2007      ⋯ -0.1555556 1.1       -1.0724638 0.6       -1.228019\n",
       "6 26           2007      ⋯ -0.4048913 0.6       -1.5820652 1.9       -1.986957\n",
       "  rangeBPM WAVORP      rangeVORP WAMP     rangeMP\n",
       "1 4.2      0.233333333 0.6       15.05736 18.9   \n",
       "2 4.2      0.233333333 0.6       15.05736 18.9   \n",
       "3 2.9      0.005555556 0.9       18.02731  9.2   \n",
       "4 1.8      0.251121076 0.7       20.41300  6.9   \n",
       "5 1.4      0.337198068 0.5       21.43768  4.2   \n",
       "6 2.0      0.060326087 0.7       20.85761  3.0   "
      ]
     },
     "metadata": {},
     "output_type": "display_data"
    }
   ],
   "source": [
    "head(temp)"
   ]
  },
  {
   "cell_type": "markdown",
   "id": "ab65d948",
   "metadata": {
    "papermill": {
     "duration": 0.022453,
     "end_time": "2022-04-25T06:21:19.150632",
     "exception": false,
     "start_time": "2022-04-25T06:21:19.128179",
     "status": "completed"
    },
    "tags": []
   },
   "source": [
    "now with the condensed dataset with calculated values, the data will be split into three tables. The first table contains only players who played less than 15 total games (average of 5 per season) or less than 600 minutes played. The second table will contain contracts excluding players from the previous table but including all players whether they had waived contracts or bought out contracts in the same sign season or not. Finally, the third table contains data for players not in the first table and excluding contracts that were waived or bought out with the player signing a new contract in the same sign season."
   ]
  },
  {
   "cell_type": "code",
   "execution_count": 34,
   "id": "77cb798d",
   "metadata": {
    "execution": {
     "iopub.execute_input": "2022-04-25T06:21:19.199303Z",
     "iopub.status.busy": "2022-04-25T06:21:19.197330Z",
     "iopub.status.idle": "2022-04-25T06:21:19.217028Z",
     "shell.execute_reply": "2022-04-25T06:21:19.214928Z"
    },
    "papermill": {
     "duration": 0.046728,
     "end_time": "2022-04-25T06:21:19.219863",
     "exception": false,
     "start_time": "2022-04-25T06:21:19.173135",
     "status": "completed"
    },
    "tags": []
   },
   "outputs": [
    {
     "data": {
      "text/plain": [
       "   Min. 1st Qu.  Median    Mean 3rd Qu.    Max. \n",
       "      1    1408    3326    3350    5118    8879 "
      ]
     },
     "metadata": {},
     "output_type": "display_data"
    }
   ],
   "source": [
    "summary(temp$totalMP)"
   ]
  },
  {
   "cell_type": "code",
   "execution_count": 35,
   "id": "c30f24f8",
   "metadata": {
    "execution": {
     "iopub.execute_input": "2022-04-25T06:21:19.268070Z",
     "iopub.status.busy": "2022-04-25T06:21:19.266276Z",
     "iopub.status.idle": "2022-04-25T06:21:19.302114Z",
     "shell.execute_reply": "2022-04-25T06:21:19.300145Z"
    },
    "papermill": {
     "duration": 0.062912,
     "end_time": "2022-04-25T06:21:19.304956",
     "exception": false,
     "start_time": "2022-04-25T06:21:19.242044",
     "status": "completed"
    },
    "tags": []
   },
   "outputs": [
    {
     "name": "stdout",
     "output_type": "stream",
     "text": [
      "[1] 232\n",
      "[1] 1180\n",
      "[1] 1123\n"
     ]
    }
   ],
   "source": [
    "lowGamesPlayers = temp[(totalGames<=15) | (totalMP<=600),]\n",
    "sigPlayers = temp[(totalGames>15) & (totalMP>600), ]\n",
    "sigPlayersNonWaived = temp[(totalGames>15)&(latestContract==0)&(totalMP>600),]\n",
    "print(nrow(lowGamesPlayers))\n",
    "print(nrow(sigPlayers))\n",
    "print(nrow(sigPlayersNonWaived))"
   ]
  },
  {
   "cell_type": "markdown",
   "id": "5327ef4e",
   "metadata": {
    "execution": {
     "iopub.execute_input": "2022-04-25T03:41:47.462911Z",
     "iopub.status.busy": "2022-04-25T03:41:47.457617Z",
     "iopub.status.idle": "2022-04-25T03:41:47.49623Z"
    },
    "papermill": {
     "duration": 0.022173,
     "end_time": "2022-04-25T06:21:19.349777",
     "exception": false,
     "start_time": "2022-04-25T06:21:19.327604",
     "status": "completed"
    },
    "tags": []
   },
   "source": [
    "It looks like the tables were split correctly. Therefore, these will be saved into /kaggle/working so that they can be used later if need be for modeling purposes"
   ]
  },
  {
   "cell_type": "code",
   "execution_count": 36,
   "id": "b4b86a6a",
   "metadata": {
    "execution": {
     "iopub.execute_input": "2022-04-25T06:21:19.398347Z",
     "iopub.status.busy": "2022-04-25T06:21:19.396601Z",
     "iopub.status.idle": "2022-04-25T06:21:19.458152Z",
     "shell.execute_reply": "2022-04-25T06:21:19.456122Z"
    },
    "papermill": {
     "duration": 0.088571,
     "end_time": "2022-04-25T06:21:19.461257",
     "exception": false,
     "start_time": "2022-04-25T06:21:19.372686",
     "status": "completed"
    },
    "tags": []
   },
   "outputs": [],
   "source": [
    "fwrite(lowGamesPlayers,file='/kaggle/working/lowGamesPlayers.csv', col.names=TRUE)\n",
    "fwrite(sigPlayers, file='/kaggle/working/allSignificantPlayers.csv', col.names=TRUE)\n",
    "fwrite(sigPlayersNonWaived, file='/kaggle/working/sigPlayersNonWaived.csv', col.names=TRUE)"
   ]
  },
  {
   "cell_type": "markdown",
   "id": "6e184dda",
   "metadata": {
    "papermill": {
     "duration": 0.02234,
     "end_time": "2022-04-25T06:21:19.505810",
     "exception": false,
     "start_time": "2022-04-25T06:21:19.483470",
     "status": "completed"
    },
    "tags": []
   },
   "source": [
    "Now that those three data sets are temporarily saved, the sigPlayers dataset will be used to see the correlations between variables, visualize relationships, and decide which variables should be kept for modeling."
   ]
  },
  {
   "cell_type": "code",
   "execution_count": 37,
   "id": "e2b3e262",
   "metadata": {
    "execution": {
     "iopub.execute_input": "2022-04-25T06:21:19.554700Z",
     "iopub.status.busy": "2022-04-25T06:21:19.552779Z",
     "iopub.status.idle": "2022-04-25T06:21:19.578693Z",
     "shell.execute_reply": "2022-04-25T06:21:19.576571Z"
    },
    "papermill": {
     "duration": 0.053323,
     "end_time": "2022-04-25T06:21:19.581705",
     "exception": false,
     "start_time": "2022-04-25T06:21:19.528382",
     "status": "completed"
    },
    "tags": []
   },
   "outputs": [],
   "source": [
    " corr_matrix=cor(sigPlayers[,c('aav', 'totalValue','signYear',str_c('WA',stats,sep=''), str_c('range',stats,sep=''), 'totalGames',\n",
    "                  'totalMP', 'totalGamesStarted'), with=FALSE])"
   ]
  },
  {
   "cell_type": "markdown",
   "id": "c4b0f3f6",
   "metadata": {
    "papermill": {
     "duration": 0.022809,
     "end_time": "2022-04-25T06:21:19.626912",
     "exception": false,
     "start_time": "2022-04-25T06:21:19.604103",
     "status": "completed"
    },
    "tags": []
   },
   "source": [
    "not surprisingly there are quite a few stats closely related to each other. For example WAFG and WAFGA have a .97 correlation coefficient with each other. For situations like this the attempts will be deleted while the makes and the percentages will be kept. This is because many people and probably teams focus on the makes and efficiency (as represented by the percentage) rather than the number of attempts."
   ]
  },
  {
   "cell_type": "code",
   "execution_count": 38,
   "id": "4330cd63",
   "metadata": {
    "execution": {
     "iopub.execute_input": "2022-04-25T06:21:19.675882Z",
     "iopub.status.busy": "2022-04-25T06:21:19.674139Z",
     "iopub.status.idle": "2022-04-25T06:21:19.878607Z",
     "shell.execute_reply": "2022-04-25T06:21:19.875624Z"
    },
    "papermill": {
     "duration": 0.232025,
     "end_time": "2022-04-25T06:21:19.881707",
     "exception": false,
     "start_time": "2022-04-25T06:21:19.649682",
     "status": "completed"
    },
    "tags": []
   },
   "outputs": [
    {
     "data": {
      "text/html": [
       "<table class=\"dataframe\">\n",
       "<caption>A matrix: 92 × 92 of type dbl</caption>\n",
       "<thead>\n",
       "\t<tr><th></th><th scope=col>aav</th><th scope=col>totalValue</th><th scope=col>signYear</th><th scope=col>WAFG</th><th scope=col>WAFGA</th><th scope=col>WAFG%</th><th scope=col>WA3P</th><th scope=col>WA3PA</th><th scope=col>WA3P%</th><th scope=col>WA2P</th><th scope=col>⋯</th><th scope=col>rangeWS</th><th scope=col>rangeWS/48</th><th scope=col>rangeOBPM</th><th scope=col>rangeDBPM</th><th scope=col>rangeBPM</th><th scope=col>rangeVORP</th><th scope=col>rangeMP</th><th scope=col>totalGames</th><th scope=col>totalMP</th><th scope=col>totalGamesStarted</th></tr>\n",
       "</thead>\n",
       "<tbody>\n",
       "\t<tr><th scope=row>aav</th><td> 1.00000000</td><td> 0.94735539</td><td> 0.159019903</td><td> 0.70934541</td><td> 0.668908175</td><td> 0.203093911</td><td> 0.39634477</td><td> 0.389238798</td><td> 0.117917967</td><td> 0.62163453</td><td>⋯</td><td> 0.333355578</td><td>-0.077168449</td><td>-0.113200331</td><td>-0.087707279</td><td>-0.106005211</td><td> 0.4211143839</td><td>-0.251369075</td><td> 0.36144387</td><td> 0.60779798</td><td> 0.60706170</td></tr>\n",
       "\t<tr><th scope=row>totalValue</th><td> 0.94735539</td><td> 1.00000000</td><td> 0.117180468</td><td> 0.63982875</td><td> 0.604801088</td><td> 0.176438310</td><td> 0.35267466</td><td> 0.346053381</td><td> 0.099000753</td><td> 0.56254942</td><td>⋯</td><td> 0.281374812</td><td>-0.070128072</td><td>-0.095270373</td><td>-0.072857463</td><td>-0.088998362</td><td> 0.3681551911</td><td>-0.211309410</td><td> 0.31949090</td><td> 0.54646844</td><td> 0.54592307</td></tr>\n",
       "\t<tr><th scope=row>signYear</th><td> 0.15901990</td><td> 0.11718047</td><td> 1.000000000</td><td> 0.09792501</td><td> 0.075162058</td><td> 0.109105485</td><td> 0.21757818</td><td> 0.227468276</td><td> 0.175410853</td><td> 0.01540582</td><td>⋯</td><td>-0.025102899</td><td>-0.003219973</td><td>-0.009126805</td><td>-0.007720604</td><td>-0.009997443</td><td>-0.0304457347</td><td>-0.012289857</td><td>-0.05687309</td><td>-0.01095944</td><td> 0.00898386</td></tr>\n",
       "\t<tr><th scope=row>WAFG</th><td> 0.70934541</td><td> 0.63982875</td><td> 0.097925013</td><td> 1.00000000</td><td> 0.974712051</td><td> 0.189595667</td><td> 0.45025072</td><td> 0.456828737</td><td> 0.180216023</td><td> 0.92354959</td><td>⋯</td><td> 0.436795855</td><td>-0.140650847</td><td>-0.173814089</td><td>-0.135835243</td><td>-0.174413538</td><td> 0.5379571096</td><td>-0.289689902</td><td> 0.43693683</td><td> 0.77246240</td><td> 0.74903252</td></tr>\n",
       "\t<tr><th scope=row>WAFGA</th><td> 0.66890817</td><td> 0.60480109</td><td> 0.075162058</td><td> 0.97471205</td><td> 1.000000000</td><td>-0.005821945</td><td> 0.57076377</td><td> 0.586984659</td><td> 0.280571063</td><td> 0.84379609</td><td>⋯</td><td> 0.387409390</td><td>-0.144557147</td><td>-0.159243058</td><td>-0.141259278</td><td>-0.165656302</td><td> 0.5231520918</td><td>-0.268337879</td><td> 0.41790222</td><td> 0.77015373</td><td> 0.72476608</td></tr>\n",
       "\t<tr><th scope=row>WAFG%</th><td> 0.20309391</td><td> 0.17643831</td><td> 0.109105485</td><td> 0.18959567</td><td>-0.005821945</td><td> 1.000000000</td><td>-0.41706124</td><td>-0.458639053</td><td>-0.488741994</td><td> 0.39058187</td><td>⋯</td><td> 0.255186375</td><td>-0.031619056</td><td>-0.137083889</td><td> 0.031855115</td><td>-0.105215548</td><td> 0.1053995256</td><td>-0.185483091</td><td> 0.18516943</td><td> 0.12506588</td><td> 0.19378648</td></tr>\n",
       "\t<tr><th scope=row>WA3P</th><td> 0.39634477</td><td> 0.35267466</td><td> 0.217578183</td><td> 0.45025072</td><td> 0.570763774</td><td>-0.417061239</td><td> 1.00000000</td><td> 0.991310834</td><td> 0.633889722</td><td> 0.07377195</td><td>⋯</td><td> 0.127322373</td><td>-0.099553528</td><td>-0.071834847</td><td>-0.118240365</td><td>-0.092145022</td><td> 0.2632211904</td><td>-0.133294810</td><td> 0.22778443</td><td> 0.43430384</td><td> 0.33171902</td></tr>\n",
       "\t<tr><th scope=row>WA3PA</th><td> 0.38923880</td><td> 0.34605338</td><td> 0.227468276</td><td> 0.45682874</td><td> 0.586984659</td><td>-0.458639053</td><td> 0.99131083</td><td> 1.000000000</td><td> 0.630802846</td><td> 0.08459045</td><td>⋯</td><td> 0.117317812</td><td>-0.103209785</td><td>-0.068937381</td><td>-0.117177063</td><td>-0.088039170</td><td> 0.2652137119</td><td>-0.123257424</td><td> 0.21194269</td><td> 0.43263275</td><td> 0.32653057</td></tr>\n",
       "\t<tr><th scope=row>WA3P%</th><td> 0.11791797</td><td> 0.09900075</td><td> 0.175410853</td><td> 0.18021602</td><td> 0.280571063</td><td>-0.488741994</td><td> 0.63388972</td><td> 0.630802846</td><td> 1.000000000</td><td>-0.07054226</td><td>⋯</td><td> 0.003037074</td><td>-0.014765978</td><td> 0.025258257</td><td>-0.103133545</td><td>-0.006189865</td><td> 0.0849158968</td><td>-0.002196788</td><td> 0.07481454</td><td> 0.17896744</td><td> 0.07515437</td></tr>\n",
       "\t<tr><th scope=row>WA2P</th><td> 0.62163453</td><td> 0.56254942</td><td> 0.015405818</td><td> 0.92354959</td><td> 0.843796091</td><td> 0.390581873</td><td> 0.07377195</td><td> 0.084590452</td><td>-0.070542256</td><td> 1.00000000</td><td>⋯</td><td> 0.432894688</td><td>-0.113593862</td><td>-0.162428311</td><td>-0.100247817</td><td>-0.154522180</td><td> 0.4878193806</td><td>-0.266619024</td><td> 0.39035420</td><td> 0.67631006</td><td> 0.69433291</td></tr>\n",
       "\t<tr><th scope=row>WA2PA</th><td> 0.59087925</td><td> 0.53751535</td><td>-0.040702759</td><td> 0.92590840</td><td> 0.880638308</td><td> 0.261152217</td><td> 0.11855526</td><td> 0.133419322</td><td>-0.025041410</td><td> 0.98349603</td><td>⋯</td><td> 0.405360503</td><td>-0.117260031</td><td>-0.155199207</td><td>-0.104343961</td><td>-0.151470996</td><td> 0.4851542616</td><td>-0.256420473</td><td> 0.38688565</td><td> 0.68922859</td><td> 0.69594226</td></tr>\n",
       "\t<tr><th scope=row>WA2P%</th><td> 0.22951369</td><td> 0.19334005</td><td> 0.315694987</td><td> 0.15970575</td><td>-0.012850098</td><td> 0.859644375</td><td>-0.22776891</td><td>-0.244281790</td><td>-0.309089597</td><td> 0.27560927</td><td>⋯</td><td> 0.213157867</td><td>-0.048065494</td><td>-0.144550724</td><td>-0.001083615</td><td>-0.115142924</td><td> 0.0821900606</td><td>-0.155164950</td><td> 0.14211232</td><td> 0.10516276</td><td> 0.15049754</td></tr>\n",
       "\t<tr><th scope=row>WAeFG%</th><td> 0.24993111</td><td> 0.20929000</td><td> 0.292984966</td><td> 0.16962989</td><td> 0.023372399</td><td> 0.779050983</td><td> 0.06941351</td><td> 0.007560846</td><td>-0.059324604</td><td> 0.15913228</td><td>⋯</td><td> 0.238208520</td><td>-0.049026845</td><td>-0.147034428</td><td>-0.014151432</td><td>-0.128214394</td><td> 0.1013856669</td><td>-0.209926471</td><td> 0.22801157</td><td> 0.17055507</td><td> 0.17261555</td></tr>\n",
       "\t<tr><th scope=row>WAFT</th><td> 0.66361247</td><td> 0.60875805</td><td> 0.023162003</td><td> 0.85821626</td><td> 0.841271210</td><td> 0.149212636</td><td> 0.33500731</td><td> 0.353070479</td><td> 0.073374738</td><td> 0.81492272</td><td>⋯</td><td> 0.444278510</td><td>-0.088217053</td><td>-0.102967958</td><td>-0.063553550</td><td>-0.098174657</td><td> 0.5574253296</td><td>-0.253337625</td><td> 0.33066375</td><td> 0.63597992</td><td> 0.62135513</td></tr>\n",
       "\t<tr><th scope=row>WAFTA</th><td> 0.65810349</td><td> 0.60433233</td><td> 0.022696453</td><td> 0.85053701</td><td> 0.810744383</td><td> 0.236784446</td><td> 0.23975328</td><td> 0.259050219</td><td>-0.007648428</td><td> 0.84717572</td><td>⋯</td><td> 0.453935360</td><td>-0.087974128</td><td>-0.111188934</td><td>-0.060116418</td><td>-0.102309928</td><td> 0.5548316852</td><td>-0.256052414</td><td> 0.33822614</td><td> 0.63771063</td><td> 0.63633384</td></tr>\n",
       "\t<tr><th scope=row>WAFT%</th><td> 0.16616942</td><td> 0.15082305</td><td> 0.055937256</td><td> 0.28289583</td><td> 0.374504172</td><td>-0.376796367</td><td> 0.54249253</td><td> 0.538474424</td><td> 0.463441952</td><td> 0.08305379</td><td>⋯</td><td> 0.047860374</td><td>-0.158934678</td><td>-0.143428274</td><td>-0.130255473</td><td>-0.165817557</td><td> 0.1087459436</td><td>-0.030205734</td><td> 0.14764028</td><td> 0.23415887</td><td> 0.11537382</td></tr>\n",
       "\t<tr><th scope=row>WAORB</th><td> 0.23432647</td><td> 0.21666207</td><td> 0.003222512</td><td> 0.30777562</td><td> 0.158526502</td><td> 0.663995620</td><td>-0.42794046</td><td>-0.439130175</td><td>-0.510263578</td><td> 0.52734241</td><td>⋯</td><td> 0.307947609</td><td>-0.045808707</td><td>-0.126218345</td><td>-0.016670896</td><td>-0.099443121</td><td> 0.2025886278</td><td>-0.149019044</td><td> 0.24785309</td><td> 0.29117160</td><td> 0.39043022</td></tr>\n",
       "\t<tr><th scope=row>WADRB</th><td> 0.51029178</td><td> 0.46055843</td><td> 0.100840868</td><td> 0.64011267</td><td> 0.536210062</td><td> 0.475054818</td><td>-0.01241740</td><td>-0.015322868</td><td>-0.183347756</td><td> 0.72034398</td><td>⋯</td><td> 0.450082723</td><td>-0.096449364</td><td>-0.169816215</td><td>-0.091318112</td><td>-0.147656928</td><td> 0.4566081453</td><td>-0.226592734</td><td> 0.38334447</td><td> 0.58497806</td><td> 0.65775871</td></tr>\n",
       "\t<tr><th scope=row>WATRB</th><td> 0.44762089</td><td> 0.40582008</td><td> 0.073991326</td><td> 0.56580251</td><td> 0.441020327</td><td> 0.564466121</td><td>-0.15112512</td><td>-0.156919198</td><td>-0.302766789</td><td> 0.69682574</td><td>⋯</td><td> 0.428483569</td><td>-0.084399062</td><td>-0.164482871</td><td>-0.071555711</td><td>-0.139358788</td><td> 0.3981898296</td><td>-0.213729965</td><td> 0.35973638</td><td> 0.52033978</td><td> 0.60599703</td></tr>\n",
       "\t<tr><th scope=row>WAAST</th><td> 0.48225687</td><td> 0.43419011</td><td> 0.079138535</td><td> 0.58766316</td><td> 0.635407329</td><td>-0.137000229</td><td> 0.38854535</td><td> 0.415356863</td><td> 0.260809105</td><td> 0.48997306</td><td>⋯</td><td> 0.250137914</td><td>-0.095247249</td><td>-0.090143778</td><td>-0.064061102</td><td>-0.104468922</td><td> 0.3890835167</td><td>-0.158617707</td><td> 0.21431342</td><td> 0.50278155</td><td> 0.47874200</td></tr>\n",
       "\t<tr><th scope=row>WASTL</th><td> 0.52501662</td><td> 0.48113540</td><td> 0.068344117</td><td> 0.59422052</td><td> 0.630210350</td><td>-0.089467961</td><td> 0.38084829</td><td> 0.408582424</td><td> 0.216054216</td><td> 0.49976177</td><td>⋯</td><td> 0.257327554</td><td>-0.089587351</td><td>-0.127348257</td><td>-0.090074888</td><td>-0.134399510</td><td> 0.3779510549</td><td>-0.166373072</td><td> 0.31345862</td><td> 0.61236304</td><td> 0.59197814</td></tr>\n",
       "\t<tr><th scope=row>WABLK</th><td> 0.28088253</td><td> 0.26727874</td><td> 0.018073007</td><td> 0.30107648</td><td> 0.165666583</td><td> 0.604867267</td><td>-0.30120086</td><td>-0.308686923</td><td>-0.394131514</td><td> 0.46523062</td><td>⋯</td><td> 0.326686268</td><td>-0.012026352</td><td>-0.091405262</td><td> 0.043329876</td><td>-0.047855480</td><td> 0.2608161615</td><td>-0.142087454</td><td> 0.18713967</td><td> 0.24811933</td><td> 0.36556148</td></tr>\n",
       "\t<tr><th scope=row>WATOV</th><td> 0.58603557</td><td> 0.53413236</td><td> 0.012151720</td><td> 0.81618370</td><td> 0.819903233</td><td> 0.073402368</td><td> 0.32148802</td><td> 0.347887043</td><td> 0.115632846</td><td> 0.77377605</td><td>⋯</td><td> 0.356115661</td><td>-0.106184487</td><td>-0.116469251</td><td>-0.064222114</td><td>-0.122652446</td><td> 0.5048921868</td><td>-0.226051256</td><td> 0.32368593</td><td> 0.65071078</td><td> 0.65722340</td></tr>\n",
       "\t<tr><th scope=row>WAPF</th><td> 0.35457205</td><td> 0.32962357</td><td> 0.073503918</td><td> 0.47094274</td><td> 0.417128153</td><td> 0.348914936</td><td> 0.02535330</td><td> 0.031262206</td><td>-0.162812790</td><td> 0.51431896</td><td>⋯</td><td> 0.276176269</td><td>-0.127919646</td><td>-0.186200976</td><td>-0.107093988</td><td>-0.177580819</td><td> 0.2911252020</td><td>-0.166506994</td><td> 0.36713016</td><td> 0.52011275</td><td> 0.56601141</td></tr>\n",
       "\t<tr><th scope=row>WAPTS</th><td> 0.72364981</td><td> 0.65457790</td><td> 0.106172427</td><td> 0.98655096</td><td> 0.980906820</td><td> 0.114773693</td><td> 0.54185741</td><td> 0.549709828</td><td> 0.234752925</td><td> 0.86932341</td><td>⋯</td><td> 0.438073509</td><td>-0.135849300</td><td>-0.159412316</td><td>-0.129461887</td><td>-0.161447080</td><td> 0.5564025809</td><td>-0.287361802</td><td> 0.42534467</td><td> 0.76787795</td><td> 0.73326916</td></tr>\n",
       "\t<tr><th scope=row>WAPER</th><td> 0.60052217</td><td> 0.54184459</td><td> 0.050237774</td><td> 0.76131577</td><td> 0.647264397</td><td> 0.583667008</td><td> 0.07728278</td><td> 0.061216160</td><td>-0.141054819</td><td> 0.81763614</td><td>⋯</td><td> 0.499704808</td><td>-0.064954256</td><td>-0.152531854</td><td>-0.008222542</td><td>-0.128223546</td><td> 0.4885766765</td><td>-0.297059348</td><td> 0.32716538</td><td> 0.50372690</td><td> 0.51824845</td></tr>\n",
       "\t<tr><th scope=row>WATS%</th><td> 0.34313909</td><td> 0.29777501</td><td> 0.276383975</td><td> 0.29001786</td><td> 0.152660002</td><td> 0.754651762</td><td> 0.12397896</td><td> 0.065935624</td><td>-0.043500205</td><td> 0.27007697</td><td>⋯</td><td> 0.301722201</td><td>-0.073382814</td><td>-0.170662657</td><td>-0.031457379</td><td>-0.155983517</td><td> 0.1834309793</td><td>-0.232886418</td><td> 0.27355256</td><td> 0.25621072</td><td> 0.24293257</td></tr>\n",
       "\t<tr><th scope=row>WA3PAr</th><td>-0.04435667</td><td>-0.04868573</td><td> 0.209658189</td><td>-0.13082940</td><td> 0.006410346</td><td>-0.678367427</td><td> 0.71767407</td><td> 0.725169384</td><td> 0.686512716</td><td>-0.45454884</td><td>⋯</td><td>-0.142253821</td><td>-0.005598538</td><td> 0.053918433</td><td>-0.062788805</td><td> 0.027024677</td><td>-0.0644428705</td><td> 0.067041829</td><td>-0.06478329</td><td>-0.03427388</td><td>-0.13471739</td></tr>\n",
       "\t<tr><th scope=row>WAFTr</th><td> 0.19104976</td><td> 0.18547340</td><td>-0.068625415</td><td> 0.13507873</td><td> 0.034147996</td><td> 0.531599583</td><td>-0.36047679</td><td>-0.358649646</td><td>-0.505621964</td><td> 0.30530457</td><td>⋯</td><td> 0.207932236</td><td> 0.014718751</td><td>-0.027436141</td><td> 0.058315044</td><td>-0.008378389</td><td> 0.1656297045</td><td>-0.088281645</td><td> 0.06411579</td><td> 0.08793812</td><td> 0.14348645</td></tr>\n",
       "\t<tr><th scope=row>WAORB%</th><td>-0.01443493</td><td>-0.01056436</td><td>-0.046124676</td><td>-0.04879908</td><td>-0.203382156</td><td> 0.721598850</td><td>-0.62420807</td><td>-0.644486613</td><td>-0.684157509</td><td> 0.21358240</td><td>⋯</td><td> 0.154004736</td><td> 0.048353984</td><td>-0.031640703</td><td> 0.090771988</td><td> 0.005241086</td><td>-0.0009573521</td><td>-0.081630398</td><td> 0.03079848</td><td>-0.08041313</td><td> 0.04111264</td></tr>\n",
       "\t<tr><th scope=row>⋮</th><td>⋮</td><td>⋮</td><td>⋮</td><td>⋮</td><td>⋮</td><td>⋮</td><td>⋮</td><td>⋮</td><td>⋮</td><td>⋮</td><td>⋱</td><td>⋮</td><td>⋮</td><td>⋮</td><td>⋮</td><td>⋮</td><td>⋮</td><td>⋮</td><td>⋮</td><td>⋮</td><td>⋮</td></tr>\n",
       "\t<tr><th scope=row>rangeAST</th><td> 0.071289206</td><td> 0.069757301</td><td> 0.0458600351</td><td> 0.14787210</td><td> 0.20355043</td><td>-0.22873155</td><td> 0.138675011</td><td> 0.1659401517</td><td> 0.167634067</td><td> 0.10598450</td><td>⋯</td><td> 0.100591768</td><td>-0.003425207</td><td> 0.078427789</td><td> 0.05227719</td><td> 0.04925324</td><td> 0.19777207</td><td> 0.40594756</td><td>-0.1261001</td><td> 0.06021608</td><td> 0.07657060</td></tr>\n",
       "\t<tr><th scope=row>rangeSTL</th><td>-0.008641731</td><td> 0.007709532</td><td> 0.0528503933</td><td>-0.06015907</td><td>-0.02431642</td><td>-0.20231925</td><td> 0.017557230</td><td> 0.0363327531</td><td> 0.061806246</td><td>-0.07473964</td><td>⋯</td><td> 0.035932529</td><td> 0.132348910</td><td> 0.180043807</td><td> 0.14287034</td><td> 0.18482630</td><td> 0.03565686</td><td> 0.54166826</td><td>-0.3058731</td><td>-0.14903117</td><td>-0.06375825</td></tr>\n",
       "\t<tr><th scope=row>rangeBLK</th><td> 0.075418324</td><td> 0.071324057</td><td> 0.0045499843</td><td> 0.03660802</td><td>-0.05729886</td><td> 0.37529943</td><td>-0.298693399</td><td>-0.3006015271</td><td>-0.338551652</td><td> 0.16847432</td><td>⋯</td><td> 0.223001771</td><td> 0.088563902</td><td> 0.058990410</td><td> 0.18234223</td><td> 0.11081059</td><td> 0.14933267</td><td> 0.21257483</td><td>-0.1260141</td><td>-0.07426096</td><td> 0.07289639</td></tr>\n",
       "\t<tr><th scope=row>rangeTOV</th><td> 0.031418997</td><td> 0.036312755</td><td> 0.0164531249</td><td> 0.18290950</td><td> 0.20603049</td><td>-0.10574616</td><td> 0.041700282</td><td> 0.0687421886</td><td> 0.050858292</td><td> 0.18697987</td><td>⋯</td><td> 0.124563868</td><td> 0.051007933</td><td> 0.121064247</td><td> 0.10345158</td><td> 0.09328284</td><td> 0.18114550</td><td> 0.49604951</td><td>-0.2143230</td><td>-0.01804907</td><td> 0.05096418</td></tr>\n",
       "\t<tr><th scope=row>rangePF</th><td>-0.211740868</td><td>-0.169562468</td><td> 0.0156064114</td><td>-0.31088232</td><td>-0.30918150</td><td>-0.08006670</td><td>-0.189080694</td><td>-0.1793271372</td><td>-0.115043285</td><td>-0.26743247</td><td>⋯</td><td>-0.051192094</td><td> 0.159754710</td><td> 0.210723333</td><td> 0.15401563</td><td> 0.20688746</td><td>-0.15937760</td><td> 0.71458599</td><td>-0.5025164</td><td>-0.46417830</td><td>-0.33829446</td></tr>\n",
       "\t<tr><th scope=row>rangePTS</th><td> 0.087319512</td><td> 0.099953038</td><td> 0.0839940829</td><td> 0.19396080</td><td> 0.21720527</td><td>-0.09371517</td><td> 0.158737942</td><td> 0.1714284973</td><td> 0.122915132</td><td> 0.14861838</td><td>⋯</td><td> 0.352173902</td><td> 0.033212968</td><td> 0.155914129</td><td> 0.08840416</td><td> 0.11670726</td><td> 0.34042222</td><td> 0.64799077</td><td>-0.1769615</td><td>-0.02937452</td><td> 0.00703930</td></tr>\n",
       "\t<tr><th scope=row>rangePER</th><td>-0.115832738</td><td>-0.094739769</td><td>-0.0004972047</td><td>-0.19068433</td><td>-0.18961500</td><td>-0.06379608</td><td>-0.125680077</td><td>-0.1243610863</td><td>-0.034314080</td><td>-0.15836723</td><td>⋯</td><td> 0.006226754</td><td> 0.929433618</td><td> 0.894741685</td><td> 0.31798138</td><td> 0.83455717</td><td>-0.01062637</td><td> 0.27302923</td><td>-0.3703432</td><td>-0.31605259</td><td>-0.21517665</td></tr>\n",
       "\t<tr><th scope=row>rangeTS%</th><td>-0.218572897</td><td>-0.183673180</td><td> 0.0122551795</td><td>-0.35381675</td><td>-0.34782592</td><td>-0.12385830</td><td>-0.189523706</td><td>-0.1815159401</td><td>-0.055116192</td><td>-0.31431742</td><td>⋯</td><td>-0.097469773</td><td> 0.337967154</td><td> 0.402552494</td><td> 0.20713262</td><td> 0.40908159</td><td>-0.17565150</td><td> 0.54449846</td><td>-0.6263405</td><td>-0.52361775</td><td>-0.36864877</td></tr>\n",
       "\t<tr><th scope=row>range3PAr</th><td>-0.173120051</td><td>-0.151270271</td><td> 0.0763523163</td><td>-0.24357997</td><td>-0.19244221</td><td>-0.35930230</td><td> 0.064034395</td><td> 0.0840522236</td><td> 0.258643234</td><td>-0.29944792</td><td>⋯</td><td>-0.159857329</td><td> 0.184502491</td><td> 0.241842217</td><td> 0.06484324</td><td> 0.21532006</td><td>-0.16376982</td><td> 0.39625712</td><td>-0.4034199</td><td>-0.32731181</td><td>-0.25793356</td></tr>\n",
       "\t<tr><th scope=row>rangeFTr</th><td>-0.168576158</td><td>-0.142020524</td><td>-0.0415294580</td><td>-0.31607682</td><td>-0.34398642</td><td> 0.09618265</td><td>-0.315620526</td><td>-0.3168183422</td><td>-0.290973336</td><td>-0.21787863</td><td>⋯</td><td>-0.093067981</td><td> 0.198009945</td><td> 0.234471200</td><td> 0.24772827</td><td> 0.23108236</td><td>-0.15283810</td><td> 0.30862859</td><td>-0.4452806</td><td>-0.41101933</td><td>-0.27271174</td></tr>\n",
       "\t<tr><th scope=row>rangeORB%</th><td>-0.090979917</td><td>-0.075324347</td><td>-0.0191077740</td><td>-0.16290919</td><td>-0.18679205</td><td> 0.06367870</td><td>-0.189073001</td><td>-0.1944203400</td><td>-0.105193851</td><td>-0.10002862</td><td>⋯</td><td>-0.049661442</td><td> 0.840531700</td><td> 0.735683826</td><td> 0.23151028</td><td> 0.63092425</td><td>-0.10335561</td><td> 0.13670484</td><td>-0.2268610</td><td>-0.22425823</td><td>-0.13412888</td></tr>\n",
       "\t<tr><th scope=row>rangeDRB%</th><td>-0.126847897</td><td>-0.101726454</td><td> 0.0294342401</td><td>-0.22497151</td><td>-0.24797036</td><td> 0.07770290</td><td>-0.218487976</td><td>-0.2129998788</td><td>-0.172101312</td><td>-0.15716804</td><td>⋯</td><td>-0.027831164</td><td> 0.326333405</td><td> 0.330644503</td><td> 0.39840557</td><td> 0.37433433</td><td>-0.12640444</td><td> 0.35334029</td><td>-0.4774115</td><td>-0.39429779</td><td>-0.25493696</td></tr>\n",
       "\t<tr><th scope=row>rangeTRB%</th><td>-0.123488911</td><td>-0.101630605</td><td> 0.0171388964</td><td>-0.22041424</td><td>-0.24214970</td><td> 0.04838937</td><td>-0.207502560</td><td>-0.2056364760</td><td>-0.124806428</td><td>-0.15662094</td><td>⋯</td><td>-0.052624023</td><td> 0.742016135</td><td> 0.660432201</td><td> 0.30242216</td><td> 0.61554888</td><td>-0.12714618</td><td> 0.29035971</td><td>-0.4075104</td><td>-0.34883987</td><td>-0.21855181</td></tr>\n",
       "\t<tr><th scope=row>rangeAST%</th><td>-0.068576157</td><td>-0.044452588</td><td> 0.0101452648</td><td>-0.06109234</td><td>-0.01780880</td><td>-0.24402108</td><td>-0.027931257</td><td> 0.0002543455</td><td> 0.053934229</td><td>-0.05571876</td><td>⋯</td><td>-0.089778118</td><td> 0.111609858</td><td> 0.241562327</td><td> 0.15780640</td><td> 0.22797906</td><td>-0.00570403</td><td> 0.36571294</td><td>-0.4054634</td><td>-0.24257215</td><td>-0.16585832</td></tr>\n",
       "\t<tr><th scope=row>rangeSTL%</th><td>-0.174503044</td><td>-0.140969673</td><td> 0.0030816454</td><td>-0.30926147</td><td>-0.28632210</td><td>-0.19169404</td><td>-0.134406522</td><td>-0.1234950491</td><td>-0.022230841</td><td>-0.28727089</td><td>⋯</td><td>-0.140562597</td><td> 0.300201382</td><td> 0.370476304</td><td> 0.34832497</td><td> 0.36098410</td><td>-0.17589662</td><td> 0.41430810</td><td>-0.5723091</td><td>-0.47003238</td><td>-0.33234848</td></tr>\n",
       "\t<tr><th scope=row>rangeBLK%</th><td>-0.104247646</td><td>-0.087769194</td><td> 0.0289029825</td><td>-0.22085080</td><td>-0.28981507</td><td> 0.31176808</td><td>-0.350283022</td><td>-0.3534570585</td><td>-0.375722585</td><td>-0.09642140</td><td>⋯</td><td> 0.015718307</td><td> 0.231873568</td><td> 0.187562961</td><td> 0.37738458</td><td> 0.26683848</td><td>-0.07790995</td><td> 0.19598622</td><td>-0.3409743</td><td>-0.34976384</td><td>-0.20269262</td></tr>\n",
       "\t<tr><th scope=row>rangeTOV%</th><td>-0.238311610</td><td>-0.204332432</td><td>-0.0246973207</td><td>-0.37563846</td><td>-0.37110851</td><td>-0.09938433</td><td>-0.257948776</td><td>-0.2461266693</td><td>-0.144924262</td><td>-0.30928735</td><td>⋯</td><td>-0.134742148</td><td> 0.281432431</td><td> 0.371894288</td><td> 0.23687778</td><td> 0.34971983</td><td>-0.17850701</td><td> 0.47915148</td><td>-0.5823706</td><td>-0.50986037</td><td>-0.35881795</td></tr>\n",
       "\t<tr><th scope=row>rangeUSG%</th><td>-0.127399295</td><td>-0.092691304</td><td> 0.0112717973</td><td>-0.17031433</td><td>-0.15355114</td><td>-0.14038861</td><td>-0.124582437</td><td>-0.1034063219</td><td>-0.013528912</td><td>-0.13658420</td><td>⋯</td><td>-0.099225215</td><td> 0.403868135</td><td> 0.446369712</td><td> 0.20408642</td><td> 0.39503204</td><td>-0.10087493</td><td> 0.48498647</td><td>-0.5012521</td><td>-0.37228774</td><td>-0.24096807</td></tr>\n",
       "\t<tr><th scope=row>rangeOWS</th><td> 0.357423068</td><td> 0.299880208</td><td>-0.0330475712</td><td> 0.50050194</td><td> 0.46344183</td><td> 0.19792541</td><td> 0.192449280</td><td> 0.1838102060</td><td> 0.061179769</td><td> 0.47631648</td><td>⋯</td><td> 0.893832326</td><td> 0.066169520</td><td> 0.072320789</td><td>-0.02296968</td><td> 0.08215738</td><td> 0.80468705</td><td>-0.05085773</td><td> 0.2533857</td><td> 0.39432214</td><td> 0.38634855</td></tr>\n",
       "\t<tr><th scope=row>rangeDWS</th><td> 0.267289318</td><td> 0.244817307</td><td> 0.0056121396</td><td> 0.28498982</td><td> 0.24229893</td><td> 0.22186963</td><td>-0.003359028</td><td>-0.0044898890</td><td>-0.084184424</td><td> 0.31974714</td><td>⋯</td><td> 0.662563940</td><td> 0.054830179</td><td>-0.004046959</td><td> 0.14307387</td><td> 0.03396871</td><td> 0.49435334</td><td> 0.09540819</td><td> 0.1366097</td><td> 0.24781478</td><td> 0.29112315</td></tr>\n",
       "\t<tr><th scope=row>rangeWS</th><td> 0.333355578</td><td> 0.281374812</td><td>-0.0251028987</td><td> 0.43679585</td><td> 0.38740939</td><td> 0.25518637</td><td> 0.127322373</td><td> 0.1173178118</td><td> 0.003037074</td><td> 0.43289469</td><td>⋯</td><td> 1.000000000</td><td> 0.078392035</td><td> 0.044767279</td><td> 0.04371437</td><td> 0.08639530</td><td> 0.82006125</td><td> 0.03142721</td><td> 0.1958831</td><td> 0.32923774</td><td> 0.34397606</td></tr>\n",
       "\t<tr><th scope=row>rangeWS/48</th><td>-0.077168449</td><td>-0.070128072</td><td>-0.0032199730</td><td>-0.14065085</td><td>-0.14455715</td><td>-0.03161906</td><td>-0.099553528</td><td>-0.1032097845</td><td>-0.014765978</td><td>-0.11359386</td><td>⋯</td><td> 0.078392035</td><td> 1.000000000</td><td> 0.888477378</td><td> 0.35303845</td><td> 0.86061905</td><td> 0.03689266</td><td> 0.11827716</td><td>-0.2319603</td><td>-0.21329661</td><td>-0.13855184</td></tr>\n",
       "\t<tr><th scope=row>rangeOBPM</th><td>-0.113200331</td><td>-0.095270373</td><td>-0.0091268050</td><td>-0.17381409</td><td>-0.15924306</td><td>-0.13708389</td><td>-0.071834847</td><td>-0.0689373812</td><td> 0.025258257</td><td>-0.16242831</td><td>⋯</td><td> 0.044767279</td><td> 0.888477378</td><td> 1.000000000</td><td> 0.37477817</td><td> 0.93816503</td><td> 0.07963493</td><td> 0.20483017</td><td>-0.3401406</td><td>-0.29297605</td><td>-0.20155855</td></tr>\n",
       "\t<tr><th scope=row>rangeDBPM</th><td>-0.087707279</td><td>-0.072857463</td><td>-0.0077206036</td><td>-0.13583524</td><td>-0.14125928</td><td> 0.03185511</td><td>-0.118240365</td><td>-0.1171770634</td><td>-0.103133545</td><td>-0.10024782</td><td>⋯</td><td> 0.043714371</td><td> 0.353038452</td><td> 0.374778174</td><td> 1.00000000</td><td> 0.50749466</td><td> 0.02764611</td><td> 0.11619807</td><td>-0.2513882</td><td>-0.23965191</td><td>-0.16674906</td></tr>\n",
       "\t<tr><th scope=row>rangeBPM</th><td>-0.106005211</td><td>-0.088998362</td><td>-0.0099974431</td><td>-0.17441354</td><td>-0.16565630</td><td>-0.10521555</td><td>-0.092145022</td><td>-0.0880391698</td><td>-0.006189865</td><td>-0.15452218</td><td>⋯</td><td> 0.086395296</td><td> 0.860619050</td><td> 0.938165031</td><td> 0.50749466</td><td> 1.00000000</td><td> 0.13797089</td><td> 0.18365200</td><td>-0.3442963</td><td>-0.29647014</td><td>-0.19950972</td></tr>\n",
       "\t<tr><th scope=row>rangeVORP</th><td> 0.421114384</td><td> 0.368155191</td><td>-0.0304457347</td><td> 0.53795711</td><td> 0.52315209</td><td> 0.10539953</td><td> 0.263221190</td><td> 0.2652137119</td><td> 0.084915897</td><td> 0.48781938</td><td>⋯</td><td> 0.820061255</td><td> 0.036892658</td><td> 0.079634932</td><td> 0.02764611</td><td> 0.13797089</td><td> 1.00000000</td><td>-0.08196789</td><td> 0.2722659</td><td> 0.43948535</td><td> 0.42694608</td></tr>\n",
       "\t<tr><th scope=row>rangeMP</th><td>-0.251369075</td><td>-0.211309410</td><td>-0.0122898571</td><td>-0.28968990</td><td>-0.26833788</td><td>-0.18548309</td><td>-0.133294810</td><td>-0.1232574242</td><td>-0.002196788</td><td>-0.26661902</td><td>⋯</td><td> 0.031427214</td><td> 0.118277160</td><td> 0.204830168</td><td> 0.11619807</td><td> 0.18365200</td><td>-0.08196789</td><td> 1.00000000</td><td>-0.4503959</td><td>-0.41048203</td><td>-0.30948722</td></tr>\n",
       "\t<tr><th scope=row>totalGames</th><td> 0.361443866</td><td> 0.319490904</td><td>-0.0568730896</td><td> 0.43693683</td><td> 0.41790222</td><td> 0.18516943</td><td> 0.227784429</td><td> 0.2119426903</td><td> 0.074814540</td><td> 0.39035420</td><td>⋯</td><td> 0.195883056</td><td>-0.231960334</td><td>-0.340140592</td><td>-0.25138817</td><td>-0.34429629</td><td> 0.27226586</td><td>-0.45039588</td><td> 1.0000000</td><td> 0.83315741</td><td> 0.58190546</td></tr>\n",
       "\t<tr><th scope=row>totalMP</th><td> 0.607797983</td><td> 0.546468441</td><td>-0.0109594445</td><td> 0.77246240</td><td> 0.77015373</td><td> 0.12506588</td><td> 0.434303840</td><td> 0.4326327535</td><td> 0.178967436</td><td> 0.67631006</td><td>⋯</td><td> 0.329237740</td><td>-0.213296610</td><td>-0.292976045</td><td>-0.23965191</td><td>-0.29647014</td><td> 0.43948535</td><td>-0.41048203</td><td> 0.8331574</td><td> 1.00000000</td><td> 0.85839632</td></tr>\n",
       "\t<tr><th scope=row>totalGamesStarted</th><td> 0.607061700</td><td> 0.545923073</td><td> 0.0089838595</td><td> 0.74903252</td><td> 0.72476608</td><td> 0.19378648</td><td> 0.331719017</td><td> 0.3265305714</td><td> 0.075154372</td><td> 0.69433291</td><td>⋯</td><td> 0.343976058</td><td>-0.138551842</td><td>-0.201558552</td><td>-0.16674906</td><td>-0.19950972</td><td> 0.42694608</td><td>-0.30948722</td><td> 0.5819055</td><td> 0.85839632</td><td> 1.00000000</td></tr>\n",
       "</tbody>\n",
       "</table>\n"
      ],
      "text/latex": [
       "A matrix: 92 × 92 of type dbl\n",
       "\\begin{tabular}{r|lllllllllllllllllllll}\n",
       "  & aav & totalValue & signYear & WAFG & WAFGA & WAFG\\% & WA3P & WA3PA & WA3P\\% & WA2P & ⋯ & rangeWS & rangeWS/48 & rangeOBPM & rangeDBPM & rangeBPM & rangeVORP & rangeMP & totalGames & totalMP & totalGamesStarted\\\\\n",
       "\\hline\n",
       "\taav &  1.00000000 &  0.94735539 &  0.159019903 &  0.70934541 &  0.668908175 &  0.203093911 &  0.39634477 &  0.389238798 &  0.117917967 &  0.62163453 & ⋯ &  0.333355578 & -0.077168449 & -0.113200331 & -0.087707279 & -0.106005211 &  0.4211143839 & -0.251369075 &  0.36144387 &  0.60779798 &  0.60706170\\\\\n",
       "\ttotalValue &  0.94735539 &  1.00000000 &  0.117180468 &  0.63982875 &  0.604801088 &  0.176438310 &  0.35267466 &  0.346053381 &  0.099000753 &  0.56254942 & ⋯ &  0.281374812 & -0.070128072 & -0.095270373 & -0.072857463 & -0.088998362 &  0.3681551911 & -0.211309410 &  0.31949090 &  0.54646844 &  0.54592307\\\\\n",
       "\tsignYear &  0.15901990 &  0.11718047 &  1.000000000 &  0.09792501 &  0.075162058 &  0.109105485 &  0.21757818 &  0.227468276 &  0.175410853 &  0.01540582 & ⋯ & -0.025102899 & -0.003219973 & -0.009126805 & -0.007720604 & -0.009997443 & -0.0304457347 & -0.012289857 & -0.05687309 & -0.01095944 &  0.00898386\\\\\n",
       "\tWAFG &  0.70934541 &  0.63982875 &  0.097925013 &  1.00000000 &  0.974712051 &  0.189595667 &  0.45025072 &  0.456828737 &  0.180216023 &  0.92354959 & ⋯ &  0.436795855 & -0.140650847 & -0.173814089 & -0.135835243 & -0.174413538 &  0.5379571096 & -0.289689902 &  0.43693683 &  0.77246240 &  0.74903252\\\\\n",
       "\tWAFGA &  0.66890817 &  0.60480109 &  0.075162058 &  0.97471205 &  1.000000000 & -0.005821945 &  0.57076377 &  0.586984659 &  0.280571063 &  0.84379609 & ⋯ &  0.387409390 & -0.144557147 & -0.159243058 & -0.141259278 & -0.165656302 &  0.5231520918 & -0.268337879 &  0.41790222 &  0.77015373 &  0.72476608\\\\\n",
       "\tWAFG\\% &  0.20309391 &  0.17643831 &  0.109105485 &  0.18959567 & -0.005821945 &  1.000000000 & -0.41706124 & -0.458639053 & -0.488741994 &  0.39058187 & ⋯ &  0.255186375 & -0.031619056 & -0.137083889 &  0.031855115 & -0.105215548 &  0.1053995256 & -0.185483091 &  0.18516943 &  0.12506588 &  0.19378648\\\\\n",
       "\tWA3P &  0.39634477 &  0.35267466 &  0.217578183 &  0.45025072 &  0.570763774 & -0.417061239 &  1.00000000 &  0.991310834 &  0.633889722 &  0.07377195 & ⋯ &  0.127322373 & -0.099553528 & -0.071834847 & -0.118240365 & -0.092145022 &  0.2632211904 & -0.133294810 &  0.22778443 &  0.43430384 &  0.33171902\\\\\n",
       "\tWA3PA &  0.38923880 &  0.34605338 &  0.227468276 &  0.45682874 &  0.586984659 & -0.458639053 &  0.99131083 &  1.000000000 &  0.630802846 &  0.08459045 & ⋯ &  0.117317812 & -0.103209785 & -0.068937381 & -0.117177063 & -0.088039170 &  0.2652137119 & -0.123257424 &  0.21194269 &  0.43263275 &  0.32653057\\\\\n",
       "\tWA3P\\% &  0.11791797 &  0.09900075 &  0.175410853 &  0.18021602 &  0.280571063 & -0.488741994 &  0.63388972 &  0.630802846 &  1.000000000 & -0.07054226 & ⋯ &  0.003037074 & -0.014765978 &  0.025258257 & -0.103133545 & -0.006189865 &  0.0849158968 & -0.002196788 &  0.07481454 &  0.17896744 &  0.07515437\\\\\n",
       "\tWA2P &  0.62163453 &  0.56254942 &  0.015405818 &  0.92354959 &  0.843796091 &  0.390581873 &  0.07377195 &  0.084590452 & -0.070542256 &  1.00000000 & ⋯ &  0.432894688 & -0.113593862 & -0.162428311 & -0.100247817 & -0.154522180 &  0.4878193806 & -0.266619024 &  0.39035420 &  0.67631006 &  0.69433291\\\\\n",
       "\tWA2PA &  0.59087925 &  0.53751535 & -0.040702759 &  0.92590840 &  0.880638308 &  0.261152217 &  0.11855526 &  0.133419322 & -0.025041410 &  0.98349603 & ⋯ &  0.405360503 & -0.117260031 & -0.155199207 & -0.104343961 & -0.151470996 &  0.4851542616 & -0.256420473 &  0.38688565 &  0.68922859 &  0.69594226\\\\\n",
       "\tWA2P\\% &  0.22951369 &  0.19334005 &  0.315694987 &  0.15970575 & -0.012850098 &  0.859644375 & -0.22776891 & -0.244281790 & -0.309089597 &  0.27560927 & ⋯ &  0.213157867 & -0.048065494 & -0.144550724 & -0.001083615 & -0.115142924 &  0.0821900606 & -0.155164950 &  0.14211232 &  0.10516276 &  0.15049754\\\\\n",
       "\tWAeFG\\% &  0.24993111 &  0.20929000 &  0.292984966 &  0.16962989 &  0.023372399 &  0.779050983 &  0.06941351 &  0.007560846 & -0.059324604 &  0.15913228 & ⋯ &  0.238208520 & -0.049026845 & -0.147034428 & -0.014151432 & -0.128214394 &  0.1013856669 & -0.209926471 &  0.22801157 &  0.17055507 &  0.17261555\\\\\n",
       "\tWAFT &  0.66361247 &  0.60875805 &  0.023162003 &  0.85821626 &  0.841271210 &  0.149212636 &  0.33500731 &  0.353070479 &  0.073374738 &  0.81492272 & ⋯ &  0.444278510 & -0.088217053 & -0.102967958 & -0.063553550 & -0.098174657 &  0.5574253296 & -0.253337625 &  0.33066375 &  0.63597992 &  0.62135513\\\\\n",
       "\tWAFTA &  0.65810349 &  0.60433233 &  0.022696453 &  0.85053701 &  0.810744383 &  0.236784446 &  0.23975328 &  0.259050219 & -0.007648428 &  0.84717572 & ⋯ &  0.453935360 & -0.087974128 & -0.111188934 & -0.060116418 & -0.102309928 &  0.5548316852 & -0.256052414 &  0.33822614 &  0.63771063 &  0.63633384\\\\\n",
       "\tWAFT\\% &  0.16616942 &  0.15082305 &  0.055937256 &  0.28289583 &  0.374504172 & -0.376796367 &  0.54249253 &  0.538474424 &  0.463441952 &  0.08305379 & ⋯ &  0.047860374 & -0.158934678 & -0.143428274 & -0.130255473 & -0.165817557 &  0.1087459436 & -0.030205734 &  0.14764028 &  0.23415887 &  0.11537382\\\\\n",
       "\tWAORB &  0.23432647 &  0.21666207 &  0.003222512 &  0.30777562 &  0.158526502 &  0.663995620 & -0.42794046 & -0.439130175 & -0.510263578 &  0.52734241 & ⋯ &  0.307947609 & -0.045808707 & -0.126218345 & -0.016670896 & -0.099443121 &  0.2025886278 & -0.149019044 &  0.24785309 &  0.29117160 &  0.39043022\\\\\n",
       "\tWADRB &  0.51029178 &  0.46055843 &  0.100840868 &  0.64011267 &  0.536210062 &  0.475054818 & -0.01241740 & -0.015322868 & -0.183347756 &  0.72034398 & ⋯ &  0.450082723 & -0.096449364 & -0.169816215 & -0.091318112 & -0.147656928 &  0.4566081453 & -0.226592734 &  0.38334447 &  0.58497806 &  0.65775871\\\\\n",
       "\tWATRB &  0.44762089 &  0.40582008 &  0.073991326 &  0.56580251 &  0.441020327 &  0.564466121 & -0.15112512 & -0.156919198 & -0.302766789 &  0.69682574 & ⋯ &  0.428483569 & -0.084399062 & -0.164482871 & -0.071555711 & -0.139358788 &  0.3981898296 & -0.213729965 &  0.35973638 &  0.52033978 &  0.60599703\\\\\n",
       "\tWAAST &  0.48225687 &  0.43419011 &  0.079138535 &  0.58766316 &  0.635407329 & -0.137000229 &  0.38854535 &  0.415356863 &  0.260809105 &  0.48997306 & ⋯ &  0.250137914 & -0.095247249 & -0.090143778 & -0.064061102 & -0.104468922 &  0.3890835167 & -0.158617707 &  0.21431342 &  0.50278155 &  0.47874200\\\\\n",
       "\tWASTL &  0.52501662 &  0.48113540 &  0.068344117 &  0.59422052 &  0.630210350 & -0.089467961 &  0.38084829 &  0.408582424 &  0.216054216 &  0.49976177 & ⋯ &  0.257327554 & -0.089587351 & -0.127348257 & -0.090074888 & -0.134399510 &  0.3779510549 & -0.166373072 &  0.31345862 &  0.61236304 &  0.59197814\\\\\n",
       "\tWABLK &  0.28088253 &  0.26727874 &  0.018073007 &  0.30107648 &  0.165666583 &  0.604867267 & -0.30120086 & -0.308686923 & -0.394131514 &  0.46523062 & ⋯ &  0.326686268 & -0.012026352 & -0.091405262 &  0.043329876 & -0.047855480 &  0.2608161615 & -0.142087454 &  0.18713967 &  0.24811933 &  0.36556148\\\\\n",
       "\tWATOV &  0.58603557 &  0.53413236 &  0.012151720 &  0.81618370 &  0.819903233 &  0.073402368 &  0.32148802 &  0.347887043 &  0.115632846 &  0.77377605 & ⋯ &  0.356115661 & -0.106184487 & -0.116469251 & -0.064222114 & -0.122652446 &  0.5048921868 & -0.226051256 &  0.32368593 &  0.65071078 &  0.65722340\\\\\n",
       "\tWAPF &  0.35457205 &  0.32962357 &  0.073503918 &  0.47094274 &  0.417128153 &  0.348914936 &  0.02535330 &  0.031262206 & -0.162812790 &  0.51431896 & ⋯ &  0.276176269 & -0.127919646 & -0.186200976 & -0.107093988 & -0.177580819 &  0.2911252020 & -0.166506994 &  0.36713016 &  0.52011275 &  0.56601141\\\\\n",
       "\tWAPTS &  0.72364981 &  0.65457790 &  0.106172427 &  0.98655096 &  0.980906820 &  0.114773693 &  0.54185741 &  0.549709828 &  0.234752925 &  0.86932341 & ⋯ &  0.438073509 & -0.135849300 & -0.159412316 & -0.129461887 & -0.161447080 &  0.5564025809 & -0.287361802 &  0.42534467 &  0.76787795 &  0.73326916\\\\\n",
       "\tWAPER &  0.60052217 &  0.54184459 &  0.050237774 &  0.76131577 &  0.647264397 &  0.583667008 &  0.07728278 &  0.061216160 & -0.141054819 &  0.81763614 & ⋯ &  0.499704808 & -0.064954256 & -0.152531854 & -0.008222542 & -0.128223546 &  0.4885766765 & -0.297059348 &  0.32716538 &  0.50372690 &  0.51824845\\\\\n",
       "\tWATS\\% &  0.34313909 &  0.29777501 &  0.276383975 &  0.29001786 &  0.152660002 &  0.754651762 &  0.12397896 &  0.065935624 & -0.043500205 &  0.27007697 & ⋯ &  0.301722201 & -0.073382814 & -0.170662657 & -0.031457379 & -0.155983517 &  0.1834309793 & -0.232886418 &  0.27355256 &  0.25621072 &  0.24293257\\\\\n",
       "\tWA3PAr & -0.04435667 & -0.04868573 &  0.209658189 & -0.13082940 &  0.006410346 & -0.678367427 &  0.71767407 &  0.725169384 &  0.686512716 & -0.45454884 & ⋯ & -0.142253821 & -0.005598538 &  0.053918433 & -0.062788805 &  0.027024677 & -0.0644428705 &  0.067041829 & -0.06478329 & -0.03427388 & -0.13471739\\\\\n",
       "\tWAFTr &  0.19104976 &  0.18547340 & -0.068625415 &  0.13507873 &  0.034147996 &  0.531599583 & -0.36047679 & -0.358649646 & -0.505621964 &  0.30530457 & ⋯ &  0.207932236 &  0.014718751 & -0.027436141 &  0.058315044 & -0.008378389 &  0.1656297045 & -0.088281645 &  0.06411579 &  0.08793812 &  0.14348645\\\\\n",
       "\tWAORB\\% & -0.01443493 & -0.01056436 & -0.046124676 & -0.04879908 & -0.203382156 &  0.721598850 & -0.62420807 & -0.644486613 & -0.684157509 &  0.21358240 & ⋯ &  0.154004736 &  0.048353984 & -0.031640703 &  0.090771988 &  0.005241086 & -0.0009573521 & -0.081630398 &  0.03079848 & -0.08041313 &  0.04111264\\\\\n",
       "\t⋮ & ⋮ & ⋮ & ⋮ & ⋮ & ⋮ & ⋮ & ⋮ & ⋮ & ⋮ & ⋮ & ⋱ & ⋮ & ⋮ & ⋮ & ⋮ & ⋮ & ⋮ & ⋮ & ⋮ & ⋮ & ⋮\\\\\n",
       "\trangeAST &  0.071289206 &  0.069757301 &  0.0458600351 &  0.14787210 &  0.20355043 & -0.22873155 &  0.138675011 &  0.1659401517 &  0.167634067 &  0.10598450 & ⋯ &  0.100591768 & -0.003425207 &  0.078427789 &  0.05227719 &  0.04925324 &  0.19777207 &  0.40594756 & -0.1261001 &  0.06021608 &  0.07657060\\\\\n",
       "\trangeSTL & -0.008641731 &  0.007709532 &  0.0528503933 & -0.06015907 & -0.02431642 & -0.20231925 &  0.017557230 &  0.0363327531 &  0.061806246 & -0.07473964 & ⋯ &  0.035932529 &  0.132348910 &  0.180043807 &  0.14287034 &  0.18482630 &  0.03565686 &  0.54166826 & -0.3058731 & -0.14903117 & -0.06375825\\\\\n",
       "\trangeBLK &  0.075418324 &  0.071324057 &  0.0045499843 &  0.03660802 & -0.05729886 &  0.37529943 & -0.298693399 & -0.3006015271 & -0.338551652 &  0.16847432 & ⋯ &  0.223001771 &  0.088563902 &  0.058990410 &  0.18234223 &  0.11081059 &  0.14933267 &  0.21257483 & -0.1260141 & -0.07426096 &  0.07289639\\\\\n",
       "\trangeTOV &  0.031418997 &  0.036312755 &  0.0164531249 &  0.18290950 &  0.20603049 & -0.10574616 &  0.041700282 &  0.0687421886 &  0.050858292 &  0.18697987 & ⋯ &  0.124563868 &  0.051007933 &  0.121064247 &  0.10345158 &  0.09328284 &  0.18114550 &  0.49604951 & -0.2143230 & -0.01804907 &  0.05096418\\\\\n",
       "\trangePF & -0.211740868 & -0.169562468 &  0.0156064114 & -0.31088232 & -0.30918150 & -0.08006670 & -0.189080694 & -0.1793271372 & -0.115043285 & -0.26743247 & ⋯ & -0.051192094 &  0.159754710 &  0.210723333 &  0.15401563 &  0.20688746 & -0.15937760 &  0.71458599 & -0.5025164 & -0.46417830 & -0.33829446\\\\\n",
       "\trangePTS &  0.087319512 &  0.099953038 &  0.0839940829 &  0.19396080 &  0.21720527 & -0.09371517 &  0.158737942 &  0.1714284973 &  0.122915132 &  0.14861838 & ⋯ &  0.352173902 &  0.033212968 &  0.155914129 &  0.08840416 &  0.11670726 &  0.34042222 &  0.64799077 & -0.1769615 & -0.02937452 &  0.00703930\\\\\n",
       "\trangePER & -0.115832738 & -0.094739769 & -0.0004972047 & -0.19068433 & -0.18961500 & -0.06379608 & -0.125680077 & -0.1243610863 & -0.034314080 & -0.15836723 & ⋯ &  0.006226754 &  0.929433618 &  0.894741685 &  0.31798138 &  0.83455717 & -0.01062637 &  0.27302923 & -0.3703432 & -0.31605259 & -0.21517665\\\\\n",
       "\trangeTS\\% & -0.218572897 & -0.183673180 &  0.0122551795 & -0.35381675 & -0.34782592 & -0.12385830 & -0.189523706 & -0.1815159401 & -0.055116192 & -0.31431742 & ⋯ & -0.097469773 &  0.337967154 &  0.402552494 &  0.20713262 &  0.40908159 & -0.17565150 &  0.54449846 & -0.6263405 & -0.52361775 & -0.36864877\\\\\n",
       "\trange3PAr & -0.173120051 & -0.151270271 &  0.0763523163 & -0.24357997 & -0.19244221 & -0.35930230 &  0.064034395 &  0.0840522236 &  0.258643234 & -0.29944792 & ⋯ & -0.159857329 &  0.184502491 &  0.241842217 &  0.06484324 &  0.21532006 & -0.16376982 &  0.39625712 & -0.4034199 & -0.32731181 & -0.25793356\\\\\n",
       "\trangeFTr & -0.168576158 & -0.142020524 & -0.0415294580 & -0.31607682 & -0.34398642 &  0.09618265 & -0.315620526 & -0.3168183422 & -0.290973336 & -0.21787863 & ⋯ & -0.093067981 &  0.198009945 &  0.234471200 &  0.24772827 &  0.23108236 & -0.15283810 &  0.30862859 & -0.4452806 & -0.41101933 & -0.27271174\\\\\n",
       "\trangeORB\\% & -0.090979917 & -0.075324347 & -0.0191077740 & -0.16290919 & -0.18679205 &  0.06367870 & -0.189073001 & -0.1944203400 & -0.105193851 & -0.10002862 & ⋯ & -0.049661442 &  0.840531700 &  0.735683826 &  0.23151028 &  0.63092425 & -0.10335561 &  0.13670484 & -0.2268610 & -0.22425823 & -0.13412888\\\\\n",
       "\trangeDRB\\% & -0.126847897 & -0.101726454 &  0.0294342401 & -0.22497151 & -0.24797036 &  0.07770290 & -0.218487976 & -0.2129998788 & -0.172101312 & -0.15716804 & ⋯ & -0.027831164 &  0.326333405 &  0.330644503 &  0.39840557 &  0.37433433 & -0.12640444 &  0.35334029 & -0.4774115 & -0.39429779 & -0.25493696\\\\\n",
       "\trangeTRB\\% & -0.123488911 & -0.101630605 &  0.0171388964 & -0.22041424 & -0.24214970 &  0.04838937 & -0.207502560 & -0.2056364760 & -0.124806428 & -0.15662094 & ⋯ & -0.052624023 &  0.742016135 &  0.660432201 &  0.30242216 &  0.61554888 & -0.12714618 &  0.29035971 & -0.4075104 & -0.34883987 & -0.21855181\\\\\n",
       "\trangeAST\\% & -0.068576157 & -0.044452588 &  0.0101452648 & -0.06109234 & -0.01780880 & -0.24402108 & -0.027931257 &  0.0002543455 &  0.053934229 & -0.05571876 & ⋯ & -0.089778118 &  0.111609858 &  0.241562327 &  0.15780640 &  0.22797906 & -0.00570403 &  0.36571294 & -0.4054634 & -0.24257215 & -0.16585832\\\\\n",
       "\trangeSTL\\% & -0.174503044 & -0.140969673 &  0.0030816454 & -0.30926147 & -0.28632210 & -0.19169404 & -0.134406522 & -0.1234950491 & -0.022230841 & -0.28727089 & ⋯ & -0.140562597 &  0.300201382 &  0.370476304 &  0.34832497 &  0.36098410 & -0.17589662 &  0.41430810 & -0.5723091 & -0.47003238 & -0.33234848\\\\\n",
       "\trangeBLK\\% & -0.104247646 & -0.087769194 &  0.0289029825 & -0.22085080 & -0.28981507 &  0.31176808 & -0.350283022 & -0.3534570585 & -0.375722585 & -0.09642140 & ⋯ &  0.015718307 &  0.231873568 &  0.187562961 &  0.37738458 &  0.26683848 & -0.07790995 &  0.19598622 & -0.3409743 & -0.34976384 & -0.20269262\\\\\n",
       "\trangeTOV\\% & -0.238311610 & -0.204332432 & -0.0246973207 & -0.37563846 & -0.37110851 & -0.09938433 & -0.257948776 & -0.2461266693 & -0.144924262 & -0.30928735 & ⋯ & -0.134742148 &  0.281432431 &  0.371894288 &  0.23687778 &  0.34971983 & -0.17850701 &  0.47915148 & -0.5823706 & -0.50986037 & -0.35881795\\\\\n",
       "\trangeUSG\\% & -0.127399295 & -0.092691304 &  0.0112717973 & -0.17031433 & -0.15355114 & -0.14038861 & -0.124582437 & -0.1034063219 & -0.013528912 & -0.13658420 & ⋯ & -0.099225215 &  0.403868135 &  0.446369712 &  0.20408642 &  0.39503204 & -0.10087493 &  0.48498647 & -0.5012521 & -0.37228774 & -0.24096807\\\\\n",
       "\trangeOWS &  0.357423068 &  0.299880208 & -0.0330475712 &  0.50050194 &  0.46344183 &  0.19792541 &  0.192449280 &  0.1838102060 &  0.061179769 &  0.47631648 & ⋯ &  0.893832326 &  0.066169520 &  0.072320789 & -0.02296968 &  0.08215738 &  0.80468705 & -0.05085773 &  0.2533857 &  0.39432214 &  0.38634855\\\\\n",
       "\trangeDWS &  0.267289318 &  0.244817307 &  0.0056121396 &  0.28498982 &  0.24229893 &  0.22186963 & -0.003359028 & -0.0044898890 & -0.084184424 &  0.31974714 & ⋯ &  0.662563940 &  0.054830179 & -0.004046959 &  0.14307387 &  0.03396871 &  0.49435334 &  0.09540819 &  0.1366097 &  0.24781478 &  0.29112315\\\\\n",
       "\trangeWS &  0.333355578 &  0.281374812 & -0.0251028987 &  0.43679585 &  0.38740939 &  0.25518637 &  0.127322373 &  0.1173178118 &  0.003037074 &  0.43289469 & ⋯ &  1.000000000 &  0.078392035 &  0.044767279 &  0.04371437 &  0.08639530 &  0.82006125 &  0.03142721 &  0.1958831 &  0.32923774 &  0.34397606\\\\\n",
       "\trangeWS/48 & -0.077168449 & -0.070128072 & -0.0032199730 & -0.14065085 & -0.14455715 & -0.03161906 & -0.099553528 & -0.1032097845 & -0.014765978 & -0.11359386 & ⋯ &  0.078392035 &  1.000000000 &  0.888477378 &  0.35303845 &  0.86061905 &  0.03689266 &  0.11827716 & -0.2319603 & -0.21329661 & -0.13855184\\\\\n",
       "\trangeOBPM & -0.113200331 & -0.095270373 & -0.0091268050 & -0.17381409 & -0.15924306 & -0.13708389 & -0.071834847 & -0.0689373812 &  0.025258257 & -0.16242831 & ⋯ &  0.044767279 &  0.888477378 &  1.000000000 &  0.37477817 &  0.93816503 &  0.07963493 &  0.20483017 & -0.3401406 & -0.29297605 & -0.20155855\\\\\n",
       "\trangeDBPM & -0.087707279 & -0.072857463 & -0.0077206036 & -0.13583524 & -0.14125928 &  0.03185511 & -0.118240365 & -0.1171770634 & -0.103133545 & -0.10024782 & ⋯ &  0.043714371 &  0.353038452 &  0.374778174 &  1.00000000 &  0.50749466 &  0.02764611 &  0.11619807 & -0.2513882 & -0.23965191 & -0.16674906\\\\\n",
       "\trangeBPM & -0.106005211 & -0.088998362 & -0.0099974431 & -0.17441354 & -0.16565630 & -0.10521555 & -0.092145022 & -0.0880391698 & -0.006189865 & -0.15452218 & ⋯ &  0.086395296 &  0.860619050 &  0.938165031 &  0.50749466 &  1.00000000 &  0.13797089 &  0.18365200 & -0.3442963 & -0.29647014 & -0.19950972\\\\\n",
       "\trangeVORP &  0.421114384 &  0.368155191 & -0.0304457347 &  0.53795711 &  0.52315209 &  0.10539953 &  0.263221190 &  0.2652137119 &  0.084915897 &  0.48781938 & ⋯ &  0.820061255 &  0.036892658 &  0.079634932 &  0.02764611 &  0.13797089 &  1.00000000 & -0.08196789 &  0.2722659 &  0.43948535 &  0.42694608\\\\\n",
       "\trangeMP & -0.251369075 & -0.211309410 & -0.0122898571 & -0.28968990 & -0.26833788 & -0.18548309 & -0.133294810 & -0.1232574242 & -0.002196788 & -0.26661902 & ⋯ &  0.031427214 &  0.118277160 &  0.204830168 &  0.11619807 &  0.18365200 & -0.08196789 &  1.00000000 & -0.4503959 & -0.41048203 & -0.30948722\\\\\n",
       "\ttotalGames &  0.361443866 &  0.319490904 & -0.0568730896 &  0.43693683 &  0.41790222 &  0.18516943 &  0.227784429 &  0.2119426903 &  0.074814540 &  0.39035420 & ⋯ &  0.195883056 & -0.231960334 & -0.340140592 & -0.25138817 & -0.34429629 &  0.27226586 & -0.45039588 &  1.0000000 &  0.83315741 &  0.58190546\\\\\n",
       "\ttotalMP &  0.607797983 &  0.546468441 & -0.0109594445 &  0.77246240 &  0.77015373 &  0.12506588 &  0.434303840 &  0.4326327535 &  0.178967436 &  0.67631006 & ⋯ &  0.329237740 & -0.213296610 & -0.292976045 & -0.23965191 & -0.29647014 &  0.43948535 & -0.41048203 &  0.8331574 &  1.00000000 &  0.85839632\\\\\n",
       "\ttotalGamesStarted &  0.607061700 &  0.545923073 &  0.0089838595 &  0.74903252 &  0.72476608 &  0.19378648 &  0.331719017 &  0.3265305714 &  0.075154372 &  0.69433291 & ⋯ &  0.343976058 & -0.138551842 & -0.201558552 & -0.16674906 & -0.19950972 &  0.42694608 & -0.30948722 &  0.5819055 &  0.85839632 &  1.00000000\\\\\n",
       "\\end{tabular}\n"
      ],
      "text/markdown": [
       "\n",
       "A matrix: 92 × 92 of type dbl\n",
       "\n",
       "| <!--/--> | aav | totalValue | signYear | WAFG | WAFGA | WAFG% | WA3P | WA3PA | WA3P% | WA2P | ⋯ | rangeWS | rangeWS/48 | rangeOBPM | rangeDBPM | rangeBPM | rangeVORP | rangeMP | totalGames | totalMP | totalGamesStarted |\n",
       "|---|---|---|---|---|---|---|---|---|---|---|---|---|---|---|---|---|---|---|---|---|---|\n",
       "| aav |  1.00000000 |  0.94735539 |  0.159019903 |  0.70934541 |  0.668908175 |  0.203093911 |  0.39634477 |  0.389238798 |  0.117917967 |  0.62163453 | ⋯ |  0.333355578 | -0.077168449 | -0.113200331 | -0.087707279 | -0.106005211 |  0.4211143839 | -0.251369075 |  0.36144387 |  0.60779798 |  0.60706170 |\n",
       "| totalValue |  0.94735539 |  1.00000000 |  0.117180468 |  0.63982875 |  0.604801088 |  0.176438310 |  0.35267466 |  0.346053381 |  0.099000753 |  0.56254942 | ⋯ |  0.281374812 | -0.070128072 | -0.095270373 | -0.072857463 | -0.088998362 |  0.3681551911 | -0.211309410 |  0.31949090 |  0.54646844 |  0.54592307 |\n",
       "| signYear |  0.15901990 |  0.11718047 |  1.000000000 |  0.09792501 |  0.075162058 |  0.109105485 |  0.21757818 |  0.227468276 |  0.175410853 |  0.01540582 | ⋯ | -0.025102899 | -0.003219973 | -0.009126805 | -0.007720604 | -0.009997443 | -0.0304457347 | -0.012289857 | -0.05687309 | -0.01095944 |  0.00898386 |\n",
       "| WAFG |  0.70934541 |  0.63982875 |  0.097925013 |  1.00000000 |  0.974712051 |  0.189595667 |  0.45025072 |  0.456828737 |  0.180216023 |  0.92354959 | ⋯ |  0.436795855 | -0.140650847 | -0.173814089 | -0.135835243 | -0.174413538 |  0.5379571096 | -0.289689902 |  0.43693683 |  0.77246240 |  0.74903252 |\n",
       "| WAFGA |  0.66890817 |  0.60480109 |  0.075162058 |  0.97471205 |  1.000000000 | -0.005821945 |  0.57076377 |  0.586984659 |  0.280571063 |  0.84379609 | ⋯ |  0.387409390 | -0.144557147 | -0.159243058 | -0.141259278 | -0.165656302 |  0.5231520918 | -0.268337879 |  0.41790222 |  0.77015373 |  0.72476608 |\n",
       "| WAFG% |  0.20309391 |  0.17643831 |  0.109105485 |  0.18959567 | -0.005821945 |  1.000000000 | -0.41706124 | -0.458639053 | -0.488741994 |  0.39058187 | ⋯ |  0.255186375 | -0.031619056 | -0.137083889 |  0.031855115 | -0.105215548 |  0.1053995256 | -0.185483091 |  0.18516943 |  0.12506588 |  0.19378648 |\n",
       "| WA3P |  0.39634477 |  0.35267466 |  0.217578183 |  0.45025072 |  0.570763774 | -0.417061239 |  1.00000000 |  0.991310834 |  0.633889722 |  0.07377195 | ⋯ |  0.127322373 | -0.099553528 | -0.071834847 | -0.118240365 | -0.092145022 |  0.2632211904 | -0.133294810 |  0.22778443 |  0.43430384 |  0.33171902 |\n",
       "| WA3PA |  0.38923880 |  0.34605338 |  0.227468276 |  0.45682874 |  0.586984659 | -0.458639053 |  0.99131083 |  1.000000000 |  0.630802846 |  0.08459045 | ⋯ |  0.117317812 | -0.103209785 | -0.068937381 | -0.117177063 | -0.088039170 |  0.2652137119 | -0.123257424 |  0.21194269 |  0.43263275 |  0.32653057 |\n",
       "| WA3P% |  0.11791797 |  0.09900075 |  0.175410853 |  0.18021602 |  0.280571063 | -0.488741994 |  0.63388972 |  0.630802846 |  1.000000000 | -0.07054226 | ⋯ |  0.003037074 | -0.014765978 |  0.025258257 | -0.103133545 | -0.006189865 |  0.0849158968 | -0.002196788 |  0.07481454 |  0.17896744 |  0.07515437 |\n",
       "| WA2P |  0.62163453 |  0.56254942 |  0.015405818 |  0.92354959 |  0.843796091 |  0.390581873 |  0.07377195 |  0.084590452 | -0.070542256 |  1.00000000 | ⋯ |  0.432894688 | -0.113593862 | -0.162428311 | -0.100247817 | -0.154522180 |  0.4878193806 | -0.266619024 |  0.39035420 |  0.67631006 |  0.69433291 |\n",
       "| WA2PA |  0.59087925 |  0.53751535 | -0.040702759 |  0.92590840 |  0.880638308 |  0.261152217 |  0.11855526 |  0.133419322 | -0.025041410 |  0.98349603 | ⋯ |  0.405360503 | -0.117260031 | -0.155199207 | -0.104343961 | -0.151470996 |  0.4851542616 | -0.256420473 |  0.38688565 |  0.68922859 |  0.69594226 |\n",
       "| WA2P% |  0.22951369 |  0.19334005 |  0.315694987 |  0.15970575 | -0.012850098 |  0.859644375 | -0.22776891 | -0.244281790 | -0.309089597 |  0.27560927 | ⋯ |  0.213157867 | -0.048065494 | -0.144550724 | -0.001083615 | -0.115142924 |  0.0821900606 | -0.155164950 |  0.14211232 |  0.10516276 |  0.15049754 |\n",
       "| WAeFG% |  0.24993111 |  0.20929000 |  0.292984966 |  0.16962989 |  0.023372399 |  0.779050983 |  0.06941351 |  0.007560846 | -0.059324604 |  0.15913228 | ⋯ |  0.238208520 | -0.049026845 | -0.147034428 | -0.014151432 | -0.128214394 |  0.1013856669 | -0.209926471 |  0.22801157 |  0.17055507 |  0.17261555 |\n",
       "| WAFT |  0.66361247 |  0.60875805 |  0.023162003 |  0.85821626 |  0.841271210 |  0.149212636 |  0.33500731 |  0.353070479 |  0.073374738 |  0.81492272 | ⋯ |  0.444278510 | -0.088217053 | -0.102967958 | -0.063553550 | -0.098174657 |  0.5574253296 | -0.253337625 |  0.33066375 |  0.63597992 |  0.62135513 |\n",
       "| WAFTA |  0.65810349 |  0.60433233 |  0.022696453 |  0.85053701 |  0.810744383 |  0.236784446 |  0.23975328 |  0.259050219 | -0.007648428 |  0.84717572 | ⋯ |  0.453935360 | -0.087974128 | -0.111188934 | -0.060116418 | -0.102309928 |  0.5548316852 | -0.256052414 |  0.33822614 |  0.63771063 |  0.63633384 |\n",
       "| WAFT% |  0.16616942 |  0.15082305 |  0.055937256 |  0.28289583 |  0.374504172 | -0.376796367 |  0.54249253 |  0.538474424 |  0.463441952 |  0.08305379 | ⋯ |  0.047860374 | -0.158934678 | -0.143428274 | -0.130255473 | -0.165817557 |  0.1087459436 | -0.030205734 |  0.14764028 |  0.23415887 |  0.11537382 |\n",
       "| WAORB |  0.23432647 |  0.21666207 |  0.003222512 |  0.30777562 |  0.158526502 |  0.663995620 | -0.42794046 | -0.439130175 | -0.510263578 |  0.52734241 | ⋯ |  0.307947609 | -0.045808707 | -0.126218345 | -0.016670896 | -0.099443121 |  0.2025886278 | -0.149019044 |  0.24785309 |  0.29117160 |  0.39043022 |\n",
       "| WADRB |  0.51029178 |  0.46055843 |  0.100840868 |  0.64011267 |  0.536210062 |  0.475054818 | -0.01241740 | -0.015322868 | -0.183347756 |  0.72034398 | ⋯ |  0.450082723 | -0.096449364 | -0.169816215 | -0.091318112 | -0.147656928 |  0.4566081453 | -0.226592734 |  0.38334447 |  0.58497806 |  0.65775871 |\n",
       "| WATRB |  0.44762089 |  0.40582008 |  0.073991326 |  0.56580251 |  0.441020327 |  0.564466121 | -0.15112512 | -0.156919198 | -0.302766789 |  0.69682574 | ⋯ |  0.428483569 | -0.084399062 | -0.164482871 | -0.071555711 | -0.139358788 |  0.3981898296 | -0.213729965 |  0.35973638 |  0.52033978 |  0.60599703 |\n",
       "| WAAST |  0.48225687 |  0.43419011 |  0.079138535 |  0.58766316 |  0.635407329 | -0.137000229 |  0.38854535 |  0.415356863 |  0.260809105 |  0.48997306 | ⋯ |  0.250137914 | -0.095247249 | -0.090143778 | -0.064061102 | -0.104468922 |  0.3890835167 | -0.158617707 |  0.21431342 |  0.50278155 |  0.47874200 |\n",
       "| WASTL |  0.52501662 |  0.48113540 |  0.068344117 |  0.59422052 |  0.630210350 | -0.089467961 |  0.38084829 |  0.408582424 |  0.216054216 |  0.49976177 | ⋯ |  0.257327554 | -0.089587351 | -0.127348257 | -0.090074888 | -0.134399510 |  0.3779510549 | -0.166373072 |  0.31345862 |  0.61236304 |  0.59197814 |\n",
       "| WABLK |  0.28088253 |  0.26727874 |  0.018073007 |  0.30107648 |  0.165666583 |  0.604867267 | -0.30120086 | -0.308686923 | -0.394131514 |  0.46523062 | ⋯ |  0.326686268 | -0.012026352 | -0.091405262 |  0.043329876 | -0.047855480 |  0.2608161615 | -0.142087454 |  0.18713967 |  0.24811933 |  0.36556148 |\n",
       "| WATOV |  0.58603557 |  0.53413236 |  0.012151720 |  0.81618370 |  0.819903233 |  0.073402368 |  0.32148802 |  0.347887043 |  0.115632846 |  0.77377605 | ⋯ |  0.356115661 | -0.106184487 | -0.116469251 | -0.064222114 | -0.122652446 |  0.5048921868 | -0.226051256 |  0.32368593 |  0.65071078 |  0.65722340 |\n",
       "| WAPF |  0.35457205 |  0.32962357 |  0.073503918 |  0.47094274 |  0.417128153 |  0.348914936 |  0.02535330 |  0.031262206 | -0.162812790 |  0.51431896 | ⋯ |  0.276176269 | -0.127919646 | -0.186200976 | -0.107093988 | -0.177580819 |  0.2911252020 | -0.166506994 |  0.36713016 |  0.52011275 |  0.56601141 |\n",
       "| WAPTS |  0.72364981 |  0.65457790 |  0.106172427 |  0.98655096 |  0.980906820 |  0.114773693 |  0.54185741 |  0.549709828 |  0.234752925 |  0.86932341 | ⋯ |  0.438073509 | -0.135849300 | -0.159412316 | -0.129461887 | -0.161447080 |  0.5564025809 | -0.287361802 |  0.42534467 |  0.76787795 |  0.73326916 |\n",
       "| WAPER |  0.60052217 |  0.54184459 |  0.050237774 |  0.76131577 |  0.647264397 |  0.583667008 |  0.07728278 |  0.061216160 | -0.141054819 |  0.81763614 | ⋯ |  0.499704808 | -0.064954256 | -0.152531854 | -0.008222542 | -0.128223546 |  0.4885766765 | -0.297059348 |  0.32716538 |  0.50372690 |  0.51824845 |\n",
       "| WATS% |  0.34313909 |  0.29777501 |  0.276383975 |  0.29001786 |  0.152660002 |  0.754651762 |  0.12397896 |  0.065935624 | -0.043500205 |  0.27007697 | ⋯ |  0.301722201 | -0.073382814 | -0.170662657 | -0.031457379 | -0.155983517 |  0.1834309793 | -0.232886418 |  0.27355256 |  0.25621072 |  0.24293257 |\n",
       "| WA3PAr | -0.04435667 | -0.04868573 |  0.209658189 | -0.13082940 |  0.006410346 | -0.678367427 |  0.71767407 |  0.725169384 |  0.686512716 | -0.45454884 | ⋯ | -0.142253821 | -0.005598538 |  0.053918433 | -0.062788805 |  0.027024677 | -0.0644428705 |  0.067041829 | -0.06478329 | -0.03427388 | -0.13471739 |\n",
       "| WAFTr |  0.19104976 |  0.18547340 | -0.068625415 |  0.13507873 |  0.034147996 |  0.531599583 | -0.36047679 | -0.358649646 | -0.505621964 |  0.30530457 | ⋯ |  0.207932236 |  0.014718751 | -0.027436141 |  0.058315044 | -0.008378389 |  0.1656297045 | -0.088281645 |  0.06411579 |  0.08793812 |  0.14348645 |\n",
       "| WAORB% | -0.01443493 | -0.01056436 | -0.046124676 | -0.04879908 | -0.203382156 |  0.721598850 | -0.62420807 | -0.644486613 | -0.684157509 |  0.21358240 | ⋯ |  0.154004736 |  0.048353984 | -0.031640703 |  0.090771988 |  0.005241086 | -0.0009573521 | -0.081630398 |  0.03079848 | -0.08041313 |  0.04111264 |\n",
       "| ⋮ | ⋮ | ⋮ | ⋮ | ⋮ | ⋮ | ⋮ | ⋮ | ⋮ | ⋮ | ⋮ | ⋱ | ⋮ | ⋮ | ⋮ | ⋮ | ⋮ | ⋮ | ⋮ | ⋮ | ⋮ | ⋮ |\n",
       "| rangeAST |  0.071289206 |  0.069757301 |  0.0458600351 |  0.14787210 |  0.20355043 | -0.22873155 |  0.138675011 |  0.1659401517 |  0.167634067 |  0.10598450 | ⋯ |  0.100591768 | -0.003425207 |  0.078427789 |  0.05227719 |  0.04925324 |  0.19777207 |  0.40594756 | -0.1261001 |  0.06021608 |  0.07657060 |\n",
       "| rangeSTL | -0.008641731 |  0.007709532 |  0.0528503933 | -0.06015907 | -0.02431642 | -0.20231925 |  0.017557230 |  0.0363327531 |  0.061806246 | -0.07473964 | ⋯ |  0.035932529 |  0.132348910 |  0.180043807 |  0.14287034 |  0.18482630 |  0.03565686 |  0.54166826 | -0.3058731 | -0.14903117 | -0.06375825 |\n",
       "| rangeBLK |  0.075418324 |  0.071324057 |  0.0045499843 |  0.03660802 | -0.05729886 |  0.37529943 | -0.298693399 | -0.3006015271 | -0.338551652 |  0.16847432 | ⋯ |  0.223001771 |  0.088563902 |  0.058990410 |  0.18234223 |  0.11081059 |  0.14933267 |  0.21257483 | -0.1260141 | -0.07426096 |  0.07289639 |\n",
       "| rangeTOV |  0.031418997 |  0.036312755 |  0.0164531249 |  0.18290950 |  0.20603049 | -0.10574616 |  0.041700282 |  0.0687421886 |  0.050858292 |  0.18697987 | ⋯ |  0.124563868 |  0.051007933 |  0.121064247 |  0.10345158 |  0.09328284 |  0.18114550 |  0.49604951 | -0.2143230 | -0.01804907 |  0.05096418 |\n",
       "| rangePF | -0.211740868 | -0.169562468 |  0.0156064114 | -0.31088232 | -0.30918150 | -0.08006670 | -0.189080694 | -0.1793271372 | -0.115043285 | -0.26743247 | ⋯ | -0.051192094 |  0.159754710 |  0.210723333 |  0.15401563 |  0.20688746 | -0.15937760 |  0.71458599 | -0.5025164 | -0.46417830 | -0.33829446 |\n",
       "| rangePTS |  0.087319512 |  0.099953038 |  0.0839940829 |  0.19396080 |  0.21720527 | -0.09371517 |  0.158737942 |  0.1714284973 |  0.122915132 |  0.14861838 | ⋯ |  0.352173902 |  0.033212968 |  0.155914129 |  0.08840416 |  0.11670726 |  0.34042222 |  0.64799077 | -0.1769615 | -0.02937452 |  0.00703930 |\n",
       "| rangePER | -0.115832738 | -0.094739769 | -0.0004972047 | -0.19068433 | -0.18961500 | -0.06379608 | -0.125680077 | -0.1243610863 | -0.034314080 | -0.15836723 | ⋯ |  0.006226754 |  0.929433618 |  0.894741685 |  0.31798138 |  0.83455717 | -0.01062637 |  0.27302923 | -0.3703432 | -0.31605259 | -0.21517665 |\n",
       "| rangeTS% | -0.218572897 | -0.183673180 |  0.0122551795 | -0.35381675 | -0.34782592 | -0.12385830 | -0.189523706 | -0.1815159401 | -0.055116192 | -0.31431742 | ⋯ | -0.097469773 |  0.337967154 |  0.402552494 |  0.20713262 |  0.40908159 | -0.17565150 |  0.54449846 | -0.6263405 | -0.52361775 | -0.36864877 |\n",
       "| range3PAr | -0.173120051 | -0.151270271 |  0.0763523163 | -0.24357997 | -0.19244221 | -0.35930230 |  0.064034395 |  0.0840522236 |  0.258643234 | -0.29944792 | ⋯ | -0.159857329 |  0.184502491 |  0.241842217 |  0.06484324 |  0.21532006 | -0.16376982 |  0.39625712 | -0.4034199 | -0.32731181 | -0.25793356 |\n",
       "| rangeFTr | -0.168576158 | -0.142020524 | -0.0415294580 | -0.31607682 | -0.34398642 |  0.09618265 | -0.315620526 | -0.3168183422 | -0.290973336 | -0.21787863 | ⋯ | -0.093067981 |  0.198009945 |  0.234471200 |  0.24772827 |  0.23108236 | -0.15283810 |  0.30862859 | -0.4452806 | -0.41101933 | -0.27271174 |\n",
       "| rangeORB% | -0.090979917 | -0.075324347 | -0.0191077740 | -0.16290919 | -0.18679205 |  0.06367870 | -0.189073001 | -0.1944203400 | -0.105193851 | -0.10002862 | ⋯ | -0.049661442 |  0.840531700 |  0.735683826 |  0.23151028 |  0.63092425 | -0.10335561 |  0.13670484 | -0.2268610 | -0.22425823 | -0.13412888 |\n",
       "| rangeDRB% | -0.126847897 | -0.101726454 |  0.0294342401 | -0.22497151 | -0.24797036 |  0.07770290 | -0.218487976 | -0.2129998788 | -0.172101312 | -0.15716804 | ⋯ | -0.027831164 |  0.326333405 |  0.330644503 |  0.39840557 |  0.37433433 | -0.12640444 |  0.35334029 | -0.4774115 | -0.39429779 | -0.25493696 |\n",
       "| rangeTRB% | -0.123488911 | -0.101630605 |  0.0171388964 | -0.22041424 | -0.24214970 |  0.04838937 | -0.207502560 | -0.2056364760 | -0.124806428 | -0.15662094 | ⋯ | -0.052624023 |  0.742016135 |  0.660432201 |  0.30242216 |  0.61554888 | -0.12714618 |  0.29035971 | -0.4075104 | -0.34883987 | -0.21855181 |\n",
       "| rangeAST% | -0.068576157 | -0.044452588 |  0.0101452648 | -0.06109234 | -0.01780880 | -0.24402108 | -0.027931257 |  0.0002543455 |  0.053934229 | -0.05571876 | ⋯ | -0.089778118 |  0.111609858 |  0.241562327 |  0.15780640 |  0.22797906 | -0.00570403 |  0.36571294 | -0.4054634 | -0.24257215 | -0.16585832 |\n",
       "| rangeSTL% | -0.174503044 | -0.140969673 |  0.0030816454 | -0.30926147 | -0.28632210 | -0.19169404 | -0.134406522 | -0.1234950491 | -0.022230841 | -0.28727089 | ⋯ | -0.140562597 |  0.300201382 |  0.370476304 |  0.34832497 |  0.36098410 | -0.17589662 |  0.41430810 | -0.5723091 | -0.47003238 | -0.33234848 |\n",
       "| rangeBLK% | -0.104247646 | -0.087769194 |  0.0289029825 | -0.22085080 | -0.28981507 |  0.31176808 | -0.350283022 | -0.3534570585 | -0.375722585 | -0.09642140 | ⋯ |  0.015718307 |  0.231873568 |  0.187562961 |  0.37738458 |  0.26683848 | -0.07790995 |  0.19598622 | -0.3409743 | -0.34976384 | -0.20269262 |\n",
       "| rangeTOV% | -0.238311610 | -0.204332432 | -0.0246973207 | -0.37563846 | -0.37110851 | -0.09938433 | -0.257948776 | -0.2461266693 | -0.144924262 | -0.30928735 | ⋯ | -0.134742148 |  0.281432431 |  0.371894288 |  0.23687778 |  0.34971983 | -0.17850701 |  0.47915148 | -0.5823706 | -0.50986037 | -0.35881795 |\n",
       "| rangeUSG% | -0.127399295 | -0.092691304 |  0.0112717973 | -0.17031433 | -0.15355114 | -0.14038861 | -0.124582437 | -0.1034063219 | -0.013528912 | -0.13658420 | ⋯ | -0.099225215 |  0.403868135 |  0.446369712 |  0.20408642 |  0.39503204 | -0.10087493 |  0.48498647 | -0.5012521 | -0.37228774 | -0.24096807 |\n",
       "| rangeOWS |  0.357423068 |  0.299880208 | -0.0330475712 |  0.50050194 |  0.46344183 |  0.19792541 |  0.192449280 |  0.1838102060 |  0.061179769 |  0.47631648 | ⋯ |  0.893832326 |  0.066169520 |  0.072320789 | -0.02296968 |  0.08215738 |  0.80468705 | -0.05085773 |  0.2533857 |  0.39432214 |  0.38634855 |\n",
       "| rangeDWS |  0.267289318 |  0.244817307 |  0.0056121396 |  0.28498982 |  0.24229893 |  0.22186963 | -0.003359028 | -0.0044898890 | -0.084184424 |  0.31974714 | ⋯ |  0.662563940 |  0.054830179 | -0.004046959 |  0.14307387 |  0.03396871 |  0.49435334 |  0.09540819 |  0.1366097 |  0.24781478 |  0.29112315 |\n",
       "| rangeWS |  0.333355578 |  0.281374812 | -0.0251028987 |  0.43679585 |  0.38740939 |  0.25518637 |  0.127322373 |  0.1173178118 |  0.003037074 |  0.43289469 | ⋯ |  1.000000000 |  0.078392035 |  0.044767279 |  0.04371437 |  0.08639530 |  0.82006125 |  0.03142721 |  0.1958831 |  0.32923774 |  0.34397606 |\n",
       "| rangeWS/48 | -0.077168449 | -0.070128072 | -0.0032199730 | -0.14065085 | -0.14455715 | -0.03161906 | -0.099553528 | -0.1032097845 | -0.014765978 | -0.11359386 | ⋯ |  0.078392035 |  1.000000000 |  0.888477378 |  0.35303845 |  0.86061905 |  0.03689266 |  0.11827716 | -0.2319603 | -0.21329661 | -0.13855184 |\n",
       "| rangeOBPM | -0.113200331 | -0.095270373 | -0.0091268050 | -0.17381409 | -0.15924306 | -0.13708389 | -0.071834847 | -0.0689373812 |  0.025258257 | -0.16242831 | ⋯ |  0.044767279 |  0.888477378 |  1.000000000 |  0.37477817 |  0.93816503 |  0.07963493 |  0.20483017 | -0.3401406 | -0.29297605 | -0.20155855 |\n",
       "| rangeDBPM | -0.087707279 | -0.072857463 | -0.0077206036 | -0.13583524 | -0.14125928 |  0.03185511 | -0.118240365 | -0.1171770634 | -0.103133545 | -0.10024782 | ⋯ |  0.043714371 |  0.353038452 |  0.374778174 |  1.00000000 |  0.50749466 |  0.02764611 |  0.11619807 | -0.2513882 | -0.23965191 | -0.16674906 |\n",
       "| rangeBPM | -0.106005211 | -0.088998362 | -0.0099974431 | -0.17441354 | -0.16565630 | -0.10521555 | -0.092145022 | -0.0880391698 | -0.006189865 | -0.15452218 | ⋯ |  0.086395296 |  0.860619050 |  0.938165031 |  0.50749466 |  1.00000000 |  0.13797089 |  0.18365200 | -0.3442963 | -0.29647014 | -0.19950972 |\n",
       "| rangeVORP |  0.421114384 |  0.368155191 | -0.0304457347 |  0.53795711 |  0.52315209 |  0.10539953 |  0.263221190 |  0.2652137119 |  0.084915897 |  0.48781938 | ⋯ |  0.820061255 |  0.036892658 |  0.079634932 |  0.02764611 |  0.13797089 |  1.00000000 | -0.08196789 |  0.2722659 |  0.43948535 |  0.42694608 |\n",
       "| rangeMP | -0.251369075 | -0.211309410 | -0.0122898571 | -0.28968990 | -0.26833788 | -0.18548309 | -0.133294810 | -0.1232574242 | -0.002196788 | -0.26661902 | ⋯ |  0.031427214 |  0.118277160 |  0.204830168 |  0.11619807 |  0.18365200 | -0.08196789 |  1.00000000 | -0.4503959 | -0.41048203 | -0.30948722 |\n",
       "| totalGames |  0.361443866 |  0.319490904 | -0.0568730896 |  0.43693683 |  0.41790222 |  0.18516943 |  0.227784429 |  0.2119426903 |  0.074814540 |  0.39035420 | ⋯ |  0.195883056 | -0.231960334 | -0.340140592 | -0.25138817 | -0.34429629 |  0.27226586 | -0.45039588 |  1.0000000 |  0.83315741 |  0.58190546 |\n",
       "| totalMP |  0.607797983 |  0.546468441 | -0.0109594445 |  0.77246240 |  0.77015373 |  0.12506588 |  0.434303840 |  0.4326327535 |  0.178967436 |  0.67631006 | ⋯ |  0.329237740 | -0.213296610 | -0.292976045 | -0.23965191 | -0.29647014 |  0.43948535 | -0.41048203 |  0.8331574 |  1.00000000 |  0.85839632 |\n",
       "| totalGamesStarted |  0.607061700 |  0.545923073 |  0.0089838595 |  0.74903252 |  0.72476608 |  0.19378648 |  0.331719017 |  0.3265305714 |  0.075154372 |  0.69433291 | ⋯ |  0.343976058 | -0.138551842 | -0.201558552 | -0.16674906 | -0.19950972 |  0.42694608 | -0.30948722 |  0.5819055 |  0.85839632 |  1.00000000 |\n",
       "\n"
      ],
      "text/plain": [
       "                  aav          totalValue   signYear      WAFG       \n",
       "aav                1.00000000   0.94735539   0.159019903   0.70934541\n",
       "totalValue         0.94735539   1.00000000   0.117180468   0.63982875\n",
       "signYear           0.15901990   0.11718047   1.000000000   0.09792501\n",
       "WAFG               0.70934541   0.63982875   0.097925013   1.00000000\n",
       "WAFGA              0.66890817   0.60480109   0.075162058   0.97471205\n",
       "WAFG%              0.20309391   0.17643831   0.109105485   0.18959567\n",
       "WA3P               0.39634477   0.35267466   0.217578183   0.45025072\n",
       "WA3PA              0.38923880   0.34605338   0.227468276   0.45682874\n",
       "WA3P%              0.11791797   0.09900075   0.175410853   0.18021602\n",
       "WA2P               0.62163453   0.56254942   0.015405818   0.92354959\n",
       "WA2PA              0.59087925   0.53751535  -0.040702759   0.92590840\n",
       "WA2P%              0.22951369   0.19334005   0.315694987   0.15970575\n",
       "WAeFG%             0.24993111   0.20929000   0.292984966   0.16962989\n",
       "WAFT               0.66361247   0.60875805   0.023162003   0.85821626\n",
       "WAFTA              0.65810349   0.60433233   0.022696453   0.85053701\n",
       "WAFT%              0.16616942   0.15082305   0.055937256   0.28289583\n",
       "WAORB              0.23432647   0.21666207   0.003222512   0.30777562\n",
       "WADRB              0.51029178   0.46055843   0.100840868   0.64011267\n",
       "WATRB              0.44762089   0.40582008   0.073991326   0.56580251\n",
       "WAAST              0.48225687   0.43419011   0.079138535   0.58766316\n",
       "WASTL              0.52501662   0.48113540   0.068344117   0.59422052\n",
       "WABLK              0.28088253   0.26727874   0.018073007   0.30107648\n",
       "WATOV              0.58603557   0.53413236   0.012151720   0.81618370\n",
       "WAPF               0.35457205   0.32962357   0.073503918   0.47094274\n",
       "WAPTS              0.72364981   0.65457790   0.106172427   0.98655096\n",
       "WAPER              0.60052217   0.54184459   0.050237774   0.76131577\n",
       "WATS%              0.34313909   0.29777501   0.276383975   0.29001786\n",
       "WA3PAr            -0.04435667  -0.04868573   0.209658189  -0.13082940\n",
       "WAFTr              0.19104976   0.18547340  -0.068625415   0.13507873\n",
       "WAORB%            -0.01443493  -0.01056436  -0.046124676  -0.04879908\n",
       "⋮                 ⋮            ⋮            ⋮             ⋮          \n",
       "rangeAST           0.071289206  0.069757301  0.0458600351  0.14787210\n",
       "rangeSTL          -0.008641731  0.007709532  0.0528503933 -0.06015907\n",
       "rangeBLK           0.075418324  0.071324057  0.0045499843  0.03660802\n",
       "rangeTOV           0.031418997  0.036312755  0.0164531249  0.18290950\n",
       "rangePF           -0.211740868 -0.169562468  0.0156064114 -0.31088232\n",
       "rangePTS           0.087319512  0.099953038  0.0839940829  0.19396080\n",
       "rangePER          -0.115832738 -0.094739769 -0.0004972047 -0.19068433\n",
       "rangeTS%          -0.218572897 -0.183673180  0.0122551795 -0.35381675\n",
       "range3PAr         -0.173120051 -0.151270271  0.0763523163 -0.24357997\n",
       "rangeFTr          -0.168576158 -0.142020524 -0.0415294580 -0.31607682\n",
       "rangeORB%         -0.090979917 -0.075324347 -0.0191077740 -0.16290919\n",
       "rangeDRB%         -0.126847897 -0.101726454  0.0294342401 -0.22497151\n",
       "rangeTRB%         -0.123488911 -0.101630605  0.0171388964 -0.22041424\n",
       "rangeAST%         -0.068576157 -0.044452588  0.0101452648 -0.06109234\n",
       "rangeSTL%         -0.174503044 -0.140969673  0.0030816454 -0.30926147\n",
       "rangeBLK%         -0.104247646 -0.087769194  0.0289029825 -0.22085080\n",
       "rangeTOV%         -0.238311610 -0.204332432 -0.0246973207 -0.37563846\n",
       "rangeUSG%         -0.127399295 -0.092691304  0.0112717973 -0.17031433\n",
       "rangeOWS           0.357423068  0.299880208 -0.0330475712  0.50050194\n",
       "rangeDWS           0.267289318  0.244817307  0.0056121396  0.28498982\n",
       "rangeWS            0.333355578  0.281374812 -0.0251028987  0.43679585\n",
       "rangeWS/48        -0.077168449 -0.070128072 -0.0032199730 -0.14065085\n",
       "rangeOBPM         -0.113200331 -0.095270373 -0.0091268050 -0.17381409\n",
       "rangeDBPM         -0.087707279 -0.072857463 -0.0077206036 -0.13583524\n",
       "rangeBPM          -0.106005211 -0.088998362 -0.0099974431 -0.17441354\n",
       "rangeVORP          0.421114384  0.368155191 -0.0304457347  0.53795711\n",
       "rangeMP           -0.251369075 -0.211309410 -0.0122898571 -0.28968990\n",
       "totalGames         0.361443866  0.319490904 -0.0568730896  0.43693683\n",
       "totalMP            0.607797983  0.546468441 -0.0109594445  0.77246240\n",
       "totalGamesStarted  0.607061700  0.545923073  0.0089838595  0.74903252\n",
       "                  WAFGA        WAFG%        WA3P         WA3PA        \n",
       "aav                0.668908175  0.203093911  0.39634477   0.389238798 \n",
       "totalValue         0.604801088  0.176438310  0.35267466   0.346053381 \n",
       "signYear           0.075162058  0.109105485  0.21757818   0.227468276 \n",
       "WAFG               0.974712051  0.189595667  0.45025072   0.456828737 \n",
       "WAFGA              1.000000000 -0.005821945  0.57076377   0.586984659 \n",
       "WAFG%             -0.005821945  1.000000000 -0.41706124  -0.458639053 \n",
       "WA3P               0.570763774 -0.417061239  1.00000000   0.991310834 \n",
       "WA3PA              0.586984659 -0.458639053  0.99131083   1.000000000 \n",
       "WA3P%              0.280571063 -0.488741994  0.63388972   0.630802846 \n",
       "WA2P               0.843796091  0.390581873  0.07377195   0.084590452 \n",
       "WA2PA              0.880638308  0.261152217  0.11855526   0.133419322 \n",
       "WA2P%             -0.012850098  0.859644375 -0.22776891  -0.244281790 \n",
       "WAeFG%             0.023372399  0.779050983  0.06941351   0.007560846 \n",
       "WAFT               0.841271210  0.149212636  0.33500731   0.353070479 \n",
       "WAFTA              0.810744383  0.236784446  0.23975328   0.259050219 \n",
       "WAFT%              0.374504172 -0.376796367  0.54249253   0.538474424 \n",
       "WAORB              0.158526502  0.663995620 -0.42794046  -0.439130175 \n",
       "WADRB              0.536210062  0.475054818 -0.01241740  -0.015322868 \n",
       "WATRB              0.441020327  0.564466121 -0.15112512  -0.156919198 \n",
       "WAAST              0.635407329 -0.137000229  0.38854535   0.415356863 \n",
       "WASTL              0.630210350 -0.089467961  0.38084829   0.408582424 \n",
       "WABLK              0.165666583  0.604867267 -0.30120086  -0.308686923 \n",
       "WATOV              0.819903233  0.073402368  0.32148802   0.347887043 \n",
       "WAPF               0.417128153  0.348914936  0.02535330   0.031262206 \n",
       "WAPTS              0.980906820  0.114773693  0.54185741   0.549709828 \n",
       "WAPER              0.647264397  0.583667008  0.07728278   0.061216160 \n",
       "WATS%              0.152660002  0.754651762  0.12397896   0.065935624 \n",
       "WA3PAr             0.006410346 -0.678367427  0.71767407   0.725169384 \n",
       "WAFTr              0.034147996  0.531599583 -0.36047679  -0.358649646 \n",
       "WAORB%            -0.203382156  0.721598850 -0.62420807  -0.644486613 \n",
       "⋮                 ⋮            ⋮            ⋮            ⋮            \n",
       "rangeAST           0.20355043  -0.22873155   0.138675011  0.1659401517\n",
       "rangeSTL          -0.02431642  -0.20231925   0.017557230  0.0363327531\n",
       "rangeBLK          -0.05729886   0.37529943  -0.298693399 -0.3006015271\n",
       "rangeTOV           0.20603049  -0.10574616   0.041700282  0.0687421886\n",
       "rangePF           -0.30918150  -0.08006670  -0.189080694 -0.1793271372\n",
       "rangePTS           0.21720527  -0.09371517   0.158737942  0.1714284973\n",
       "rangePER          -0.18961500  -0.06379608  -0.125680077 -0.1243610863\n",
       "rangeTS%          -0.34782592  -0.12385830  -0.189523706 -0.1815159401\n",
       "range3PAr         -0.19244221  -0.35930230   0.064034395  0.0840522236\n",
       "rangeFTr          -0.34398642   0.09618265  -0.315620526 -0.3168183422\n",
       "rangeORB%         -0.18679205   0.06367870  -0.189073001 -0.1944203400\n",
       "rangeDRB%         -0.24797036   0.07770290  -0.218487976 -0.2129998788\n",
       "rangeTRB%         -0.24214970   0.04838937  -0.207502560 -0.2056364760\n",
       "rangeAST%         -0.01780880  -0.24402108  -0.027931257  0.0002543455\n",
       "rangeSTL%         -0.28632210  -0.19169404  -0.134406522 -0.1234950491\n",
       "rangeBLK%         -0.28981507   0.31176808  -0.350283022 -0.3534570585\n",
       "rangeTOV%         -0.37110851  -0.09938433  -0.257948776 -0.2461266693\n",
       "rangeUSG%         -0.15355114  -0.14038861  -0.124582437 -0.1034063219\n",
       "rangeOWS           0.46344183   0.19792541   0.192449280  0.1838102060\n",
       "rangeDWS           0.24229893   0.22186963  -0.003359028 -0.0044898890\n",
       "rangeWS            0.38740939   0.25518637   0.127322373  0.1173178118\n",
       "rangeWS/48        -0.14455715  -0.03161906  -0.099553528 -0.1032097845\n",
       "rangeOBPM         -0.15924306  -0.13708389  -0.071834847 -0.0689373812\n",
       "rangeDBPM         -0.14125928   0.03185511  -0.118240365 -0.1171770634\n",
       "rangeBPM          -0.16565630  -0.10521555  -0.092145022 -0.0880391698\n",
       "rangeVORP          0.52315209   0.10539953   0.263221190  0.2652137119\n",
       "rangeMP           -0.26833788  -0.18548309  -0.133294810 -0.1232574242\n",
       "totalGames         0.41790222   0.18516943   0.227784429  0.2119426903\n",
       "totalMP            0.77015373   0.12506588   0.434303840  0.4326327535\n",
       "totalGamesStarted  0.72476608   0.19378648   0.331719017  0.3265305714\n",
       "                  WA3P%        WA2P        ⋯ rangeWS      rangeWS/48  \n",
       "aav                0.117917967  0.62163453 ⋯  0.333355578 -0.077168449\n",
       "totalValue         0.099000753  0.56254942 ⋯  0.281374812 -0.070128072\n",
       "signYear           0.175410853  0.01540582 ⋯ -0.025102899 -0.003219973\n",
       "WAFG               0.180216023  0.92354959 ⋯  0.436795855 -0.140650847\n",
       "WAFGA              0.280571063  0.84379609 ⋯  0.387409390 -0.144557147\n",
       "WAFG%             -0.488741994  0.39058187 ⋯  0.255186375 -0.031619056\n",
       "WA3P               0.633889722  0.07377195 ⋯  0.127322373 -0.099553528\n",
       "WA3PA              0.630802846  0.08459045 ⋯  0.117317812 -0.103209785\n",
       "WA3P%              1.000000000 -0.07054226 ⋯  0.003037074 -0.014765978\n",
       "WA2P              -0.070542256  1.00000000 ⋯  0.432894688 -0.113593862\n",
       "WA2PA             -0.025041410  0.98349603 ⋯  0.405360503 -0.117260031\n",
       "WA2P%             -0.309089597  0.27560927 ⋯  0.213157867 -0.048065494\n",
       "WAeFG%            -0.059324604  0.15913228 ⋯  0.238208520 -0.049026845\n",
       "WAFT               0.073374738  0.81492272 ⋯  0.444278510 -0.088217053\n",
       "WAFTA             -0.007648428  0.84717572 ⋯  0.453935360 -0.087974128\n",
       "WAFT%              0.463441952  0.08305379 ⋯  0.047860374 -0.158934678\n",
       "WAORB             -0.510263578  0.52734241 ⋯  0.307947609 -0.045808707\n",
       "WADRB             -0.183347756  0.72034398 ⋯  0.450082723 -0.096449364\n",
       "WATRB             -0.302766789  0.69682574 ⋯  0.428483569 -0.084399062\n",
       "WAAST              0.260809105  0.48997306 ⋯  0.250137914 -0.095247249\n",
       "WASTL              0.216054216  0.49976177 ⋯  0.257327554 -0.089587351\n",
       "WABLK             -0.394131514  0.46523062 ⋯  0.326686268 -0.012026352\n",
       "WATOV              0.115632846  0.77377605 ⋯  0.356115661 -0.106184487\n",
       "WAPF              -0.162812790  0.51431896 ⋯  0.276176269 -0.127919646\n",
       "WAPTS              0.234752925  0.86932341 ⋯  0.438073509 -0.135849300\n",
       "WAPER             -0.141054819  0.81763614 ⋯  0.499704808 -0.064954256\n",
       "WATS%             -0.043500205  0.27007697 ⋯  0.301722201 -0.073382814\n",
       "WA3PAr             0.686512716 -0.45454884 ⋯ -0.142253821 -0.005598538\n",
       "WAFTr             -0.505621964  0.30530457 ⋯  0.207932236  0.014718751\n",
       "WAORB%            -0.684157509  0.21358240 ⋯  0.154004736  0.048353984\n",
       "⋮                 ⋮            ⋮           ⋱ ⋮            ⋮           \n",
       "rangeAST           0.167634067  0.10598450 ⋯  0.100591768 -0.003425207\n",
       "rangeSTL           0.061806246 -0.07473964 ⋯  0.035932529  0.132348910\n",
       "rangeBLK          -0.338551652  0.16847432 ⋯  0.223001771  0.088563902\n",
       "rangeTOV           0.050858292  0.18697987 ⋯  0.124563868  0.051007933\n",
       "rangePF           -0.115043285 -0.26743247 ⋯ -0.051192094  0.159754710\n",
       "rangePTS           0.122915132  0.14861838 ⋯  0.352173902  0.033212968\n",
       "rangePER          -0.034314080 -0.15836723 ⋯  0.006226754  0.929433618\n",
       "rangeTS%          -0.055116192 -0.31431742 ⋯ -0.097469773  0.337967154\n",
       "range3PAr          0.258643234 -0.29944792 ⋯ -0.159857329  0.184502491\n",
       "rangeFTr          -0.290973336 -0.21787863 ⋯ -0.093067981  0.198009945\n",
       "rangeORB%         -0.105193851 -0.10002862 ⋯ -0.049661442  0.840531700\n",
       "rangeDRB%         -0.172101312 -0.15716804 ⋯ -0.027831164  0.326333405\n",
       "rangeTRB%         -0.124806428 -0.15662094 ⋯ -0.052624023  0.742016135\n",
       "rangeAST%          0.053934229 -0.05571876 ⋯ -0.089778118  0.111609858\n",
       "rangeSTL%         -0.022230841 -0.28727089 ⋯ -0.140562597  0.300201382\n",
       "rangeBLK%         -0.375722585 -0.09642140 ⋯  0.015718307  0.231873568\n",
       "rangeTOV%         -0.144924262 -0.30928735 ⋯ -0.134742148  0.281432431\n",
       "rangeUSG%         -0.013528912 -0.13658420 ⋯ -0.099225215  0.403868135\n",
       "rangeOWS           0.061179769  0.47631648 ⋯  0.893832326  0.066169520\n",
       "rangeDWS          -0.084184424  0.31974714 ⋯  0.662563940  0.054830179\n",
       "rangeWS            0.003037074  0.43289469 ⋯  1.000000000  0.078392035\n",
       "rangeWS/48        -0.014765978 -0.11359386 ⋯  0.078392035  1.000000000\n",
       "rangeOBPM          0.025258257 -0.16242831 ⋯  0.044767279  0.888477378\n",
       "rangeDBPM         -0.103133545 -0.10024782 ⋯  0.043714371  0.353038452\n",
       "rangeBPM          -0.006189865 -0.15452218 ⋯  0.086395296  0.860619050\n",
       "rangeVORP          0.084915897  0.48781938 ⋯  0.820061255  0.036892658\n",
       "rangeMP           -0.002196788 -0.26661902 ⋯  0.031427214  0.118277160\n",
       "totalGames         0.074814540  0.39035420 ⋯  0.195883056 -0.231960334\n",
       "totalMP            0.178967436  0.67631006 ⋯  0.329237740 -0.213296610\n",
       "totalGamesStarted  0.075154372  0.69433291 ⋯  0.343976058 -0.138551842\n",
       "                  rangeOBPM    rangeDBPM    rangeBPM     rangeVORP    \n",
       "aav               -0.113200331 -0.087707279 -0.106005211  0.4211143839\n",
       "totalValue        -0.095270373 -0.072857463 -0.088998362  0.3681551911\n",
       "signYear          -0.009126805 -0.007720604 -0.009997443 -0.0304457347\n",
       "WAFG              -0.173814089 -0.135835243 -0.174413538  0.5379571096\n",
       "WAFGA             -0.159243058 -0.141259278 -0.165656302  0.5231520918\n",
       "WAFG%             -0.137083889  0.031855115 -0.105215548  0.1053995256\n",
       "WA3P              -0.071834847 -0.118240365 -0.092145022  0.2632211904\n",
       "WA3PA             -0.068937381 -0.117177063 -0.088039170  0.2652137119\n",
       "WA3P%              0.025258257 -0.103133545 -0.006189865  0.0849158968\n",
       "WA2P              -0.162428311 -0.100247817 -0.154522180  0.4878193806\n",
       "WA2PA             -0.155199207 -0.104343961 -0.151470996  0.4851542616\n",
       "WA2P%             -0.144550724 -0.001083615 -0.115142924  0.0821900606\n",
       "WAeFG%            -0.147034428 -0.014151432 -0.128214394  0.1013856669\n",
       "WAFT              -0.102967958 -0.063553550 -0.098174657  0.5574253296\n",
       "WAFTA             -0.111188934 -0.060116418 -0.102309928  0.5548316852\n",
       "WAFT%             -0.143428274 -0.130255473 -0.165817557  0.1087459436\n",
       "WAORB             -0.126218345 -0.016670896 -0.099443121  0.2025886278\n",
       "WADRB             -0.169816215 -0.091318112 -0.147656928  0.4566081453\n",
       "WATRB             -0.164482871 -0.071555711 -0.139358788  0.3981898296\n",
       "WAAST             -0.090143778 -0.064061102 -0.104468922  0.3890835167\n",
       "WASTL             -0.127348257 -0.090074888 -0.134399510  0.3779510549\n",
       "WABLK             -0.091405262  0.043329876 -0.047855480  0.2608161615\n",
       "WATOV             -0.116469251 -0.064222114 -0.122652446  0.5048921868\n",
       "WAPF              -0.186200976 -0.107093988 -0.177580819  0.2911252020\n",
       "WAPTS             -0.159412316 -0.129461887 -0.161447080  0.5564025809\n",
       "WAPER             -0.152531854 -0.008222542 -0.128223546  0.4885766765\n",
       "WATS%             -0.170662657 -0.031457379 -0.155983517  0.1834309793\n",
       "WA3PAr             0.053918433 -0.062788805  0.027024677 -0.0644428705\n",
       "WAFTr             -0.027436141  0.058315044 -0.008378389  0.1656297045\n",
       "WAORB%            -0.031640703  0.090771988  0.005241086 -0.0009573521\n",
       "⋮                 ⋮            ⋮            ⋮            ⋮            \n",
       "rangeAST           0.078427789  0.05227719   0.04925324   0.19777207  \n",
       "rangeSTL           0.180043807  0.14287034   0.18482630   0.03565686  \n",
       "rangeBLK           0.058990410  0.18234223   0.11081059   0.14933267  \n",
       "rangeTOV           0.121064247  0.10345158   0.09328284   0.18114550  \n",
       "rangePF            0.210723333  0.15401563   0.20688746  -0.15937760  \n",
       "rangePTS           0.155914129  0.08840416   0.11670726   0.34042222  \n",
       "rangePER           0.894741685  0.31798138   0.83455717  -0.01062637  \n",
       "rangeTS%           0.402552494  0.20713262   0.40908159  -0.17565150  \n",
       "range3PAr          0.241842217  0.06484324   0.21532006  -0.16376982  \n",
       "rangeFTr           0.234471200  0.24772827   0.23108236  -0.15283810  \n",
       "rangeORB%          0.735683826  0.23151028   0.63092425  -0.10335561  \n",
       "rangeDRB%          0.330644503  0.39840557   0.37433433  -0.12640444  \n",
       "rangeTRB%          0.660432201  0.30242216   0.61554888  -0.12714618  \n",
       "rangeAST%          0.241562327  0.15780640   0.22797906  -0.00570403  \n",
       "rangeSTL%          0.370476304  0.34832497   0.36098410  -0.17589662  \n",
       "rangeBLK%          0.187562961  0.37738458   0.26683848  -0.07790995  \n",
       "rangeTOV%          0.371894288  0.23687778   0.34971983  -0.17850701  \n",
       "rangeUSG%          0.446369712  0.20408642   0.39503204  -0.10087493  \n",
       "rangeOWS           0.072320789 -0.02296968   0.08215738   0.80468705  \n",
       "rangeDWS          -0.004046959  0.14307387   0.03396871   0.49435334  \n",
       "rangeWS            0.044767279  0.04371437   0.08639530   0.82006125  \n",
       "rangeWS/48         0.888477378  0.35303845   0.86061905   0.03689266  \n",
       "rangeOBPM          1.000000000  0.37477817   0.93816503   0.07963493  \n",
       "rangeDBPM          0.374778174  1.00000000   0.50749466   0.02764611  \n",
       "rangeBPM           0.938165031  0.50749466   1.00000000   0.13797089  \n",
       "rangeVORP          0.079634932  0.02764611   0.13797089   1.00000000  \n",
       "rangeMP            0.204830168  0.11619807   0.18365200  -0.08196789  \n",
       "totalGames        -0.340140592 -0.25138817  -0.34429629   0.27226586  \n",
       "totalMP           -0.292976045 -0.23965191  -0.29647014   0.43948535  \n",
       "totalGamesStarted -0.201558552 -0.16674906  -0.19950972   0.42694608  \n",
       "                  rangeMP      totalGames  totalMP     totalGamesStarted\n",
       "aav               -0.251369075  0.36144387  0.60779798  0.60706170      \n",
       "totalValue        -0.211309410  0.31949090  0.54646844  0.54592307      \n",
       "signYear          -0.012289857 -0.05687309 -0.01095944  0.00898386      \n",
       "WAFG              -0.289689902  0.43693683  0.77246240  0.74903252      \n",
       "WAFGA             -0.268337879  0.41790222  0.77015373  0.72476608      \n",
       "WAFG%             -0.185483091  0.18516943  0.12506588  0.19378648      \n",
       "WA3P              -0.133294810  0.22778443  0.43430384  0.33171902      \n",
       "WA3PA             -0.123257424  0.21194269  0.43263275  0.32653057      \n",
       "WA3P%             -0.002196788  0.07481454  0.17896744  0.07515437      \n",
       "WA2P              -0.266619024  0.39035420  0.67631006  0.69433291      \n",
       "WA2PA             -0.256420473  0.38688565  0.68922859  0.69594226      \n",
       "WA2P%             -0.155164950  0.14211232  0.10516276  0.15049754      \n",
       "WAeFG%            -0.209926471  0.22801157  0.17055507  0.17261555      \n",
       "WAFT              -0.253337625  0.33066375  0.63597992  0.62135513      \n",
       "WAFTA             -0.256052414  0.33822614  0.63771063  0.63633384      \n",
       "WAFT%             -0.030205734  0.14764028  0.23415887  0.11537382      \n",
       "WAORB             -0.149019044  0.24785309  0.29117160  0.39043022      \n",
       "WADRB             -0.226592734  0.38334447  0.58497806  0.65775871      \n",
       "WATRB             -0.213729965  0.35973638  0.52033978  0.60599703      \n",
       "WAAST             -0.158617707  0.21431342  0.50278155  0.47874200      \n",
       "WASTL             -0.166373072  0.31345862  0.61236304  0.59197814      \n",
       "WABLK             -0.142087454  0.18713967  0.24811933  0.36556148      \n",
       "WATOV             -0.226051256  0.32368593  0.65071078  0.65722340      \n",
       "WAPF              -0.166506994  0.36713016  0.52011275  0.56601141      \n",
       "WAPTS             -0.287361802  0.42534467  0.76787795  0.73326916      \n",
       "WAPER             -0.297059348  0.32716538  0.50372690  0.51824845      \n",
       "WATS%             -0.232886418  0.27355256  0.25621072  0.24293257      \n",
       "WA3PAr             0.067041829 -0.06478329 -0.03427388 -0.13471739      \n",
       "WAFTr             -0.088281645  0.06411579  0.08793812  0.14348645      \n",
       "WAORB%            -0.081630398  0.03079848 -0.08041313  0.04111264      \n",
       "⋮                 ⋮            ⋮           ⋮           ⋮                \n",
       "rangeAST           0.40594756  -0.1261001   0.06021608  0.07657060      \n",
       "rangeSTL           0.54166826  -0.3058731  -0.14903117 -0.06375825      \n",
       "rangeBLK           0.21257483  -0.1260141  -0.07426096  0.07289639      \n",
       "rangeTOV           0.49604951  -0.2143230  -0.01804907  0.05096418      \n",
       "rangePF            0.71458599  -0.5025164  -0.46417830 -0.33829446      \n",
       "rangePTS           0.64799077  -0.1769615  -0.02937452  0.00703930      \n",
       "rangePER           0.27302923  -0.3703432  -0.31605259 -0.21517665      \n",
       "rangeTS%           0.54449846  -0.6263405  -0.52361775 -0.36864877      \n",
       "range3PAr          0.39625712  -0.4034199  -0.32731181 -0.25793356      \n",
       "rangeFTr           0.30862859  -0.4452806  -0.41101933 -0.27271174      \n",
       "rangeORB%          0.13670484  -0.2268610  -0.22425823 -0.13412888      \n",
       "rangeDRB%          0.35334029  -0.4774115  -0.39429779 -0.25493696      \n",
       "rangeTRB%          0.29035971  -0.4075104  -0.34883987 -0.21855181      \n",
       "rangeAST%          0.36571294  -0.4054634  -0.24257215 -0.16585832      \n",
       "rangeSTL%          0.41430810  -0.5723091  -0.47003238 -0.33234848      \n",
       "rangeBLK%          0.19598622  -0.3409743  -0.34976384 -0.20269262      \n",
       "rangeTOV%          0.47915148  -0.5823706  -0.50986037 -0.35881795      \n",
       "rangeUSG%          0.48498647  -0.5012521  -0.37228774 -0.24096807      \n",
       "rangeOWS          -0.05085773   0.2533857   0.39432214  0.38634855      \n",
       "rangeDWS           0.09540819   0.1366097   0.24781478  0.29112315      \n",
       "rangeWS            0.03142721   0.1958831   0.32923774  0.34397606      \n",
       "rangeWS/48         0.11827716  -0.2319603  -0.21329661 -0.13855184      \n",
       "rangeOBPM          0.20483017  -0.3401406  -0.29297605 -0.20155855      \n",
       "rangeDBPM          0.11619807  -0.2513882  -0.23965191 -0.16674906      \n",
       "rangeBPM           0.18365200  -0.3442963  -0.29647014 -0.19950972      \n",
       "rangeVORP         -0.08196789   0.2722659   0.43948535  0.42694608      \n",
       "rangeMP            1.00000000  -0.4503959  -0.41048203 -0.30948722      \n",
       "totalGames        -0.45039588   1.0000000   0.83315741  0.58190546      \n",
       "totalMP           -0.41048203   0.8331574   1.00000000  0.85839632      \n",
       "totalGamesStarted -0.30948722   0.5819055   0.85839632  1.00000000      "
      ]
     },
     "metadata": {},
     "output_type": "display_data"
    }
   ],
   "source": [
    "corr_matrix"
   ]
  },
  {
   "cell_type": "code",
   "execution_count": 39,
   "id": "9e794c0d",
   "metadata": {
    "execution": {
     "iopub.execute_input": "2022-04-25T06:21:19.935110Z",
     "iopub.status.busy": "2022-04-25T06:21:19.933463Z",
     "iopub.status.idle": "2022-04-25T06:21:19.952571Z",
     "shell.execute_reply": "2022-04-25T06:21:19.950568Z"
    },
    "papermill": {
     "duration": 0.048546,
     "end_time": "2022-04-25T06:21:19.955275",
     "exception": false,
     "start_time": "2022-04-25T06:21:19.906729",
     "status": "completed"
    },
    "tags": []
   },
   "outputs": [
    {
     "data": {
      "text/html": [
       "106"
      ],
      "text/latex": [
       "106"
      ],
      "text/markdown": [
       "106"
      ],
      "text/plain": [
       "[1] 106"
      ]
     },
     "metadata": {},
     "output_type": "display_data"
    }
   ],
   "source": [
    "# count number of instances where there is a high correlation\n",
    "sum(rowSums(((abs(corr_matrix)>.80)&(abs(corr_matrix)<1))))/2"
   ]
  },
  {
   "cell_type": "code",
   "execution_count": 40,
   "id": "7f6b1bd8",
   "metadata": {
    "execution": {
     "iopub.execute_input": "2022-04-25T06:21:20.007512Z",
     "iopub.status.busy": "2022-04-25T06:21:20.005780Z",
     "iopub.status.idle": "2022-04-25T06:21:20.029169Z",
     "shell.execute_reply": "2022-04-25T06:21:20.026968Z"
    },
    "papermill": {
     "duration": 0.05235,
     "end_time": "2022-04-25T06:21:20.031849",
     "exception": false,
     "start_time": "2022-04-25T06:21:19.979499",
     "status": "completed"
    },
    "tags": []
   },
   "outputs": [
    {
     "data": {
      "text/html": [
       "<table class=\"dataframe\">\n",
       "<caption>A matrix: 3 × 3 of type dbl</caption>\n",
       "<thead>\n",
       "\t<tr><th></th><th scope=col>totalMP</th><th scope=col>rangeMP</th><th scope=col>WAMP</th></tr>\n",
       "</thead>\n",
       "<tbody>\n",
       "\t<tr><th scope=row>totalMP</th><td> 1.0000000</td><td>-0.4104820</td><td> 0.8971025</td></tr>\n",
       "\t<tr><th scope=row>rangeMP</th><td>-0.4104820</td><td> 1.0000000</td><td>-0.2571583</td></tr>\n",
       "\t<tr><th scope=row>WAMP</th><td> 0.8971025</td><td>-0.2571583</td><td> 1.0000000</td></tr>\n",
       "</tbody>\n",
       "</table>\n"
      ],
      "text/latex": [
       "A matrix: 3 × 3 of type dbl\n",
       "\\begin{tabular}{r|lll}\n",
       "  & totalMP & rangeMP & WAMP\\\\\n",
       "\\hline\n",
       "\ttotalMP &  1.0000000 & -0.4104820 &  0.8971025\\\\\n",
       "\trangeMP & -0.4104820 &  1.0000000 & -0.2571583\\\\\n",
       "\tWAMP &  0.8971025 & -0.2571583 &  1.0000000\\\\\n",
       "\\end{tabular}\n"
      ],
      "text/markdown": [
       "\n",
       "A matrix: 3 × 3 of type dbl\n",
       "\n",
       "| <!--/--> | totalMP | rangeMP | WAMP |\n",
       "|---|---|---|---|\n",
       "| totalMP |  1.0000000 | -0.4104820 |  0.8971025 |\n",
       "| rangeMP | -0.4104820 |  1.0000000 | -0.2571583 |\n",
       "| WAMP |  0.8971025 | -0.2571583 |  1.0000000 |\n",
       "\n"
      ],
      "text/plain": [
       "        totalMP    rangeMP    WAMP      \n",
       "totalMP  1.0000000 -0.4104820  0.8971025\n",
       "rangeMP -0.4104820  1.0000000 -0.2571583\n",
       "WAMP     0.8971025 -0.2571583  1.0000000"
      ]
     },
     "metadata": {},
     "output_type": "display_data"
    }
   ],
   "source": [
    "corr_matrix[c('totalMP','rangeMP','WAMP'), c('totalMP','rangeMP','WAMP')]"
   ]
  },
  {
   "cell_type": "code",
   "execution_count": 41,
   "id": "3e919f4c",
   "metadata": {
    "execution": {
     "iopub.execute_input": "2022-04-25T06:21:20.084876Z",
     "iopub.status.busy": "2022-04-25T06:21:20.083290Z",
     "iopub.status.idle": "2022-04-25T06:21:20.103962Z",
     "shell.execute_reply": "2022-04-25T06:21:20.101647Z"
    },
    "papermill": {
     "duration": 0.049803,
     "end_time": "2022-04-25T06:21:20.106610",
     "exception": false,
     "start_time": "2022-04-25T06:21:20.056807",
     "status": "completed"
    },
    "tags": []
   },
   "outputs": [
    {
     "data": {
      "text/html": [
       "<style>\n",
       ".list-inline {list-style: none; margin:0; padding: 0}\n",
       ".list-inline>li {display: inline-block}\n",
       ".list-inline>li:not(:last-child)::after {content: \"\\00b7\"; padding: 0 .5ex}\n",
       "</style>\n",
       "<ol class=list-inline><li>'aav'</li><li>'totalValue'</li><li>'signYear'</li><li>'WAFG'</li><li>'WAFGA'</li><li>'WAFG%'</li><li>'WA3P'</li><li>'WA3PA'</li><li>'WA3P%'</li><li>'WA2P'</li><li>'WA2PA'</li><li>'WA2P%'</li><li>'WAeFG%'</li><li>'WAFT'</li><li>'WAFTA'</li><li>'WAFT%'</li><li>'WAORB'</li><li>'WADRB'</li><li>'WATRB'</li><li>'WAAST'</li><li>'WASTL'</li><li>'WABLK'</li><li>'WATOV'</li><li>'WAPF'</li><li>'WAPTS'</li><li>'WAPER'</li><li>'WATS%'</li><li>'WA3PAr'</li><li>'WAFTr'</li><li>'WAORB%'</li><li>'WADRB%'</li><li>'WATRB%'</li><li>'WAAST%'</li><li>'WASTL%'</li><li>'WABLK%'</li><li>'WATOV%'</li><li>'WAUSG%'</li><li>'WAOWS'</li><li>'WADWS'</li><li>'WAWS'</li><li>'WAWS/48'</li><li>'WAOBPM'</li><li>'WADBPM'</li><li>'WABPM'</li><li>'WAVORP'</li><li>'WAMP'</li><li>'rangeFG'</li><li>'rangeFGA'</li><li>'rangeFG%'</li><li>'range3P'</li><li>'range3PA'</li><li>'range3P%'</li><li>'range2P'</li><li>'range2PA'</li><li>'range2P%'</li><li>'rangeeFG%'</li><li>'rangeFT'</li><li>'rangeFTA'</li><li>'rangeFT%'</li><li>'rangeORB'</li><li>'rangeDRB'</li><li>'rangeTRB'</li><li>'rangeAST'</li><li>'rangeSTL'</li><li>'rangeBLK'</li><li>'rangeTOV'</li><li>'rangePF'</li><li>'rangePTS'</li><li>'rangePER'</li><li>'rangeTS%'</li><li>'range3PAr'</li><li>'rangeFTr'</li><li>'rangeORB%'</li><li>'rangeDRB%'</li><li>'rangeTRB%'</li><li>'rangeAST%'</li><li>'rangeSTL%'</li><li>'rangeBLK%'</li><li>'rangeTOV%'</li><li>'rangeUSG%'</li><li>'rangeOWS'</li><li>'rangeDWS'</li><li>'rangeWS'</li><li>'rangeWS/48'</li><li>'rangeOBPM'</li><li>'rangeDBPM'</li><li>'rangeBPM'</li><li>'rangeVORP'</li><li>'rangeMP'</li><li>'totalGames'</li><li>'totalMP'</li><li>'totalGamesStarted'</li></ol>\n"
      ],
      "text/latex": [
       "\\begin{enumerate*}\n",
       "\\item 'aav'\n",
       "\\item 'totalValue'\n",
       "\\item 'signYear'\n",
       "\\item 'WAFG'\n",
       "\\item 'WAFGA'\n",
       "\\item 'WAFG\\%'\n",
       "\\item 'WA3P'\n",
       "\\item 'WA3PA'\n",
       "\\item 'WA3P\\%'\n",
       "\\item 'WA2P'\n",
       "\\item 'WA2PA'\n",
       "\\item 'WA2P\\%'\n",
       "\\item 'WAeFG\\%'\n",
       "\\item 'WAFT'\n",
       "\\item 'WAFTA'\n",
       "\\item 'WAFT\\%'\n",
       "\\item 'WAORB'\n",
       "\\item 'WADRB'\n",
       "\\item 'WATRB'\n",
       "\\item 'WAAST'\n",
       "\\item 'WASTL'\n",
       "\\item 'WABLK'\n",
       "\\item 'WATOV'\n",
       "\\item 'WAPF'\n",
       "\\item 'WAPTS'\n",
       "\\item 'WAPER'\n",
       "\\item 'WATS\\%'\n",
       "\\item 'WA3PAr'\n",
       "\\item 'WAFTr'\n",
       "\\item 'WAORB\\%'\n",
       "\\item 'WADRB\\%'\n",
       "\\item 'WATRB\\%'\n",
       "\\item 'WAAST\\%'\n",
       "\\item 'WASTL\\%'\n",
       "\\item 'WABLK\\%'\n",
       "\\item 'WATOV\\%'\n",
       "\\item 'WAUSG\\%'\n",
       "\\item 'WAOWS'\n",
       "\\item 'WADWS'\n",
       "\\item 'WAWS'\n",
       "\\item 'WAWS/48'\n",
       "\\item 'WAOBPM'\n",
       "\\item 'WADBPM'\n",
       "\\item 'WABPM'\n",
       "\\item 'WAVORP'\n",
       "\\item 'WAMP'\n",
       "\\item 'rangeFG'\n",
       "\\item 'rangeFGA'\n",
       "\\item 'rangeFG\\%'\n",
       "\\item 'range3P'\n",
       "\\item 'range3PA'\n",
       "\\item 'range3P\\%'\n",
       "\\item 'range2P'\n",
       "\\item 'range2PA'\n",
       "\\item 'range2P\\%'\n",
       "\\item 'rangeeFG\\%'\n",
       "\\item 'rangeFT'\n",
       "\\item 'rangeFTA'\n",
       "\\item 'rangeFT\\%'\n",
       "\\item 'rangeORB'\n",
       "\\item 'rangeDRB'\n",
       "\\item 'rangeTRB'\n",
       "\\item 'rangeAST'\n",
       "\\item 'rangeSTL'\n",
       "\\item 'rangeBLK'\n",
       "\\item 'rangeTOV'\n",
       "\\item 'rangePF'\n",
       "\\item 'rangePTS'\n",
       "\\item 'rangePER'\n",
       "\\item 'rangeTS\\%'\n",
       "\\item 'range3PAr'\n",
       "\\item 'rangeFTr'\n",
       "\\item 'rangeORB\\%'\n",
       "\\item 'rangeDRB\\%'\n",
       "\\item 'rangeTRB\\%'\n",
       "\\item 'rangeAST\\%'\n",
       "\\item 'rangeSTL\\%'\n",
       "\\item 'rangeBLK\\%'\n",
       "\\item 'rangeTOV\\%'\n",
       "\\item 'rangeUSG\\%'\n",
       "\\item 'rangeOWS'\n",
       "\\item 'rangeDWS'\n",
       "\\item 'rangeWS'\n",
       "\\item 'rangeWS/48'\n",
       "\\item 'rangeOBPM'\n",
       "\\item 'rangeDBPM'\n",
       "\\item 'rangeBPM'\n",
       "\\item 'rangeVORP'\n",
       "\\item 'rangeMP'\n",
       "\\item 'totalGames'\n",
       "\\item 'totalMP'\n",
       "\\item 'totalGamesStarted'\n",
       "\\end{enumerate*}\n"
      ],
      "text/markdown": [
       "1. 'aav'\n",
       "2. 'totalValue'\n",
       "3. 'signYear'\n",
       "4. 'WAFG'\n",
       "5. 'WAFGA'\n",
       "6. 'WAFG%'\n",
       "7. 'WA3P'\n",
       "8. 'WA3PA'\n",
       "9. 'WA3P%'\n",
       "10. 'WA2P'\n",
       "11. 'WA2PA'\n",
       "12. 'WA2P%'\n",
       "13. 'WAeFG%'\n",
       "14. 'WAFT'\n",
       "15. 'WAFTA'\n",
       "16. 'WAFT%'\n",
       "17. 'WAORB'\n",
       "18. 'WADRB'\n",
       "19. 'WATRB'\n",
       "20. 'WAAST'\n",
       "21. 'WASTL'\n",
       "22. 'WABLK'\n",
       "23. 'WATOV'\n",
       "24. 'WAPF'\n",
       "25. 'WAPTS'\n",
       "26. 'WAPER'\n",
       "27. 'WATS%'\n",
       "28. 'WA3PAr'\n",
       "29. 'WAFTr'\n",
       "30. 'WAORB%'\n",
       "31. 'WADRB%'\n",
       "32. 'WATRB%'\n",
       "33. 'WAAST%'\n",
       "34. 'WASTL%'\n",
       "35. 'WABLK%'\n",
       "36. 'WATOV%'\n",
       "37. 'WAUSG%'\n",
       "38. 'WAOWS'\n",
       "39. 'WADWS'\n",
       "40. 'WAWS'\n",
       "41. 'WAWS/48'\n",
       "42. 'WAOBPM'\n",
       "43. 'WADBPM'\n",
       "44. 'WABPM'\n",
       "45. 'WAVORP'\n",
       "46. 'WAMP'\n",
       "47. 'rangeFG'\n",
       "48. 'rangeFGA'\n",
       "49. 'rangeFG%'\n",
       "50. 'range3P'\n",
       "51. 'range3PA'\n",
       "52. 'range3P%'\n",
       "53. 'range2P'\n",
       "54. 'range2PA'\n",
       "55. 'range2P%'\n",
       "56. 'rangeeFG%'\n",
       "57. 'rangeFT'\n",
       "58. 'rangeFTA'\n",
       "59. 'rangeFT%'\n",
       "60. 'rangeORB'\n",
       "61. 'rangeDRB'\n",
       "62. 'rangeTRB'\n",
       "63. 'rangeAST'\n",
       "64. 'rangeSTL'\n",
       "65. 'rangeBLK'\n",
       "66. 'rangeTOV'\n",
       "67. 'rangePF'\n",
       "68. 'rangePTS'\n",
       "69. 'rangePER'\n",
       "70. 'rangeTS%'\n",
       "71. 'range3PAr'\n",
       "72. 'rangeFTr'\n",
       "73. 'rangeORB%'\n",
       "74. 'rangeDRB%'\n",
       "75. 'rangeTRB%'\n",
       "76. 'rangeAST%'\n",
       "77. 'rangeSTL%'\n",
       "78. 'rangeBLK%'\n",
       "79. 'rangeTOV%'\n",
       "80. 'rangeUSG%'\n",
       "81. 'rangeOWS'\n",
       "82. 'rangeDWS'\n",
       "83. 'rangeWS'\n",
       "84. 'rangeWS/48'\n",
       "85. 'rangeOBPM'\n",
       "86. 'rangeDBPM'\n",
       "87. 'rangeBPM'\n",
       "88. 'rangeVORP'\n",
       "89. 'rangeMP'\n",
       "90. 'totalGames'\n",
       "91. 'totalMP'\n",
       "92. 'totalGamesStarted'\n",
       "\n",
       "\n"
      ],
      "text/plain": [
       " [1] \"aav\"               \"totalValue\"        \"signYear\"         \n",
       " [4] \"WAFG\"              \"WAFGA\"             \"WAFG%\"            \n",
       " [7] \"WA3P\"              \"WA3PA\"             \"WA3P%\"            \n",
       "[10] \"WA2P\"              \"WA2PA\"             \"WA2P%\"            \n",
       "[13] \"WAeFG%\"            \"WAFT\"              \"WAFTA\"            \n",
       "[16] \"WAFT%\"             \"WAORB\"             \"WADRB\"            \n",
       "[19] \"WATRB\"             \"WAAST\"             \"WASTL\"            \n",
       "[22] \"WABLK\"             \"WATOV\"             \"WAPF\"             \n",
       "[25] \"WAPTS\"             \"WAPER\"             \"WATS%\"            \n",
       "[28] \"WA3PAr\"            \"WAFTr\"             \"WAORB%\"           \n",
       "[31] \"WADRB%\"            \"WATRB%\"            \"WAAST%\"           \n",
       "[34] \"WASTL%\"            \"WABLK%\"            \"WATOV%\"           \n",
       "[37] \"WAUSG%\"            \"WAOWS\"             \"WADWS\"            \n",
       "[40] \"WAWS\"              \"WAWS/48\"           \"WAOBPM\"           \n",
       "[43] \"WADBPM\"            \"WABPM\"             \"WAVORP\"           \n",
       "[46] \"WAMP\"              \"rangeFG\"           \"rangeFGA\"         \n",
       "[49] \"rangeFG%\"          \"range3P\"           \"range3PA\"         \n",
       "[52] \"range3P%\"          \"range2P\"           \"range2PA\"         \n",
       "[55] \"range2P%\"          \"rangeeFG%\"         \"rangeFT\"          \n",
       "[58] \"rangeFTA\"          \"rangeFT%\"          \"rangeORB\"         \n",
       "[61] \"rangeDRB\"          \"rangeTRB\"          \"rangeAST\"         \n",
       "[64] \"rangeSTL\"          \"rangeBLK\"          \"rangeTOV\"         \n",
       "[67] \"rangePF\"           \"rangePTS\"          \"rangePER\"         \n",
       "[70] \"rangeTS%\"          \"range3PAr\"         \"rangeFTr\"         \n",
       "[73] \"rangeORB%\"         \"rangeDRB%\"         \"rangeTRB%\"        \n",
       "[76] \"rangeAST%\"         \"rangeSTL%\"         \"rangeBLK%\"        \n",
       "[79] \"rangeTOV%\"         \"rangeUSG%\"         \"rangeOWS\"         \n",
       "[82] \"rangeDWS\"          \"rangeWS\"           \"rangeWS/48\"       \n",
       "[85] \"rangeOBPM\"         \"rangeDBPM\"         \"rangeBPM\"         \n",
       "[88] \"rangeVORP\"         \"rangeMP\"           \"totalGames\"       \n",
       "[91] \"totalMP\"           \"totalGamesStarted\""
      ]
     },
     "metadata": {},
     "output_type": "display_data"
    }
   ],
   "source": [
    "colnames(corr_matrix)"
   ]
  },
  {
   "cell_type": "code",
   "execution_count": 42,
   "id": "325a6f97",
   "metadata": {
    "execution": {
     "iopub.execute_input": "2022-04-25T06:21:20.159659Z",
     "iopub.status.busy": "2022-04-25T06:21:20.157963Z",
     "iopub.status.idle": "2022-04-25T06:21:20.173073Z",
     "shell.execute_reply": "2022-04-25T06:21:20.171250Z"
    },
    "papermill": {
     "duration": 0.044316,
     "end_time": "2022-04-25T06:21:20.175868",
     "exception": false,
     "start_time": "2022-04-25T06:21:20.131552",
     "status": "completed"
    },
    "tags": []
   },
   "outputs": [],
   "source": [
    "# total rebound stats will also be removed since it's the sum of offensive and \n",
    "# defensive rebound. likewise for BPM which is related closely to OBPM and DBPM\n",
    "# basically, any column that has a direct and obvious calculation with other columns\n",
    "# will be removed\n",
    "remove_cols = c('WAFGA','rangeFGA', 'WA3PA','range3PA', 'WA2PA',\n",
    "                   'range2PA','WAFTA','rangeFTA','WATRB','rangeTRB',\n",
    "                  'WATRB%','rangeTRB%','WABPM','rangeBPM','WAWS', 'rangeWS',\n",
    "                  'totalMP')"
   ]
  },
  {
   "cell_type": "code",
   "execution_count": 43,
   "id": "d2e2590a",
   "metadata": {
    "execution": {
     "iopub.execute_input": "2022-04-25T06:21:20.229221Z",
     "iopub.status.busy": "2022-04-25T06:21:20.227658Z",
     "iopub.status.idle": "2022-04-25T06:21:20.289877Z",
     "shell.execute_reply": "2022-04-25T06:21:20.287996Z"
    },
    "papermill": {
     "duration": 0.091428,
     "end_time": "2022-04-25T06:21:20.292514",
     "exception": false,
     "start_time": "2022-04-25T06:21:20.201086",
     "status": "completed"
    },
    "tags": []
   },
   "outputs": [
    {
     "data": {
      "text/html": [
       "87"
      ],
      "text/latex": [
       "87"
      ],
      "text/markdown": [
       "87"
      ],
      "text/plain": [
       "[1] 87"
      ]
     },
     "metadata": {},
     "output_type": "display_data"
    },
    {
     "data": {
      "text/html": [
       "87"
      ],
      "text/latex": [
       "87"
      ],
      "text/markdown": [
       "87"
      ],
      "text/plain": [
       "[1] 87"
      ]
     },
     "metadata": {},
     "output_type": "display_data"
    },
    {
     "data": {
      "text/html": [
       "87"
      ],
      "text/latex": [
       "87"
      ],
      "text/markdown": [
       "87"
      ],
      "text/plain": [
       "[1] 87"
      ]
     },
     "metadata": {},
     "output_type": "display_data"
    }
   ],
   "source": [
    "for(i in remove_cols){\n",
    "    sigPlayers[, i] = NULL\n",
    "    sigPlayersNonWaived[, i] =NULL\n",
    "    lowGamesPlayers[, i] =NULL\n",
    "}\n",
    "ncol(sigPlayers)\n",
    "ncol(sigPlayersNonWaived)\n",
    "ncol(lowGamesPlayers)"
   ]
  },
  {
   "cell_type": "code",
   "execution_count": 44,
   "id": "f4d72d9d",
   "metadata": {
    "execution": {
     "iopub.execute_input": "2022-04-25T06:21:20.347501Z",
     "iopub.status.busy": "2022-04-25T06:21:20.345970Z",
     "iopub.status.idle": "2022-04-25T06:21:20.369452Z",
     "shell.execute_reply": "2022-04-25T06:21:20.367317Z"
    },
    "papermill": {
     "duration": 0.054041,
     "end_time": "2022-04-25T06:21:20.372408",
     "exception": false,
     "start_time": "2022-04-25T06:21:20.318367",
     "status": "completed"
    },
    "tags": []
   },
   "outputs": [
    {
     "data": {
      "text/html": [
       "<table class=\"dataframe\">\n",
       "<caption>A matrix: 3 × 3 of type dbl</caption>\n",
       "<thead>\n",
       "\t<tr><th></th><th scope=col>WAPTS</th><th scope=col>WAOWS</th><th scope=col>WAOBPM</th></tr>\n",
       "</thead>\n",
       "<tbody>\n",
       "\t<tr><th scope=row>WAPTS</th><td>1.0000000</td><td>0.7487568</td><td>0.8288219</td></tr>\n",
       "\t<tr><th scope=row>WAOWS</th><td>0.7487568</td><td>1.0000000</td><td>0.8638036</td></tr>\n",
       "\t<tr><th scope=row>WAOBPM</th><td>0.8288219</td><td>0.8638036</td><td>1.0000000</td></tr>\n",
       "</tbody>\n",
       "</table>\n"
      ],
      "text/latex": [
       "A matrix: 3 × 3 of type dbl\n",
       "\\begin{tabular}{r|lll}\n",
       "  & WAPTS & WAOWS & WAOBPM\\\\\n",
       "\\hline\n",
       "\tWAPTS & 1.0000000 & 0.7487568 & 0.8288219\\\\\n",
       "\tWAOWS & 0.7487568 & 1.0000000 & 0.8638036\\\\\n",
       "\tWAOBPM & 0.8288219 & 0.8638036 & 1.0000000\\\\\n",
       "\\end{tabular}\n"
      ],
      "text/markdown": [
       "\n",
       "A matrix: 3 × 3 of type dbl\n",
       "\n",
       "| <!--/--> | WAPTS | WAOWS | WAOBPM |\n",
       "|---|---|---|---|\n",
       "| WAPTS | 1.0000000 | 0.7487568 | 0.8288219 |\n",
       "| WAOWS | 0.7487568 | 1.0000000 | 0.8638036 |\n",
       "| WAOBPM | 0.8288219 | 0.8638036 | 1.0000000 |\n",
       "\n"
      ],
      "text/plain": [
       "       WAPTS     WAOWS     WAOBPM   \n",
       "WAPTS  1.0000000 0.7487568 0.8288219\n",
       "WAOWS  0.7487568 1.0000000 0.8638036\n",
       "WAOBPM 0.8288219 0.8638036 1.0000000"
      ]
     },
     "metadata": {},
     "output_type": "display_data"
    }
   ],
   "source": [
    "cor(sigPlayers[,c('WAPTS','WAOWS','WAOBPM')])"
   ]
  },
  {
   "cell_type": "code",
   "execution_count": 45,
   "id": "090b7d6c",
   "metadata": {
    "execution": {
     "iopub.execute_input": "2022-04-25T06:21:20.427781Z",
     "iopub.status.busy": "2022-04-25T06:21:20.426230Z",
     "iopub.status.idle": "2022-04-25T06:21:20.443587Z",
     "shell.execute_reply": "2022-04-25T06:21:20.441945Z"
    },
    "papermill": {
     "duration": 0.047522,
     "end_time": "2022-04-25T06:21:20.445849",
     "exception": false,
     "start_time": "2022-04-25T06:21:20.398327",
     "status": "completed"
    },
    "tags": []
   },
   "outputs": [
    {
     "data": {
      "text/html": [
       "<style>\n",
       ".list-inline {list-style: none; margin:0; padding: 0}\n",
       ".list-inline>li {display: inline-block}\n",
       ".list-inline>li:not(:last-child)::after {content: \"\\00b7\"; padding: 0 .5ex}\n",
       "</style>\n",
       "<ol class=list-inline><li>'fullName'</li><li>'height'</li><li>'weight'</li><li>'signAge'</li><li>'totalValue'</li><li>'aav'</li><li>'signSeason'</li><li>'draftRound'</li><li>'draftOverall'</li><li>'draftYear'</li><li>'undrafted'</li><li>'termFirstYear'</li><li>'termSecondYear'</li><li>'signYear'</li><li>'latestContract'</li><li>'totalGames'</li><li>'totalGamesStarted'</li><li>'WAFG'</li><li>'rangeFG'</li><li>'WAFG%'</li><li>'rangeFG%'</li><li>'WA3P'</li><li>'range3P'</li><li>'WA3P%'</li><li>'range3P%'</li><li>'WA2P'</li><li>'range2P'</li><li>'WA2P%'</li><li>'range2P%'</li><li>'WAeFG%'</li><li>'rangeeFG%'</li><li>'WAFT'</li><li>'rangeFT'</li><li>'WAFT%'</li><li>'rangeFT%'</li><li>'WAORB'</li><li>'rangeORB'</li><li>'WADRB'</li><li>'rangeDRB'</li><li>'WAAST'</li><li>'rangeAST'</li><li>'WASTL'</li><li>'rangeSTL'</li><li>'WABLK'</li><li>'rangeBLK'</li><li>'WATOV'</li><li>'rangeTOV'</li><li>'WAPF'</li><li>'rangePF'</li><li>'WAPTS'</li><li>'rangePTS'</li><li>'WAPER'</li><li>'rangePER'</li><li>'WATS%'</li><li>'rangeTS%'</li><li>'WA3PAr'</li><li>'range3PAr'</li><li>'WAFTr'</li><li>'rangeFTr'</li><li>'WAORB%'</li><li>'rangeORB%'</li><li>'WADRB%'</li><li>'rangeDRB%'</li><li>'WAAST%'</li><li>'rangeAST%'</li><li>'WASTL%'</li><li>'rangeSTL%'</li><li>'WABLK%'</li><li>'rangeBLK%'</li><li>'WATOV%'</li><li>'rangeTOV%'</li><li>'WAUSG%'</li><li>'rangeUSG%'</li><li>'WAOWS'</li><li>'rangeOWS'</li><li>'WADWS'</li><li>'rangeDWS'</li><li>'WAWS/48'</li><li>'rangeWS/48'</li><li>'WAOBPM'</li><li>'rangeOBPM'</li><li>'WADBPM'</li><li>'rangeDBPM'</li><li>'WAVORP'</li><li>'rangeVORP'</li><li>'WAMP'</li><li>'rangeMP'</li></ol>\n"
      ],
      "text/latex": [
       "\\begin{enumerate*}\n",
       "\\item 'fullName'\n",
       "\\item 'height'\n",
       "\\item 'weight'\n",
       "\\item 'signAge'\n",
       "\\item 'totalValue'\n",
       "\\item 'aav'\n",
       "\\item 'signSeason'\n",
       "\\item 'draftRound'\n",
       "\\item 'draftOverall'\n",
       "\\item 'draftYear'\n",
       "\\item 'undrafted'\n",
       "\\item 'termFirstYear'\n",
       "\\item 'termSecondYear'\n",
       "\\item 'signYear'\n",
       "\\item 'latestContract'\n",
       "\\item 'totalGames'\n",
       "\\item 'totalGamesStarted'\n",
       "\\item 'WAFG'\n",
       "\\item 'rangeFG'\n",
       "\\item 'WAFG\\%'\n",
       "\\item 'rangeFG\\%'\n",
       "\\item 'WA3P'\n",
       "\\item 'range3P'\n",
       "\\item 'WA3P\\%'\n",
       "\\item 'range3P\\%'\n",
       "\\item 'WA2P'\n",
       "\\item 'range2P'\n",
       "\\item 'WA2P\\%'\n",
       "\\item 'range2P\\%'\n",
       "\\item 'WAeFG\\%'\n",
       "\\item 'rangeeFG\\%'\n",
       "\\item 'WAFT'\n",
       "\\item 'rangeFT'\n",
       "\\item 'WAFT\\%'\n",
       "\\item 'rangeFT\\%'\n",
       "\\item 'WAORB'\n",
       "\\item 'rangeORB'\n",
       "\\item 'WADRB'\n",
       "\\item 'rangeDRB'\n",
       "\\item 'WAAST'\n",
       "\\item 'rangeAST'\n",
       "\\item 'WASTL'\n",
       "\\item 'rangeSTL'\n",
       "\\item 'WABLK'\n",
       "\\item 'rangeBLK'\n",
       "\\item 'WATOV'\n",
       "\\item 'rangeTOV'\n",
       "\\item 'WAPF'\n",
       "\\item 'rangePF'\n",
       "\\item 'WAPTS'\n",
       "\\item 'rangePTS'\n",
       "\\item 'WAPER'\n",
       "\\item 'rangePER'\n",
       "\\item 'WATS\\%'\n",
       "\\item 'rangeTS\\%'\n",
       "\\item 'WA3PAr'\n",
       "\\item 'range3PAr'\n",
       "\\item 'WAFTr'\n",
       "\\item 'rangeFTr'\n",
       "\\item 'WAORB\\%'\n",
       "\\item 'rangeORB\\%'\n",
       "\\item 'WADRB\\%'\n",
       "\\item 'rangeDRB\\%'\n",
       "\\item 'WAAST\\%'\n",
       "\\item 'rangeAST\\%'\n",
       "\\item 'WASTL\\%'\n",
       "\\item 'rangeSTL\\%'\n",
       "\\item 'WABLK\\%'\n",
       "\\item 'rangeBLK\\%'\n",
       "\\item 'WATOV\\%'\n",
       "\\item 'rangeTOV\\%'\n",
       "\\item 'WAUSG\\%'\n",
       "\\item 'rangeUSG\\%'\n",
       "\\item 'WAOWS'\n",
       "\\item 'rangeOWS'\n",
       "\\item 'WADWS'\n",
       "\\item 'rangeDWS'\n",
       "\\item 'WAWS/48'\n",
       "\\item 'rangeWS/48'\n",
       "\\item 'WAOBPM'\n",
       "\\item 'rangeOBPM'\n",
       "\\item 'WADBPM'\n",
       "\\item 'rangeDBPM'\n",
       "\\item 'WAVORP'\n",
       "\\item 'rangeVORP'\n",
       "\\item 'WAMP'\n",
       "\\item 'rangeMP'\n",
       "\\end{enumerate*}\n"
      ],
      "text/markdown": [
       "1. 'fullName'\n",
       "2. 'height'\n",
       "3. 'weight'\n",
       "4. 'signAge'\n",
       "5. 'totalValue'\n",
       "6. 'aav'\n",
       "7. 'signSeason'\n",
       "8. 'draftRound'\n",
       "9. 'draftOverall'\n",
       "10. 'draftYear'\n",
       "11. 'undrafted'\n",
       "12. 'termFirstYear'\n",
       "13. 'termSecondYear'\n",
       "14. 'signYear'\n",
       "15. 'latestContract'\n",
       "16. 'totalGames'\n",
       "17. 'totalGamesStarted'\n",
       "18. 'WAFG'\n",
       "19. 'rangeFG'\n",
       "20. 'WAFG%'\n",
       "21. 'rangeFG%'\n",
       "22. 'WA3P'\n",
       "23. 'range3P'\n",
       "24. 'WA3P%'\n",
       "25. 'range3P%'\n",
       "26. 'WA2P'\n",
       "27. 'range2P'\n",
       "28. 'WA2P%'\n",
       "29. 'range2P%'\n",
       "30. 'WAeFG%'\n",
       "31. 'rangeeFG%'\n",
       "32. 'WAFT'\n",
       "33. 'rangeFT'\n",
       "34. 'WAFT%'\n",
       "35. 'rangeFT%'\n",
       "36. 'WAORB'\n",
       "37. 'rangeORB'\n",
       "38. 'WADRB'\n",
       "39. 'rangeDRB'\n",
       "40. 'WAAST'\n",
       "41. 'rangeAST'\n",
       "42. 'WASTL'\n",
       "43. 'rangeSTL'\n",
       "44. 'WABLK'\n",
       "45. 'rangeBLK'\n",
       "46. 'WATOV'\n",
       "47. 'rangeTOV'\n",
       "48. 'WAPF'\n",
       "49. 'rangePF'\n",
       "50. 'WAPTS'\n",
       "51. 'rangePTS'\n",
       "52. 'WAPER'\n",
       "53. 'rangePER'\n",
       "54. 'WATS%'\n",
       "55. 'rangeTS%'\n",
       "56. 'WA3PAr'\n",
       "57. 'range3PAr'\n",
       "58. 'WAFTr'\n",
       "59. 'rangeFTr'\n",
       "60. 'WAORB%'\n",
       "61. 'rangeORB%'\n",
       "62. 'WADRB%'\n",
       "63. 'rangeDRB%'\n",
       "64. 'WAAST%'\n",
       "65. 'rangeAST%'\n",
       "66. 'WASTL%'\n",
       "67. 'rangeSTL%'\n",
       "68. 'WABLK%'\n",
       "69. 'rangeBLK%'\n",
       "70. 'WATOV%'\n",
       "71. 'rangeTOV%'\n",
       "72. 'WAUSG%'\n",
       "73. 'rangeUSG%'\n",
       "74. 'WAOWS'\n",
       "75. 'rangeOWS'\n",
       "76. 'WADWS'\n",
       "77. 'rangeDWS'\n",
       "78. 'WAWS/48'\n",
       "79. 'rangeWS/48'\n",
       "80. 'WAOBPM'\n",
       "81. 'rangeOBPM'\n",
       "82. 'WADBPM'\n",
       "83. 'rangeDBPM'\n",
       "84. 'WAVORP'\n",
       "85. 'rangeVORP'\n",
       "86. 'WAMP'\n",
       "87. 'rangeMP'\n",
       "\n",
       "\n"
      ],
      "text/plain": [
       " [1] \"fullName\"          \"height\"            \"weight\"           \n",
       " [4] \"signAge\"           \"totalValue\"        \"aav\"              \n",
       " [7] \"signSeason\"        \"draftRound\"        \"draftOverall\"     \n",
       "[10] \"draftYear\"         \"undrafted\"         \"termFirstYear\"    \n",
       "[13] \"termSecondYear\"    \"signYear\"          \"latestContract\"   \n",
       "[16] \"totalGames\"        \"totalGamesStarted\" \"WAFG\"             \n",
       "[19] \"rangeFG\"           \"WAFG%\"             \"rangeFG%\"         \n",
       "[22] \"WA3P\"              \"range3P\"           \"WA3P%\"            \n",
       "[25] \"range3P%\"          \"WA2P\"              \"range2P\"          \n",
       "[28] \"WA2P%\"             \"range2P%\"          \"WAeFG%\"           \n",
       "[31] \"rangeeFG%\"         \"WAFT\"              \"rangeFT\"          \n",
       "[34] \"WAFT%\"             \"rangeFT%\"          \"WAORB\"            \n",
       "[37] \"rangeORB\"          \"WADRB\"             \"rangeDRB\"         \n",
       "[40] \"WAAST\"             \"rangeAST\"          \"WASTL\"            \n",
       "[43] \"rangeSTL\"          \"WABLK\"             \"rangeBLK\"         \n",
       "[46] \"WATOV\"             \"rangeTOV\"          \"WAPF\"             \n",
       "[49] \"rangePF\"           \"WAPTS\"             \"rangePTS\"         \n",
       "[52] \"WAPER\"             \"rangePER\"          \"WATS%\"            \n",
       "[55] \"rangeTS%\"          \"WA3PAr\"            \"range3PAr\"        \n",
       "[58] \"WAFTr\"             \"rangeFTr\"          \"WAORB%\"           \n",
       "[61] \"rangeORB%\"         \"WADRB%\"            \"rangeDRB%\"        \n",
       "[64] \"WAAST%\"            \"rangeAST%\"         \"WASTL%\"           \n",
       "[67] \"rangeSTL%\"         \"WABLK%\"            \"rangeBLK%\"        \n",
       "[70] \"WATOV%\"            \"rangeTOV%\"         \"WAUSG%\"           \n",
       "[73] \"rangeUSG%\"         \"WAOWS\"             \"rangeOWS\"         \n",
       "[76] \"WADWS\"             \"rangeDWS\"          \"WAWS/48\"          \n",
       "[79] \"rangeWS/48\"        \"WAOBPM\"            \"rangeOBPM\"        \n",
       "[82] \"WADBPM\"            \"rangeDBPM\"         \"WAVORP\"           \n",
       "[85] \"rangeVORP\"         \"WAMP\"              \"rangeMP\"          "
      ]
     },
     "metadata": {},
     "output_type": "display_data"
    }
   ],
   "source": [
    "colnames(sigPlayers)"
   ]
  },
  {
   "cell_type": "code",
   "execution_count": 46,
   "id": "dd4e81e6",
   "metadata": {
    "execution": {
     "iopub.execute_input": "2022-04-25T06:21:20.501536Z",
     "iopub.status.busy": "2022-04-25T06:21:20.499977Z",
     "iopub.status.idle": "2022-04-25T06:21:20.552995Z",
     "shell.execute_reply": "2022-04-25T06:21:20.551131Z"
    },
    "papermill": {
     "duration": 0.083392,
     "end_time": "2022-04-25T06:21:20.555537",
     "exception": false,
     "start_time": "2022-04-25T06:21:20.472145",
     "status": "completed"
    },
    "tags": []
   },
   "outputs": [],
   "source": [
    "# save the reduced files for modeling\n",
    "fwrite(lowGamesPlayers,file='/kaggle/working/lowGamesPlayersRed.csv', col.names=TRUE)\n",
    "fwrite(sigPlayers, file='/kaggle/working/allSignificantPlayersRed.csv', col.names=TRUE)\n",
    "fwrite(sigPlayersNonWaived, file='/kaggle/working/sigPlayersNonWaivedRed.csv', col.names=TRUE)"
   ]
  },
  {
   "cell_type": "markdown",
   "id": "28bed8fc",
   "metadata": {
    "papermill": {
     "duration": 0.026878,
     "end_time": "2022-04-25T06:21:20.608860",
     "exception": false,
     "start_time": "2022-04-25T06:21:20.581982",
     "status": "completed"
    },
    "tags": []
   },
   "source": [
    "Visualizing the data. First visual will be the density/histogram plots. Then the\n",
    "next will be scatter plots between explanatory variables and response (total value). Finally, a third will be shown containing scatterplot between explanatory variables. While most or all variables will be looked at only a select few will be shown to save space and because the only difference is changing the name in the functions"
   ]
  },
  {
   "cell_type": "code",
   "execution_count": 47,
   "id": "04d6b576",
   "metadata": {
    "execution": {
     "iopub.execute_input": "2022-04-25T06:21:20.665859Z",
     "iopub.status.busy": "2022-04-25T06:21:20.664079Z",
     "iopub.status.idle": "2022-04-25T06:21:21.184545Z",
     "shell.execute_reply": "2022-04-25T06:21:21.182742Z"
    },
    "papermill": {
     "duration": 0.551671,
     "end_time": "2022-04-25T06:21:21.186979",
     "exception": false,
     "start_time": "2022-04-25T06:21:20.635308",
     "status": "completed"
    },
    "tags": []
   },
   "outputs": [
    {
     "data": {
      "image/png": "[encoded data removed]"
     },
     "metadata": {
      "image/png": {
       "height": 420,
       "width": 420
      }
     },
     "output_type": "display_data"
    }
   ],
   "source": [
    "# univariate density plots\n",
    "ggplot(sigPlayers, aes(x=WAPTS))+\n",
    "    geom_density()+\n",
    "    theme_classic()"
   ]
  },
  {
   "cell_type": "code",
   "execution_count": 48,
   "id": "318ebbd4",
   "metadata": {
    "execution": {
     "iopub.execute_input": "2022-04-25T06:21:21.247209Z",
     "iopub.status.busy": "2022-04-25T06:21:21.245623Z",
     "iopub.status.idle": "2022-04-25T06:21:22.910726Z",
     "shell.execute_reply": "2022-04-25T06:21:22.908019Z"
    },
    "papermill": {
     "duration": 1.699616,
     "end_time": "2022-04-25T06:21:22.914331",
     "exception": false,
     "start_time": "2022-04-25T06:21:21.214715",
     "status": "completed"
    },
    "tags": []
   },
   "outputs": [
    {
     "data": {
      "image/png": "[encoded data removed]"
     },
     "metadata": {
      "image/png": {
       "height": 420,
       "width": 420
      }
     },
     "output_type": "display_data"
    }
   ],
   "source": [
    "# scatter plots between response and predictor\n",
    "ggplot(sigPlayers, aes(x=signYear, y=totalValue))+\n",
    "    geom_point()+\n",
    "    geom_smooth(method='lm', formula=y~x)+\n",
    "    theme_classic()"
   ]
  },
  {
   "cell_type": "code",
   "execution_count": 49,
   "id": "8b4c3cda",
   "metadata": {
    "execution": {
     "iopub.execute_input": "2022-04-25T06:21:22.979480Z",
     "iopub.status.busy": "2022-04-25T06:21:22.977994Z",
     "iopub.status.idle": "2022-04-25T06:21:23.328299Z",
     "shell.execute_reply": "2022-04-25T06:21:23.326423Z"
    },
    "papermill": {
     "duration": 0.384135,
     "end_time": "2022-04-25T06:21:23.331496",
     "exception": false,
     "start_time": "2022-04-25T06:21:22.947361",
     "status": "completed"
    },
    "tags": []
   },
   "outputs": [
    {
     "data": {
      "image/png": "[encoded data removed]"
     },
     "metadata": {
      "image/png": {
       "height": 420,
       "width": 420
      }
     },
     "output_type": "display_data"
    }
   ],
   "source": [
    "# scatter plot between two predictors\n",
    "ggplot(sigPlayers, aes(x=WAPTS, y=rangeOWS))+\n",
    "    geom_point()+\n",
    "    geom_smooth(method='lm', formula=y~x)"
   ]
  }
 ],
 "metadata": {
  "kernelspec": {
   "display_name": "R",
   "language": "R",
   "name": "ir"
  },
  "language_info": {
   "codemirror_mode": "r",
   "file_extension": ".r",
   "mimetype": "text/x-r-source",
   "name": "R",
   "pygments_lexer": "r",
   "version": "4.0.5"
  },
  "papermill": {
   "default_parameters": {},
   "duration": 12.913585,
   "end_time": "2022-04-25T06:21:23.484279",
   "environment_variables": {},
   "exception": null,
   "input_path": "__notebook__.ipynb",
   "output_path": "__notebook__.ipynb",
   "parameters": {},
   "start_time": "2022-04-25T06:21:10.570694",
   "version": "2.3.4"
  }
 },
 "nbformat": 4,
 "nbformat_minor": 5
}
